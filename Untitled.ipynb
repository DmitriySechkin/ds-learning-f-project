{
 "cells": [
  {
   "cell_type": "markdown",
   "id": "f165c2b2",
   "metadata": {
    "colab_type": "text",
    "id": "view-in-github"
   },
   "source": [
    "<a href=\"https://colab.research.google.com/github/DmitriySechkin/new-python-repo/blob/main/Untitled.ipynb\" target=\"_parent\"><img src=\"https://colab.research.google.com/assets/colab-badge.svg\" alt=\"Open In Colab\"/></a>"
   ]
  },
  {
   "cell_type": "code",
   "execution_count": 1,
   "id": "a00b224d",
   "metadata": {
    "id": "1pZ9IeGQGR6G"
   },
   "outputs": [],
   "source": [
    "import requests\n",
    "import json\n",
    "from concurrent.futures import ThreadPoolExecutor\n",
    "from tqdm import tqdm\n",
    "import time\n",
    "from dataclasses import dataclass"
   ]
  },
  {
   "cell_type": "code",
   "execution_count": 3,
   "id": "3477e166",
   "metadata": {
    "id": "oTsm-zv4GR6H"
   },
   "outputs": [],
   "source": [
    "@dataclass\n",
    "class ClusterId:\n",
    "    region: str = \"area\"\n",
    "    metro: str = \"metro\"\n",
    "    professional_role: str = \"professional_role\"\n",
    "    salary: str = \"salary\"\n",
    "    experience: str = \"experience\"\n",
    "\n",
    "class HhParser:\n",
    "\n",
    "    def __init__(self, cluster_id: ClusterId):\n",
    "        self._base_url = 'https://api.hh.ru/vacancies?clusters=true'\n",
    "        self.urls = []\n",
    "        self._cluster_id = cluster_id\n",
    "\n",
    "    def get_vacancy_cluster_urls(self):\n",
    "        json = self.get_json(self._base_url)\n",
    "        items = self.get_region_clusters(json)\n",
    "\n",
    "        self.urls.extend((i.get('url'), int(i.get('count'))) for i in self.filter_less_than_2000(items))\n",
    "\n",
    "        more_than_2000 = [i for i in self.filter_more_than_2000(items) if str(i.get('name')) != 'Россия']\n",
    "\n",
    "        extend_region_items = self.get_extend_region_clusters(more_than_2000)\n",
    "\n",
    "        self.urls.extend((i.get('url'), int(i.get('count'))) for i in self.filter_less_than_2000(extend_region_items))\n",
    "        more_than_2000 = [i for i in self.filter_more_than_2000(extend_region_items)]\n",
    "        more_than_2000.extend(i for i in extend_region_items if int(i.get('count')) == 0)\n",
    "\n",
    "        role_items = self.get_items_by_prof_role(more_than_2000)\n",
    "        self.urls.extend((i.get('url'), int(i.get('count'))) for i in self.filter_less_than_2000(role_items))\n",
    "        more_than_2000 = [i for i in self.filter_more_than_2000(role_items)]\n",
    "\n",
    "        experience_items = self.get_items_by_prof_role(more_than_2000)\n",
    "        self.urls.extend((i.get('url'), int(i.get('count'))) for i in self.filter_less_than_2000(experience_items))\n",
    "        more_than_2000 = [i for i in self.filter_more_than_2000(experience_items)]\n",
    "\n",
    "        self.urls = list(set(self.urls))\n",
    "\n",
    "        print(f'The total number of {len(self.urls)} URLs collected')\n",
    "\n",
    "\n",
    "    def get_extend_region_clusters(self, region_items):\n",
    "        items = []\n",
    "\n",
    "        for item in tqdm(region_items, 'Get extend region clusters'):\n",
    "            url = item.get('url')\n",
    "\n",
    "            if url is None:\n",
    "                continue\n",
    "\n",
    "            time.sleep(2)\n",
    "            json = self.get_json(url)\n",
    "\n",
    "            metro_items = self.get_metro_clusters(json)\n",
    "            metro_items = self.filter_metro_station_items(metro_items)\n",
    "\n",
    "            if len(metro_items) > 0:\n",
    "                items.extend(metro_items)\n",
    "            else:\n",
    "                extend_region_items = self.get_region_clusters(json)\n",
    "\n",
    "                if len(extend_region_items) > 1:\n",
    "                    items.extend(extend_region_items[:-1])\n",
    "                else:\n",
    "                    items.extend(extend_region_items)\n",
    "        return items\n",
    "\n",
    "    def get_items_by_prof_role(self, extend_items):\n",
    "        items = []\n",
    "\n",
    "        for item in tqdm(extend_items, 'Get items by prof role'):\n",
    "            url = item.get('url')\n",
    "\n",
    "            if url is None:\n",
    "                continue\n",
    "\n",
    "            time.sleep(1)\n",
    "\n",
    "            json = self.get_json(url)\n",
    "            prof_role_items = self.get_role_clusters(json)\n",
    "\n",
    "            items.extend(prof_role_items)\n",
    "\n",
    "        return items\n",
    "\n",
    "    def get_items_by_experience(self, role_items):\n",
    "        items = []\n",
    "\n",
    "        for item in tqdm(role_items, 'Get items by experience'):\n",
    "            url = item.get('url')\n",
    "\n",
    "            if url is None:\n",
    "                continue\n",
    "\n",
    "            time.sleep(0.5)\n",
    "\n",
    "            json = self.get_json(url)\n",
    "            experience_items = self.get_experience_clusters(json)\n",
    "\n",
    "            items.extend(experience_items)\n",
    "\n",
    "        return items\n",
    "\n",
    "    def filter_less_than_2000(self, items):\n",
    "        return [i for i in items if int(i.get('count')) <= 2000 and int(i.get('count')) != 0]\n",
    "\n",
    "    def filter_more_than_2000(self, items):\n",
    "        return [i for i in items if int(i.get('count')) > 2000]\n",
    "\n",
    "    def get_cluster_items(self, json, cluster_id):\n",
    "        clusters = json.get('clusters')\n",
    "\n",
    "        if not clusters:\n",
    "            print('key error: clusters')\n",
    "            return []\n",
    "\n",
    "        cluster = self.get_cluster_by_id(clusters, cluster_id)\n",
    "\n",
    "        if not cluster:\n",
    "            return []\n",
    "\n",
    "        items = cluster.get('items')\n",
    "\n",
    "        if not items:\n",
    "            print('key error: items')\n",
    "            return []\n",
    "\n",
    "        return items\n",
    "\n",
    "    def get_cluster_by_id(self, clusters, cluster_id):\n",
    "        for cluster in clusters:\n",
    "            _id = str(cluster.get('id'))\n",
    "\n",
    "            if _id == cluster_id:\n",
    "                return cluster\n",
    "\n",
    "        return []\n",
    "\n",
    "    def get_region_clusters(self, json_data):\n",
    "        if json_data:\n",
    "            items = self.get_cluster_items(json_data, self._cluster_id.region)\n",
    "            return  items\n",
    "        else:\n",
    "            print('get_region_clusters: Not found json in get response!')\n",
    "            return []\n",
    "\n",
    "    def get_metro_clusters(self, json_data):\n",
    "        if json_data:\n",
    "            items = self.get_cluster_items(json_data, self._cluster_id.metro)\n",
    "            return items\n",
    "        else:\n",
    "            print('get_metro_clusters: Not found json in get response!')\n",
    "            return []\n",
    "\n",
    "    def get_role_clusters(self, json_data):\n",
    "        if json_data:\n",
    "            items = self.get_cluster_items(json_data, self._cluster_id.professional_role)\n",
    "            return items\n",
    "        else:\n",
    "            print('get_role_clusters: Not found json in get response!')\n",
    "            return []\n",
    "\n",
    "    def get_experience_clusters(self, json_data):\n",
    "        if json_data:\n",
    "            items = self.get_cluster_items(json_data, self._cluster_id.experience)\n",
    "            return items\n",
    "        else:\n",
    "            print('get_role_clusters: Not found json in get response!')\n",
    "            return []\n",
    "\n",
    "    def filter_metro_station_items(self, metro_items):\n",
    "        return [i for i in metro_items if str(i.get('type')) == 'metro_station']\n",
    "\n",
    "    def get_json(self, url):\n",
    "        response = requests.get(url, verify=False)\n",
    "\n",
    "        if response.status_code == 200:\n",
    "            json = response.json()\n",
    "\n",
    "            if not json:\n",
    "                return None;\n",
    "\n",
    "            return json\n",
    "        else:\n",
    "            print(f\"Failed to get json data by url {url}, status {response.status_code}, text - {response.text}\")\n",
    "            return None\n"
   ]
  },
  {
   "cell_type": "code",
   "execution_count": 22,
   "id": "da4b1666",
   "metadata": {},
   "outputs": [],
   "source": [
    "# import sqlite3\n",
    "\n",
    "# # Подключение к базе данных SQLite\n",
    "# conn = sqlite3.connect('vacancies.db')\n",
    "# cursor = conn.cursor()\n",
    "\n",
    "# # Отключение проверки внешних ключей на время операций\n",
    "# cursor.execute('PRAGMA foreign_keys=OFF')\n",
    "\n",
    "# # Создаем временную таблицу для сохранения данных\n",
    "# cursor.execute('''\n",
    "#     CREATE TEMPORARY TABLE vacancies_backup(\n",
    "#         id INTEGER PRIMARY KEY,\n",
    "#         name TEXT,\n",
    "#         description TEXT,\n",
    "#         key_skills TEXT,\n",
    "#         professional_role_id integer\n",
    "#     )\n",
    "# ''')\n",
    "\n",
    "# # Копируем данные из основной таблицы во временную\n",
    "# cursor.execute('''\n",
    "#     INSERT INTO vacancies_backup\n",
    "#     SELECT id, name, description, key_skills, professional_role_id\n",
    "#     FROM vacancies\n",
    "# ''')\n",
    "\n",
    "# # Удаляем старую таблицу\n",
    "# cursor.execute('DROP TABLE vacancies')\n",
    "\n",
    "# # Создаем новую таблицу без колонки branded_description и с новым столбцом professional_role_id\n",
    "# cursor.execute('''\n",
    "#     CREATE TABLE vacancies(\n",
    "#         id INTEGER PRIMARY KEY,\n",
    "#         name TEXT,\n",
    "#         description TEXT,\n",
    "#         key_skills TEXT,        \n",
    "#         professional_role_id INTEGER\n",
    "#     )\n",
    "# ''')\n",
    "\n",
    "# # Копируем данные обратно в новую таблицу из временной\n",
    "# cursor.execute('''\n",
    "#     INSERT INTO vacancies(id, name, description, key_skills, professional_role_id)\n",
    "#     SELECT id, name, description, key_skills, professional_role_id\n",
    "#     FROM vacancies_backup\n",
    "# ''')\n",
    "\n",
    "# # Удаляем временную таблицу\n",
    "# cursor.execute('DROP TABLE vacancies_backup')\n",
    "\n",
    "# # Включаем проверку внешних ключей обратно\n",
    "# cursor.execute('PRAGMA foreign_keys=ON')\n",
    "\n",
    "# # Сохранение изменений и закрытие соединения\n",
    "# conn.commit()\n",
    "# conn.close()\n"
   ]
  },
  {
   "cell_type": "code",
   "execution_count": null,
   "id": "1f40aa2c",
   "metadata": {
    "id": "uF4jOgj3GR6K"
   },
   "outputs": [],
   "source": [
    "%%time\n",
    "cluster_id = ClusterId()\n",
    "\n",
    "parser = HhParser(cluster_id)\n",
    "\n",
    "parser.get_vacancy_cluster_urls()"
   ]
  },
  {
   "cell_type": "code",
   "execution_count": null,
   "id": "8bc57922",
   "metadata": {
    "colab": {
     "base_uri": "https://localhost:8080/"
    },
    "id": "eQbhzWUBGR6M",
    "outputId": "ede64d8c-aba4-4d79-b96c-6a60029326c4"
   },
   "outputs": [],
   "source": [
    "\n",
    "\n",
    "sorted_list = sorted(parser.urls, key=lambda x: x[1])\n",
    "\n",
    "len(sorted_list)"
   ]
  },
  {
   "cell_type": "code",
   "execution_count": null,
   "id": "520f61b6",
   "metadata": {
    "colab": {
     "base_uri": "https://localhost:8080/"
    },
    "id": "OowBi0bkGR6N",
    "outputId": "2cb11c35-1945-4f58-d7d3-aca507078621"
   },
   "outputs": [],
   "source": [
    "from urllib.parse import urlparse, parse_qs, urlencode\n",
    "\n",
    "def parse_and_modify_urls(url_tuples):\n",
    "    url_params_map = {}\n",
    "\n",
    "    # Шаг 1: Группируем URL по набору имен параметров\n",
    "    for url, count in url_tuples:\n",
    "        parsed_url = urlparse(url)\n",
    "        query_params = parse_qs(parsed_url.query)\n",
    "        query_params.pop('clusters', None)  # Убираем параметр 'clusters'\n",
    "        query_param_names = sorted(query_params.keys())  # Получаем наименования параметров и сортируем их\n",
    "        query_param_key = ','.join(query_param_names)\n",
    "\n",
    "        if query_param_key not in url_params_map:\n",
    "            url_params_map[query_param_key] = []\n",
    "\n",
    "        url_params_map[query_param_key].append((url, count))\n",
    "\n",
    "    modified_urls = []\n",
    "\n",
    "    # Шаг 2: Формируем новые URL с суммой количества, не превышающей 2000\n",
    "    for query_param_key, url_count_pairs in url_params_map.items():\n",
    "        total_count = 0\n",
    "        combined_params = []\n",
    "\n",
    "        # Набираем параметры для нового URL\n",
    "        for url, count in url_count_pairs:\n",
    "\n",
    "            if total_count + count <= 2000:\n",
    "                total_count += count\n",
    "                parsed_url = urlparse(url)\n",
    "                query_params = parse_qs(parsed_url.query)\n",
    "                for param_name, param_values in query_params.items():\n",
    "                    combined_params.append((param_name, param_values[0]))  # Добавляем все значения параметров\n",
    "            else:\n",
    "\n",
    "                # Убираем параметр 'clusters' из объединенных параметров, если он есть\n",
    "                combined_params = [(param_name, param_value) for param_name, param_value in combined_params if param_name != 'clusters']\n",
    "\n",
    "                # Преобразуем объединенные параметры в строку\n",
    "                new_query = urlencode(combined_params, doseq=True)\n",
    "                new_url = f\"{parsed_url.scheme}://{parsed_url.netloc}{parsed_url.path}?{new_query}\"\n",
    "                modified_urls.append((new_url, total_count))  # Добавляем новый URL с суммарным количеством\n",
    "\n",
    "                combined_params = []\n",
    "                total_count = count\n",
    "\n",
    "                parsed_url = urlparse(url)\n",
    "                query_params = parse_qs(parsed_url.query)\n",
    "\n",
    "                for param_name, param_values in query_params.items():\n",
    "                    combined_params.append((param_name, param_values[0]))  # Добавляем все значения параметров\n",
    "\n",
    "        # Убираем параметр 'clusters' из объединенных параметров, если он есть\n",
    "        combined_params = [(param_name, param_value) for param_name, param_value in combined_params if param_name != 'clusters']\n",
    "\n",
    "        # Преобразуем объединенные параметры в строку\n",
    "        new_query = urlencode(combined_params, doseq=True)\n",
    "        new_url = f\"{parsed_url.scheme}://{parsed_url.netloc}{parsed_url.path}?{new_query}\"\n",
    "        modified_urls.append((new_url, total_count))  # Добавляем новый URL с суммарным количеством\n",
    "\n",
    "    return modified_urls\n",
    "\n",
    "\n",
    "modified_urls = parse_and_modify_urls(sorted_list)\n",
    "len(modified_urls)\n"
   ]
  },
  {
   "cell_type": "code",
   "execution_count": 2,
   "id": "61c345c1",
   "metadata": {
    "id": "hI2VddWoKEP9"
   },
   "outputs": [],
   "source": [
    "import csv\n",
    "\n",
    "class UrlManager:\n",
    "    def __init__(self, filename):\n",
    "        self.filename = filename\n",
    "\n",
    "    def save_to_csv(self, url_tuples):\n",
    "        with open(self.filename, 'w', newline='') as csvfile:\n",
    "            writer = csv.writer(csvfile)\n",
    "            writer.writerow(['URL', 'Count'])  # Записываем заголовки столбцов\n",
    "            for url, count in url_tuples:\n",
    "                writer.writerow([url, count])\n",
    "\n",
    "    def read_from_csv(self):\n",
    "        url_tuples = []\n",
    "        with open(self.filename, 'r', newline='') as csvfile:\n",
    "            reader = csv.reader(csvfile)\n",
    "            next(reader)  # Пропускаем заголовки\n",
    "            for row in reader:\n",
    "                url_tuples.append((row[0], int(row[1])))  # Преобразуем второй элемент кортежа в число\n",
    "        return url_tuples\n",
    "\n",
    "\n",
    "\n",
    "url_manager = UrlManager('urls.csv')\n",
    "# url_manager.save_to_csv(modified_urls)\n",
    "\n",
    "# read_urls = url_manager.read_from_csv()\n",
    "# print(read_urls)"
   ]
  },
  {
   "cell_type": "code",
   "execution_count": 3,
   "id": "52467bb0",
   "metadata": {
    "id": "hGS4ik4tIeB0"
   },
   "outputs": [],
   "source": [
    "modified_urls = url_manager.read_from_csv()"
   ]
  },
  {
   "cell_type": "code",
   "execution_count": null,
   "id": "d0c035a4",
   "metadata": {
    "colab": {
     "base_uri": "https://localhost:8080/"
    },
    "id": "Nh1I1nJEKkFt",
    "outputId": "2c07b636-ad0a-4035-8896-92804c4c020b"
   },
   "outputs": [],
   "source": [
    "modified_urls[0]"
   ]
  },
  {
   "cell_type": "code",
   "execution_count": 4,
   "id": "e02c246c",
   "metadata": {
    "id": "vkeiGfGYGR6N"
   },
   "outputs": [],
   "source": [
    "@dataclass\n",
    "class Vacancy:\n",
    "    id: int\n",
    "    name: str\n",
    "    description: str\n",
    "    branded_description: str\n",
    "    key_skills: str\n",
    "    professional_roles: str"
   ]
  },
  {
   "cell_type": "code",
   "execution_count": 1,
   "id": "cc5e096d",
   "metadata": {
    "id": "jOlXzwh8GR6N"
   },
   "outputs": [],
   "source": [
    "from abc import ABCMeta, abstractmethod, abstractproperty\n",
    "import os\n",
    "import sqlite3\n",
    "import pandas as pd\n",
    "\n",
    "class DataSourcePdAdapter():\n",
    "    __metaclass__ = ABCMeta\n",
    "\n",
    "    def __init__(self, directory_path, file_name):\n",
    "        self._directory_path = directory_path\n",
    "        self._file_name = file_name\n",
    "        self._extension = ''        \n",
    "        self._check_filename()\n",
    "\n",
    "    def _get_full_path(self):\n",
    "        path = os.path.join(self._directory_path, f'{self._file_name}.{self._extension}')\n",
    "#         print(path)\n",
    "        return path\n",
    "\n",
    "    def _check_directory_path(self):\n",
    "        if self._directory_path == '':\n",
    "            return \n",
    "        if not os.path.exists(self._directory_path):\n",
    "            os.mkdir(self._directory_path)\n",
    "\n",
    "        if not os.path.exists(self._directory_path):\n",
    "            raise Exception(f'Ошибка при создании каталога {self._directory_path}')\n",
    "\n",
    "    def _check_filename(self):\n",
    "        if self._file_name == '':\n",
    "            raise Exception(f'file_name не может быть пустой строкой!')\n",
    "\n",
    "    @abstractmethod\n",
    "    def write(self, df):\n",
    "        pass\n",
    "\n",
    "    @abstractmethod\n",
    "    def _read(self):\n",
    "        pass\n",
    "\n",
    "class SqlLitePdAdapter(DataSourcePdAdapter):\n",
    "    def __init__(self, directory_path, file_name, table_name):\n",
    "        super().__init__(directory_path, file_name)\n",
    "        self._table = table_name\n",
    "        self._operation_type = 'append'\n",
    "        self._extension = 'db'\n",
    "\n",
    "        self._create_table()\n",
    "\n",
    "    def _create_table(self):\n",
    "        with sqlite3.connect(self._get_full_path()) as con:\n",
    "            con.execute(f\"\"\"\n",
    "                CREATE TABLE if not exists {self._table} (\n",
    "                    id INTEGER PRIMARY KEY,\n",
    "                    name VARCHAR(100),\n",
    "                    description TEXT,\n",
    "                    branded_description TEXT,\n",
    "                    key_skills VARCHAR(200),\n",
    "                    professional_roles VARCHAR(200)\n",
    "\n",
    "                );\n",
    "            \"\"\")\n",
    "\n",
    "    def write(self, df):\n",
    "        self._check_directory_path()\n",
    "        with sqlite3.connect(self._get_full_path()) as con:\n",
    "            df.to_sql(self._table, con, index=False, if_exists=\"replace\")\n",
    "\n",
    "    def write_row(self, vacancy):\n",
    "        self._check_directory_path()\n",
    "#         print('path')\n",
    "        with sqlite3.connect(self._get_full_path()) as connection:\n",
    "            cursor = connection.cursor()\n",
    "\n",
    "            try:\n",
    "                  cursor.execute(\n",
    "                      f\"\"\"\n",
    "                      INSERT INTO {self._table}\n",
    "                      (\n",
    "                        id, name, description, branded_description, key_skills, professional_roles\n",
    "                      )\n",
    "                      VALUES (?, ?, ?, ?, ?, ?)\n",
    "                      \"\"\", (vacancy.id, vacancy.name, vacancy.description, vacancy.branded_description,\n",
    "                            vacancy.key_skills, vacancy.professional_roles)\n",
    "                )\n",
    "            except Exception as ex:\n",
    "                print(f'vacancy - {str(vacancy)}')\n",
    "                print(f'ошибка при записи в БД - {ex}')\n",
    "                \n",
    "                raise ex\n",
    "\n",
    "    def read_all(self, chunksize=None):\n",
    "        query = f'select * from {self._table}'\n",
    "        with sqlite3.connect(self._get_full_path()) as con:   \n",
    "            con.text_factory = str\n",
    "            con.text_factory = lambda b: b.decode(errors='ignore')\n",
    "            return pd.read_sql(query, con, chunksize=chunksize)\n",
    "\n",
    "    def read(self, query_params_str='', target_columns=None):\n",
    "\n",
    "        if target_columns:\n",
    "          target_columns_srt = ', '.join(target_columns)\n",
    "        else:\n",
    "          target_columns_srt = '*'\n",
    "\n",
    "        query = f'select {target_columns_srt} from {self._table} {query_params_str}'\n",
    "        with sqlite3.connect(self._get_full_path()) as con:\n",
    "            return pd.read_sql(query, con)\n",
    "\n"
   ]
  },
  {
   "cell_type": "code",
   "execution_count": 6,
   "id": "472c989e",
   "metadata": {},
   "outputs": [],
   "source": [
    "sqlite3_adapter = SqlLitePdAdapter('', 'vacancies', 'vacancies')"
   ]
  },
  {
   "cell_type": "code",
   "execution_count": 23,
   "id": "fe9b89be",
   "metadata": {
    "colab": {
     "base_uri": "https://localhost:8080/"
    },
    "id": "MHkO1Y80GR6O",
    "outputId": "c0291d67-6dbb-4ca1-e382-86400c1083b0"
   },
   "outputs": [],
   "source": [
    "# full_df = pd.DataFrame()\n",
    "# chunk_size = 10000  # Установите размер порции по вашему усмотрению\n",
    "\n",
    "# # Итерируйтесь по всем порциям данных\n",
    "# for chunk in sqlite3_adapter.read_all(chunksize=chunk_size):\n",
    "#     # Объедините текущую порцию данных с общим датафреймом\n",
    "#     full_df = pd.concat([full_df, chunk], ignore_index=True)\n",
    "\n",
    "# # В переменной full_df теперь содержатся все данные из базы данных SQLite в одном датафрейме\n",
    "# # print(full_df)"
   ]
  },
  {
   "cell_type": "code",
   "execution_count": 24,
   "id": "b06b82cf",
   "metadata": {},
   "outputs": [
    {
     "data": {
      "text/plain": [
       "(125276, 6)"
      ]
     },
     "execution_count": 24,
     "metadata": {},
     "output_type": "execute_result"
    }
   ],
   "source": [
    "full_df.shape"
   ]
  },
  {
   "cell_type": "code",
   "execution_count": 7,
   "id": "927b1081",
   "metadata": {
    "id": "7-u-ZRPpGR6O"
   },
   "outputs": [],
   "source": [
    "\n",
    "def fetch_vacancies(url):\n",
    "    per_page = 100\n",
    "    extracted_vacancies = 0\n",
    "    continues_vac = 0\n",
    "\n",
    "    ids = []\n",
    "\n",
    "    result_db = sqlite3_adapter.read(target_columns=['id'])\n",
    "    print(f'размер массива {result_db.shape}')\n",
    "\n",
    "    total_pages = 2000 // per_page + (1 if 2000 % per_page != 0 else 0)\n",
    "    ids = []\n",
    "    print(f'total_pages - {total_pages}')\n",
    "    captcha_vacancies = []\n",
    "\n",
    "    for page in range(10, 11):\n",
    "        params = {'per_page': per_page, 'page': page}\n",
    "        \n",
    "        try:\n",
    "            response = requests.get(url, params=params)\n",
    "        except Exception as ex:\n",
    "            print(f'ошибка при получении списка вакансий {ex}')\n",
    "            continue\n",
    "\n",
    "        if response.status_code == 200:\n",
    "            time.sleep(0.2)\n",
    "            vacancies = response.json()\n",
    "\n",
    "            for item in tqdm(vacancies['items']):\n",
    "                is_exists = result_db[\"id\"].isin([int(item['id'])]).any()\n",
    "\n",
    "                if is_exists or item['id'] in ids:\n",
    "                    continues_vac += 1\n",
    "                    continue\n",
    "\n",
    "                time.sleep(0.3)\n",
    "\n",
    "                try:\n",
    "                    result = get_vacancy(item['id'])\n",
    "                except Exception as ex:\n",
    "                    print(f'ошибка при получении вакансии - {ex}')\n",
    "                    continue\n",
    "\n",
    "                if 'captcha_required' in str(result):\n",
    "                    time.sleep(1)\n",
    "                    print('captcha_required')\n",
    "                    captcha_vacancies.append(item['id'])\n",
    "                    continue\n",
    "\n",
    "                if 'errors' in str(result):\n",
    "                    time.sleep(2)\n",
    "                    print('errors')\n",
    "                    captcha_vacancies.append(item['id'])\n",
    "                    continue\n",
    "\n",
    "                _id = int(result.get('id'))\n",
    "                name = result.get('name')\n",
    "                description = result.get('description')\n",
    "                branded_description = result.get('branded_description')\n",
    "                key_skills = ' '.join(i.get('name') for i in result.get('key_skills'))\n",
    "                professional_roles = ' '.join(i.get('name') for i in result.get('professional_roles'))\n",
    "\n",
    "                vacancy = Vacancy(_id, name, description, branded_description, key_skills, professional_roles)\n",
    "\n",
    "                try:\n",
    "                    sqlite3_adapter.write_row(vacancy)\n",
    "                except Exception as e:\n",
    "                    print(e)\n",
    "                    continue\n",
    "\n",
    "                ids.append(_id)\n",
    "                extracted_vacancies += 1\n",
    "\n",
    "        elif response.status_code == 400 :\n",
    "            print(\"Reached the limit of 2000 items. Stopping further fetching.\")\n",
    "\n",
    "        else:\n",
    "            print(response.text)\n",
    "            print(f\"Error fetching vacancies. Status code: {response.status_code}\")\n",
    "\n",
    "    print(f'вакансий получено - {extracted_vacancies}')\n",
    "    print(f'вакансий пропущено - {continues_vac}')\n",
    "    print(f'вакансий с ошибкой - {len(captcha_vacancies)}')\n",
    "    \n",
    "    return captcha_vacancies\n"
   ]
  },
  {
   "cell_type": "code",
   "execution_count": null,
   "id": "5752db80",
   "metadata": {},
   "outputs": [],
   "source": [
    "train_data['description_all'] = train_data['name'] + ' ' + train_data['description'] + ' ' + train_data['key_skills']"
   ]
  },
  {
   "cell_type": "code",
   "execution_count": 17,
   "id": "f4d94c0c",
   "metadata": {},
   "outputs": [
    {
     "name": "stdout",
     "output_type": "stream",
     "text": [
      "успешно перенесены 0 записей\n",
      "ошибка integrity по 1834 записям\n",
      "ошибка unicode err по 0 записям\n"
     ]
    }
   ],
   "source": [
    "# import sqlite3\n",
    "\n",
    "# def transfer_data():\n",
    "#     success_count = 0\n",
    "#     integrity_count = 0\n",
    "#     unicode_err_count = 0\n",
    "    \n",
    "#     with sqlite3.connect('vacancies.db') as con_vacancies:\n",
    "#         with sqlite3.connect('vacancies3.db') as con_vacancies1:\n",
    "#             con_vacancies.text_factory = str  # Установим text_factory в str для con_vacancies\n",
    "\n",
    "#             # Установим лямбда-функцию для обработки ошибок декодирования в con_vacancies1\n",
    "#             con_vacancies1.text_factory = lambda b: b.decode(errors='ignore')\n",
    "\n",
    "#             cursor_vacancies1 = con_vacancies1.cursor()\n",
    "#             cursor_vacancies = con_vacancies.cursor()  # Объявляем cursor_vacancies\n",
    "\n",
    "#             # Выберем данные из vacancies1 и будем их поочередно обрабатывать\n",
    "#             cursor_vacancies1.execute('SELECT * FROM vacancies')\n",
    "#             while True:\n",
    "#                 row = cursor_vacancies1.fetchone()\n",
    "#                 if row is None:\n",
    "#                     break\n",
    "#                 try:\n",
    "#                     # Пытаемся выполнить вставку данных\n",
    "#                     cursor_vacancies.execute('INSERT INTO vacancies (id, name, description, branded_description, key_skills, professional_roles) VALUES (?, ?, ?, ?, ?, ?)',\n",
    "#                                              (row[0], row[1], row[2], row[3], row[4], row[5]))\n",
    "#                     success_count += 1\n",
    "#                 except sqlite3.IntegrityError:\n",
    "#                     # Если произошла ошибка IntegrityError, просто пропускаем данную строку\n",
    "#                     integrity_count += 1\n",
    "# #                     print('IntegrityError')\n",
    "#                     pass\n",
    "#                 except UnicodeDecodeError:\n",
    "# #                     print('UnicodeDecodeError')\n",
    "#                     unicode_err_count += 1\n",
    "#                     # Если произошла ошибка декодирования UTF-8, просто пропускаем данную строку\n",
    "#                     print(\"Ошибка декодирования данных: \", row[3])\n",
    "#                     pass\n",
    "\n",
    "#             con_vacancies.commit()\n",
    "#             print(f'успешно перенесены {success_count} записей')\n",
    "#             print(f'ошибка integrity по {integrity_count} записям')\n",
    "#             print(f'ошибка unicode err по {unicode_err_count} записям')\n",
    "\n",
    "# # Вызываем функцию для переноса данных\n",
    "# transfer_data()\n"
   ]
  },
  {
   "cell_type": "code",
   "execution_count": 8,
   "id": "c57db0ef",
   "metadata": {
    "id": "xvJLbdQGGR6Q"
   },
   "outputs": [],
   "source": [
    "def get_vacancy(id_vacancy):\n",
    "    target_url = f'https://api.hh.ru/vacancies/{id_vacancy}'\n",
    "    vacancy = requests.get(target_url).json()\n",
    "    return vacancy"
   ]
  },
  {
   "cell_type": "code",
   "execution_count": null,
   "id": "09c6b2ea",
   "metadata": {
    "colab": {
     "base_uri": "https://localhost:8080/"
    },
    "id": "r3d3O0L0GR6P",
    "outputId": "b270acb0-3959-48f3-b567-24284acac4e1"
   },
   "outputs": [
    {
     "name": "stdout",
     "output_type": "stream",
     "text": [
      "('https://api.hh.ru/vacancies?area=67&professional_role=115&area=99&professional_role=79&area=79&professional_role=68&area=56&professional_role=9&area=32&professional_role=130&area=1240&professional_role=35&area=32&professional_role=141&area=95&professional_role=77&area=96&professional_role=68&area=23&professional_role=5&area=98&professional_role=85&area=1240&professional_role=64&area=26&professional_role=74&area=89&professional_role=82&area=1291&professional_role=128&area=247&professional_role=102&area=99&professional_role=127&area=99&professional_role=10&area=64&professional_role=9&area=160&professional_role=57&area=68&professional_role=117&area=1381&professional_role=102&area=19&professional_role=143&area=66&professional_role=173&area=1512&professional_role=115&area=89&professional_role=78&area=160&professional_role=147&area=89&professional_role=35&area=1440&professional_role=89&area=2077&professional_role=31', 1986)\n",
      "number url - 100\n",
      "размер массива (125378, 1)\n",
      "total_pages - 20\n"
     ]
    },
    {
     "name": "stderr",
     "output_type": "stream",
     "text": [
      "100%|████████████████████████████████████████████████████████████████████████████████| 100/100 [00:29<00:00,  2.34it/s]\n"
     ]
    },
    {
     "name": "stdout",
     "output_type": "stream",
     "text": [
      "вакансий получено - 68\n",
      "вакансий пропущено - 32\n",
      "вакансий с ошибкой - 0\n",
      "('https://api.hh.ru/vacancies?area=83&professional_role=9&area=104&professional_role=39&area=4&professional_role=112&area=107&professional_role=142&area=20&professional_role=5&area=301&professional_role=52&area=35&professional_role=69&area=22&professional_role=110&area=24&professional_role=67&area=72&professional_role=145&area=160&professional_role=84&area=32&professional_role=143&area=2083&professional_role=131&area=71&professional_role=85&area=2759&professional_role=10&area=76&professional_role=57&area=79&professional_role=82&area=2077&professional_role=9&area=70&professional_role=100&area=131&professional_role=8&area=52&professional_role=130&area=54&professional_role=59&area=76&professional_role=46&area=3&professional_role=17&area=3&professional_role=73&area=301&professional_role=18&area=1240&professional_role=78&area=2062&professional_role=24&area=1550&professional_role=18', 1943)\n",
      "number url - 101\n",
      "размер массива (125446, 1)\n",
      "total_pages - 20\n"
     ]
    },
    {
     "name": "stderr",
     "output_type": "stream",
     "text": [
      " 61%|█████████████████████████████████████████████████▍                               | 61/100 [00:22<00:16,  2.31it/s]"
     ]
    },
    {
     "name": "stdout",
     "output_type": "stream",
     "text": [
      "captcha_required\n"
     ]
    },
    {
     "name": "stderr",
     "output_type": "stream",
     "text": [
      "\r",
      " 64%|███████████████████████████████████████████████████▊                             | 64/100 [00:24<00:16,  2.25it/s]"
     ]
    },
    {
     "name": "stdout",
     "output_type": "stream",
     "text": [
      "captcha_required\n"
     ]
    },
    {
     "name": "stderr",
     "output_type": "stream",
     "text": [
      "\r",
      " 65%|████████████████████████████████████████████████████▋                            | 65/100 [00:25<00:25,  1.37it/s]"
     ]
    },
    {
     "name": "stdout",
     "output_type": "stream",
     "text": [
      "captcha_required\n"
     ]
    },
    {
     "name": "stderr",
     "output_type": "stream",
     "text": [
      "\r",
      " 66%|█████████████████████████████████████████████████████▍                           | 66/100 [00:26<00:31,  1.07it/s]"
     ]
    },
    {
     "name": "stdout",
     "output_type": "stream",
     "text": [
      "captcha_required\n"
     ]
    },
    {
     "name": "stderr",
     "output_type": "stream",
     "text": [
      "\r",
      " 67%|██████████████████████████████████████████████████████▎                          | 67/100 [00:28<00:39,  1.21s/it]"
     ]
    },
    {
     "name": "stdout",
     "output_type": "stream",
     "text": [
      "captcha_required\n"
     ]
    },
    {
     "name": "stderr",
     "output_type": "stream",
     "text": [
      "100%|████████████████████████████████████████████████████████████████████████████████| 100/100 [00:43<00:00,  2.29it/s]\n"
     ]
    },
    {
     "name": "stdout",
     "output_type": "stream",
     "text": [
      "вакансий получено - 81\n",
      "вакансий пропущено - 14\n",
      "вакансий с ошибкой - 5\n",
      "('https://api.hh.ru/vacancies?area=2039&professional_role=9&area=56&professional_role=111&area=78&professional_role=133&area=35&professional_role=39&area=68&professional_role=146&area=92&professional_role=82&area=14&professional_role=64&area=70&professional_role=130&area=20&professional_role=130&area=83&professional_role=102&area=160&professional_role=143&area=2039&professional_role=58&area=1641&professional_role=84&area=3&professional_role=16&area=96&professional_role=130&area=159&professional_role=10&area=73&professional_role=94&area=1002&professional_role=116&area=104&professional_role=162&area=63&professional_role=18&area=1240&professional_role=82&area=53&professional_role=57&area=71&professional_role=130&area=72&professional_role=51&area=1007&professional_role=130&area=88&professional_role=148&area=88&professional_role=120&area=1220&professional_role=115&area=159&professional_role=131', 1967)\n",
      "number url - 102\n",
      "размер массива (125527, 1)\n",
      "total_pages - 20\n"
     ]
    },
    {
     "name": "stderr",
     "output_type": "stream",
     "text": [
      "100%|████████████████████████████████████████████████████████████████████████████████| 100/100 [00:28<00:00,  2.96it/s]\n"
     ]
    },
    {
     "name": "stdout",
     "output_type": "stream",
     "text": [
      "вакансий получено - 63\n",
      "вакансий пропущено - 37\n",
      "вакансий с ошибкой - 0\n",
      "('https://api.hh.ru/vacancies?area=58&professional_role=82&area=14&professional_role=63&area=69&professional_role=128&area=95&professional_role=88&area=47&professional_role=45&area=84&professional_role=96&area=89&professional_role=47&area=61&professional_role=83&area=1002&professional_role=84&area=19&professional_role=49&area=58&professional_role=8&area=41&professional_role=111&area=71&professional_role=86&area=104&professional_role=173&area=19&professional_role=115&area=112&professional_role=100&area=130&professional_role=47&area=159&professional_role=64&area=41&professional_role=121&area=54&professional_role=108&area=2090&professional_role=18&area=3&professional_role=123&area=84&professional_role=131&area=92&professional_role=5&area=1381&professional_role=35&area=160&professional_role=54&area=98&professional_role=129&area=70&professional_role=5&area=41&professional_role=49', 1991)\n",
      "number url - 103\n",
      "размер массива (125590, 1)\n",
      "total_pages - 20\n"
     ]
    },
    {
     "name": "stderr",
     "output_type": "stream",
     "text": [
      " 41%|█████████████████████████████████▏                                               | 41/100 [00:12<00:18,  3.24it/s]"
     ]
    },
    {
     "name": "stdout",
     "output_type": "stream",
     "text": [
      "captcha_required\n"
     ]
    },
    {
     "name": "stderr",
     "output_type": "stream",
     "text": [
      "\r",
      " 42%|██████████████████████████████████                                               | 42/100 [00:14<00:36,  1.57it/s]"
     ]
    },
    {
     "name": "stdout",
     "output_type": "stream",
     "text": [
      "captcha_required\n"
     ]
    },
    {
     "name": "stderr",
     "output_type": "stream",
     "text": [
      "\r",
      " 43%|██████████████████████████████████▊                                              | 43/100 [00:15<00:49,  1.16it/s]"
     ]
    },
    {
     "name": "stdout",
     "output_type": "stream",
     "text": [
      "captcha_required\n"
     ]
    },
    {
     "name": "stderr",
     "output_type": "stream",
     "text": [
      " 93%|███████████████████████████████████████████████████████████████████████████▎     | 93/100 [00:29<00:02,  3.15it/s]"
     ]
    },
    {
     "name": "stdout",
     "output_type": "stream",
     "text": [
      "captcha_required\n"
     ]
    },
    {
     "name": "stderr",
     "output_type": "stream",
     "text": [
      "\r",
      " 94%|████████████████████████████████████████████████████████████████████████████▏    | 94/100 [00:30<00:03,  1.51it/s]"
     ]
    },
    {
     "name": "stdout",
     "output_type": "stream",
     "text": [
      "captcha_required\n"
     ]
    },
    {
     "name": "stderr",
     "output_type": "stream",
     "text": [
      "100%|████████████████████████████████████████████████████████████████████████████████| 100/100 [00:33<00:00,  3.03it/s]\n"
     ]
    },
    {
     "name": "stdout",
     "output_type": "stream",
     "text": [
      "вакансий получено - 58\n",
      "вакансий пропущено - 37\n",
      "вакансий с ошибкой - 5\n",
      "('https://api.hh.ru/vacancies?area=160&professional_role=163&area=1440&professional_role=130&area=26&professional_role=145&area=32&professional_role=127&area=54&professional_role=141&area=47&professional_role=82&area=1240&professional_role=129&area=49&professional_role=127&area=131&professional_role=64&area=212&professional_role=111&area=2034&professional_role=35&area=89&professional_role=96&area=77&professional_role=5&area=102&professional_role=132&area=53&professional_role=173&area=55&professional_role=18&area=52&professional_role=31&area=92&professional_role=121&area=89&professional_role=86&area=107&professional_role=85&area=32&professional_role=111&area=70&professional_role=9&area=1753&professional_role=143&area=49&professional_role=5&area=1007&professional_role=18&area=35&professional_role=117&area=22&professional_role=78&area=2237&professional_role=127', 1949)\n",
      "number url - 104\n",
      "размер массива (125648, 1)\n",
      "total_pages - 20\n"
     ]
    },
    {
     "name": "stderr",
     "output_type": "stream",
     "text": [
      " 70%|████████████████████████████████████████████████████████▋                        | 70/100 [00:29<00:12,  2.36it/s]"
     ]
    },
    {
     "name": "stdout",
     "output_type": "stream",
     "text": [
      "captcha_required\n"
     ]
    },
    {
     "name": "stderr",
     "output_type": "stream",
     "text": [
      " 93%|███████████████████████████████████████████████████████████████████████████▎     | 93/100 [00:41<00:04,  1.59it/s]"
     ]
    },
    {
     "name": "stdout",
     "output_type": "stream",
     "text": [
      "captcha_required\n"
     ]
    },
    {
     "name": "stderr",
     "output_type": "stream",
     "text": [
      "\r",
      " 95%|████████████████████████████████████████████████████████████████████████████▉    | 95/100 [00:42<00:03,  1.54it/s]"
     ]
    },
    {
     "name": "stdout",
     "output_type": "stream",
     "text": [
      "captcha_required\n"
     ]
    },
    {
     "name": "stderr",
     "output_type": "stream",
     "text": [
      "\r",
      " 96%|█████████████████████████████████████████████████████████████████████████████▊   | 96/100 [00:43<00:03,  1.14it/s]"
     ]
    },
    {
     "name": "stdout",
     "output_type": "stream",
     "text": [
      "captcha_required\n"
     ]
    },
    {
     "name": "stderr",
     "output_type": "stream",
     "text": [
      "100%|████████████████████████████████████████████████████████████████████████████████| 100/100 [00:46<00:00,  1.54it/s]\n"
     ]
    },
    {
     "name": "stdout",
     "output_type": "stream",
     "text": [
      "вакансий получено - 90\n",
      "вакансий пропущено - 6\n",
      "вакансий с ошибкой - 4\n",
      "('https://api.hh.ru/vacancies?area=84&professional_role=102&area=2760&professional_role=96&area=17&professional_role=96&area=1002&professional_role=92&area=237&professional_role=115&area=66&professional_role=59&area=89&professional_role=5&area=77&professional_role=121&area=1381&professional_role=58&area=47&professional_role=49&area=76&professional_role=162&area=88&professional_role=65&area=56&professional_role=31&area=102&professional_role=90&area=49&professional_role=111&area=23&professional_role=129&area=1753&professional_role=48&area=12&professional_role=143&area=1399&professional_role=83&area=78&professional_role=74&area=25&professional_role=35&area=159&professional_role=23&area=96&professional_role=100&area=66&professional_role=137&area=2061&professional_role=84&area=19&professional_role=111&area=160&professional_role=6&area=237&professional_role=74', 1975)\n",
      "number url - 105\n",
      "размер массива (125738, 1)\n",
      "total_pages - 20\n"
     ]
    },
    {
     "name": "stderr",
     "output_type": "stream",
     "text": [
      " 30%|████████████████████████▎                                                        | 30/100 [00:12<00:29,  2.38it/s]"
     ]
    },
    {
     "name": "stdout",
     "output_type": "stream",
     "text": [
      "captcha_required\n"
     ]
    },
    {
     "name": "stderr",
     "output_type": "stream",
     "text": [
      "100%|████████████████████████████████████████████████████████████████████████████████| 100/100 [00:42<00:00,  2.34it/s]\n"
     ]
    },
    {
     "name": "stdout",
     "output_type": "stream",
     "text": [
      "вакансий получено - 93\n",
      "вакансий пропущено - 6\n",
      "вакансий с ошибкой - 1\n",
      "('https://api.hh.ru/vacancies?area=1002&professional_role=73&area=1454&professional_role=129&area=2237&professional_role=115&area=89&professional_role=132&area=20&professional_role=52&area=77&professional_role=63&area=1979&professional_role=102&area=160&professional_role=14&area=107&professional_role=8&area=2041&professional_role=58&area=1007&professional_role=94&area=23&professional_role=58&area=56&professional_role=129&area=2237&professional_role=109&area=102&professional_role=6&area=98&professional_role=109&area=41&professional_role=66&area=76&professional_role=82&area=106&professional_role=100&area=66&professional_role=80&area=107&professional_role=111&area=49&professional_role=82&area=47&professional_role=66&area=160&professional_role=49&area=112&professional_role=110&area=41&professional_role=143&area=70&professional_role=52', 1931)\n",
      "number url - 106\n",
      "размер массива (125831, 1)\n",
      "total_pages - 20\n"
     ]
    },
    {
     "name": "stderr",
     "output_type": "stream",
     "text": [
      " 30%|████████████████████████▎                                                        | 30/100 [00:09<00:29,  2.40it/s]"
     ]
    },
    {
     "name": "stdout",
     "output_type": "stream",
     "text": [
      "captcha_required\n"
     ]
    },
    {
     "name": "stderr",
     "output_type": "stream",
     "text": [
      "\r",
      " 31%|█████████████████████████                                                        | 31/100 [00:11<00:50,  1.38it/s]"
     ]
    },
    {
     "name": "stdout",
     "output_type": "stream",
     "text": [
      "captcha_required\n"
     ]
    },
    {
     "name": "stderr",
     "output_type": "stream",
     "text": [
      "\r",
      " 32%|█████████████████████████▉                                                       | 32/100 [00:12<01:03,  1.08it/s]"
     ]
    },
    {
     "name": "stdout",
     "output_type": "stream",
     "text": [
      "captcha_required\n"
     ]
    },
    {
     "name": "stderr",
     "output_type": "stream",
     "text": [
      " 35%|████████████████████████████▎                                                    | 35/100 [00:14<00:49,  1.33it/s]"
     ]
    },
    {
     "name": "stdout",
     "output_type": "stream",
     "text": [
      "captcha_required\n"
     ]
    },
    {
     "name": "stderr",
     "output_type": "stream",
     "text": [
      "\r",
      " 36%|█████████████████████████████▏                                                   | 36/100 [00:16<01:01,  1.05it/s]"
     ]
    },
    {
     "name": "stdout",
     "output_type": "stream",
     "text": [
      "captcha_required\n"
     ]
    },
    {
     "name": "stderr",
     "output_type": "stream",
     "text": [
      " 70%|████████████████████████████████████████████████████████▋                        | 70/100 [00:29<00:11,  2.56it/s]"
     ]
    },
    {
     "name": "stdout",
     "output_type": "stream",
     "text": [
      "captcha_required\n"
     ]
    },
    {
     "name": "stderr",
     "output_type": "stream",
     "text": [
      "100%|████████████████████████████████████████████████████████████████████████████████| 100/100 [00:43<00:00,  1.95it/s]\n"
     ]
    },
    {
     "name": "stdout",
     "output_type": "stream",
     "text": [
      "вакансий получено - 77\n",
      "вакансий пропущено - 17\n",
      "вакансий с ошибкой - 6\n",
      "('https://api.hh.ru/vacancies?area=2034&professional_role=8&area=77&professional_role=47&area=98&professional_role=35&area=104&professional_role=10&area=1399&professional_role=9&area=47&professional_role=100&area=1512&professional_role=18&area=2061&professional_role=67&area=17&professional_role=82&area=112&professional_role=63&area=71&professional_role=109&area=92&professional_role=100&area=212&professional_role=66&area=26&professional_role=80&area=56&professional_role=115&area=35&professional_role=35&area=112&professional_role=142&area=15&professional_role=102&area=84&professional_role=35&area=1399&professional_role=115&area=17&professional_role=142&area=112&professional_role=82&area=41&professional_role=109&area=22&professional_role=115&area=1291&professional_role=102&area=104&professional_role=169&area=237&professional_role=132', 1959)\n",
      "number url - 107\n",
      "размер массива (125908, 1)\n",
      "total_pages - 20\n"
     ]
    },
    {
     "name": "stderr",
     "output_type": "stream",
     "text": [
      " 61%|█████████████████████████████████████████████████▍                               | 61/100 [00:27<00:16,  2.31it/s]"
     ]
    },
    {
     "name": "stdout",
     "output_type": "stream",
     "text": [
      "captcha_required\n"
     ]
    },
    {
     "name": "stderr",
     "output_type": "stream",
     "text": [
      "\r",
      " 62%|██████████████████████████████████████████████████▏                              | 62/100 [00:29<00:27,  1.37it/s]"
     ]
    },
    {
     "name": "stdout",
     "output_type": "stream",
     "text": [
      "captcha_required\n"
     ]
    },
    {
     "name": "stderr",
     "output_type": "stream",
     "text": [
      " 66%|█████████████████████████████████████████████████████▍                           | 66/100 [00:32<00:20,  1.65it/s]"
     ]
    },
    {
     "name": "stdout",
     "output_type": "stream",
     "text": [
      "captcha_required\n"
     ]
    },
    {
     "name": "stderr",
     "output_type": "stream",
     "text": [
      "\r",
      " 67%|██████████████████████████████████████████████████████▎                          | 67/100 [00:33<00:27,  1.18it/s]"
     ]
    },
    {
     "name": "stdout",
     "output_type": "stream",
     "text": [
      "captcha_required\n"
     ]
    },
    {
     "name": "stderr",
     "output_type": "stream",
     "text": [
      "100%|████████████████████████████████████████████████████████████████████████████████| 100/100 [00:49<00:00,  2.08it/s]\n"
     ]
    },
    {
     "name": "stdout",
     "output_type": "stream",
     "text": [
      "вакансий получено - 95\n",
      "вакансий пропущено - 1\n",
      "вакансий с ошибкой - 4\n",
      "('https://api.hh.ru/vacancies?area=43&professional_role=111&area=77&professional_role=109&area=25&professional_role=131&area=47&professional_role=142&area=2090&professional_role=94&area=87&professional_role=131&area=53&professional_role=39&area=1002&professional_role=69&area=58&professional_role=63&area=2041&professional_role=9&area=1454&professional_role=83&area=1641&professional_role=130&area=52&professional_role=8&area=159&professional_role=72&area=72&professional_role=46&area=52&professional_role=102&area=1002&professional_role=9&area=79&professional_role=110&area=99&professional_role=117&area=61&professional_role=24&area=22&professional_role=77&area=2237&professional_role=85&area=160&professional_role=58&area=79&professional_role=127&area=95&professional_role=133&area=90&professional_role=129&area=55&professional_role=143', 1980)\n",
      "number url - 108\n",
      "размер массива (126003, 1)\n",
      "total_pages - 20\n"
     ]
    },
    {
     "name": "stderr",
     "output_type": "stream",
     "text": [
      " 60%|████████████████████████████████████████████████▌                                | 60/100 [00:15<00:14,  2.71it/s]"
     ]
    },
    {
     "name": "stdout",
     "output_type": "stream",
     "text": [
      "captcha_required\n"
     ]
    },
    {
     "name": "stderr",
     "output_type": "stream",
     "text": [
      "100%|████████████████████████████████████████████████████████████████████████████████| 100/100 [00:28<00:00,  2.74it/s]\n"
     ]
    },
    {
     "name": "stdout",
     "output_type": "stream",
     "text": [
      "вакансий получено - 58\n",
      "вакансий пропущено - 41\n",
      "вакансий с ошибкой - 1\n",
      "('https://api.hh.ru/vacancies?area=72&professional_role=69&area=1240&professional_role=8&area=4&professional_role=59&area=98&professional_role=66&area=54&professional_role=44&area=159&professional_role=52&area=66&professional_role=54&area=160&professional_role=144&area=66&professional_role=62&area=88&professional_role=23&area=69&professional_role=102&area=53&professional_role=74&area=98&professional_role=9&area=1381&professional_role=18&area=88&professional_role=82&area=68&professional_role=68&area=20&professional_role=115&area=160&professional_role=73&area=237&professional_role=118&area=130&professional_role=21&area=79&professional_role=64&area=68&professional_role=35&area=26&professional_role=46&area=24&professional_role=45&area=26&professional_role=34&area=92&professional_role=142', 1927)\n",
      "number url - 109\n",
      "размер массива (126061, 1)\n",
      "total_pages - 20\n"
     ]
    },
    {
     "name": "stderr",
     "output_type": "stream",
     "text": [
      " 37%|█████████████████████████████▉                                                   | 37/100 [00:13<00:16,  3.79it/s]"
     ]
    },
    {
     "name": "stdout",
     "output_type": "stream",
     "text": [
      "captcha_required\n"
     ]
    },
    {
     "name": "stderr",
     "output_type": "stream",
     "text": [
      " 45%|████████████████████████████████████▍                                            | 45/100 [00:15<00:18,  2.92it/s]"
     ]
    },
    {
     "name": "stdout",
     "output_type": "stream",
     "text": [
      "captcha_required\n"
     ]
    },
    {
     "name": "stderr",
     "output_type": "stream",
     "text": [
      " 80%|████████████████████████████████████████████████████████████████▊                | 80/100 [00:29<00:07,  2.72it/s]"
     ]
    },
    {
     "name": "stdout",
     "output_type": "stream",
     "text": [
      "captcha_required\n"
     ]
    },
    {
     "name": "stderr",
     "output_type": "stream",
     "text": [
      " 87%|██████████████████████████████████████████████████████████████████████▍          | 87/100 [00:31<00:06,  2.15it/s]"
     ]
    },
    {
     "name": "stdout",
     "output_type": "stream",
     "text": [
      "captcha_required\n"
     ]
    },
    {
     "name": "stderr",
     "output_type": "stream",
     "text": [
      "100%|████████████████████████████████████████████████████████████████████████████████| 100/100 [00:37<00:00,  2.66it/s]\n"
     ]
    },
    {
     "name": "stdout",
     "output_type": "stream",
     "text": [
      "вакансий получено - 71\n",
      "вакансий пропущено - 25\n",
      "вакансий с ошибкой - 4\n",
      "('https://api.hh.ru/vacancies?area=1240&professional_role=131&area=11&professional_role=67&area=99&professional_role=113&area=2053&professional_role=58&area=76&professional_role=62&area=11&professional_role=106&area=131&professional_role=31&area=49&professional_role=47&area=64&professional_role=52&area=71&professional_role=121&area=4&professional_role=120&area=112&professional_role=90&area=53&professional_role=80&area=87&professional_role=48&area=17&professional_role=143&area=72&professional_role=146&area=2034&professional_role=18&area=237&professional_role=72&area=2039&professional_role=18&area=47&professional_role=78&area=71&professional_role=111&area=4&professional_role=123&area=25&professional_role=58&area=1399&professional_role=24&area=1381&professional_role=115&area=25&professional_role=52', 1952)\n",
      "number url - 110\n",
      "размер массива (126132, 1)\n",
      "total_pages - 20\n"
     ]
    },
    {
     "name": "stderr",
     "output_type": "stream",
     "text": [
      " 45%|████████████████████████████████████▍                                            | 45/100 [00:19<00:23,  2.36it/s]"
     ]
    },
    {
     "name": "stdout",
     "output_type": "stream",
     "text": [
      "captcha_required\n"
     ]
    },
    {
     "name": "stderr",
     "output_type": "stream",
     "text": [
      "\r",
      " 46%|█████████████████████████████████████▎                                           | 46/100 [00:21<00:39,  1.37it/s]"
     ]
    },
    {
     "name": "stdout",
     "output_type": "stream",
     "text": [
      "captcha_required\n"
     ]
    },
    {
     "name": "stderr",
     "output_type": "stream",
     "text": [
      " 75%|████████████████████████████████████████████████████████████▊                    | 75/100 [00:35<00:11,  2.22it/s]"
     ]
    },
    {
     "name": "stdout",
     "output_type": "stream",
     "text": [
      "captcha_required\n"
     ]
    },
    {
     "name": "stderr",
     "output_type": "stream",
     "text": [
      " 80%|████████████████████████████████████████████████████████████████▊                | 80/100 [00:38<00:09,  2.05it/s]"
     ]
    },
    {
     "name": "stdout",
     "output_type": "stream",
     "text": [
      "captcha_required\n"
     ]
    },
    {
     "name": "stderr",
     "output_type": "stream",
     "text": [
      "100%|████████████████████████████████████████████████████████████████████████████████| 100/100 [00:47<00:00,  2.31it/s]\n"
     ]
    },
    {
     "name": "stdout",
     "output_type": "stream",
     "text": [
      "вакансий получено - 95\n",
      "вакансий пропущено - 1\n",
      "вакансий с ошибкой - 4\n",
      "('https://api.hh.ru/vacancies?area=81&professional_role=52&area=88&professional_role=124&area=1753&professional_role=83&area=2025&professional_role=94&area=131&professional_role=52&area=88&professional_role=74&area=1240&professional_role=128&area=49&professional_role=130&area=43&professional_role=131&area=4&professional_role=81&area=1002&professional_role=32&area=107&professional_role=58&area=81&professional_role=94&area=177&professional_role=129&area=2053&professional_role=89&area=99&professional_role=33&area=53&professional_role=7&area=43&professional_role=52&area=212&professional_role=109&area=1291&professional_role=94&area=23&professional_role=130&area=89&professional_role=64&area=1753&professional_role=94&area=1512&professional_role=102&area=102&professional_role=118&area=26&professional_role=144', 1976)\n",
      "number url - 111\n",
      "размер массива (126227, 1)\n",
      "total_pages - 20\n"
     ]
    },
    {
     "name": "stderr",
     "output_type": "stream",
     "text": [
      " 15%|████████████▏                                                                    | 15/100 [00:06<00:35,  2.37it/s]"
     ]
    },
    {
     "name": "stdout",
     "output_type": "stream",
     "text": [
      "captcha_required\n"
     ]
    },
    {
     "name": "stderr",
     "output_type": "stream",
     "text": [
      " 23%|██████████████████▋                                                              | 23/100 [00:09<00:31,  2.42it/s]"
     ]
    },
    {
     "name": "stdout",
     "output_type": "stream",
     "text": [
      "captcha_required\n"
     ]
    },
    {
     "name": "stderr",
     "output_type": "stream",
     "text": [
      "\r",
      " 24%|███████████████████▍                                                             | 24/100 [00:11<00:55,  1.37it/s]"
     ]
    },
    {
     "name": "stdout",
     "output_type": "stream",
     "text": [
      "captcha_required\n"
     ]
    },
    {
     "name": "stderr",
     "output_type": "stream",
     "text": [
      " 63%|███████████████████████████████████████████████████                              | 63/100 [00:27<00:15,  2.37it/s]"
     ]
    },
    {
     "name": "stdout",
     "output_type": "stream",
     "text": [
      "captcha_required\n"
     ]
    },
    {
     "name": "stderr",
     "output_type": "stream",
     "text": [
      " 74%|███████████████████████████████████████████████████████████▉                     | 74/100 [00:33<00:11,  2.20it/s]"
     ]
    },
    {
     "name": "stdout",
     "output_type": "stream",
     "text": [
      "captcha_required\n"
     ]
    },
    {
     "name": "stderr",
     "output_type": "stream",
     "text": [
      "\r",
      " 75%|████████████████████████████████████████████████████████████▊                    | 75/100 [00:34<00:18,  1.35it/s]"
     ]
    },
    {
     "name": "stdout",
     "output_type": "stream",
     "text": [
      "captcha_required\n"
     ]
    },
    {
     "name": "stderr",
     "output_type": "stream",
     "text": [
      "100%|████████████████████████████████████████████████████████████████████████████████| 100/100 [00:46<00:00,  2.23it/s]\n"
     ]
    },
    {
     "name": "stdout",
     "output_type": "stream",
     "text": [
      "вакансий получено - 87\n",
      "вакансий пропущено - 7\n",
      "вакансий с ошибкой - 6\n",
      "('https://api.hh.ru/vacancies?area=58&professional_role=31&area=4&professional_role=148&area=3&professional_role=169&area=112&professional_role=68&area=2077&professional_role=58&area=159&professional_role=111&area=2020&professional_role=18&area=78&professional_role=44&area=56&professional_role=58&area=4&professional_role=65&area=92&professional_role=86&area=14&professional_role=102&area=54&professional_role=173&area=160&professional_role=85&area=3&professional_role=65&area=24&professional_role=132&area=1240&professional_role=83&area=63&professional_role=102&area=90&professional_role=132&area=87&professional_role=115&area=237&professional_role=106&area=2077&professional_role=89&area=61&professional_role=102&area=102&professional_role=142&area=23&professional_role=64', 1925)\n",
      "number url - 112\n",
      "размер массива (126314, 1)\n",
      "total_pages - 20\n"
     ]
    },
    {
     "name": "stderr",
     "output_type": "stream",
     "text": [
      " 28%|██████████████████████▋                                                          | 28/100 [00:11<00:29,  2.41it/s]"
     ]
    },
    {
     "name": "stdout",
     "output_type": "stream",
     "text": [
      "captcha_required\n"
     ]
    },
    {
     "name": "stderr",
     "output_type": "stream",
     "text": [
      "\r",
      " 29%|███████████████████████▍                                                         | 29/100 [00:12<00:52,  1.36it/s]"
     ]
    },
    {
     "name": "stdout",
     "output_type": "stream",
     "text": [
      "captcha_required\n"
     ]
    },
    {
     "name": "stderr",
     "output_type": "stream",
     "text": [
      " 51%|█████████████████████████████████████████▎                                       | 51/100 [00:23<00:23,  2.11it/s]"
     ]
    },
    {
     "name": "stdout",
     "output_type": "stream",
     "text": [
      "captcha_required\n"
     ]
    },
    {
     "name": "stderr",
     "output_type": "stream",
     "text": [
      "\r",
      " 52%|██████████████████████████████████████████                                       | 52/100 [00:24<00:36,  1.32it/s]"
     ]
    },
    {
     "name": "stdout",
     "output_type": "stream",
     "text": [
      "captcha_required\n"
     ]
    },
    {
     "name": "stderr",
     "output_type": "stream",
     "text": [
      " 88%|███████████████████████████████████████████████████████████████████████▎         | 88/100 [00:41<00:05,  2.37it/s]"
     ]
    },
    {
     "name": "stdout",
     "output_type": "stream",
     "text": [
      "captcha_required\n"
     ]
    },
    {
     "name": "stderr",
     "output_type": "stream",
     "text": [
      " 99%|████████████████████████████████████████████████████████████████████████████████▏| 99/100 [00:47<00:00,  2.28it/s]"
     ]
    },
    {
     "name": "stdout",
     "output_type": "stream",
     "text": [
      "captcha_required\n"
     ]
    },
    {
     "name": "stderr",
     "output_type": "stream",
     "text": [
      "100%|████████████████████████████████████████████████████████████████████████████████| 100/100 [00:48<00:00,  1.37it/s]\n"
     ]
    },
    {
     "name": "stdout",
     "output_type": "stream",
     "text": [
      "вакансий получено - 92\n",
      "вакансий пропущено - 2\n",
      "вакансий с ошибкой - 6\n",
      "('https://api.hh.ru/vacancies?area=160&professional_role=23&area=76&professional_role=117&area=90&professional_role=121&area=2041&professional_role=48&area=32&professional_role=66&area=212&professional_role=96&area=130&professional_role=24&area=26&professional_role=117&area=1220&professional_role=102&area=1512&professional_role=94&area=92&professional_role=68&area=1641&professional_role=64&area=90&professional_role=131&area=55&professional_role=64&area=212&professional_role=64&area=68&professional_role=118&area=87&professional_role=128&area=58&professional_role=45&area=89&professional_role=142&area=80&professional_role=18&area=24&professional_role=6&area=17&professional_role=35&area=4&professional_role=14&area=56&professional_role=128&area=53&professional_role=30', 1936)\n",
      "number url - 113\n",
      "размер массива (126406, 1)\n",
      "total_pages - 20\n"
     ]
    },
    {
     "name": "stderr",
     "output_type": "stream",
     "text": [
      " 23%|██████████████████▋                                                              | 23/100 [00:09<00:31,  2.41it/s]"
     ]
    },
    {
     "name": "stdout",
     "output_type": "stream",
     "text": [
      "captcha_required\n"
     ]
    },
    {
     "name": "stderr",
     "output_type": "stream",
     "text": [
      "\r",
      " 24%|███████████████████▍                                                             | 24/100 [00:10<00:55,  1.38it/s]"
     ]
    },
    {
     "name": "stdout",
     "output_type": "stream",
     "text": [
      "captcha_required\n"
     ]
    },
    {
     "name": "stderr",
     "output_type": "stream",
     "text": [
      " 58%|██████████████████████████████████████████████▉                                  | 58/100 [00:24<00:18,  2.33it/s]"
     ]
    },
    {
     "name": "stdout",
     "output_type": "stream",
     "text": [
      "captcha_required\n"
     ]
    },
    {
     "name": "stderr",
     "output_type": "stream",
     "text": [
      " 82%|██████████████████████████████████████████████████████████████████▍              | 82/100 [00:32<00:07,  2.55it/s]"
     ]
    },
    {
     "name": "stdout",
     "output_type": "stream",
     "text": [
      "captcha_required\n"
     ]
    },
    {
     "name": "stderr",
     "output_type": "stream",
     "text": [
      " 91%|█████████████████████████████████████████████████████████████████████████▋       | 91/100 [00:35<00:03,  2.99it/s]"
     ]
    },
    {
     "name": "stdout",
     "output_type": "stream",
     "text": [
      "captcha_required\n"
     ]
    },
    {
     "name": "stderr",
     "output_type": "stream",
     "text": [
      "\r",
      " 92%|██████████████████████████████████████████████████████████████████████████▌      | 92/100 [00:36<00:05,  1.50it/s]"
     ]
    },
    {
     "name": "stdout",
     "output_type": "stream",
     "text": [
      "captcha_required\n"
     ]
    },
    {
     "name": "stderr",
     "output_type": "stream",
     "text": [
      "100%|████████████████████████████████████████████████████████████████████████████████| 100/100 [00:40<00:00,  2.36it/s]\n"
     ]
    },
    {
     "name": "stdout",
     "output_type": "stream",
     "text": [
      "вакансий получено - 75\n",
      "вакансий пропущено - 19\n",
      "вакансий с ошибкой - 6\n",
      "('https://api.hh.ru/vacancies?area=107&professional_role=52&area=96&professional_role=78&area=159&professional_role=74&area=131&professional_role=131&area=24&professional_role=5&area=63&professional_role=115&area=104&professional_role=59&area=22&professional_role=132&area=47&professional_role=128&area=32&professional_role=35&area=79&professional_role=142&area=95&professional_role=85&area=11&professional_role=144&area=22&professional_role=109&area=72&professional_role=117&area=84&professional_role=58&area=92&professional_role=77&area=96&professional_role=145&area=66&professional_role=3&area=95&professional_role=129&area=1512&professional_role=21&area=58&professional_role=100&area=41&professional_role=5&area=79&professional_role=100&area=24&professional_role=142', 1963)\n",
      "number url - 114\n",
      "размер массива (126481, 1)\n",
      "total_pages - 20\n"
     ]
    },
    {
     "name": "stderr",
     "output_type": "stream",
     "text": [
      " 43%|██████████████████████████████████▊                                              | 43/100 [00:16<00:21,  2.64it/s]"
     ]
    },
    {
     "name": "stdout",
     "output_type": "stream",
     "text": [
      "captcha_required\n"
     ]
    },
    {
     "name": "stderr",
     "output_type": "stream",
     "text": [
      "\r",
      " 44%|███████████████████████████████████▋                                             | 44/100 [00:18<00:39,  1.43it/s]"
     ]
    },
    {
     "name": "stdout",
     "output_type": "stream",
     "text": [
      "captcha_required\n"
     ]
    },
    {
     "name": "stderr",
     "output_type": "stream",
     "text": [
      " 70%|████████████████████████████████████████████████████████▋                        | 70/100 [00:29<00:14,  2.06it/s]"
     ]
    },
    {
     "name": "stdout",
     "output_type": "stream",
     "text": [
      "captcha_required\n"
     ]
    },
    {
     "name": "stderr",
     "output_type": "stream",
     "text": [
      " 99%|████████████████████████████████████████████████████████████████████████████████▏| 99/100 [00:42<00:00,  2.42it/s]"
     ]
    },
    {
     "name": "stdout",
     "output_type": "stream",
     "text": [
      "captcha_required\n"
     ]
    },
    {
     "name": "stderr",
     "output_type": "stream",
     "text": [
      "100%|████████████████████████████████████████████████████████████████████████████████| 100/100 [00:44<00:00,  1.40it/s]\n"
     ]
    },
    {
     "name": "stdout",
     "output_type": "stream",
     "text": [
      "вакансий получено - 88\n",
      "вакансий пропущено - 8\n",
      "вакансий с ошибкой - 4\n",
      "('https://api.hh.ru/vacancies?area=92&professional_role=89&area=77&professional_role=78&area=99&professional_role=77&area=1381&professional_role=24&area=1641&professional_role=45&area=160&professional_role=124&area=2061&professional_role=48&area=205&professional_role=83&area=24&professional_role=127&area=2759&professional_role=48&area=98&professional_role=31&area=66&professional_role=76&area=1641&professional_role=67&area=17&professional_role=8&area=88&professional_role=133&area=4&professional_role=168&area=95&professional_role=117&area=54&professional_role=88&area=160&professional_role=102&area=2061&professional_role=58&area=77&professional_role=66&area=41&professional_role=47&area=79&professional_role=5&area=22&professional_role=130&area=32&professional_role=49', 1985)\n",
      "number url - 115\n",
      "размер массива (126569, 1)\n",
      "total_pages - 20\n"
     ]
    },
    {
     "name": "stderr",
     "output_type": "stream",
     "text": [
      " 26%|█████████████████████                                                            | 26/100 [00:09<00:25,  2.87it/s]"
     ]
    },
    {
     "name": "stdout",
     "output_type": "stream",
     "text": [
      "captcha_required\n"
     ]
    },
    {
     "name": "stderr",
     "output_type": "stream",
     "text": [
      " 32%|█████████████████████████▉                                                       | 32/100 [00:13<00:32,  2.12it/s]"
     ]
    },
    {
     "name": "stdout",
     "output_type": "stream",
     "text": [
      "captcha_required\n"
     ]
    },
    {
     "name": "stderr",
     "output_type": "stream",
     "text": [
      "\r",
      " 33%|██████████████████████████▋                                                      | 33/100 [00:14<00:50,  1.32it/s]"
     ]
    },
    {
     "name": "stdout",
     "output_type": "stream",
     "text": [
      "captcha_required\n"
     ]
    },
    {
     "name": "stderr",
     "output_type": "stream",
     "text": [
      " 77%|██████████████████████████████████████████████████████████████▎                  | 77/100 [00:33<00:09,  2.40it/s]"
     ]
    },
    {
     "name": "stdout",
     "output_type": "stream",
     "text": [
      "captcha_required\n"
     ]
    },
    {
     "name": "stderr",
     "output_type": "stream",
     "text": [
      "\r",
      " 80%|████████████████████████████████████████████████████████████████▊                | 80/100 [00:34<00:08,  2.29it/s]"
     ]
    },
    {
     "name": "stdout",
     "output_type": "stream",
     "text": [
      "captcha_required\n"
     ]
    },
    {
     "name": "stderr",
     "output_type": "stream",
     "text": [
      "100%|████████████████████████████████████████████████████████████████████████████████| 100/100 [00:43<00:00,  2.31it/s]\n"
     ]
    },
    {
     "name": "stdout",
     "output_type": "stream",
     "text": [
      "вакансий получено - 83\n",
      "вакансий пропущено - 12\n",
      "вакансий с ошибкой - 5\n",
      "('https://api.hh.ru/vacancies?area=35&professional_role=85&area=247&professional_role=52&area=96&professional_role=64&area=54&professional_role=84&area=2053&professional_role=9&area=1512&professional_role=83&area=69&professional_role=24&area=84&professional_role=52&area=2061&professional_role=143&area=102&professional_role=144&area=90&professional_role=100&area=79&professional_role=129&area=26&professional_role=113&area=11&professional_role=84&area=3&professional_role=149&area=20&professional_role=143&area=58&professional_role=78&area=23&professional_role=66&area=4&professional_role=169&area=58&professional_role=5&area=4&professional_role=23&area=96&professional_role=35&area=92&professional_role=130&area=106&professional_role=111', 1921)\n",
      "number url - 116\n",
      "размер массива (126652, 1)\n",
      "total_pages - 20\n"
     ]
    },
    {
     "name": "stderr",
     "output_type": "stream",
     "text": [
      " 34%|███████████████████████████▌                                                     | 34/100 [00:14<00:27,  2.37it/s]"
     ]
    },
    {
     "name": "stdout",
     "output_type": "stream",
     "text": [
      "captcha_required\n"
     ]
    },
    {
     "name": "stderr",
     "output_type": "stream",
     "text": [
      " 58%|██████████████████████████████████████████████▉                                  | 58/100 [00:26<00:17,  2.41it/s]"
     ]
    },
    {
     "name": "stdout",
     "output_type": "stream",
     "text": [
      "captcha_required\n"
     ]
    },
    {
     "name": "stderr",
     "output_type": "stream",
     "text": [
      " 65%|████████████████████████████████████████████████████▋                            | 65/100 [00:30<00:16,  2.15it/s]"
     ]
    },
    {
     "name": "stdout",
     "output_type": "stream",
     "text": [
      "captcha_required\n"
     ]
    },
    {
     "name": "stderr",
     "output_type": "stream",
     "text": [
      "\r",
      " 66%|█████████████████████████████████████████████████████▍                           | 66/100 [00:31<00:25,  1.33it/s]"
     ]
    },
    {
     "name": "stdout",
     "output_type": "stream",
     "text": [
      "captcha_required\n"
     ]
    },
    {
     "name": "stderr",
     "output_type": "stream",
     "text": [
      "100%|████████████████████████████████████████████████████████████████████████████████| 100/100 [00:47<00:00,  2.33it/s]\n"
     ]
    },
    {
     "name": "stdout",
     "output_type": "stream",
     "text": [
      "вакансий получено - 93\n",
      "вакансий пропущено - 3\n",
      "вакансий с ошибкой - 4\n",
      "('https://api.hh.ru/vacancies?area=79&professional_role=130&area=76&professional_role=34&area=102&professional_role=9&area=104&professional_role=80&area=89&professional_role=63&area=23&professional_role=8&area=24&professional_role=110&area=3&professional_role=81&area=71&professional_role=143&area=99&professional_role=67&area=102&professional_role=106&area=52&professional_role=94&area=159&professional_role=66&area=32&professional_role=9&area=58&professional_role=66&area=72&professional_role=106&area=12&professional_role=47&area=3&professional_role=141&area=66&professional_role=6&area=1381&professional_role=5&area=90&professional_role=90&area=4&professional_role=137&area=88&professional_role=86&area=160&professional_role=142', 1950)\n",
      "number url - 117\n",
      "размер массива (126745, 1)\n",
      "total_pages - 20\n"
     ]
    },
    {
     "name": "stderr",
     "output_type": "stream",
     "text": [
      " 17%|█████████████▊                                                                   | 17/100 [00:05<00:34,  2.44it/s]"
     ]
    },
    {
     "name": "stdout",
     "output_type": "stream",
     "text": [
      "captcha_required\n"
     ]
    },
    {
     "name": "stderr",
     "output_type": "stream",
     "text": [
      " 30%|████████████████████████▎                                                        | 30/100 [00:11<00:28,  2.45it/s]"
     ]
    },
    {
     "name": "stdout",
     "output_type": "stream",
     "text": [
      "captcha_required\n"
     ]
    },
    {
     "name": "stderr",
     "output_type": "stream",
     "text": [
      " 70%|████████████████████████████████████████████████████████▋                        | 70/100 [00:27<00:12,  2.45it/s]"
     ]
    },
    {
     "name": "stdout",
     "output_type": "stream",
     "text": [
      "captcha_required\n"
     ]
    },
    {
     "name": "stderr",
     "output_type": "stream",
     "text": [
      "\r",
      " 72%|██████████████████████████████████████████████████████████▎                      | 72/100 [00:29<00:14,  2.00it/s]"
     ]
    },
    {
     "name": "stdout",
     "output_type": "stream",
     "text": [
      "captcha_required\n"
     ]
    },
    {
     "name": "stderr",
     "output_type": "stream",
     "text": [
      "100%|████████████████████████████████████████████████████████████████████████████████| 100/100 [00:41<00:00,  2.33it/s]\n"
     ]
    },
    {
     "name": "stdout",
     "output_type": "stream",
     "text": [
      "вакансий получено - 80\n",
      "вакансий пропущено - 16\n",
      "вакансий с ошибкой - 4\n",
      "('https://api.hh.ru/vacancies?area=1440&professional_role=8&area=17&professional_role=109&area=95&professional_role=145&area=1399&professional_role=94&area=4&professional_role=30&area=79&professional_role=85&area=99&professional_role=107&area=1381&professional_role=111&area=1291&professional_role=35&area=72&professional_role=79&area=1291&professional_role=58&area=11&professional_role=82&area=1979&professional_role=70&area=205&professional_role=129&area=53&professional_role=62&area=52&professional_role=83&area=2053&professional_role=18&area=81&professional_role=47&area=99&professional_role=173&area=237&professional_role=47&area=52&professional_role=52&area=78&professional_role=84&area=23&professional_role=111&area=1002&professional_role=150', 1970)\n",
      "number url - 118\n",
      "размер массива (126825, 1)\n",
      "total_pages - 20\n"
     ]
    },
    {
     "name": "stderr",
     "output_type": "stream",
     "text": [
      "  6%|████▉                                                                             | 6/100 [00:01<00:30,  3.05it/s]"
     ]
    },
    {
     "name": "stdout",
     "output_type": "stream",
     "text": [
      "captcha_required\n"
     ]
    },
    {
     "name": "stderr",
     "output_type": "stream",
     "text": [
      " 48%|██████████████████████████████████████▉                                          | 48/100 [00:18<00:21,  2.38it/s]"
     ]
    },
    {
     "name": "stdout",
     "output_type": "stream",
     "text": [
      "captcha_required\n"
     ]
    },
    {
     "name": "stderr",
     "output_type": "stream",
     "text": [
      " 62%|██████████████████████████████████████████████████▏                              | 62/100 [00:24<00:16,  2.31it/s]"
     ]
    },
    {
     "name": "stdout",
     "output_type": "stream",
     "text": [
      "captcha_required\n"
     ]
    },
    {
     "name": "stderr",
     "output_type": "stream",
     "text": [
      " 75%|████████████████████████████████████████████████████████████▊                    | 75/100 [00:30<00:11,  2.22it/s]"
     ]
    },
    {
     "name": "stdout",
     "output_type": "stream",
     "text": [
      "captcha_required\n"
     ]
    },
    {
     "name": "stderr",
     "output_type": "stream",
     "text": [
      " 80%|████████████████████████████████████████████████████████████████▊                | 80/100 [00:33<00:09,  2.12it/s]"
     ]
    },
    {
     "name": "stdout",
     "output_type": "stream",
     "text": [
      "captcha_required\n"
     ]
    },
    {
     "name": "stderr",
     "output_type": "stream",
     "text": [
      "100%|████████████████████████████████████████████████████████████████████████████████| 100/100 [00:41<00:00,  2.43it/s]\n"
     ]
    },
    {
     "name": "stdout",
     "output_type": "stream",
     "text": [
      "вакансий получено - 75\n",
      "вакансий пропущено - 20\n",
      "вакансий с ошибкой - 5\n",
      "('https://api.hh.ru/vacancies?area=96&professional_role=85&area=78&professional_role=82&area=107&professional_role=66&area=76&professional_role=74&area=2065&professional_role=24&area=69&professional_role=18&area=54&professional_role=69&area=58&professional_role=58&area=98&professional_role=143&area=95&professional_role=121&area=99&professional_role=69&area=11&professional_role=132&area=72&professional_role=88&area=11&professional_role=90&area=1002&professional_role=129&area=102&professional_role=83&area=4&professional_role=141&area=2039&professional_role=94&area=41&professional_role=131&area=3&professional_role=137&area=4&professional_role=108&area=54&professional_role=146&area=55&professional_role=94&area=11&professional_role=142', 2000)\n",
      "number url - 119\n",
      "размер массива (126900, 1)\n",
      "total_pages - 20\n"
     ]
    },
    {
     "name": "stderr",
     "output_type": "stream",
     "text": [
      " 63%|███████████████████████████████████████████████████                              | 63/100 [00:17<00:14,  2.47it/s]"
     ]
    },
    {
     "name": "stdout",
     "output_type": "stream",
     "text": [
      "captcha_required\n"
     ]
    },
    {
     "name": "stderr",
     "output_type": "stream",
     "text": [
      "\r",
      " 65%|████████████████████████████████████████████████████▋                            | 65/100 [00:18<00:17,  2.03it/s]"
     ]
    },
    {
     "name": "stdout",
     "output_type": "stream",
     "text": [
      "captcha_required\n"
     ]
    },
    {
     "name": "stderr",
     "output_type": "stream",
     "text": [
      " 77%|██████████████████████████████████████████████████████████████▎                  | 77/100 [00:24<00:09,  2.36it/s]"
     ]
    },
    {
     "name": "stdout",
     "output_type": "stream",
     "text": [
      "captcha_required\n"
     ]
    },
    {
     "name": "stderr",
     "output_type": "stream",
     "text": [
      "100%|████████████████████████████████████████████████████████████████████████████████| 100/100 [00:32<00:00,  2.63it/s]\n"
     ]
    },
    {
     "name": "stdout",
     "output_type": "stream",
     "text": [
      "вакансий получено - 66\n",
      "вакансий пропущено - 31\n",
      "вакансий с ошибкой - 3\n",
      "('https://api.hh.ru/vacancies?area=160&professional_role=5&area=53&professional_role=54&area=1002&professional_role=86&area=2090&professional_role=21&area=212&professional_role=67&area=1641&professional_role=31&area=70&professional_role=47&area=90&professional_role=142&area=20&professional_role=24&area=75&professional_role=94&area=99&professional_role=59&area=35&professional_role=84&area=78&professional_role=117&area=71&professional_role=8&area=72&professional_role=6&area=2760&professional_role=8&area=1220&professional_role=94&area=2088&professional_role=18&area=61&professional_role=94&area=99&professional_role=51&area=2077&professional_role=8&area=159&professional_role=51&area=54&professional_role=107', 1941)\n",
      "number url - 120\n",
      "размер массива (126966, 1)\n",
      "total_pages - 20\n"
     ]
    },
    {
     "name": "stderr",
     "output_type": "stream",
     "text": [
      " 44%|███████████████████████████████████▋                                             | 44/100 [00:09<00:13,  4.13it/s]"
     ]
    },
    {
     "name": "stdout",
     "output_type": "stream",
     "text": [
      "captcha_required\n"
     ]
    },
    {
     "name": "stderr",
     "output_type": "stream",
     "text": [
      "\r",
      " 45%|████████████████████████████████████▍                                            | 45/100 [00:10<00:33,  1.66it/s]"
     ]
    },
    {
     "name": "stdout",
     "output_type": "stream",
     "text": [
      "captcha_required\n"
     ]
    },
    {
     "name": "stderr",
     "output_type": "stream",
     "text": [
      " 71%|█████████████████████████████████████████████████████████▌                       | 71/100 [00:18<00:12,  2.29it/s]"
     ]
    },
    {
     "name": "stdout",
     "output_type": "stream",
     "text": [
      "captcha_required\n"
     ]
    },
    {
     "name": "stderr",
     "output_type": "stream",
     "text": [
      "\r",
      " 72%|██████████████████████████████████████████████████████████▎                      | 72/100 [00:19<00:20,  1.37it/s]"
     ]
    },
    {
     "name": "stdout",
     "output_type": "stream",
     "text": [
      "captcha_required\n"
     ]
    },
    {
     "name": "stderr",
     "output_type": "stream",
     "text": [
      " 90%|████████████████████████████████████████████████████████████████████████▉        | 90/100 [00:26<00:03,  2.68it/s]"
     ]
    },
    {
     "name": "stdout",
     "output_type": "stream",
     "text": [
      "captcha_required\n"
     ]
    },
    {
     "name": "stderr",
     "output_type": "stream",
     "text": [
      "100%|████████████████████████████████████████████████████████████████████████████████| 100/100 [00:28<00:00,  3.49it/s]\n"
     ]
    },
    {
     "name": "stdout",
     "output_type": "stream",
     "text": [
      "вакансий получено - 49\n",
      "вакансий пропущено - 46\n",
      "вакансий с ошибкой - 5\n",
      "('https://api.hh.ru/vacancies?area=90&professional_role=5&area=11&professional_role=100&area=160&professional_role=90&area=76&professional_role=107&area=99&professional_role=39&area=2041&professional_role=8&area=68&professional_role=127&area=58&professional_role=9&area=76&professional_role=54&area=12&professional_role=102&area=112&professional_role=35&area=79&professional_role=45&area=72&professional_role=107&area=99&professional_role=84&area=92&professional_role=66&area=69&professional_role=94&area=56&professional_role=48&area=3&professional_role=173&area=41&professional_role=6&area=66&professional_role=23&area=1550&professional_role=83&area=1240&professional_role=31&area=35&professional_role=106', 1972)\n",
      "number url - 121\n",
      "размер массива (127015, 1)\n",
      "total_pages - 20\n"
     ]
    },
    {
     "name": "stderr",
     "output_type": "stream",
     "text": [
      "100%|████████████████████████████████████████████████████████████████████████████████| 100/100 [00:37<00:00,  2.64it/s]\n"
     ]
    },
    {
     "name": "stdout",
     "output_type": "stream",
     "text": [
      "вакансий получено - 80\n",
      "вакансий пропущено - 20\n",
      "вакансий с ошибкой - 0\n",
      "('https://api.hh.ru/vacancies?area=78&professional_role=88&area=95&professional_role=67&area=2759&professional_role=94&area=26&professional_role=127&area=1454&professional_role=67&area=79&professional_role=146&area=22&professional_role=113&area=70&professional_role=48&area=160&professional_role=133&area=56&professional_role=102&area=88&professional_role=14&area=1002&professional_role=58&area=23&professional_role=143&area=23&professional_role=31&area=49&professional_role=49&area=14&professional_role=18&area=2077&professional_role=24&area=66&professional_role=124&area=26&professional_role=57&area=54&professional_role=113&area=1399&professional_role=102&area=4&professional_role=76&area=106&professional_role=52', 1990)\n",
      "number url - 122\n",
      "размер массива (127095, 1)\n",
      "total_pages - 20\n"
     ]
    },
    {
     "name": "stderr",
     "output_type": "stream",
     "text": [
      " 71%|█████████████████████████████████████████████████████████▌                       | 71/100 [00:17<00:09,  2.96it/s]"
     ]
    },
    {
     "name": "stdout",
     "output_type": "stream",
     "text": [
      "captcha_required\n"
     ]
    },
    {
     "name": "stderr",
     "output_type": "stream",
     "text": [
      "\r",
      " 72%|██████████████████████████████████████████████████████████▎                      | 72/100 [00:19<00:18,  1.52it/s]"
     ]
    },
    {
     "name": "stdout",
     "output_type": "stream",
     "text": [
      "captcha_required\n"
     ]
    },
    {
     "name": "stderr",
     "output_type": "stream",
     "text": [
      "\r",
      " 74%|███████████████████████████████████████████████████████████▉                     | 74/100 [00:20<00:17,  1.49it/s]"
     ]
    },
    {
     "name": "stdout",
     "output_type": "stream",
     "text": [
      "captcha_required\n"
     ]
    },
    {
     "name": "stderr",
     "output_type": "stream",
     "text": [
      " 84%|████████████████████████████████████████████████████████████████████             | 84/100 [00:24<00:06,  2.61it/s]"
     ]
    },
    {
     "name": "stdout",
     "output_type": "stream",
     "text": [
      "captcha_required\n"
     ]
    },
    {
     "name": "stderr",
     "output_type": "stream",
     "text": [
      "100%|████████████████████████████████████████████████████████████████████████████████| 100/100 [00:32<00:00,  2.36it/s]\n"
     ]
    },
    {
     "name": "stdout",
     "output_type": "stream",
     "text": [
      "вакансий получено - 59\n",
      "вакансий пропущено - 37\n",
      "вакансий с ошибкой - 4\n",
      "('https://api.hh.ru/vacancies?area=1641&professional_role=35&area=95&professional_role=90&area=1381&professional_role=143&area=87&professional_role=94&area=104&professional_role=33&area=47&professional_role=83&area=23&professional_role=49&area=71&professional_role=49&area=1240&professional_role=58&area=25&professional_role=31&area=19&professional_role=131&area=77&professional_role=31&area=102&professional_role=77&area=2061&professional_role=24&area=112&professional_role=111&area=26&professional_role=35&area=78&professional_role=6&area=22&professional_role=58&area=55&professional_role=83&area=1002&professional_role=45&area=92&professional_role=78&area=2034&professional_role=64', 1924)\n",
      "number url - 123\n",
      "размер массива (127154, 1)\n",
      "total_pages - 20\n"
     ]
    },
    {
     "name": "stderr",
     "output_type": "stream",
     "text": [
      " 43%|██████████████████████████████████▊                                              | 43/100 [00:18<00:25,  2.28it/s]"
     ]
    },
    {
     "name": "stdout",
     "output_type": "stream",
     "text": [
      "captcha_required\n"
     ]
    },
    {
     "name": "stderr",
     "output_type": "stream",
     "text": [
      " 57%|██████████████████████████████████████████████▏                                  | 57/100 [00:25<00:20,  2.14it/s]"
     ]
    },
    {
     "name": "stdout",
     "output_type": "stream",
     "text": [
      "captcha_required\n"
     ]
    },
    {
     "name": "stderr",
     "output_type": "stream",
     "text": [
      " 79%|███████████████████████████████████████████████████████████████▉                 | 79/100 [00:36<00:09,  2.21it/s]"
     ]
    },
    {
     "name": "stdout",
     "output_type": "stream",
     "text": [
      "captcha_required\n"
     ]
    },
    {
     "name": "stderr",
     "output_type": "stream",
     "text": [
      " 97%|██████████████████████████████████████████████████████████████████████████████▌  | 97/100 [00:45<00:01,  2.12it/s]"
     ]
    },
    {
     "name": "stdout",
     "output_type": "stream",
     "text": [
      "captcha_required\n"
     ]
    },
    {
     "name": "stderr",
     "output_type": "stream",
     "text": [
      "\r",
      " 98%|███████████████████████████████████████████████████████████████████████████████▍ | 98/100 [00:47<00:01,  1.32it/s]"
     ]
    },
    {
     "name": "stdout",
     "output_type": "stream",
     "text": [
      "captcha_required\n"
     ]
    },
    {
     "name": "stderr",
     "output_type": "stream",
     "text": [
      "\r",
      " 99%|████████████████████████████████████████████████████████████████████████████████▏| 99/100 [00:48<00:00,  1.03it/s]"
     ]
    },
    {
     "name": "stdout",
     "output_type": "stream",
     "text": [
      "captcha_required\n"
     ]
    },
    {
     "name": "stderr",
     "output_type": "stream",
     "text": [
      "100%|████████████████████████████████████████████████████████████████████████████████| 100/100 [00:50<00:00,  1.10s/it]\n"
     ]
    },
    {
     "name": "stdout",
     "output_type": "stream",
     "text": [
      "вакансий получено - 94\n",
      "вакансий пропущено - 0\n",
      "вакансий с ошибкой - 6\n",
      "('https://api.hh.ru/vacancies?area=212&professional_role=143&area=84&professional_role=9&area=3&professional_role=76&area=66&professional_role=119&area=96&professional_role=63&area=19&professional_role=52&area=43&professional_role=49&area=4&professional_role=62&area=212&professional_role=49&area=112&professional_role=58&area=23&professional_role=85&area=104&professional_role=117&area=106&professional_role=109&area=2065&professional_role=131&area=78&professional_role=33&area=35&professional_role=77&area=2061&professional_role=9&area=15&professional_role=9&area=54&professional_role=51&area=35&professional_role=58&area=35&professional_role=6&area=35&professional_role=28', 1944)\n",
      "number url - 124\n",
      "размер массива (127248, 1)\n",
      "total_pages - 20\n"
     ]
    },
    {
     "name": "stderr",
     "output_type": "stream",
     "text": [
      " 72%|██████████████████████████████████████████████████████████▎                      | 72/100 [00:27<00:12,  2.33it/s]"
     ]
    },
    {
     "name": "stdout",
     "output_type": "stream",
     "text": [
      "captcha_required\n"
     ]
    },
    {
     "name": "stderr",
     "output_type": "stream",
     "text": [
      "\r",
      " 73%|███████████████████████████████████████████████████████████▏                     | 73/100 [00:29<00:19,  1.37it/s]"
     ]
    },
    {
     "name": "stdout",
     "output_type": "stream",
     "text": [
      "captcha_required\n"
     ]
    },
    {
     "name": "stderr",
     "output_type": "stream",
     "text": [
      " 88%|███████████████████████████████████████████████████████████████████████▎         | 88/100 [00:35<00:05,  2.31it/s]"
     ]
    },
    {
     "name": "stdout",
     "output_type": "stream",
     "text": [
      "captcha_required\n"
     ]
    },
    {
     "name": "stderr",
     "output_type": "stream",
     "text": [
      "100%|████████████████████████████████████████████████████████████████████████████████| 100/100 [00:40<00:00,  2.66it/s]\n"
     ]
    },
    {
     "name": "stdout",
     "output_type": "stream",
     "text": [
      "вакансий получено - 84\n",
      "вакансий пропущено - 13\n",
      "вакансий с ошибкой - 3\n",
      "('https://api.hh.ru/vacancies?area=54&professional_role=39&area=2025&professional_role=31&area=106&professional_role=47&area=32&professional_role=85&area=55&professional_role=115&area=68&professional_role=27&area=70&professional_role=8&area=2760&professional_role=88&area=301&professional_role=85&area=3&professional_role=4&area=76&professional_role=10&area=84&professional_role=24&area=53&professional_role=138&area=47&professional_role=96&area=96&professional_role=5&area=99&professional_role=46&area=90&professional_role=128&area=2083&professional_role=52&area=92&professional_role=63&area=1641&professional_role=44&area=96&professional_role=89&area=247&professional_role=115', 1960)\n",
      "number url - 125\n",
      "размер массива (127332, 1)\n",
      "total_pages - 20\n"
     ]
    },
    {
     "name": "stderr",
     "output_type": "stream",
     "text": [
      " 35%|████████████████████████████▎                                                    | 35/100 [00:13<00:25,  2.54it/s]"
     ]
    },
    {
     "name": "stdout",
     "output_type": "stream",
     "text": [
      "captcha_required\n"
     ]
    },
    {
     "name": "stderr",
     "output_type": "stream",
     "text": [
      "\r",
      " 36%|█████████████████████████████▏                                                   | 36/100 [00:15<00:44,  1.44it/s]"
     ]
    },
    {
     "name": "stdout",
     "output_type": "stream",
     "text": [
      "captcha_required\n"
     ]
    },
    {
     "name": "stderr",
     "output_type": "stream",
     "text": [
      "\r",
      " 37%|█████████████████████████████▉                                                   | 37/100 [00:16<00:57,  1.10it/s]"
     ]
    },
    {
     "name": "stdout",
     "output_type": "stream",
     "text": [
      "captcha_required\n"
     ]
    },
    {
     "name": "stderr",
     "output_type": "stream",
     "text": [
      "\r",
      " 38%|██████████████████████████████▊                                                  | 38/100 [00:18<01:05,  1.05s/it]"
     ]
    },
    {
     "name": "stdout",
     "output_type": "stream",
     "text": [
      "captcha_required\n"
     ]
    },
    {
     "name": "stderr",
     "output_type": "stream",
     "text": [
      "100%|████████████████████████████████████████████████████████████████████████████████| 100/100 [00:45<00:00,  2.13it/s]\n"
     ]
    },
    {
     "name": "stdout",
     "output_type": "stream",
     "text": [
      "вакансий получено - 91\n",
      "вакансий пропущено - 5\n",
      "вакансий с ошибкой - 4\n",
      "('https://api.hh.ru/vacancies?area=73&professional_role=24&area=1002&professional_role=82&area=1641&professional_role=86&area=25&professional_role=64&area=96&professional_role=121&area=25&professional_role=94&area=96&professional_role=82&area=43&professional_role=85&area=2237&professional_role=51&area=54&professional_role=46&area=11&professional_role=129&area=102&professional_role=27&area=98&professional_role=49&area=11&professional_role=68&area=43&professional_role=24&area=104&professional_role=84&area=88&professional_role=57&area=2759&professional_role=72&area=104&professional_role=149&area=2088&professional_role=131&area=2053&professional_role=8&area=24&professional_role=49', 1983)\n",
      "number url - 126\n",
      "размер массива (127423, 1)\n",
      "total_pages - 20\n"
     ]
    },
    {
     "name": "stderr",
     "output_type": "stream",
     "text": [
      " 20%|████████████████▏                                                                | 20/100 [00:07<00:34,  2.34it/s]"
     ]
    },
    {
     "name": "stdout",
     "output_type": "stream",
     "text": [
      "captcha_required\n"
     ]
    },
    {
     "name": "stderr",
     "output_type": "stream",
     "text": [
      "\r",
      " 21%|█████████████████                                                                | 21/100 [00:09<00:57,  1.38it/s]"
     ]
    },
    {
     "name": "stdout",
     "output_type": "stream",
     "text": [
      "captcha_required\n"
     ]
    },
    {
     "name": "stderr",
     "output_type": "stream",
     "text": [
      " 29%|███████████████████████▍                                                         | 29/100 [00:13<00:33,  2.13it/s]"
     ]
    },
    {
     "name": "stdout",
     "output_type": "stream",
     "text": [
      "captcha_required\n"
     ]
    },
    {
     "name": "stderr",
     "output_type": "stream",
     "text": [
      " 65%|████████████████████████████████████████████████████▋                            | 65/100 [00:28<00:15,  2.27it/s]"
     ]
    },
    {
     "name": "stdout",
     "output_type": "stream",
     "text": [
      "captcha_required\n"
     ]
    },
    {
     "name": "stderr",
     "output_type": "stream",
     "text": [
      "\r",
      " 66%|█████████████████████████████████████████████████████▍                           | 66/100 [00:30<00:25,  1.35it/s]"
     ]
    },
    {
     "name": "stdout",
     "output_type": "stream",
     "text": [
      "captcha_required\n"
     ]
    },
    {
     "name": "stderr",
     "output_type": "stream",
     "text": [
      "\r",
      " 67%|██████████████████████████████████████████████████████▎                          | 67/100 [00:31<00:31,  1.06it/s]"
     ]
    },
    {
     "name": "stdout",
     "output_type": "stream",
     "text": [
      "captcha_required\n"
     ]
    },
    {
     "name": "stderr",
     "output_type": "stream",
     "text": [
      "\r",
      " 68%|███████████████████████████████████████████████████████                          | 68/100 [00:33<00:34,  1.09s/it]"
     ]
    },
    {
     "name": "stdout",
     "output_type": "stream",
     "text": [
      "captcha_required\n"
     ]
    },
    {
     "name": "stderr",
     "output_type": "stream",
     "text": [
      "100%|████████████████████████████████████████████████████████████████████████████████| 100/100 [00:48<00:00,  2.27it/s]\n"
     ]
    },
    {
     "name": "stdout",
     "output_type": "stream",
     "text": [
      "вакансий получено - 87\n",
      "вакансий пропущено - 6\n",
      "вакансий с ошибкой - 7\n",
      "('https://api.hh.ru/vacancies?area=32&professional_role=8&area=81&professional_role=18&area=53&professional_role=108&area=89&professional_role=9&area=35&professional_role=68&area=112&professional_role=118&area=1753&professional_role=102&area=89&professional_role=130&area=1002&professional_role=124&area=78&professional_role=113&area=3&professional_role=124&area=35&professional_role=144&area=92&professional_role=129&area=12&professional_role=52&area=35&professional_role=82&area=53&professional_role=82&area=72&professional_role=144&area=2760&professional_role=129&area=22&professional_role=88&area=52&professional_role=131&area=53&professional_role=3', 1911)\n",
      "number url - 127\n",
      "размер массива (127510, 1)\n",
      "total_pages - 20\n"
     ]
    },
    {
     "name": "stderr",
     "output_type": "stream",
     "text": [
      " 64%|███████████████████████████████████████████████████▊                             | 64/100 [00:25<00:12,  2.80it/s]"
     ]
    },
    {
     "name": "stdout",
     "output_type": "stream",
     "text": [
      "captcha_required\n"
     ]
    },
    {
     "name": "stderr",
     "output_type": "stream",
     "text": [
      "100%|████████████████████████████████████████████████████████████████████████████████| 100/100 [00:35<00:00,  3.30it/s]\n"
     ]
    },
    {
     "name": "stdout",
     "output_type": "stream",
     "text": [
      "вакансий получено - 77\n",
      "вакансий пропущено - 22\n",
      "вакансий с ошибкой - 1\n",
      "('https://api.hh.ru/vacancies?area=22&professional_role=131&area=107&professional_role=31&area=247&professional_role=85&area=106&professional_role=18&area=1454&professional_role=18&area=2045&professional_role=131&area=237&professional_role=52&area=67&professional_role=83&area=2088&professional_role=96&area=43&professional_role=102&area=90&professional_role=85&area=66&professional_role=34&area=3&professional_role=62&area=49&professional_role=96&area=212&professional_role=130&area=92&professional_role=47&area=22&professional_role=68&area=78&professional_role=107&area=2090&professional_role=24&area=72&professional_role=129&area=99&professional_role=145', 1932)\n",
      "number url - 128\n",
      "размер массива (127587, 1)\n",
      "total_pages - 20\n"
     ]
    },
    {
     "name": "stderr",
     "output_type": "stream",
     "text": [
      " 12%|█████████▋                                                                       | 12/100 [00:04<00:37,  2.38it/s]"
     ]
    },
    {
     "name": "stdout",
     "output_type": "stream",
     "text": [
      "captcha_required\n"
     ]
    },
    {
     "name": "stderr",
     "output_type": "stream",
     "text": [
      "\r",
      " 13%|██████████▌                                                                      | 13/100 [00:06<01:03,  1.37it/s]"
     ]
    },
    {
     "name": "stdout",
     "output_type": "stream",
     "text": [
      "captcha_required\n"
     ]
    },
    {
     "name": "stderr",
     "output_type": "stream",
     "text": [
      "\r",
      " 14%|███████████▎                                                                     | 14/100 [00:07<01:20,  1.07it/s]"
     ]
    },
    {
     "name": "stdout",
     "output_type": "stream",
     "text": [
      "captcha_required\n"
     ]
    },
    {
     "name": "stderr",
     "output_type": "stream",
     "text": [
      " 44%|███████████████████████████████████▋                                             | 44/100 [00:19<00:22,  2.45it/s]"
     ]
    },
    {
     "name": "stdout",
     "output_type": "stream",
     "text": [
      "captcha_required\n"
     ]
    },
    {
     "name": "stderr",
     "output_type": "stream",
     "text": [
      " 51%|█████████████████████████████████████████▎                                       | 51/100 [00:22<00:18,  2.61it/s]"
     ]
    },
    {
     "name": "stdout",
     "output_type": "stream",
     "text": [
      "captcha_required\n"
     ]
    },
    {
     "name": "stderr",
     "output_type": "stream",
     "text": [
      "\r",
      " 52%|██████████████████████████████████████████                                       | 52/100 [00:23<00:34,  1.41it/s]"
     ]
    },
    {
     "name": "stdout",
     "output_type": "stream",
     "text": [
      "captcha_required\n"
     ]
    },
    {
     "name": "stderr",
     "output_type": "stream",
     "text": [
      "100%|████████████████████████████████████████████████████████████████████████████████| 100/100 [00:40<00:00,  2.71it/s]\n"
     ]
    },
    {
     "name": "stdout",
     "output_type": "stream",
     "text": [
      "вакансий получено - 74\n",
      "вакансий пропущено - 20\n",
      "вакансий с ошибкой - 6\n",
      "('https://api.hh.ru/vacancies?area=70&professional_role=109&area=24&professional_role=85&area=76&professional_role=33&area=53&professional_role=44&area=1375&professional_role=63&area=79&professional_role=78&area=41&professional_role=130&area=212&professional_role=8&area=92&professional_role=31&area=2020&professional_role=94&area=1641&professional_role=142&area=24&professional_role=118&area=2025&professional_role=24&area=4&professional_role=3&area=131&professional_role=83&area=41&professional_role=48&area=95&professional_role=144&area=2061&professional_role=115&area=68&professional_role=121&area=89&professional_role=111&area=58&professional_role=131', 1944)\n",
      "number url - 129\n",
      "размер массива (127661, 1)\n",
      "total_pages - 20\n"
     ]
    },
    {
     "name": "stderr",
     "output_type": "stream",
     "text": [
      " 68%|███████████████████████████████████████████████████████                          | 68/100 [00:23<00:10,  3.00it/s]"
     ]
    },
    {
     "name": "stdout",
     "output_type": "stream",
     "text": [
      "captcha_required\n"
     ]
    },
    {
     "name": "stderr",
     "output_type": "stream",
     "text": [
      "\r",
      " 69%|███████████████████████████████████████████████████████▉                         | 69/100 [00:24<00:20,  1.51it/s]"
     ]
    },
    {
     "name": "stdout",
     "output_type": "stream",
     "text": [
      "captcha_required\n"
     ]
    },
    {
     "name": "stderr",
     "output_type": "stream",
     "text": [
      "\r",
      " 71%|█████████████████████████████████████████████████████████▌                       | 71/100 [00:26<00:19,  1.48it/s]"
     ]
    },
    {
     "name": "stdout",
     "output_type": "stream",
     "text": [
      "captcha_required\n"
     ]
    },
    {
     "name": "stderr",
     "output_type": "stream",
     "text": [
      "100%|████████████████████████████████████████████████████████████████████████████████| 100/100 [00:36<00:00,  2.77it/s]\n"
     ]
    },
    {
     "name": "stdout",
     "output_type": "stream",
     "text": [
      "вакансий получено - 71\n",
      "вакансий пропущено - 26\n",
      "вакансий с ошибкой - 3\n",
      "('https://api.hh.ru/vacancies?area=41&professional_role=115&area=1002&professional_role=144&area=1381&professional_role=8&area=49&professional_role=109&area=1002&professional_role=141&area=78&professional_role=46&area=2053&professional_role=64&area=2759&professional_role=106&area=106&professional_role=115&area=49&professional_role=85&area=92&professional_role=109&area=56&professional_role=131&area=47&professional_role=89&area=17&professional_role=9&area=1002&professional_role=59&area=2061&professional_role=111&area=72&professional_role=90&area=35&professional_role=67&area=99&professional_role=88&area=72&professional_role=118&area=2034&professional_role=9', 1959)\n",
      "number url - 130\n",
      "размер массива (127732, 1)\n",
      "total_pages - 20\n"
     ]
    },
    {
     "name": "stderr",
     "output_type": "stream",
     "text": [
      " 13%|██████████▌                                                                      | 13/100 [00:04<00:34,  2.49it/s]"
     ]
    },
    {
     "name": "stdout",
     "output_type": "stream",
     "text": [
      "captcha_required\n"
     ]
    },
    {
     "name": "stderr",
     "output_type": "stream",
     "text": [
      "\r",
      " 14%|███████████▎                                                                     | 14/100 [00:05<01:01,  1.39it/s]"
     ]
    },
    {
     "name": "stdout",
     "output_type": "stream",
     "text": [
      "captcha_required\n"
     ]
    },
    {
     "name": "stderr",
     "output_type": "stream",
     "text": [
      " 61%|█████████████████████████████████████████████████▍                               | 61/100 [00:23<00:15,  2.44it/s]"
     ]
    },
    {
     "name": "stdout",
     "output_type": "stream",
     "text": [
      "captcha_required\n"
     ]
    },
    {
     "name": "stderr",
     "output_type": "stream",
     "text": [
      "\r",
      " 62%|██████████████████████████████████████████████████▏                              | 62/100 [00:24<00:27,  1.40it/s]"
     ]
    },
    {
     "name": "stdout",
     "output_type": "stream",
     "text": [
      "captcha_required\n"
     ]
    },
    {
     "name": "stderr",
     "output_type": "stream",
     "text": [
      "100%|████████████████████████████████████████████████████████████████████████████████| 100/100 [00:42<00:00,  1.94it/s]\n"
     ]
    },
    {
     "name": "stdout",
     "output_type": "stream",
     "text": [
      "вакансий получено - 82\n",
      "вакансий пропущено - 14\n",
      "вакансий с ошибкой - 4\n",
      "('https://api.hh.ru/vacancies?area=84&professional_role=129&area=79&professional_role=109&area=160&professional_role=145&area=107&professional_role=24&area=2045&professional_role=70&area=75&professional_role=83&area=66&professional_role=144&area=4&professional_role=162&area=88&professional_role=79&area=98&professional_role=96&area=112&professional_role=132&area=24&professional_role=66&area=79&professional_role=111&area=90&professional_role=109&area=35&professional_role=96&area=2061&professional_role=102&area=1240&professional_role=5&area=53&professional_role=14&area=84&professional_role=48&area=1002&professional_role=107&area=72&professional_role=44', 1981)\n",
      "number url - 131\n",
      "размер массива (127814, 1)\n",
      "total_pages - 20\n"
     ]
    },
    {
     "name": "stderr",
     "output_type": "stream",
     "text": [
      " 23%|██████████████████▋                                                              | 23/100 [00:06<00:19,  3.87it/s]"
     ]
    },
    {
     "name": "stdout",
     "output_type": "stream",
     "text": [
      "captcha_required\n"
     ]
    },
    {
     "name": "stderr",
     "output_type": "stream",
     "text": [
      " 51%|█████████████████████████████████████████▎                                       | 51/100 [00:15<00:18,  2.60it/s]"
     ]
    },
    {
     "name": "stdout",
     "output_type": "stream",
     "text": [
      "captcha_required\n"
     ]
    },
    {
     "name": "stderr",
     "output_type": "stream",
     "text": [
      "\r",
      " 52%|██████████████████████████████████████████                                       | 52/100 [00:16<00:33,  1.44it/s]"
     ]
    },
    {
     "name": "stdout",
     "output_type": "stream",
     "text": [
      "captcha_required\n"
     ]
    },
    {
     "name": "stderr",
     "output_type": "stream",
     "text": [
      " 67%|██████████████████████████████████████████████████████▎                          | 67/100 [00:22<00:12,  2.72it/s]"
     ]
    },
    {
     "name": "stdout",
     "output_type": "stream",
     "text": [
      "captcha_required\n"
     ]
    },
    {
     "name": "stderr",
     "output_type": "stream",
     "text": [
      " 83%|███████████████████████████████████████████████████████████████████▏             | 83/100 [00:29<00:06,  2.46it/s]"
     ]
    },
    {
     "name": "stdout",
     "output_type": "stream",
     "text": [
      "captcha_required\n"
     ]
    },
    {
     "name": "stderr",
     "output_type": "stream",
     "text": [
      "100%|████████████████████████████████████████████████████████████████████████████████| 100/100 [00:36<00:00,  2.51it/s]\n"
     ]
    },
    {
     "name": "stdout",
     "output_type": "stream",
     "text": [
      "вакансий получено - 68\n",
      "вакансий пропущено - 27\n",
      "вакансий с ошибкой - 5\n",
      "('https://api.hh.ru/vacancies?area=81&professional_role=102&area=112&professional_role=121&area=106&professional_role=5&area=102&professional_role=45&area=2083&professional_role=24&area=70&professional_role=128&area=95&professional_role=46&area=1381&professional_role=94&area=47&professional_role=129&area=24&professional_role=96&area=112&professional_role=89&area=92&professional_role=85&area=76&professional_role=144&area=83&professional_role=94&area=4&professional_role=39&area=53&professional_role=33&area=1641&professional_role=8&area=90&professional_role=78&area=47&professional_role=131&area=177&professional_role=21', 1912)\n",
      "number url - 132\n",
      "размер массива (127882, 1)\n",
      "total_pages - 20\n"
     ]
    },
    {
     "name": "stderr",
     "output_type": "stream",
     "text": [
      " 60%|████████████████████████████████████████████████▌                                | 60/100 [00:20<00:13,  2.96it/s]"
     ]
    },
    {
     "name": "stdout",
     "output_type": "stream",
     "text": [
      "captcha_required\n"
     ]
    },
    {
     "name": "stderr",
     "output_type": "stream",
     "text": [
      "\r",
      " 61%|█████████████████████████████████████████████████▍                               | 61/100 [00:21<00:25,  1.51it/s]"
     ]
    },
    {
     "name": "stdout",
     "output_type": "stream",
     "text": [
      "captcha_required\n"
     ]
    },
    {
     "name": "stderr",
     "output_type": "stream",
     "text": [
      " 80%|████████████████████████████████████████████████████████████████▊                | 80/100 [00:29<00:08,  2.40it/s]"
     ]
    },
    {
     "name": "stdout",
     "output_type": "stream",
     "text": [
      "captcha_required\n"
     ]
    },
    {
     "name": "stderr",
     "output_type": "stream",
     "text": [
      "100%|████████████████████████████████████████████████████████████████████████████████| 100/100 [00:37<00:00,  2.63it/s]\n"
     ]
    },
    {
     "name": "stdout",
     "output_type": "stream",
     "text": [
      "вакансий получено - 77\n",
      "вакансий пропущено - 20\n",
      "вакансий с ошибкой - 3\n",
      "('https://api.hh.ru/vacancies?area=22&professional_role=129&area=58&professional_role=47&area=2088&professional_role=85&area=71&professional_role=31&area=3&professional_role=57&area=26&professional_role=45&area=54&professional_role=117&area=17&professional_role=64&area=96&professional_role=111&area=90&professional_role=111&area=95&professional_role=118&area=1002&professional_role=117&area=2237&professional_role=18&area=95&professional_role=110&area=26&professional_role=146&area=88&professional_role=127&area=76&professional_role=133&area=102&professional_role=121&area=25&professional_role=102&area=17&professional_role=111', 1942)\n",
      "number url - 133\n",
      "размер массива (127959, 1)\n",
      "total_pages - 20\n"
     ]
    },
    {
     "name": "stderr",
     "output_type": "stream",
     "text": [
      " 16%|████████████▉                                                                    | 16/100 [00:06<00:36,  2.33it/s]"
     ]
    },
    {
     "name": "stdout",
     "output_type": "stream",
     "text": [
      "captcha_required\n"
     ]
    },
    {
     "name": "stderr",
     "output_type": "stream",
     "text": [
      " 35%|████████████████████████████▎                                                    | 35/100 [00:13<00:25,  2.59it/s]"
     ]
    },
    {
     "name": "stdout",
     "output_type": "stream",
     "text": [
      "captcha_required\n"
     ]
    },
    {
     "name": "stderr",
     "output_type": "stream",
     "text": [
      " 49%|███████████████████████████████████████▋                                         | 49/100 [00:19<00:18,  2.71it/s]"
     ]
    },
    {
     "name": "stdout",
     "output_type": "stream",
     "text": [
      "captcha_required\n"
     ]
    },
    {
     "name": "stderr",
     "output_type": "stream",
     "text": [
      "\r",
      " 50%|████████████████████████████████████████▌                                        | 50/100 [00:20<00:34,  1.46it/s]"
     ]
    },
    {
     "name": "stdout",
     "output_type": "stream",
     "text": [
      "captcha_required\n"
     ]
    },
    {
     "name": "stderr",
     "output_type": "stream",
     "text": [
      "\r",
      " 52%|██████████████████████████████████████████                                       | 52/100 [00:22<00:33,  1.45it/s]"
     ]
    },
    {
     "name": "stdout",
     "output_type": "stream",
     "text": [
      "captcha_required\n"
     ]
    },
    {
     "name": "stderr",
     "output_type": "stream",
     "text": [
      "100%|████████████████████████████████████████████████████████████████████████████████| 100/100 [00:43<00:00,  2.08it/s]\n"
     ]
    },
    {
     "name": "stdout",
     "output_type": "stream",
     "text": [
      "вакансий получено - 79\n",
      "вакансий пропущено - 16\n",
      "вакансий с ошибкой - 5\n",
      "('https://api.hh.ru/vacancies?area=35&professional_role=128&area=53&professional_role=86&area=32&professional_role=94&area=15&professional_role=18&area=54&professional_role=28&area=2065&professional_role=70&area=2090&professional_role=131&area=96&professional_role=66&area=99&professional_role=44&area=159&professional_role=34&area=76&professional_role=146&area=2045&professional_role=52&area=78&professional_role=86&area=76&professional_role=86&area=2041&professional_role=24&area=159&professional_role=34&area=43&professional_role=58&area=76&professional_role=113&area=102&professional_role=67&area=1550&professional_role=21', 1966)\n",
      "number url - 134\n",
      "размер массива (128038, 1)\n",
      "total_pages - 20\n"
     ]
    },
    {
     "name": "stderr",
     "output_type": "stream",
     "text": [
      " 91%|█████████████████████████████████████████████████████████████████████████▋       | 91/100 [00:23<00:03,  2.47it/s]"
     ]
    },
    {
     "name": "stdout",
     "output_type": "stream",
     "text": [
      "captcha_required\n"
     ]
    },
    {
     "name": "stderr",
     "output_type": "stream",
     "text": [
      "100%|████████████████████████████████████████████████████████████████████████████████| 100/100 [00:27<00:00,  3.70it/s]\n"
     ]
    },
    {
     "name": "stdout",
     "output_type": "stream",
     "text": [
      "вакансий получено - 58\n",
      "вакансий пропущено - 41\n",
      "вакансий с ошибкой - 1\n",
      "('https://api.hh.ru/vacancies?area=88&professional_role=44&area=104&professional_role=113&area=160&professional_role=31&area=104&professional_role=107&area=90&professional_role=83&area=237&professional_role=9&area=205&professional_role=97&area=77&professional_role=96&area=47&professional_role=64&area=3&professional_role=79&area=26&professional_role=107&area=112&professional_role=5&area=41&professional_role=132&area=79&professional_role=118&area=35&professional_role=118&area=88&professional_role=116&area=79&professional_role=47&area=54&professional_role=145&area=15&professional_role=58&area=90&professional_role=58', 1980)\n",
      "number url - 135\n",
      "размер массива (128096, 1)\n",
      "total_pages - 20\n"
     ]
    },
    {
     "name": "stderr",
     "output_type": "stream",
     "text": [
      " 20%|████████████████▏                                                                | 20/100 [00:08<00:34,  2.34it/s]"
     ]
    },
    {
     "name": "stdout",
     "output_type": "stream",
     "text": [
      "captcha_required\n"
     ]
    },
    {
     "name": "stderr",
     "output_type": "stream",
     "text": [
      "\r",
      " 21%|█████████████████                                                                | 21/100 [00:10<00:59,  1.32it/s]"
     ]
    },
    {
     "name": "stdout",
     "output_type": "stream",
     "text": [
      "captcha_required\n"
     ]
    },
    {
     "name": "stderr",
     "output_type": "stream",
     "text": [
      " 48%|██████████████████████████████████████▉                                          | 48/100 [00:21<00:19,  2.67it/s]"
     ]
    },
    {
     "name": "stdout",
     "output_type": "stream",
     "text": [
      "captcha_required\n"
     ]
    },
    {
     "name": "stderr",
     "output_type": "stream",
     "text": [
      " 55%|████████████████████████████████████████████▌                                    | 55/100 [00:25<00:20,  2.22it/s]"
     ]
    },
    {
     "name": "stdout",
     "output_type": "stream",
     "text": [
      "captcha_required\n"
     ]
    },
    {
     "name": "stderr",
     "output_type": "stream",
     "text": [
      " 64%|███████████████████████████████████████████████████▊                             | 64/100 [00:30<00:15,  2.27it/s]"
     ]
    },
    {
     "name": "stdout",
     "output_type": "stream",
     "text": [
      "captcha_required\n"
     ]
    },
    {
     "name": "stderr",
     "output_type": "stream",
     "text": [
      "\r",
      " 65%|████████████████████████████████████████████████████▋                            | 65/100 [00:32<00:25,  1.36it/s]"
     ]
    },
    {
     "name": "stdout",
     "output_type": "stream",
     "text": [
      "captcha_required\n"
     ]
    },
    {
     "name": "stderr",
     "output_type": "stream",
     "text": [
      "100%|████████████████████████████████████████████████████████████████████████████████| 100/100 [00:47<00:00,  2.37it/s]\n"
     ]
    },
    {
     "name": "stdout",
     "output_type": "stream",
     "text": [
      "вакансий получено - 88\n",
      "вакансий пропущено - 6\n",
      "вакансий с ошибкой - 6\n",
      "('https://api.hh.ru/vacancies?area=3&professional_role=138&area=55&professional_role=63&area=2088&professional_role=111&area=17&professional_role=47&area=160&professional_role=74&area=3&professional_role=148&area=2062&professional_role=52&area=95&professional_role=128&area=160&professional_role=16&area=159&professional_role=106&area=88&professional_role=90&area=75&professional_role=21&area=88&professional_role=46&area=107&professional_role=49&area=79&professional_role=31&area=17&professional_role=85&area=88&professional_role=3&area=17&professional_role=63&area=2077&professional_role=18', 1901)\n",
      "number url - 136\n",
      "размер массива (128184, 1)\n",
      "total_pages - 20\n"
     ]
    },
    {
     "name": "stderr",
     "output_type": "stream",
     "text": [
      " 62%|██████████████████████████████████████████████████▏                              | 62/100 [00:21<00:15,  2.50it/s]"
     ]
    },
    {
     "name": "stdout",
     "output_type": "stream",
     "text": [
      "captcha_required\n"
     ]
    },
    {
     "name": "stderr",
     "output_type": "stream",
     "text": [
      "\r",
      " 63%|███████████████████████████████████████████████████                              | 63/100 [00:23<00:25,  1.43it/s]"
     ]
    },
    {
     "name": "stdout",
     "output_type": "stream",
     "text": [
      "captcha_required\n"
     ]
    },
    {
     "name": "stderr",
     "output_type": "stream",
     "text": [
      "100%|████████████████████████████████████████████████████████████████████████████████| 100/100 [00:35<00:00,  2.91it/s]\n"
     ]
    },
    {
     "name": "stdout",
     "output_type": "stream",
     "text": [
      "вакансий получено - 71\n",
      "вакансий пропущено - 27\n",
      "вакансий с ошибкой - 2\n",
      "('https://api.hh.ru/vacancies?area=35&professional_role=132&area=70&professional_role=115&area=3&professional_role=140&area=58&professional_role=85&area=77&professional_role=8&area=20&professional_role=102&area=35&professional_role=142&area=104&professional_role=146&area=212&professional_role=128&area=26&professional_role=86&area=72&professional_role=110&area=54&professional_role=86&area=25&professional_role=48&area=2083&professional_role=21&area=112&professional_role=47&area=76&professional_role=71&area=3&professional_role=80&area=79&professional_role=66&area=96&professional_role=47', 1926)\n",
      "number url - 137\n",
      "размер массива (128255, 1)\n",
      "total_pages - 20\n"
     ]
    },
    {
     "name": "stderr",
     "output_type": "stream",
     "text": [
      " 25%|████████████████████▎                                                            | 25/100 [00:07<00:22,  3.27it/s]"
     ]
    },
    {
     "name": "stdout",
     "output_type": "stream",
     "text": [
      "captcha_required\n"
     ]
    },
    {
     "name": "stderr",
     "output_type": "stream",
     "text": [
      " 65%|████████████████████████████████████████████████████▋                            | 65/100 [00:22<00:14,  2.46it/s]"
     ]
    },
    {
     "name": "stdout",
     "output_type": "stream",
     "text": [
      "captcha_required\n"
     ]
    },
    {
     "name": "stderr",
     "output_type": "stream",
     "text": [
      " 68%|███████████████████████████████████████████████████████                          | 68/100 [00:24<00:18,  1.71it/s]"
     ]
    },
    {
     "name": "stdout",
     "output_type": "stream",
     "text": [
      "captcha_required\n"
     ]
    },
    {
     "name": "stderr",
     "output_type": "stream",
     "text": [
      "100%|████████████████████████████████████████████████████████████████████████████████| 100/100 [00:37<00:00,  2.69it/s]\n"
     ]
    },
    {
     "name": "stdout",
     "output_type": "stream",
     "text": [
      "вакансий получено - 75\n",
      "вакансий пропущено - 22\n",
      "вакансий с ошибкой - 3\n",
      "('https://api.hh.ru/vacancies?area=102&professional_role=129&area=32&professional_role=31&area=1641&professional_role=83&area=2041&professional_role=18&area=26&professional_role=69&area=72&professional_role=68&area=78&professional_role=144&area=237&professional_role=129&area=64&professional_role=18&area=70&professional_role=143&area=72&professional_role=121&area=43&professional_role=18&area=66&professional_role=46&area=89&professional_role=109&area=96&professional_role=118&area=72&professional_role=10&area=78&professional_role=146&area=75&professional_role=58&area=88&professional_role=117', 1947)\n",
      "number url - 138\n",
      "размер массива (128330, 1)\n",
      "total_pages - 20\n"
     ]
    },
    {
     "name": "stderr",
     "output_type": "stream",
     "text": [
      " 27%|█████████████████████▊                                                           | 27/100 [00:08<00:28,  2.53it/s]"
     ]
    },
    {
     "name": "stdout",
     "output_type": "stream",
     "text": [
      "captcha_required\n"
     ]
    },
    {
     "name": "stderr",
     "output_type": "stream",
     "text": [
      " 35%|████████████████████████████▎                                                    | 35/100 [00:12<00:29,  2.24it/s]"
     ]
    },
    {
     "name": "stdout",
     "output_type": "stream",
     "text": [
      "captcha_required\n"
     ]
    },
    {
     "name": "stderr",
     "output_type": "stream",
     "text": [
      " 53%|██████████████████████████████████████████▉                                      | 53/100 [00:20<00:20,  2.35it/s]"
     ]
    },
    {
     "name": "stdout",
     "output_type": "stream",
     "text": [
      "captcha_required\n"
     ]
    },
    {
     "name": "stderr",
     "output_type": "stream",
     "text": [
      "\r",
      " 54%|███████████████████████████████████████████▋                                     | 54/100 [00:22<00:33,  1.39it/s]"
     ]
    },
    {
     "name": "stdout",
     "output_type": "stream",
     "text": [
      "captcha_required\n"
     ]
    },
    {
     "name": "stderr",
     "output_type": "stream",
     "text": [
      " 86%|█████████████████████████████████████████████████████████████████████▋           | 86/100 [00:34<00:05,  2.49it/s]"
     ]
    },
    {
     "name": "stdout",
     "output_type": "stream",
     "text": [
      "captcha_required\n"
     ]
    },
    {
     "name": "stderr",
     "output_type": "stream",
     "text": [
      "100%|████████████████████████████████████████████████████████████████████████████████| 100/100 [00:41<00:00,  2.24it/s]\n"
     ]
    },
    {
     "name": "stdout",
     "output_type": "stream",
     "text": [
      "вакансий получено - 79\n",
      "вакансий пропущено - 16\n",
      "вакансий с ошибкой - 5\n",
      "('https://api.hh.ru/vacancies?area=107&professional_role=96&area=2053&professional_role=94&area=78&professional_role=127&area=66&professional_role=127&area=1002&professional_role=106&area=66&professional_role=133&area=67&professional_role=102&area=2088&professional_role=94&area=17&professional_role=128&area=95&professional_role=6&area=99&professional_role=90&area=112&professional_role=109&area=58&professional_role=111&area=55&professional_role=102&area=2759&professional_role=34&area=1291&professional_role=24&area=237&professional_role=102&area=77&professional_role=49&area=237&professional_role=58', 1970)\n",
      "number url - 139\n",
      "размер массива (128409, 1)\n",
      "total_pages - 20\n"
     ]
    },
    {
     "name": "stderr",
     "output_type": "stream",
     "text": [
      " 57%|██████████████████████████████████████████████▏                                  | 57/100 [00:27<00:21,  2.03it/s]"
     ]
    },
    {
     "name": "stdout",
     "output_type": "stream",
     "text": [
      "captcha_required\n"
     ]
    },
    {
     "name": "stderr",
     "output_type": "stream",
     "text": [
      " 64%|███████████████████████████████████████████████████▊                             | 64/100 [00:31<00:18,  1.98it/s]"
     ]
    },
    {
     "name": "stdout",
     "output_type": "stream",
     "text": [
      "captcha_required\n"
     ]
    },
    {
     "name": "stderr",
     "output_type": "stream",
     "text": [
      " 80%|████████████████████████████████████████████████████████████████▊                | 80/100 [00:39<00:08,  2.24it/s]"
     ]
    },
    {
     "name": "stdout",
     "output_type": "stream",
     "text": [
      "captcha_required\n"
     ]
    },
    {
     "name": "stderr",
     "output_type": "stream",
     "text": [
      "\r",
      " 81%|█████████████████████████████████████████████████████████████████▌               | 81/100 [00:40<00:14,  1.34it/s]"
     ]
    },
    {
     "name": "stdout",
     "output_type": "stream",
     "text": [
      "captcha_required\n"
     ]
    },
    {
     "name": "stderr",
     "output_type": "stream",
     "text": [
      "100%|████████████████████████████████████████████████████████████████████████████████| 100/100 [00:49<00:00,  2.25it/s]\n"
     ]
    },
    {
     "name": "stdout",
     "output_type": "stream",
     "text": [
      "вакансий получено - 96\n",
      "вакансий пропущено - 0\n",
      "вакансий с ошибкой - 4\n",
      "('https://api.hh.ru/vacancies?area=17&professional_role=52&area=11&professional_role=47&area=131&professional_role=129&area=88&professional_role=144&area=2062&professional_role=131&area=58&professional_role=24&area=106&professional_role=143&area=47&professional_role=52&area=90&professional_role=89&area=26&professional_role=90&area=66&professional_role=71&area=1002&professional_role=121&area=68&professional_role=129&area=2237&professional_role=130&area=22&professional_role=106&area=54&professional_role=68&area=15&professional_role=24&area=2053&professional_role=131&area=20&professional_role=18', 1989)\n",
      "number url - 140\n",
      "размер массива (128505, 1)\n",
      "total_pages - 20\n"
     ]
    },
    {
     "name": "stderr",
     "output_type": "stream",
     "text": [
      " 36%|█████████████████████████████▏                                                   | 36/100 [00:08<00:19,  3.28it/s]"
     ]
    },
    {
     "name": "stdout",
     "output_type": "stream",
     "text": [
      "captcha_required\n"
     ]
    },
    {
     "name": "stderr",
     "output_type": "stream",
     "text": [
      " 44%|███████████████████████████████████▋                                             | 44/100 [00:11<00:22,  2.54it/s]"
     ]
    },
    {
     "name": "stdout",
     "output_type": "stream",
     "text": [
      "captcha_required\n"
     ]
    },
    {
     "name": "stderr",
     "output_type": "stream",
     "text": [
      " 72%|██████████████████████████████████████████████████████████▎                      | 72/100 [00:19<00:07,  3.90it/s]"
     ]
    },
    {
     "name": "stdout",
     "output_type": "stream",
     "text": [
      "captcha_required\n"
     ]
    },
    {
     "name": "stderr",
     "output_type": "stream",
     "text": [
      "\r",
      " 74%|███████████████████████████████████████████████████████████▉                     | 74/100 [00:21<00:10,  2.51it/s]"
     ]
    },
    {
     "name": "stdout",
     "output_type": "stream",
     "text": [
      "captcha_required\n"
     ]
    },
    {
     "name": "stderr",
     "output_type": "stream",
     "text": [
      "100%|████████████████████████████████████████████████████████████████████████████████| 100/100 [00:29<00:00,  3.35it/s]\n"
     ]
    },
    {
     "name": "stdout",
     "output_type": "stream",
     "text": [
      "вакансий получено - 57\n",
      "вакансий пропущено - 39\n",
      "вакансий с ошибкой - 4\n",
      "('https://api.hh.ru/vacancies?area=41&professional_role=96&area=130&professional_role=94&area=53&professional_role=46&area=23&professional_role=128&area=104&professional_role=121&area=58&professional_role=52&area=2759&professional_role=67&area=49&professional_role=8&area=87&professional_role=102&area=96&professional_role=9&area=47&professional_role=5&area=68&professional_role=144&area=4&professional_role=116&area=4&professional_role=33&area=72&professional_role=67&area=2034&professional_role=94&area=11&professional_role=111&area=4&professional_role=74', 1906)\n",
      "number url - 141\n",
      "размер массива (128562, 1)\n",
      "total_pages - 20\n"
     ]
    },
    {
     "name": "stderr",
     "output_type": "stream",
     "text": [
      " 48%|██████████████████████████████████████▉                                          | 48/100 [00:17<00:19,  2.66it/s]"
     ]
    },
    {
     "name": "stdout",
     "output_type": "stream",
     "text": [
      "captcha_required\n"
     ]
    },
    {
     "name": "stderr",
     "output_type": "stream",
     "text": [
      "\r",
      " 49%|███████████████████████████████████████▋                                         | 49/100 [00:18<00:34,  1.46it/s]"
     ]
    },
    {
     "name": "stdout",
     "output_type": "stream",
     "text": [
      "captcha_required\n"
     ]
    },
    {
     "name": "stderr",
     "output_type": "stream",
     "text": [
      " 68%|███████████████████████████████████████████████████████                          | 68/100 [00:27<00:13,  2.31it/s]"
     ]
    },
    {
     "name": "stdout",
     "output_type": "stream",
     "text": [
      "captcha_required\n"
     ]
    },
    {
     "name": "stderr",
     "output_type": "stream",
     "text": [
      " 90%|████████████████████████████████████████████████████████████████████████▉        | 90/100 [00:37<00:04,  2.28it/s]"
     ]
    },
    {
     "name": "stdout",
     "output_type": "stream",
     "text": [
      "captcha_required\n"
     ]
    },
    {
     "name": "stderr",
     "output_type": "stream",
     "text": [
      " 96%|█████████████████████████████████████████████████████████████████████████████▊   | 96/100 [00:41<00:01,  2.08it/s]"
     ]
    },
    {
     "name": "stdout",
     "output_type": "stream",
     "text": [
      "captcha_required\n"
     ]
    },
    {
     "name": "stderr",
     "output_type": "stream",
     "text": [
      "\r",
      " 97%|██████████████████████████████████████████████████████████████████████████████▌  | 97/100 [00:42<00:02,  1.30it/s]"
     ]
    },
    {
     "name": "stdout",
     "output_type": "stream",
     "text": [
      "captcha_required\n"
     ]
    },
    {
     "name": "stderr",
     "output_type": "stream",
     "text": [
      "100%|████████████████████████████████████████████████████████████████████████████████| 100/100 [00:45<00:00,  1.46it/s]\n"
     ]
    },
    {
     "name": "stdout",
     "output_type": "stream",
     "text": [
      "вакансий получено - 84\n",
      "вакансий пропущено - 10\n",
      "вакансий с ошибкой - 6\n",
      "('https://api.hh.ru/vacancies?area=68&professional_role=66&area=1240&professional_role=130&area=17&professional_role=83&area=87&professional_role=83&area=79&professional_role=121&area=2061&professional_role=94&area=77&professional_role=9&area=71&professional_role=96&area=77&professional_role=111&area=1641&professional_role=109&area=76&professional_role=145&area=24&professional_role=78&area=98&professional_role=8&area=112&professional_role=96&area=159&professional_role=68&area=32&professional_role=102&area=22&professional_role=100&area=107&professional_role=143', 1921)\n",
      "number url - 142\n",
      "размер массива (128646, 1)\n",
      "total_pages - 20\n"
     ]
    },
    {
     "name": "stderr",
     "output_type": "stream",
     "text": [
      " 37%|█████████████████████████████▉                                                   | 37/100 [00:13<00:22,  2.77it/s]"
     ]
    },
    {
     "name": "stdout",
     "output_type": "stream",
     "text": [
      "captcha_required\n"
     ]
    },
    {
     "name": "stderr",
     "output_type": "stream",
     "text": [
      " 72%|██████████████████████████████████████████████████████████▎                      | 72/100 [00:27<00:09,  2.80it/s]"
     ]
    },
    {
     "name": "stdout",
     "output_type": "stream",
     "text": [
      "captcha_required\n"
     ]
    },
    {
     "name": "stderr",
     "output_type": "stream",
     "text": [
      " 86%|█████████████████████████████████████████████████████████████████████▋           | 86/100 [00:33<00:06,  2.31it/s]"
     ]
    },
    {
     "name": "stdout",
     "output_type": "stream",
     "text": [
      "captcha_required\n"
     ]
    },
    {
     "name": "stderr",
     "output_type": "stream",
     "text": [
      "100%|████████████████████████████████████████████████████████████████████████████████| 100/100 [00:39<00:00,  2.59it/s]\n"
     ]
    },
    {
     "name": "stdout",
     "output_type": "stream",
     "text": [
      "вакансий получено - 81\n",
      "вакансий пропущено - 16\n",
      "вакансий с ошибкой - 3\n",
      "('https://api.hh.ru/vacancies?area=87&professional_role=18&area=71&professional_role=58&area=2760&professional_role=83&area=64&professional_role=94&area=75&professional_role=24&area=54&professional_role=110&area=96&professional_role=58&area=159&professional_role=47&area=89&professional_role=31&area=22&professional_role=143&area=92&professional_role=96&area=106&professional_role=94&area=54&professional_role=121&area=47&professional_role=58&area=159&professional_role=68&area=99&professional_role=86&area=2061&professional_role=31&area=2759&professional_role=129', 1935)\n",
      "number url - 143\n",
      "размер массива (128727, 1)\n",
      "total_pages - 20\n"
     ]
    },
    {
     "name": "stderr",
     "output_type": "stream",
     "text": [
      " 35%|████████████████████████████▎                                                    | 35/100 [00:11<00:22,  2.84it/s]"
     ]
    },
    {
     "name": "stdout",
     "output_type": "stream",
     "text": [
      "captcha_required\n"
     ]
    },
    {
     "name": "stderr",
     "output_type": "stream",
     "text": [
      " 43%|██████████████████████████████████▊                                              | 43/100 [00:15<00:23,  2.47it/s]"
     ]
    },
    {
     "name": "stdout",
     "output_type": "stream",
     "text": [
      "captcha_required\n"
     ]
    },
    {
     "name": "stderr",
     "output_type": "stream",
     "text": [
      "\r",
      " 44%|███████████████████████████████████▋                                             | 44/100 [00:17<00:40,  1.39it/s]"
     ]
    },
    {
     "name": "stdout",
     "output_type": "stream",
     "text": [
      "captcha_required\n"
     ]
    },
    {
     "name": "stderr",
     "output_type": "stream",
     "text": [
      "\r",
      " 45%|████████████████████████████████████▍                                            | 45/100 [00:18<00:51,  1.07it/s]"
     ]
    },
    {
     "name": "stdout",
     "output_type": "stream",
     "text": [
      "captcha_required\n"
     ]
    },
    {
     "name": "stderr",
     "output_type": "stream",
     "text": [
      "\r",
      " 46%|█████████████████████████████████████▎                                           | 46/100 [00:19<00:57,  1.07s/it]"
     ]
    },
    {
     "name": "stdout",
     "output_type": "stream",
     "text": [
      "captcha_required\n"
     ]
    },
    {
     "name": "stderr",
     "output_type": "stream",
     "text": [
      " 86%|█████████████████████████████████████████████████████████████████████▋           | 86/100 [00:34<00:05,  2.56it/s]"
     ]
    },
    {
     "name": "stdout",
     "output_type": "stream",
     "text": [
      "captcha_required\n"
     ]
    },
    {
     "name": "stderr",
     "output_type": "stream",
     "text": [
      "100%|████████████████████████████████████████████████████████████████████████████████| 100/100 [00:40<00:00,  2.28it/s]\n"
     ]
    },
    {
     "name": "stdout",
     "output_type": "stream",
     "text": [
      "вакансий получено - 75\n",
      "вакансий пропущено - 19\n",
      "вакансий с ошибкой - 6\n",
      "('https://api.hh.ru/vacancies?area=1002&professional_role=10&area=19&professional_role=48&area=130&professional_role=18&area=66&professional_role=33&area=92&professional_role=64&area=11&professional_role=66&area=104&professional_role=46&area=98&professional_role=131&area=35&professional_role=83&area=80&professional_role=63&area=98&professional_role=48&area=98&professional_role=52&area=92&professional_role=8&area=24&professional_role=129&area=92&professional_role=58&area=11&professional_role=78&area=99&professional_role=68&area=78&professional_role=145', 1959)\n",
      "number url - 144\n",
      "размер массива (128802, 1)\n",
      "total_pages - 20\n"
     ]
    },
    {
     "name": "stderr",
     "output_type": "stream",
     "text": [
      " 93%|███████████████████████████████████████████████████████████████████████████▎     | 93/100 [00:34<00:02,  2.70it/s]"
     ]
    },
    {
     "name": "stdout",
     "output_type": "stream",
     "text": [
      "captcha_required\n"
     ]
    },
    {
     "name": "stderr",
     "output_type": "stream",
     "text": [
      "\r",
      " 94%|████████████████████████████████████████████████████████████████████████████▏    | 94/100 [00:35<00:04,  1.47it/s]"
     ]
    },
    {
     "name": "stdout",
     "output_type": "stream",
     "text": [
      "captcha_required\n"
     ]
    },
    {
     "name": "stderr",
     "output_type": "stream",
     "text": [
      "\r",
      " 95%|████████████████████████████████████████████████████████████████████████████▉    | 95/100 [00:36<00:04,  1.10it/s]"
     ]
    },
    {
     "name": "stdout",
     "output_type": "stream",
     "text": [
      "captcha_required\n"
     ]
    },
    {
     "name": "stderr",
     "output_type": "stream",
     "text": [
      "\r",
      " 97%|██████████████████████████████████████████████████████████████████████████████▌  | 97/100 [00:38<00:02,  1.18it/s]"
     ]
    },
    {
     "name": "stdout",
     "output_type": "stream",
     "text": [
      "captcha_required\n"
     ]
    },
    {
     "name": "stderr",
     "output_type": "stream",
     "text": [
      "100%|████████████████████████████████████████████████████████████████████████████████| 100/100 [00:39<00:00,  2.51it/s]\n"
     ]
    },
    {
     "name": "stdout",
     "output_type": "stream",
     "text": [
      "вакансий получено - 74\n",
      "вакансий пропущено - 22\n",
      "вакансий с ошибкой - 4\n",
      "('https://api.hh.ru/vacancies?area=1641&professional_role=143&area=76&professional_role=51&area=4&professional_role=80&area=24&professional_role=111&area=103&professional_role=63&area=98&professional_role=102&area=67&professional_role=94&area=43&professional_role=48&area=71&professional_role=24&area=96&professional_role=142&area=160&professional_role=134&area=4&professional_role=173&area=88&professional_role=34&area=90&professional_role=49&area=3&professional_role=162&area=212&professional_role=48&area=1240&professional_role=52&area=159&professional_role=146', 1984)\n",
      "number url - 145\n",
      "размер массива (128876, 1)\n",
      "total_pages - 20\n"
     ]
    },
    {
     "name": "stderr",
     "output_type": "stream",
     "text": [
      " 60%|████████████████████████████████████████████████▌                                | 60/100 [00:18<00:16,  2.48it/s]"
     ]
    },
    {
     "name": "stdout",
     "output_type": "stream",
     "text": [
      "captcha_required\n"
     ]
    },
    {
     "name": "stderr",
     "output_type": "stream",
     "text": [
      " 90%|████████████████████████████████████████████████████████████████████████▉        | 90/100 [00:29<00:03,  2.54it/s]"
     ]
    },
    {
     "name": "stdout",
     "output_type": "stream",
     "text": [
      "captcha_required\n"
     ]
    },
    {
     "name": "stderr",
     "output_type": "stream",
     "text": [
      "100%|████████████████████████████████████████████████████████████████████████████████| 100/100 [00:35<00:00,  2.29it/s]\n"
     ]
    },
    {
     "name": "stdout",
     "output_type": "stream",
     "text": [
      "вакансий получено - 73\n",
      "вакансий пропущено - 25\n",
      "вакансий с ошибкой - 2\n",
      "('https://api.hh.ru/vacancies?area=66&professional_role=35&area=2061&professional_role=85&area=72&professional_role=132&area=112&professional_role=66&area=99&professional_role=82&area=1641&professional_role=24&area=47&professional_role=47&area=61&professional_role=21&area=53&professional_role=27&area=35&professional_role=66&area=3&professional_role=108&area=88&professional_role=51&area=95&professional_role=27&area=1641&professional_role=82&area=1753&professional_role=21&area=54&professional_role=133&area=104&professional_role=145', 1906)\n",
      "number url - 146\n",
      "размер массива (128949, 1)\n",
      "total_pages - 20\n"
     ]
    },
    {
     "name": "stderr",
     "output_type": "stream",
     "text": [
      " 45%|████████████████████████████████████▍                                            | 45/100 [00:19<00:23,  2.30it/s]"
     ]
    },
    {
     "name": "stdout",
     "output_type": "stream",
     "text": [
      "captcha_required\n"
     ]
    },
    {
     "name": "stderr",
     "output_type": "stream",
     "text": [
      "\r",
      " 46%|█████████████████████████████████████▎                                           | 46/100 [00:20<00:40,  1.33it/s]"
     ]
    },
    {
     "name": "stdout",
     "output_type": "stream",
     "text": [
      "captcha_required\n"
     ]
    },
    {
     "name": "stderr",
     "output_type": "stream",
     "text": [
      "\r",
      " 47%|██████████████████████████████████████                                           | 47/100 [00:22<00:50,  1.06it/s]"
     ]
    },
    {
     "name": "stdout",
     "output_type": "stream",
     "text": [
      "captcha_required\n"
     ]
    },
    {
     "name": "stderr",
     "output_type": "stream",
     "text": [
      "\r",
      " 48%|██████████████████████████████████████▉                                          | 48/100 [00:23<00:56,  1.08s/it]"
     ]
    },
    {
     "name": "stdout",
     "output_type": "stream",
     "text": [
      "captcha_required\n"
     ]
    },
    {
     "name": "stderr",
     "output_type": "stream",
     "text": [
      " 95%|████████████████████████████████████████████████████████████████████████████▉    | 95/100 [00:44<00:02,  2.34it/s]"
     ]
    },
    {
     "name": "stdout",
     "output_type": "stream",
     "text": [
      "captcha_required\n"
     ]
    },
    {
     "name": "stderr",
     "output_type": "stream",
     "text": [
      "100%|████████████████████████████████████████████████████████████████████████████████| 100/100 [00:46<00:00,  1.95it/s]\n"
     ]
    },
    {
     "name": "stdout",
     "output_type": "stream",
     "text": [
      "вакансий получено - 89\n",
      "вакансий пропущено - 6\n",
      "вакансий с ошибкой - 5\n",
      "('https://api.hh.ru/vacancies?area=72&professional_role=127&area=35&professional_role=129&area=53&professional_role=23&area=2237&professional_role=102&area=90&professional_role=31&area=106&professional_role=24&area=104&professional_role=6&area=88&professional_role=78&area=22&professional_role=102&area=4&professional_role=79&area=107&professional_role=131&area=68&professional_role=9&area=35&professional_role=27&area=1002&professional_role=113&area=2759&professional_role=89&area=95&professional_role=106&area=3&professional_role=119', 1928)\n",
      "number url - 147\n",
      "размер массива (129038, 1)\n",
      "total_pages - 20\n"
     ]
    },
    {
     "name": "stderr",
     "output_type": "stream",
     "text": [
      " 30%|████████████████████████▎                                                        | 30/100 [00:11<00:28,  2.43it/s]"
     ]
    },
    {
     "name": "stdout",
     "output_type": "stream",
     "text": [
      "captcha_required\n"
     ]
    },
    {
     "name": "stderr",
     "output_type": "stream",
     "text": [
      "100%|████████████████████████████████████████████████████████████████████████████████| 100/100 [00:32<00:00,  3.04it/s]\n"
     ]
    },
    {
     "name": "stdout",
     "output_type": "stream",
     "text": [
      "вакансий получено - 72\n",
      "вакансий пропущено - 27\n",
      "вакансий с ошибкой - 1\n",
      "('https://api.hh.ru/vacancies?area=2065&professional_role=21&area=3&professional_role=133&area=1002&professional_role=127&area=1454&professional_role=94&area=63&professional_role=83&area=43&professional_role=94&area=76&professional_role=45&area=104&professional_role=110&area=22&professional_role=121&area=32&professional_role=115&area=54&professional_role=77&area=79&professional_role=96&area=301&professional_role=21&area=49&professional_role=58&area=26&professional_role=133&area=24&professional_role=35&area=3&professional_role=30', 1949)\n",
      "number url - 148\n",
      "размер массива (129110, 1)\n",
      "total_pages - 20\n"
     ]
    },
    {
     "name": "stderr",
     "output_type": "stream",
     "text": [
      "\r",
      "  0%|                                                                                          | 0/100 [00:00<?, ?it/s]"
     ]
    },
    {
     "name": "stdout",
     "output_type": "stream",
     "text": [
      "captcha_required\n"
     ]
    },
    {
     "name": "stderr",
     "output_type": "stream",
     "text": [
      "\r",
      "  1%|▊                                                                                 | 1/100 [00:01<02:20,  1.42s/it]"
     ]
    },
    {
     "name": "stdout",
     "output_type": "stream",
     "text": [
      "captcha_required\n"
     ]
    },
    {
     "name": "stderr",
     "output_type": "stream",
     "text": [
      "\r",
      "  2%|█▋                                                                                | 2/100 [00:02<02:19,  1.43s/it]"
     ]
    },
    {
     "name": "stdout",
     "output_type": "stream",
     "text": [
      "captcha_required\n"
     ]
    },
    {
     "name": "stderr",
     "output_type": "stream",
     "text": [
      " 54%|███████████████████████████████████████████▋                                     | 54/100 [00:23<00:15,  2.99it/s]"
     ]
    },
    {
     "name": "stdout",
     "output_type": "stream",
     "text": [
      "captcha_required\n"
     ]
    },
    {
     "name": "stderr",
     "output_type": "stream",
     "text": [
      "\r",
      " 55%|████████████████████████████████████████████▌                                    | 55/100 [00:24<00:29,  1.50it/s]"
     ]
    },
    {
     "name": "stdout",
     "output_type": "stream",
     "text": [
      "captcha_required\n"
     ]
    },
    {
     "name": "stderr",
     "output_type": "stream",
     "text": [
      "\r",
      " 56%|█████████████████████████████████████████████▎                                   | 56/100 [00:26<00:39,  1.13it/s]"
     ]
    },
    {
     "name": "stdout",
     "output_type": "stream",
     "text": [
      "captcha_required\n"
     ]
    },
    {
     "name": "stderr",
     "output_type": "stream",
     "text": [
      " 90%|████████████████████████████████████████████████████████████████████████▉        | 90/100 [00:38<00:03,  2.69it/s]"
     ]
    },
    {
     "name": "stdout",
     "output_type": "stream",
     "text": [
      "captcha_required\n"
     ]
    },
    {
     "name": "stderr",
     "output_type": "stream",
     "text": [
      "100%|████████████████████████████████████████████████████████████████████████████████| 100/100 [00:43<00:00,  2.31it/s]\n"
     ]
    },
    {
     "name": "stdout",
     "output_type": "stream",
     "text": [
      "вакансий получено - 77\n",
      "вакансий пропущено - 16\n",
      "вакансий с ошибкой - 7\n",
      "('https://api.hh.ru/vacancies?area=2759&professional_role=89&area=88&professional_role=69&area=1454&professional_role=24&area=1291&professional_role=21&area=3&professional_role=116&area=24&professional_role=31&area=47&professional_role=8&area=78&professional_role=69&area=99&professional_role=121&area=32&professional_role=48&area=11&professional_role=49&area=92&professional_role=143&area=19&professional_role=102&area=12&professional_role=18&area=102&professional_role=64&area=1753&professional_role=24&area=78&professional_role=110', 1961)\n",
      "number url - 149\n",
      "размер массива (129187, 1)\n",
      "total_pages - 20\n"
     ]
    },
    {
     "name": "stderr",
     "output_type": "stream",
     "text": [
      " 53%|██████████████████████████████████████████▉                                      | 53/100 [00:16<00:19,  2.46it/s]"
     ]
    },
    {
     "name": "stdout",
     "output_type": "stream",
     "text": [
      "captcha_required\n"
     ]
    },
    {
     "name": "stderr",
     "output_type": "stream",
     "text": [
      "\r",
      " 55%|████████████████████████████████████████████▌                                    | 55/100 [00:17<00:22,  1.99it/s]"
     ]
    },
    {
     "name": "stdout",
     "output_type": "stream",
     "text": [
      "captcha_required\n"
     ]
    },
    {
     "name": "stderr",
     "output_type": "stream",
     "text": [
      "\r",
      " 57%|██████████████████████████████████████████████▏                                  | 57/100 [00:19<00:24,  1.78it/s]"
     ]
    },
    {
     "name": "stdout",
     "output_type": "stream",
     "text": [
      "captcha_required\n"
     ]
    },
    {
     "name": "stderr",
     "output_type": "stream",
     "text": [
      "100%|████████████████████████████████████████████████████████████████████████████████| 100/100 [00:30<00:00,  3.24it/s]\n"
     ]
    },
    {
     "name": "stdout",
     "output_type": "stream",
     "text": [
      "вакансий получено - 61\n",
      "вакансий пропущено - 36\n",
      "вакансий с ошибкой - 3\n",
      "('https://api.hh.ru/vacancies?area=47&professional_role=109&area=112&professional_role=85&area=1641&professional_role=111&area=90&professional_role=52&area=3&professional_role=27&area=49&professional_role=63&area=2065&professional_role=52&area=72&professional_role=86&area=24&professional_role=89&area=22&professional_role=83&area=99&professional_role=146&area=3&professional_role=39&area=107&professional_role=94&area=2077&professional_role=94&area=102&professional_role=78&area=4&professional_role=57&area=66&professional_role=113', 1978)\n",
      "number url - 150\n",
      "размер массива (129248, 1)\n",
      "total_pages - 20\n"
     ]
    },
    {
     "name": "stderr",
     "output_type": "stream",
     "text": [
      " 21%|█████████████████                                                                | 21/100 [00:09<00:33,  2.32it/s]"
     ]
    },
    {
     "name": "stdout",
     "output_type": "stream",
     "text": [
      "captcha_required\n"
     ]
    },
    {
     "name": "stderr",
     "output_type": "stream",
     "text": [
      "\r",
      " 22%|█████████████████▊                                                               | 22/100 [00:10<00:57,  1.36it/s]"
     ]
    },
    {
     "name": "stdout",
     "output_type": "stream",
     "text": [
      "captcha_required\n"
     ]
    },
    {
     "name": "stderr",
     "output_type": "stream",
     "text": [
      " 49%|███████████████████████████████████████▋                                         | 49/100 [00:23<00:21,  2.39it/s]"
     ]
    },
    {
     "name": "stdout",
     "output_type": "stream",
     "text": [
      "captcha_required\n"
     ]
    },
    {
     "name": "stderr",
     "output_type": "stream",
     "text": [
      " 56%|█████████████████████████████████████████████▎                                   | 56/100 [00:27<00:20,  2.18it/s]"
     ]
    },
    {
     "name": "stdout",
     "output_type": "stream",
     "text": [
      "captcha_required\n"
     ]
    },
    {
     "name": "stderr",
     "output_type": "stream",
     "text": [
      " 94%|████████████████████████████████████████████████████████████████████████████▏    | 94/100 [00:44<00:02,  2.27it/s]"
     ]
    },
    {
     "name": "stdout",
     "output_type": "stream",
     "text": [
      "captcha_required\n"
     ]
    },
    {
     "name": "stderr",
     "output_type": "stream",
     "text": [
      "\r",
      " 95%|████████████████████████████████████████████████████████████████████████████▉    | 95/100 [00:46<00:03,  1.35it/s]"
     ]
    },
    {
     "name": "stdout",
     "output_type": "stream",
     "text": [
      "captcha_required\n"
     ]
    },
    {
     "name": "stderr",
     "output_type": "stream",
     "text": [
      "\r",
      " 96%|█████████████████████████████████████████████████████████████████████████████▊   | 96/100 [00:47<00:03,  1.05it/s]"
     ]
    },
    {
     "name": "stdout",
     "output_type": "stream",
     "text": [
      "captcha_required\n"
     ]
    },
    {
     "name": "stderr",
     "output_type": "stream",
     "text": [
      "100%|████████████████████████████████████████████████████████████████████████████████| 100/100 [00:50<00:00,  1.53it/s]\n"
     ]
    },
    {
     "name": "stdout",
     "output_type": "stream",
     "text": [
      "вакансий получено - 93\n",
      "вакансий пропущено - 0\n",
      "вакансий с ошибкой - 7\n",
      "('https://api.hh.ru/vacancies?area=4&professional_role=71&area=79&professional_role=63&area=26&professional_role=110&area=79&professional_role=143&area=20&professional_role=94&area=2034&professional_role=58&area=99&professional_role=129&area=2041&professional_role=94&area=19&professional_role=128&area=49&professional_role=31&area=160&professional_role=117&area=1641&professional_role=66&area=19&professional_role=94&area=212&professional_role=131&area=89&professional_role=143&area=4&professional_role=127&area=104&professional_role=127', 2000)\n",
      "number url - 151\n",
      "размер массива (129341, 1)\n",
      "total_pages - 20\n"
     ]
    },
    {
     "name": "stderr",
     "output_type": "stream",
     "text": [
      " 45%|████████████████████████████████████▍                                            | 45/100 [00:19<00:24,  2.24it/s]"
     ]
    },
    {
     "name": "stdout",
     "output_type": "stream",
     "text": [
      "captcha_required\n"
     ]
    },
    {
     "name": "stderr",
     "output_type": "stream",
     "text": [
      "\r",
      " 46%|█████████████████████████████████████▎                                           | 46/100 [00:20<00:40,  1.34it/s]"
     ]
    },
    {
     "name": "stdout",
     "output_type": "stream",
     "text": [
      "captcha_required\n"
     ]
    },
    {
     "name": "stderr",
     "output_type": "stream",
     "text": [
      " 79%|███████████████████████████████████████████████████████████████▉                 | 79/100 [00:36<00:09,  2.28it/s]"
     ]
    },
    {
     "name": "stdout",
     "output_type": "stream",
     "text": [
      "captcha_required\n"
     ]
    },
    {
     "name": "stderr",
     "output_type": "stream",
     "text": [
      "\r",
      " 80%|████████████████████████████████████████████████████████████████▊                | 80/100 [00:37<00:14,  1.37it/s]"
     ]
    },
    {
     "name": "stdout",
     "output_type": "stream",
     "text": [
      "captcha_required\n"
     ]
    },
    {
     "name": "stderr",
     "output_type": "stream",
     "text": [
      "100%|████████████████████████████████████████████████████████████████████████████████| 100/100 [00:47<00:00,  2.34it/s]\n"
     ]
    },
    {
     "name": "stdout",
     "output_type": "stream",
     "text": [
      "вакансий получено - 94\n",
      "вакансий пропущено - 2\n",
      "вакансий с ошибкой - 4\n",
      "('https://api.hh.ru/vacancies?area=104&professional_role=69&area=32&professional_role=58&area=43&professional_role=115&area=160&professional_role=113&area=22&professional_role=111&area=68&professional_role=90&area=1440&professional_role=94&area=104&professional_role=77&area=160&professional_role=137&area=83&professional_role=83&area=159&professional_role=48&area=14&professional_role=94&area=237&professional_role=83&area=95&professional_role=82&area=77&professional_role=143&area=2034&professional_role=131', 1911)\n",
      "number url - 152\n",
      "размер массива (129435, 1)\n",
      "total_pages - 20\n"
     ]
    },
    {
     "name": "stderr",
     "output_type": "stream",
     "text": [
      " 21%|█████████████████                                                                | 21/100 [00:08<00:35,  2.25it/s]"
     ]
    },
    {
     "name": "stdout",
     "output_type": "stream",
     "text": [
      "captcha_required\n"
     ]
    },
    {
     "name": "stderr",
     "output_type": "stream",
     "text": [
      " 24%|███████████████████▍                                                             | 24/100 [00:10<00:44,  1.72it/s]"
     ]
    },
    {
     "name": "stdout",
     "output_type": "stream",
     "text": [
      "captcha_required\n"
     ]
    },
    {
     "name": "stderr",
     "output_type": "stream",
     "text": [
      " 41%|█████████████████████████████████▏                                               | 41/100 [00:19<00:25,  2.30it/s]"
     ]
    },
    {
     "name": "stdout",
     "output_type": "stream",
     "text": [
      "captcha_required\n"
     ]
    },
    {
     "name": "stderr",
     "output_type": "stream",
     "text": [
      " 69%|███████████████████████████████████████████████████████▉                         | 69/100 [00:32<00:13,  2.34it/s]"
     ]
    },
    {
     "name": "stdout",
     "output_type": "stream",
     "text": [
      "captcha_required\n"
     ]
    },
    {
     "name": "stderr",
     "output_type": "stream",
     "text": [
      "\r",
      " 70%|████████████████████████████████████████████████████████▋                        | 70/100 [00:33<00:21,  1.38it/s]"
     ]
    },
    {
     "name": "stdout",
     "output_type": "stream",
     "text": [
      "captcha_required\n"
     ]
    },
    {
     "name": "stderr",
     "output_type": "stream",
     "text": [
      "100%|████████████████████████████████████████████████████████████████████████████████| 100/100 [00:48<00:00,  2.25it/s]\n"
     ]
    },
    {
     "name": "stdout",
     "output_type": "stream",
     "text": [
      "вакансий получено - 93\n",
      "вакансий пропущено - 2\n",
      "вакансий с ошибкой - 5\n",
      "('https://api.hh.ru/vacancies?area=1240&professional_role=48&area=2237&professional_role=70&area=104&professional_role=88&area=23&professional_role=52&area=66&professional_role=107&area=35&professional_role=49&area=160&professional_role=69&area=3&professional_role=3&area=160&professional_role=65&area=88&professional_role=84&area=159&professional_role=48&area=26&professional_role=77&area=53&professional_role=144&area=106&professional_role=102&area=4&professional_role=34&area=76&professional_role=90', 1936)\n",
      "number url - 153\n",
      "размер массива (129528, 1)\n",
      "total_pages - 20\n"
     ]
    },
    {
     "name": "stderr",
     "output_type": "stream",
     "text": [
      " 35%|████████████████████████████▎                                                    | 35/100 [00:09<00:27,  2.35it/s]"
     ]
    },
    {
     "name": "stdout",
     "output_type": "stream",
     "text": [
      "captcha_required\n"
     ]
    },
    {
     "name": "stderr",
     "output_type": "stream",
     "text": [
      " 59%|███████████████████████████████████████████████▊                                 | 59/100 [00:19<00:15,  2.71it/s]"
     ]
    },
    {
     "name": "stdout",
     "output_type": "stream",
     "text": [
      "captcha_required\n"
     ]
    },
    {
     "name": "stderr",
     "output_type": "stream",
     "text": [
      " 62%|██████████████████████████████████████████████████▏                              | 62/100 [00:21<00:21,  1.81it/s]"
     ]
    },
    {
     "name": "stdout",
     "output_type": "stream",
     "text": [
      "captcha_required\n"
     ]
    },
    {
     "name": "stderr",
     "output_type": "stream",
     "text": [
      " 73%|███████████████████████████████████████████████████████████▏                     | 73/100 [00:26<00:10,  2.47it/s]"
     ]
    },
    {
     "name": "stdout",
     "output_type": "stream",
     "text": [
      "captcha_required\n"
     ]
    },
    {
     "name": "stderr",
     "output_type": "stream",
     "text": [
      " 88%|███████████████████████████████████████████████████████████████████████▎         | 88/100 [00:32<00:05,  2.38it/s]"
     ]
    },
    {
     "name": "stdout",
     "output_type": "stream",
     "text": [
      "captcha_required\n"
     ]
    },
    {
     "name": "stderr",
     "output_type": "stream",
     "text": [
      "100%|████████████████████████████████████████████████████████████████████████████████| 100/100 [00:36<00:00,  2.44it/s]\n"
     ]
    },
    {
     "name": "stdout",
     "output_type": "stream",
     "text": [
      "вакансий получено - 67\n",
      "вакансий пропущено - 28\n",
      "вакансий с ошибкой - 5\n",
      "('https://api.hh.ru/vacancies?area=41&professional_role=102&area=160&professional_role=47&area=77&professional_role=130&area=68&professional_role=82&area=4&professional_role=124&area=212&professional_role=102&area=1002&professional_role=145&area=2062&professional_role=21&area=4&professional_role=44&area=26&professional_role=106&area=2041&professional_role=131&area=78&professional_role=10&area=1240&professional_role=18&area=159&professional_role=3&area=49&professional_role=143&area=2077&professional_role=131', 1947)\n",
      "number url - 154\n",
      "размер массива (129595, 1)\n",
      "total_pages - 20\n"
     ]
    },
    {
     "name": "stderr",
     "output_type": "stream",
     "text": [
      " 62%|██████████████████████████████████████████████████▏                              | 62/100 [00:21<00:16,  2.30it/s]"
     ]
    },
    {
     "name": "stdout",
     "output_type": "stream",
     "text": [
      "captcha_required\n"
     ]
    },
    {
     "name": "stderr",
     "output_type": "stream",
     "text": [
      " 86%|█████████████████████████████████████████████████████████████████████▋           | 86/100 [00:32<00:05,  2.53it/s]"
     ]
    },
    {
     "name": "stdout",
     "output_type": "stream",
     "text": [
      "captcha_required\n"
     ]
    },
    {
     "name": "stderr",
     "output_type": "stream",
     "text": [
      "100%|████████████████████████████████████████████████████████████████████████████████| 100/100 [00:39<00:00,  2.11it/s]\n"
     ]
    },
    {
     "name": "stdout",
     "output_type": "stream",
     "text": [
      "вакансий получено - 80\n",
      "вакансий пропущено - 18\n",
      "вакансий с ошибкой - 2\n",
      "('https://api.hh.ru/vacancies?area=72&professional_role=82&area=95&professional_role=31&area=26&professional_role=82&area=78&professional_role=90&area=52&professional_role=24&area=89&professional_role=8&area=66&professional_role=117&area=47&professional_role=111&area=3&professional_role=120&area=2759&professional_role=110&area=1399&professional_role=21&area=107&professional_role=102&area=92&professional_role=9&area=2020&professional_role=52&area=95&professional_role=9&area=24&professional_role=130', 1971)\n",
      "number url - 155\n",
      "размер массива (129675, 1)\n",
      "total_pages - 20\n"
     ]
    },
    {
     "name": "stderr",
     "output_type": "stream",
     "text": [
      " 37%|█████████████████████████████▉                                                   | 37/100 [00:09<00:15,  4.18it/s]"
     ]
    },
    {
     "name": "stdout",
     "output_type": "stream",
     "text": [
      "captcha_required\n"
     ]
    },
    {
     "name": "stderr",
     "output_type": "stream",
     "text": [
      " 58%|██████████████████████████████████████████████▉                                  | 58/100 [00:16<00:14,  2.81it/s]"
     ]
    },
    {
     "name": "stdout",
     "output_type": "stream",
     "text": [
      "captcha_required\n"
     ]
    },
    {
     "name": "stderr",
     "output_type": "stream",
     "text": [
      " 64%|███████████████████████████████████████████████████▊                             | 64/100 [00:18<00:15,  2.39it/s]"
     ]
    },
    {
     "name": "stdout",
     "output_type": "stream",
     "text": [
      "captcha_required\n"
     ]
    },
    {
     "name": "stderr",
     "output_type": "stream",
     "text": [
      "\r",
      " 65%|████████████████████████████████████████████████████▋                            | 65/100 [00:19<00:25,  1.39it/s]"
     ]
    },
    {
     "name": "stdout",
     "output_type": "stream",
     "text": [
      "captcha_required\n"
     ]
    },
    {
     "name": "stderr",
     "output_type": "stream",
     "text": [
      "100%|████████████████████████████████████████████████████████████████████████████████| 100/100 [00:30<00:00,  1.46it/s]\n"
     ]
    },
    {
     "name": "stdout",
     "output_type": "stream",
     "text": [
      "вакансий получено - 55\n",
      "вакансий пропущено - 41\n",
      "вакансий с ошибкой - 4\n",
      "('https://api.hh.ru/vacancies?area=1002&professional_role=47&area=71&professional_role=131&area=53&professional_role=113&area=53&professional_role=51&area=19&professional_role=18&area=11&professional_role=96&area=1002&professional_role=118&area=52&professional_role=18&area=25&professional_role=18&area=89&professional_role=49&area=17&professional_role=115&area=58&professional_role=128&area=77&professional_role=85&area=63&professional_role=21&area=54&professional_role=118&area=1641&professional_role=85', 1996)\n",
      "number url - 156\n",
      "размер массива (129730, 1)\n",
      "total_pages - 20\n"
     ]
    },
    {
     "name": "stderr",
     "output_type": "stream",
     "text": [
      "100%|████████████████████████████████████████████████████████████████████████████████| 100/100 [00:24<00:00,  2.43it/s]\n"
     ]
    },
    {
     "name": "stdout",
     "output_type": "stream",
     "text": [
      "вакансий получено - 54\n",
      "вакансий пропущено - 46\n",
      "вакансий с ошибкой - 0\n",
      "('https://api.hh.ru/vacancies?area=23&professional_role=102&area=92&professional_role=111&area=83&professional_role=18&area=1002&professional_role=63&area=76&professional_role=127&area=96&professional_role=31&area=56&professional_role=94&area=67&professional_role=21&area=99&professional_role=132&area=22&professional_role=142&area=131&professional_role=94&area=49&professional_role=128&area=104&professional_role=106&area=112&professional_role=130&area=160&professional_role=71', 1886)\n",
      "number url - 157\n",
      "размер массива (129784, 1)\n",
      "total_pages - 20\n"
     ]
    },
    {
     "name": "stderr",
     "output_type": "stream",
     "text": [
      " 55%|████████████████████████████████████████████▌                                    | 55/100 [00:13<00:14,  3.11it/s]"
     ]
    },
    {
     "name": "stdout",
     "output_type": "stream",
     "text": [
      "captcha_required\n"
     ]
    },
    {
     "name": "stderr",
     "output_type": "stream",
     "text": [
      " 76%|█████████████████████████████████████████████████████████████▌                   | 76/100 [00:20<00:08,  2.86it/s]"
     ]
    },
    {
     "name": "stdout",
     "output_type": "stream",
     "text": [
      "captcha_required\n"
     ]
    },
    {
     "name": "stderr",
     "output_type": "stream",
     "text": [
      " 82%|██████████████████████████████████████████████████████████████████▍              | 82/100 [00:22<00:07,  2.42it/s]"
     ]
    },
    {
     "name": "stdout",
     "output_type": "stream",
     "text": [
      "captcha_required\n"
     ]
    },
    {
     "name": "stderr",
     "output_type": "stream",
     "text": [
      "100%|████████████████████████████████████████████████████████████████████████████████| 100/100 [00:27<00:00,  3.27it/s]\n"
     ]
    },
    {
     "name": "stdout",
     "output_type": "stream",
     "text": [
      "вакансий получено - 51\n",
      "вакансий пропущено - 46\n",
      "вакансий с ошибкой - 3\n",
      "('https://api.hh.ru/vacancies?area=4&professional_role=54&area=11&professional_role=131&area=68&professional_role=45&area=52&professional_role=58&area=26&professional_role=88&area=1240&professional_role=109&area=2083&professional_role=70&area=3&professional_role=59&area=99&professional_role=106&area=55&professional_role=58&area=159&professional_role=110&area=68&professional_role=142&area=58&professional_role=109&area=26&professional_role=10&area=98&professional_role=94', 1903)\n",
      "number url - 158\n",
      "размер массива (129835, 1)\n",
      "total_pages - 20\n"
     ]
    },
    {
     "name": "stderr",
     "output_type": "stream",
     "text": [
      " 13%|██████████▌                                                                      | 13/100 [00:05<00:37,  2.34it/s]"
     ]
    },
    {
     "name": "stdout",
     "output_type": "stream",
     "text": [
      "captcha_required\n"
     ]
    },
    {
     "name": "stderr",
     "output_type": "stream",
     "text": [
      " 67%|██████████████████████████████████████████████████████▎                          | 67/100 [00:30<00:14,  2.26it/s]"
     ]
    },
    {
     "name": "stdout",
     "output_type": "stream",
     "text": [
      "captcha_required\n"
     ]
    },
    {
     "name": "stderr",
     "output_type": "stream",
     "text": [
      "100%|████████████████████████████████████████████████████████████████████████████████| 100/100 [00:45<00:00,  2.37it/s]\n"
     ]
    },
    {
     "name": "stdout",
     "output_type": "stream",
     "text": [
      "вакансий получено - 95\n",
      "вакансий пропущено - 3\n",
      "вакансий с ошибкой - 2\n",
      "('https://api.hh.ru/vacancies?area=104&professional_role=44&area=49&professional_role=48&area=88&professional_role=33&area=24&professional_role=58&area=1381&professional_role=63&area=66&professional_role=82&area=99&professional_role=35&area=49&professional_role=131&area=92&professional_role=131&area=160&professional_role=130&area=4&professional_role=51&area=96&professional_role=86&area=247&professional_role=21&area=2045&professional_role=21&area=2759&professional_role=118', 1917)\n",
      "number url - 159\n",
      "размер массива (129930, 1)\n",
      "total_pages - 20\n"
     ]
    },
    {
     "name": "stderr",
     "output_type": "stream",
     "text": [
      " 23%|██████████████████▋                                                              | 23/100 [00:07<00:29,  2.61it/s]"
     ]
    },
    {
     "name": "stdout",
     "output_type": "stream",
     "text": [
      "captcha_required\n"
     ]
    },
    {
     "name": "stderr",
     "output_type": "stream",
     "text": [
      "\r",
      " 24%|███████████████████▍                                                             | 24/100 [00:09<00:52,  1.45it/s]"
     ]
    },
    {
     "name": "stdout",
     "output_type": "stream",
     "text": [
      "captcha_required\n"
     ]
    },
    {
     "name": "stderr",
     "output_type": "stream",
     "text": [
      " 29%|███████████████████████▍                                                         | 29/100 [00:11<00:36,  1.96it/s]"
     ]
    },
    {
     "name": "stdout",
     "output_type": "stream",
     "text": [
      "captcha_required\n"
     ]
    },
    {
     "name": "stderr",
     "output_type": "stream",
     "text": [
      "\r",
      " 30%|████████████████████████▎                                                        | 30/100 [00:13<00:54,  1.28it/s]"
     ]
    },
    {
     "name": "stdout",
     "output_type": "stream",
     "text": [
      "captcha_required\n"
     ]
    },
    {
     "name": "stderr",
     "output_type": "stream",
     "text": [
      " 47%|██████████████████████████████████████                                           | 47/100 [00:19<00:20,  2.55it/s]"
     ]
    },
    {
     "name": "stdout",
     "output_type": "stream",
     "text": [
      "captcha_required\n"
     ]
    },
    {
     "name": "stderr",
     "output_type": "stream",
     "text": [
      " 77%|██████████████████████████████████████████████████████████████▎                  | 77/100 [00:30<00:08,  2.77it/s]"
     ]
    },
    {
     "name": "stdout",
     "output_type": "stream",
     "text": [
      "captcha_required\n"
     ]
    },
    {
     "name": "stderr",
     "output_type": "stream",
     "text": [
      "100%|████████████████████████████████████████████████████████████████████████████████| 100/100 [00:38<00:00,  2.25it/s]\n"
     ]
    },
    {
     "name": "stdout",
     "output_type": "stream",
     "text": [
      "вакансий получено - 67\n",
      "вакансий пропущено - 27\n",
      "вакансий с ошибкой - 6\n",
      "('https://api.hh.ru/vacancies?area=72&professional_role=45&area=88&professional_role=35&area=78&professional_role=106&area=88&professional_role=71&area=1641&professional_role=128&area=160&professional_role=111&area=96&professional_role=109&area=3&professional_role=14&area=79&professional_role=8&area=52&professional_role=21&area=2020&professional_role=131&area=112&professional_role=8&area=47&professional_role=31&area=2034&professional_role=21&area=96&professional_role=143', 1936)\n",
      "number url - 160\n",
      "размер массива (129997, 1)\n",
      "total_pages - 20\n"
     ]
    },
    {
     "name": "stderr",
     "output_type": "stream",
     "text": [
      " 86%|█████████████████████████████████████████████████████████████████████▋           | 86/100 [00:25<00:04,  3.02it/s]"
     ]
    },
    {
     "name": "stdout",
     "output_type": "stream",
     "text": [
      "captcha_required\n"
     ]
    },
    {
     "name": "stderr",
     "output_type": "stream",
     "text": [
      " 94%|████████████████████████████████████████████████████████████████████████████▏    | 94/100 [00:29<00:02,  2.17it/s]"
     ]
    },
    {
     "name": "stdout",
     "output_type": "stream",
     "text": [
      "captcha_required\n"
     ]
    },
    {
     "name": "stderr",
     "output_type": "stream",
     "text": [
      "\r",
      " 97%|██████████████████████████████████████████████████████████████████████████████▌  | 97/100 [00:30<00:01,  2.15it/s]"
     ]
    },
    {
     "name": "stdout",
     "output_type": "stream",
     "text": [
      "captcha_required\n"
     ]
    },
    {
     "name": "stderr",
     "output_type": "stream",
     "text": [
      "100%|████████████████████████████████████████████████████████████████████████████████| 100/100 [00:32<00:00,  1.71it/s]\n"
     ]
    },
    {
     "name": "stdout",
     "output_type": "stream",
     "text": [
      "вакансий получено - 66\n",
      "вакансий пропущено - 31\n",
      "вакансий с ошибкой - 3\n",
      "('https://api.hh.ru/vacancies?area=160&professional_role=107&area=98&professional_role=24&area=11&professional_role=6&area=78&professional_role=78&area=72&professional_role=142&area=32&professional_role=52&area=107&professional_role=128&area=2237&professional_role=94&area=70&professional_role=102&area=24&professional_role=121&area=78&professional_role=85&area=11&professional_role=128&area=212&professional_role=52&area=23&professional_role=131&area=43&professional_role=128', 1950)\n",
      "number url - 161\n",
      "размер массива (130063, 1)\n",
      "total_pages - 20\n"
     ]
    },
    {
     "name": "stderr",
     "output_type": "stream",
     "text": [
      " 16%|████████████▉                                                                    | 16/100 [00:06<00:36,  2.29it/s]"
     ]
    },
    {
     "name": "stdout",
     "output_type": "stream",
     "text": [
      "captcha_required\n"
     ]
    },
    {
     "name": "stderr",
     "output_type": "stream",
     "text": [
      " 37%|█████████████████████████████▉                                                   | 37/100 [00:17<00:28,  2.18it/s]"
     ]
    },
    {
     "name": "stdout",
     "output_type": "stream",
     "text": [
      "captcha_required\n"
     ]
    },
    {
     "name": "stderr",
     "output_type": "stream",
     "text": [
      "\r",
      " 38%|██████████████████████████████▊                                                  | 38/100 [00:18<00:46,  1.34it/s]"
     ]
    },
    {
     "name": "stdout",
     "output_type": "stream",
     "text": [
      "captcha_required\n"
     ]
    },
    {
     "name": "stderr",
     "output_type": "stream",
     "text": [
      " 51%|█████████████████████████████████████████▎                                       | 51/100 [00:25<00:21,  2.24it/s]"
     ]
    },
    {
     "name": "stdout",
     "output_type": "stream",
     "text": [
      "captcha_required\n"
     ]
    },
    {
     "name": "stderr",
     "output_type": "stream",
     "text": [
      "\r",
      " 52%|██████████████████████████████████████████                                       | 52/100 [00:26<00:35,  1.36it/s]"
     ]
    },
    {
     "name": "stdout",
     "output_type": "stream",
     "text": [
      "captcha_required\n"
     ]
    },
    {
     "name": "stderr",
     "output_type": "stream",
     "text": [
      "100%|████████████████████████████████████████████████████████████████████████████████| 100/100 [00:48<00:00,  2.33it/s]\n"
     ]
    },
    {
     "name": "stdout",
     "output_type": "stream",
     "text": [
      "вакансий получено - 95\n",
      "вакансий пропущено - 0\n",
      "вакансий с ошибкой - 5\n",
      "('https://api.hh.ru/vacancies?area=159&professional_role=83&area=4&professional_role=86&area=77&professional_role=58&area=17&professional_role=49&area=1240&professional_role=111&area=71&professional_role=94&area=112&professional_role=128&area=90&professional_role=47&area=89&professional_role=85&area=78&professional_role=45&area=1979&professional_role=63&area=24&professional_role=64&area=1220&professional_role=70&area=11&professional_role=109&area=159&professional_role=83', 1967)\n",
      "number url - 162\n",
      "размер массива (130158, 1)\n",
      "total_pages - 20\n"
     ]
    },
    {
     "name": "stderr",
     "output_type": "stream",
     "text": [
      " 24%|███████████████████▍                                                             | 24/100 [00:08<00:29,  2.57it/s]"
     ]
    },
    {
     "name": "stdout",
     "output_type": "stream",
     "text": [
      "captcha_required\n"
     ]
    },
    {
     "name": "stderr",
     "output_type": "stream",
     "text": [
      "\r",
      " 25%|████████████████████▎                                                            | 25/100 [00:10<00:53,  1.39it/s]"
     ]
    },
    {
     "name": "stdout",
     "output_type": "stream",
     "text": [
      "captcha_required\n"
     ]
    },
    {
     "name": "stderr",
     "output_type": "stream",
     "text": [
      " 66%|█████████████████████████████████████████████████████▍                           | 66/100 [00:28<00:13,  2.50it/s]"
     ]
    },
    {
     "name": "stdout",
     "output_type": "stream",
     "text": [
      "captcha_required\n"
     ]
    },
    {
     "name": "stderr",
     "output_type": "stream",
     "text": [
      "\r",
      " 67%|██████████████████████████████████████████████████████▎                          | 67/100 [00:29<00:23,  1.41it/s]"
     ]
    },
    {
     "name": "stdout",
     "output_type": "stream",
     "text": [
      "captcha_required\n"
     ]
    },
    {
     "name": "stderr",
     "output_type": "stream",
     "text": [
      "\r",
      " 68%|███████████████████████████████████████████████████████                          | 68/100 [00:31<00:29,  1.09it/s]"
     ]
    },
    {
     "name": "stdout",
     "output_type": "stream",
     "text": [
      "captcha_required\n"
     ]
    },
    {
     "name": "stderr",
     "output_type": "stream",
     "text": [
      "100%|████████████████████████████████████████████████████████████████████████████████| 100/100 [00:46<00:00,  2.32it/s]\n"
     ]
    },
    {
     "name": "stdout",
     "output_type": "stream",
     "text": [
      "вакансий получено - 88\n",
      "вакансий пропущено - 7\n",
      "вакансий с ошибкой - 5\n",
      "('https://api.hh.ru/vacancies?area=1240&professional_role=143&area=112&professional_role=49&area=131&professional_role=24&area=54&professional_role=27&area=104&professional_role=118&area=24&professional_role=131&area=78&professional_role=77&area=159&professional_role=88&area=4&professional_role=117&area=1240&professional_role=24&area=112&professional_role=31&area=2061&professional_role=18&area=95&professional_role=68&area=17&professional_role=102&area=98&professional_role=115', 1990)\n",
      "number url - 163\n",
      "размер массива (130246, 1)\n",
      "total_pages - 20\n"
     ]
    },
    {
     "name": "stderr",
     "output_type": "stream",
     "text": [
      " 84%|████████████████████████████████████████████████████████████████████             | 84/100 [00:21<00:04,  3.40it/s]"
     ]
    },
    {
     "name": "stdout",
     "output_type": "stream",
     "text": [
      "captcha_required\n"
     ]
    },
    {
     "name": "stderr",
     "output_type": "stream",
     "text": [
      "\r",
      " 85%|████████████████████████████████████████████████████████████████████▊            | 85/100 [00:23<00:11,  1.30it/s]"
     ]
    },
    {
     "name": "stdout",
     "output_type": "stream",
     "text": [
      "captcha_required\n"
     ]
    },
    {
     "name": "stderr",
     "output_type": "stream",
     "text": [
      "100%|████████████████████████████████████████████████████████████████████████████████| 100/100 [00:27<00:00,  3.68it/s]\n"
     ]
    },
    {
     "name": "stdout",
     "output_type": "stream",
     "text": [
      "вакансий получено - 53\n",
      "вакансий пропущено - 45\n",
      "вакансий с ошибкой - 2\n",
      "('https://api.hh.ru/vacancies?area=99&professional_role=27&area=24&professional_role=128&area=35&professional_role=131&area=79&professional_role=35&area=104&professional_role=68&area=26&professional_role=67&area=102&professional_role=48&area=66&professional_role=44&area=301&professional_role=70&area=41&professional_role=83&area=64&professional_role=21&area=99&professional_role=144&area=177&professional_role=97&area=26&professional_role=84', 1868)\n",
      "number url - 164\n",
      "размер массива (130299, 1)\n",
      "total_pages - 20\n"
     ]
    },
    {
     "name": "stderr",
     "output_type": "stream",
     "text": [
      " 40%|████████████████████████████████▍                                                | 40/100 [00:15<00:24,  2.50it/s]"
     ]
    },
    {
     "name": "stdout",
     "output_type": "stream",
     "text": [
      "captcha_required\n"
     ]
    },
    {
     "name": "stderr",
     "output_type": "stream",
     "text": [
      " 79%|███████████████████████████████████████████████████████████████▉                 | 79/100 [00:30<00:10,  2.01it/s]"
     ]
    },
    {
     "name": "stdout",
     "output_type": "stream",
     "text": [
      "captcha_required\n"
     ]
    },
    {
     "name": "stderr",
     "output_type": "stream",
     "text": [
      "\r",
      " 80%|████████████████████████████████████████████████████████████████▊                | 80/100 [00:32<00:15,  1.30it/s]"
     ]
    },
    {
     "name": "stdout",
     "output_type": "stream",
     "text": [
      "captcha_required\n"
     ]
    },
    {
     "name": "stderr",
     "output_type": "stream",
     "text": [
      "100%|████████████████████████████████████████████████████████████████████████████████| 100/100 [00:40<00:00,  2.22it/s]\n"
     ]
    },
    {
     "name": "stdout",
     "output_type": "stream",
     "text": [
      "вакансий получено - 80\n",
      "вакансий пропущено - 17\n",
      "вакансий с ошибкой - 3\n",
      "('https://api.hh.ru/vacancies?area=2020&professional_role=24&area=56&professional_role=18&area=95&professional_role=58&area=32&professional_role=131&area=2039&professional_role=24&area=1002&professional_role=3&area=23&professional_role=115&area=103&professional_role=97&area=88&professional_role=109&area=72&professional_role=5&area=76&professional_role=69&area=54&professional_role=85&area=2025&professional_role=131&area=205&professional_role=18', 1890)\n",
      "number url - 165\n",
      "размер массива (130379, 1)\n",
      "total_pages - 20\n"
     ]
    },
    {
     "name": "stderr",
     "output_type": "stream",
     "text": [
      " 35%|████████████████████████████▎                                                    | 35/100 [00:14<00:27,  2.32it/s]"
     ]
    },
    {
     "name": "stdout",
     "output_type": "stream",
     "text": [
      "captcha_required\n"
     ]
    },
    {
     "name": "stderr",
     "output_type": "stream",
     "text": [
      " 40%|████████████████████████████████▍                                                | 40/100 [00:16<00:29,  2.00it/s]"
     ]
    },
    {
     "name": "stdout",
     "output_type": "stream",
     "text": [
      "captcha_required\n"
     ]
    },
    {
     "name": "stderr",
     "output_type": "stream",
     "text": [
      "\r",
      " 41%|█████████████████████████████████▏                                               | 41/100 [00:18<00:46,  1.28it/s]"
     ]
    },
    {
     "name": "stdout",
     "output_type": "stream",
     "text": [
      "captcha_required\n"
     ]
    },
    {
     "name": "stderr",
     "output_type": "stream",
     "text": [
      " 80%|████████████████████████████████████████████████████████████████▊                | 80/100 [00:35<00:08,  2.40it/s]"
     ]
    },
    {
     "name": "stdout",
     "output_type": "stream",
     "text": [
      "captcha_required\n"
     ]
    },
    {
     "name": "stderr",
     "output_type": "stream",
     "text": [
      " 99%|████████████████████████████████████████████████████████████████████████████████▏| 99/100 [00:42<00:00,  3.26it/s]"
     ]
    },
    {
     "name": "stdout",
     "output_type": "stream",
     "text": [
      "captcha_required\n"
     ]
    },
    {
     "name": "stderr",
     "output_type": "stream",
     "text": [
      "100%|████████████████████████████████████████████████████████████████████████████████| 100/100 [00:43<00:00,  1.56it/s]\n"
     ]
    },
    {
     "name": "stdout",
     "output_type": "stream",
     "text": [
      "вакансий получено - 84\n",
      "вакансий пропущено - 11\n",
      "вакансий с ошибкой - 5\n",
      "('https://api.hh.ru/vacancies?area=90&professional_role=64&area=212&professional_role=9&area=79&professional_role=49&area=66&professional_role=100&area=53&professional_role=128&area=1220&professional_role=21&area=112&professional_role=143&area=77&professional_role=128&area=23&professional_role=94&area=104&professional_role=144&area=22&professional_role=63&area=58&professional_role=48&area=104&professional_role=129&area=2088&professional_role=48', 1906)\n",
      "number url - 166\n",
      "размер массива (130463, 1)\n",
      "total_pages - 20\n"
     ]
    },
    {
     "name": "stderr",
     "output_type": "stream",
     "text": [
      " 31%|█████████████████████████                                                        | 31/100 [00:14<00:30,  2.27it/s]"
     ]
    },
    {
     "name": "stdout",
     "output_type": "stream",
     "text": [
      "captcha_required\n"
     ]
    },
    {
     "name": "stderr",
     "output_type": "stream",
     "text": [
      " 67%|██████████████████████████████████████████████████████▎                          | 67/100 [00:30<00:14,  2.32it/s]"
     ]
    },
    {
     "name": "stdout",
     "output_type": "stream",
     "text": [
      "captcha_required\n"
     ]
    },
    {
     "name": "stderr",
     "output_type": "stream",
     "text": [
      " 70%|████████████████████████████████████████████████████████▋                        | 70/100 [00:32<00:17,  1.73it/s]"
     ]
    },
    {
     "name": "stdout",
     "output_type": "stream",
     "text": [
      "captcha_required\n"
     ]
    },
    {
     "name": "stderr",
     "output_type": "stream",
     "text": [
      "\r",
      " 71%|█████████████████████████████████████████████████████████▌                       | 71/100 [00:34<00:24,  1.20it/s]"
     ]
    },
    {
     "name": "stdout",
     "output_type": "stream",
     "text": [
      "captcha_required\n"
     ]
    },
    {
     "name": "stderr",
     "output_type": "stream",
     "text": [
      " 82%|██████████████████████████████████████████████████████████████████▍              | 82/100 [00:39<00:07,  2.29it/s]"
     ]
    },
    {
     "name": "stdout",
     "output_type": "stream",
     "text": [
      "captcha_required\n"
     ]
    },
    {
     "name": "stderr",
     "output_type": "stream",
     "text": [
      "100%|████████████████████████████████████████████████████████████████████████████████| 100/100 [00:48<00:00,  2.34it/s]\n"
     ]
    },
    {
     "name": "stdout",
     "output_type": "stream",
     "text": [
      "вакансий получено - 93\n",
      "вакансий пропущено - 2\n",
      "вакансий с ошибкой - 5\n",
      "('https://api.hh.ru/vacancies?area=71&professional_role=52&area=72&professional_role=130&area=95&professional_role=45&area=3&professional_role=54&area=160&professional_role=121&area=11&professional_role=89&area=2759&professional_role=88&area=76&professional_role=142&area=79&professional_role=58&area=58&professional_role=143&area=53&professional_role=107&area=22&professional_role=96&area=23&professional_role=48&area=11&professional_role=58', 1918)\n",
      "number url - 167\n",
      "размер массива (130556, 1)\n",
      "total_pages - 20\n"
     ]
    },
    {
     "name": "stderr",
     "output_type": "stream",
     "text": [
      " 29%|███████████████████████▍                                                         | 29/100 [00:09<00:25,  2.81it/s]"
     ]
    },
    {
     "name": "stdout",
     "output_type": "stream",
     "text": [
      "captcha_required\n"
     ]
    },
    {
     "name": "stderr",
     "output_type": "stream",
     "text": [
      " 37%|█████████████████████████████▉                                                   | 37/100 [00:11<00:19,  3.18it/s]"
     ]
    },
    {
     "name": "stdout",
     "output_type": "stream",
     "text": [
      "captcha_required\n"
     ]
    },
    {
     "name": "stderr",
     "output_type": "stream",
     "text": [
      " 79%|███████████████████████████████████████████████████████████████▉                 | 79/100 [00:25<00:07,  2.70it/s]"
     ]
    },
    {
     "name": "stdout",
     "output_type": "stream",
     "text": [
      "captcha_required\n"
     ]
    },
    {
     "name": "stderr",
     "output_type": "stream",
     "text": [
      "100%|████████████████████████████████████████████████████████████████████████████████| 100/100 [00:32<00:00,  3.12it/s]\n"
     ]
    },
    {
     "name": "stdout",
     "output_type": "stream",
     "text": [
      "вакансий получено - 62\n",
      "вакансий пропущено - 35\n",
      "вакансий с ошибкой - 3\n",
      "('https://api.hh.ru/vacancies?area=92&professional_role=49&area=49&professional_role=52&area=66&professional_role=63&area=104&professional_role=67&area=177&professional_role=18&area=56&professional_role=83&area=79&professional_role=128&area=237&professional_role=18&area=26&professional_role=63&area=88&professional_role=107&area=35&professional_role=9&area=66&professional_role=77&area=89&professional_role=58&area=2053&professional_role=52', 1939)\n",
      "number url - 168\n",
      "размер массива (130618, 1)\n",
      "total_pages - 20\n"
     ]
    },
    {
     "name": "stderr",
     "output_type": "stream",
     "text": [
      " 29%|███████████████████████▍                                                         | 29/100 [00:12<00:31,  2.26it/s]"
     ]
    },
    {
     "name": "stdout",
     "output_type": "stream",
     "text": [
      "captcha_required\n"
     ]
    },
    {
     "name": "stderr",
     "output_type": "stream",
     "text": [
      " 43%|██████████████████████████████████▊                                              | 43/100 [00:19<00:24,  2.31it/s]"
     ]
    },
    {
     "name": "stdout",
     "output_type": "stream",
     "text": [
      "captcha_required\n"
     ]
    },
    {
     "name": "stderr",
     "output_type": "stream",
     "text": [
      " 56%|█████████████████████████████████████████████▎                                   | 56/100 [00:26<00:19,  2.31it/s]"
     ]
    },
    {
     "name": "stdout",
     "output_type": "stream",
     "text": [
      "captcha_required\n"
     ]
    },
    {
     "name": "stderr",
     "output_type": "stream",
     "text": [
      " 79%|███████████████████████████████████████████████████████████████▉                 | 79/100 [00:37<00:09,  2.18it/s]"
     ]
    },
    {
     "name": "stdout",
     "output_type": "stream",
     "text": [
      "captcha_required\n"
     ]
    },
    {
     "name": "stderr",
     "output_type": "stream",
     "text": [
      "100%|████████████████████████████████████████████████████████████████████████████████| 100/100 [00:48<00:00,  2.37it/s]\n"
     ]
    },
    {
     "name": "stdout",
     "output_type": "stream",
     "text": [
      "вакансий получено - 95\n",
      "вакансий пропущено - 1\n",
      "вакансий с ошибкой - 4\n",
      "('https://api.hh.ru/vacancies?area=22&professional_role=24&area=96&professional_role=131&area=89&professional_role=131&area=88&professional_role=45&area=53&professional_role=34&area=102&professional_role=89&area=66&professional_role=129&area=237&professional_role=64&area=66&professional_role=88&area=102&professional_role=111&area=22&professional_role=48&area=98&professional_role=128&area=1002&professional_role=23&area=66&professional_role=69', 1953)\n",
      "number url - 169\n",
      "размер массива (130713, 1)\n",
      "total_pages - 20\n"
     ]
    },
    {
     "name": "stderr",
     "output_type": "stream",
     "text": [
      " 21%|█████████████████                                                                | 21/100 [00:09<00:34,  2.30it/s]"
     ]
    },
    {
     "name": "stdout",
     "output_type": "stream",
     "text": [
      "captcha_required\n"
     ]
    },
    {
     "name": "stderr",
     "output_type": "stream",
     "text": [
      "\r",
      " 22%|█████████████████▊                                                               | 22/100 [00:10<01:03,  1.23it/s]"
     ]
    },
    {
     "name": "stdout",
     "output_type": "stream",
     "text": [
      "captcha_required\n"
     ]
    },
    {
     "name": "stderr",
     "output_type": "stream",
     "text": [
      " 53%|██████████████████████████████████████████▉                                      | 53/100 [00:25<00:22,  2.12it/s]"
     ]
    },
    {
     "name": "stdout",
     "output_type": "stream",
     "text": [
      "captcha_required\n"
     ]
    },
    {
     "name": "stderr",
     "output_type": "stream",
     "text": [
      " 77%|██████████████████████████████████████████████████████████████▎                  | 77/100 [00:36<00:09,  2.34it/s]"
     ]
    },
    {
     "name": "stdout",
     "output_type": "stream",
     "text": [
      "captcha_required\n"
     ]
    },
    {
     "name": "stderr",
     "output_type": "stream",
     "text": [
      "100%|████████████████████████████████████████████████████████████████████████████████| 100/100 [00:48<00:00,  2.28it/s]\n"
     ]
    },
    {
     "name": "stdout",
     "output_type": "stream",
     "text": [
      "вакансий получено - 96\n",
      "вакансий пропущено - 0\n",
      "вакансий с ошибкой - 4\n",
      "('https://api.hh.ru/vacancies?area=24&professional_role=9&area=17&professional_role=131&area=212&professional_role=35&area=47&professional_role=143&area=104&professional_role=51&area=19&professional_role=24&area=26&professional_role=109&area=160&professional_role=131&area=73&professional_role=21&area=32&professional_role=83&area=160&professional_role=51&area=11&professional_role=8&area=1002&professional_role=109&area=24&professional_role=100', 1969)\n",
      "number url - 170\n",
      "размер массива (130809, 1)\n",
      "total_pages - 20\n"
     ]
    },
    {
     "name": "stderr",
     "output_type": "stream",
     "text": [
      "  5%|████                                                                              | 5/100 [00:00<00:09,  9.75it/s]"
     ]
    },
    {
     "name": "stdout",
     "output_type": "stream",
     "text": [
      "captcha_required\n"
     ]
    },
    {
     "name": "stderr",
     "output_type": "stream",
     "text": [
      " 55%|████████████████████████████████████████████▌                                    | 55/100 [00:09<00:10,  4.10it/s]"
     ]
    },
    {
     "name": "stdout",
     "output_type": "stream",
     "text": [
      "captcha_required\n"
     ]
    },
    {
     "name": "stderr",
     "output_type": "stream",
     "text": [
      " 90%|████████████████████████████████████████████████████████████████████████▉        | 90/100 [00:21<00:03,  2.63it/s]"
     ]
    },
    {
     "name": "stdout",
     "output_type": "stream",
     "text": [
      "captcha_required\n"
     ]
    },
    {
     "name": "stderr",
     "output_type": "stream",
     "text": [
      "100%|████████████████████████████████████████████████████████████████████████████████| 100/100 [00:25<00:00,  3.93it/s]\n"
     ]
    },
    {
     "name": "stdout",
     "output_type": "stream",
     "text": [
      "вакансий получено - 46\n",
      "вакансий пропущено - 51\n",
      "вакансий с ошибкой - 3\n",
      "('https://api.hh.ru/vacancies?area=71&professional_role=115&area=2237&professional_role=131&area=41&professional_role=64&area=26&professional_role=78&area=4&professional_role=27&area=89&professional_role=94&area=23&professional_role=83&area=53&professional_role=117&area=41&professional_role=52&area=1002&professional_role=90&area=2062&professional_role=70&area=58&professional_role=102&area=2759&professional_role=68&area=53&professional_role=85', 1991)\n",
      "number url - 171\n",
      "размер массива (130855, 1)\n",
      "total_pages - 20\n"
     ]
    },
    {
     "name": "stderr",
     "output_type": "stream",
     "text": [
      "100%|████████████████████████████████████████████████████████████████████████████████| 100/100 [00:30<00:00,  2.32it/s]\n"
     ]
    },
    {
     "name": "stdout",
     "output_type": "stream",
     "text": [
      "вакансий получено - 65\n",
      "вакансий пропущено - 35\n",
      "вакансий с ошибкой - 0\n",
      "('https://api.hh.ru/vacancies?area=71&professional_role=128&area=26&professional_role=132&area=3&professional_role=71&area=24&professional_role=109&area=54&professional_role=67&area=102&professional_role=115&area=102&professional_role=31&area=76&professional_role=88&area=1440&professional_role=70&area=66&professional_role=51&area=54&professional_role=82&area=41&professional_role=8&area=88&professional_role=113', 1861)\n",
      "number url - 172\n",
      "размер массива (130920, 1)\n",
      "total_pages - 20\n"
     ]
    },
    {
     "name": "stderr",
     "output_type": "stream",
     "text": [
      " 62%|██████████████████████████████████████████████████▏                              | 62/100 [00:21<00:17,  2.12it/s]"
     ]
    },
    {
     "name": "stdout",
     "output_type": "stream",
     "text": [
      "captcha_required\n"
     ]
    },
    {
     "name": "stderr",
     "output_type": "stream",
     "text": [
      " 69%|███████████████████████████████████████████████████████▉                         | 69/100 [00:24<00:14,  2.21it/s]"
     ]
    },
    {
     "name": "stdout",
     "output_type": "stream",
     "text": [
      "captcha_required\n"
     ]
    },
    {
     "name": "stderr",
     "output_type": "stream",
     "text": [
      " 76%|█████████████████████████████████████████████████████████████▌                   | 76/100 [00:27<00:11,  2.11it/s]"
     ]
    },
    {
     "name": "stdout",
     "output_type": "stream",
     "text": [
      "captcha_required\n"
     ]
    },
    {
     "name": "stderr",
     "output_type": "stream",
     "text": [
      " 87%|██████████████████████████████████████████████████████████████████████▍          | 87/100 [00:33<00:05,  2.30it/s]"
     ]
    },
    {
     "name": "stdout",
     "output_type": "stream",
     "text": [
      "captcha_required\n"
     ]
    },
    {
     "name": "stderr",
     "output_type": "stream",
     "text": [
      "100%|████████████████████████████████████████████████████████████████████████████████| 100/100 [00:39<00:00,  2.10it/s]\n"
     ]
    },
    {
     "name": "stdout",
     "output_type": "stream",
     "text": [
      "вакансий получено - 73\n",
      "вакансий пропущено - 23\n",
      "вакансий с ошибкой - 4\n",
      "('https://api.hh.ru/vacancies?area=1641&professional_role=9&area=1007&professional_role=21&area=3&professional_role=74&area=88&professional_role=129&area=102&professional_role=5&area=54&professional_role=35&area=66&professional_role=90&area=95&professional_role=131&area=3&professional_role=23&area=68&professional_role=132&area=79&professional_role=131&area=72&professional_role=89&area=104&professional_role=45', 1878)\n",
      "number url - 173\n",
      "размер массива (130993, 1)\n",
      "total_pages - 20\n"
     ]
    },
    {
     "name": "stderr",
     "output_type": "stream",
     "text": [
      " 97%|██████████████████████████████████████████████████████████████████████████████▌  | 97/100 [00:19<00:00,  4.29it/s]"
     ]
    },
    {
     "name": "stdout",
     "output_type": "stream",
     "text": [
      "captcha_required\n"
     ]
    },
    {
     "name": "stderr",
     "output_type": "stream",
     "text": [
      "100%|████████████████████████████████████████████████████████████████████████████████| 100/100 [00:20<00:00,  2.10it/s]\n"
     ]
    },
    {
     "name": "stdout",
     "output_type": "stream",
     "text": [
      "вакансий получено - 44\n",
      "вакансий пропущено - 55\n",
      "вакансий с ошибкой - 1\n",
      "('https://api.hh.ru/vacancies?area=72&professional_role=64&area=1641&professional_role=58&area=66&professional_role=106&area=54&professional_role=6&area=1002&professional_role=128&area=1002&professional_role=78&area=77&professional_role=52&area=2053&professional_role=24&area=130&professional_role=97&area=89&professional_role=83&area=78&professional_role=100&area=160&professional_role=64&area=95&professional_role=78', 1893)\n",
      "number url - 174\n",
      "размер массива (131037, 1)\n",
      "total_pages - 20\n"
     ]
    },
    {
     "name": "stderr",
     "output_type": "stream",
     "text": [
      " 59%|███████████████████████████████████████████████▊                                 | 59/100 [00:22<00:18,  2.21it/s]"
     ]
    },
    {
     "name": "stdout",
     "output_type": "stream",
     "text": [
      "captcha_required\n"
     ]
    },
    {
     "name": "stderr",
     "output_type": "stream",
     "text": [
      " 64%|███████████████████████████████████████████████████▊                             | 64/100 [00:25<00:17,  2.01it/s]"
     ]
    },
    {
     "name": "stdout",
     "output_type": "stream",
     "text": [
      "captcha_required\n"
     ]
    },
    {
     "name": "stderr",
     "output_type": "stream",
     "text": [
      " 75%|████████████████████████████████████████████████████████████▊                    | 75/100 [00:31<00:12,  2.04it/s]"
     ]
    },
    {
     "name": "stdout",
     "output_type": "stream",
     "text": [
      "captcha_required\n"
     ]
    },
    {
     "name": "stderr",
     "output_type": "stream",
     "text": [
      " 86%|█████████████████████████████████████████████████████████████████████▋           | 86/100 [00:36<00:05,  2.42it/s]"
     ]
    },
    {
     "name": "stdout",
     "output_type": "stream",
     "text": [
      "captcha_required\n"
     ]
    },
    {
     "name": "stderr",
     "output_type": "stream",
     "text": [
      "\r",
      " 87%|██████████████████████████████████████████████████████████████████████▍          | 87/100 [00:37<00:09,  1.40it/s]"
     ]
    },
    {
     "name": "stdout",
     "output_type": "stream",
     "text": [
      "captcha_required\n"
     ]
    },
    {
     "name": "stderr",
     "output_type": "stream",
     "text": [
      "\r",
      " 88%|███████████████████████████████████████████████████████████████████████▎         | 88/100 [00:39<00:11,  1.07it/s]"
     ]
    },
    {
     "name": "stdout",
     "output_type": "stream",
     "text": [
      "captcha_required\n"
     ]
    },
    {
     "name": "stderr",
     "output_type": "stream",
     "text": [
      "100%|████████████████████████████████████████████████████████████████████████████████| 100/100 [00:44<00:00,  2.26it/s]\n"
     ]
    },
    {
     "name": "stdout",
     "output_type": "stream",
     "text": [
      "вакансий получено - 81\n",
      "вакансий пропущено - 13\n",
      "вакансий с ошибкой - 6\n",
      "('https://api.hh.ru/vacancies?area=1002&professional_role=85&area=76&professional_role=84&area=35&professional_role=90&area=76&professional_role=78&area=2088&professional_role=52&area=68&professional_role=89&area=1375&professional_role=70&area=72&professional_role=58&area=26&professional_role=68&area=22&professional_role=89&area=24&professional_role=63&area=54&professional_role=142&area=15&professional_role=94', 1909)\n",
      "number url - 175\n",
      "размер массива (131118, 1)\n",
      "total_pages - 20\n"
     ]
    },
    {
     "name": "stderr",
     "output_type": "stream",
     "text": [
      " 41%|█████████████████████████████████▏                                               | 41/100 [00:14<00:24,  2.44it/s]"
     ]
    },
    {
     "name": "stdout",
     "output_type": "stream",
     "text": [
      "captcha_required\n"
     ]
    },
    {
     "name": "stderr",
     "output_type": "stream",
     "text": [
      "100%|████████████████████████████████████████████████████████████████████████████████| 100/100 [00:38<00:00,  2.65it/s]\n"
     ]
    },
    {
     "name": "stdout",
     "output_type": "stream",
     "text": [
      "вакансий получено - 84\n",
      "вакансий пропущено - 15\n",
      "вакансий с ошибкой - 1\n",
      "('https://api.hh.ru/vacancies?area=102&professional_role=66&area=99&professional_role=110&area=4&professional_role=6&area=92&professional_role=52&area=1550&professional_role=70&area=88&professional_role=63&area=11&professional_role=5&area=78&professional_role=109&area=102&professional_role=131&area=26&professional_role=129&area=72&professional_role=111&area=88&professional_role=145&area=2083&professional_role=97', 1923)\n",
      "number url - 176\n",
      "размер массива (131202, 1)\n",
      "total_pages - 20\n"
     ]
    },
    {
     "name": "stderr",
     "output_type": "stream",
     "text": [
      " 21%|█████████████████                                                                | 21/100 [00:06<00:30,  2.58it/s]"
     ]
    },
    {
     "name": "stdout",
     "output_type": "stream",
     "text": [
      "captcha_required\n"
     ]
    },
    {
     "name": "stderr",
     "output_type": "stream",
     "text": [
      " 31%|█████████████████████████                                                        | 31/100 [00:11<00:28,  2.42it/s]"
     ]
    },
    {
     "name": "stdout",
     "output_type": "stream",
     "text": [
      "captcha_required\n"
     ]
    },
    {
     "name": "stderr",
     "output_type": "stream",
     "text": [
      "\r",
      " 32%|█████████████████████████▉                                                       | 32/100 [00:12<00:49,  1.39it/s]"
     ]
    },
    {
     "name": "stdout",
     "output_type": "stream",
     "text": [
      "captcha_required\n"
     ]
    },
    {
     "name": "stderr",
     "output_type": "stream",
     "text": [
      "\r",
      " 33%|██████████████████████████▋                                                      | 33/100 [00:13<01:01,  1.09it/s]"
     ]
    },
    {
     "name": "stdout",
     "output_type": "stream",
     "text": [
      "captcha_required\n"
     ]
    },
    {
     "name": "stderr",
     "output_type": "stream",
     "text": [
      " 43%|██████████████████████████████████▊                                              | 43/100 [00:18<00:24,  2.36it/s]"
     ]
    },
    {
     "name": "stdout",
     "output_type": "stream",
     "text": [
      "captcha_required\n"
     ]
    },
    {
     "name": "stderr",
     "output_type": "stream",
     "text": [
      "\r",
      " 44%|███████████████████████████████████▋                                             | 44/100 [00:20<00:41,  1.35it/s]"
     ]
    },
    {
     "name": "stdout",
     "output_type": "stream",
     "text": [
      "captcha_required\n"
     ]
    },
    {
     "name": "stderr",
     "output_type": "stream",
     "text": [
      " 86%|█████████████████████████████████████████████████████████████████████▋           | 86/100 [00:36<00:05,  2.35it/s]"
     ]
    },
    {
     "name": "stdout",
     "output_type": "stream",
     "text": [
      "captcha_required\n"
     ]
    },
    {
     "name": "stderr",
     "output_type": "stream",
     "text": [
      "100%|████████████████████████████████████████████████████████████████████████████████| 100/100 [00:43<00:00,  2.36it/s]\n"
     ]
    },
    {
     "name": "stdout",
     "output_type": "stream",
     "text": [
      "вакансий получено - 77\n",
      "вакансий пропущено - 16\n",
      "вакансий с ошибкой - 7\n",
      "('https://api.hh.ru/vacancies?area=76&professional_role=49&area=68&professional_role=64&area=112&professional_role=52&area=76&professional_role=77&area=1641&professional_role=5&area=83&professional_role=24&area=102&professional_role=100&area=66&professional_role=145&area=2034&professional_role=52&area=212&professional_role=85&area=1375&professional_role=97&area=88&professional_role=77&area=88&professional_role=67', 1938)\n",
      "number url - 177\n",
      "размер массива (131279, 1)\n",
      "total_pages - 20\n"
     ]
    },
    {
     "name": "stderr",
     "output_type": "stream",
     "text": [
      " 53%|██████████████████████████████████████████▉                                      | 53/100 [00:22<00:18,  2.48it/s]"
     ]
    },
    {
     "name": "stdout",
     "output_type": "stream",
     "text": [
      "captcha_required\n"
     ]
    },
    {
     "name": "stderr",
     "output_type": "stream",
     "text": [
      " 62%|██████████████████████████████████████████████████▏                              | 62/100 [00:27<00:17,  2.23it/s]"
     ]
    },
    {
     "name": "stdout",
     "output_type": "stream",
     "text": [
      "captcha_required\n"
     ]
    },
    {
     "name": "stderr",
     "output_type": "stream",
     "text": [
      "\r",
      " 63%|███████████████████████████████████████████████████                              | 63/100 [00:29<00:27,  1.36it/s]"
     ]
    },
    {
     "name": "stdout",
     "output_type": "stream",
     "text": [
      "captcha_required\n"
     ]
    },
    {
     "name": "stderr",
     "output_type": "stream",
     "text": [
      "\r",
      " 64%|███████████████████████████████████████████████████▊                             | 64/100 [00:30<00:33,  1.07it/s]"
     ]
    },
    {
     "name": "stdout",
     "output_type": "stream",
     "text": [
      "captcha_required\n"
     ]
    },
    {
     "name": "stderr",
     "output_type": "stream",
     "text": [
      " 74%|███████████████████████████████████████████████████████████▉                     | 74/100 [00:36<00:12,  2.05it/s]"
     ]
    },
    {
     "name": "stdout",
     "output_type": "stream",
     "text": [
      "captcha_required\n"
     ]
    },
    {
     "name": "stderr",
     "output_type": "stream",
     "text": [
      " 89%|████████████████████████████████████████████████████████████████████████         | 89/100 [00:43<00:04,  2.31it/s]"
     ]
    },
    {
     "name": "stdout",
     "output_type": "stream",
     "text": [
      "captcha_required\n"
     ]
    },
    {
     "name": "stderr",
     "output_type": "stream",
     "text": [
      "100%|████████████████████████████████████████████████████████████████████████████████| 100/100 [00:49<00:00,  2.31it/s]\n"
     ]
    },
    {
     "name": "stdout",
     "output_type": "stream",
     "text": [
      "вакансий получено - 93\n",
      "вакансий пропущено - 1\n",
      "вакансий с ошибкой - 6\n",
      "('https://api.hh.ru/vacancies?area=78&professional_role=129&area=95&professional_role=142&area=54&professional_role=129&area=159&professional_role=24&area=98&professional_role=58&area=4&professional_role=46&area=1979&professional_role=21&area=76&professional_role=85&area=88&professional_role=85&area=66&professional_role=86&area=160&professional_role=72&area=2039&professional_role=21&area=102&professional_role=130', 1955)\n",
      "number url - 178\n",
      "размер массива (131372, 1)\n",
      "total_pages - 20\n"
     ]
    },
    {
     "name": "stderr",
     "output_type": "stream",
     "text": [
      " 26%|█████████████████████                                                            | 26/100 [00:09<00:29,  2.49it/s]"
     ]
    },
    {
     "name": "stdout",
     "output_type": "stream",
     "text": [
      "captcha_required\n"
     ]
    },
    {
     "name": "stderr",
     "output_type": "stream",
     "text": [
      " 93%|███████████████████████████████████████████████████████████████████████████▎     | 93/100 [00:33<00:02,  3.12it/s]"
     ]
    },
    {
     "name": "stdout",
     "output_type": "stream",
     "text": [
      "captcha_required\n"
     ]
    },
    {
     "name": "stderr",
     "output_type": "stream",
     "text": [
      "100%|████████████████████████████████████████████████████████████████████████████████| 100/100 [00:37<00:00,  2.66it/s]\n"
     ]
    },
    {
     "name": "stdout",
     "output_type": "stream",
     "text": [
      "вакансий получено - 79\n",
      "вакансий пропущено - 19\n",
      "вакансий с ошибкой - 2\n",
      "('https://api.hh.ru/vacancies?area=96&professional_role=83&area=212&professional_role=115&area=96&professional_role=8&area=70&professional_role=18&area=95&professional_role=35&area=96&professional_role=49&area=160&professional_role=52&area=2062&professional_role=40&area=66&professional_role=45&area=1002&professional_role=100&area=53&professional_role=71&area=68&professional_role=58&area=78&professional_role=5', 1968)\n",
      "number url - 179\n",
      "размер массива (131451, 1)\n",
      "total_pages - 20\n"
     ]
    },
    {
     "name": "stderr",
     "output_type": "stream",
     "text": [
      "  4%|███▎                                                                              | 4/100 [00:01<00:39,  2.46it/s]"
     ]
    },
    {
     "name": "stdout",
     "output_type": "stream",
     "text": [
      "captcha_required\n"
     ]
    },
    {
     "name": "stderr",
     "output_type": "stream",
     "text": [
      "  7%|█████▋                                                                            | 7/100 [00:03<00:52,  1.78it/s]"
     ]
    },
    {
     "name": "stdout",
     "output_type": "stream",
     "text": [
      "captcha_required\n"
     ]
    },
    {
     "name": "stderr",
     "output_type": "stream",
     "text": [
      " 18%|██████████████▌                                                                  | 18/100 [00:07<00:31,  2.64it/s]"
     ]
    },
    {
     "name": "stdout",
     "output_type": "stream",
     "text": [
      "captcha_required\n"
     ]
    },
    {
     "name": "stderr",
     "output_type": "stream",
     "text": [
      " 52%|██████████████████████████████████████████                                       | 52/100 [00:20<00:20,  2.40it/s]"
     ]
    },
    {
     "name": "stdout",
     "output_type": "stream",
     "text": [
      "captcha_required\n"
     ]
    },
    {
     "name": "stderr",
     "output_type": "stream",
     "text": [
      " 57%|██████████████████████████████████████████████▏                                  | 57/100 [00:22<00:21,  2.01it/s]"
     ]
    },
    {
     "name": "stdout",
     "output_type": "stream",
     "text": [
      "captcha_required\n"
     ]
    },
    {
     "name": "stderr",
     "output_type": "stream",
     "text": [
      "100%|████████████████████████████████████████████████████████████████████████████████| 100/100 [00:38<00:00,  2.64it/s]\n"
     ]
    },
    {
     "name": "stdout",
     "output_type": "stream",
     "text": [
      "вакансий получено - 72\n",
      "вакансий пропущено - 23\n",
      "вакансий с ошибкой - 5\n",
      "('https://api.hh.ru/vacancies?area=212&professional_role=58&area=1002&professional_role=110&area=24&professional_role=143&area=1641&professional_role=49&area=72&professional_role=85&area=112&professional_role=131&area=49&professional_role=83&area=247&professional_role=70&area=104&professional_role=132&area=15&professional_role=83&area=70&professional_role=58&area=72&professional_role=35&area=99&professional_role=118', 1994)\n",
      "number url - 180\n",
      "размер массива (131523, 1)\n",
      "total_pages - 20\n"
     ]
    },
    {
     "name": "stderr",
     "output_type": "stream",
     "text": [
      " 42%|██████████████████████████████████                                               | 42/100 [00:17<00:24,  2.39it/s]"
     ]
    },
    {
     "name": "stdout",
     "output_type": "stream",
     "text": [
      "captcha_required\n"
     ]
    },
    {
     "name": "stderr",
     "output_type": "stream",
     "text": [
      " 44%|███████████████████████████████████▋                                             | 44/100 [00:19<00:34,  1.61it/s]"
     ]
    },
    {
     "name": "stdout",
     "output_type": "stream",
     "text": [
      "captcha_required\n"
     ]
    },
    {
     "name": "stderr",
     "output_type": "stream",
     "text": [
      " 49%|███████████████████████████████████████▋                                         | 49/100 [00:22<00:26,  1.89it/s]"
     ]
    },
    {
     "name": "stdout",
     "output_type": "stream",
     "text": [
      "captcha_required\n"
     ]
    },
    {
     "name": "stderr",
     "output_type": "stream",
     "text": [
      " 54%|███████████████████████████████████████████▋                                     | 54/100 [00:25<00:22,  2.02it/s]"
     ]
    },
    {
     "name": "stdout",
     "output_type": "stream",
     "text": [
      "captcha_required\n"
     ]
    },
    {
     "name": "stderr",
     "output_type": "stream",
     "text": [
      " 61%|█████████████████████████████████████████████████▍                               | 61/100 [00:29<00:18,  2.14it/s]"
     ]
    },
    {
     "name": "stdout",
     "output_type": "stream",
     "text": [
      "captcha_required\n"
     ]
    },
    {
     "name": "stderr",
     "output_type": "stream",
     "text": [
      " 87%|██████████████████████████████████████████████████████████████████████▍          | 87/100 [00:41<00:05,  2.34it/s]"
     ]
    },
    {
     "name": "stdout",
     "output_type": "stream",
     "text": [
      "captcha_required\n"
     ]
    },
    {
     "name": "stderr",
     "output_type": "stream",
     "text": [
      " 94%|████████████████████████████████████████████████████████████████████████████▏    | 94/100 [00:44<00:02,  2.23it/s]"
     ]
    },
    {
     "name": "stdout",
     "output_type": "stream",
     "text": [
      "captcha_required\n"
     ]
    },
    {
     "name": "stderr",
     "output_type": "stream",
     "text": [
      "100%|████████████████████████████████████████████████████████████████████████████████| 100/100 [00:47<00:00,  2.23it/s]\n"
     ]
    },
    {
     "name": "stdout",
     "output_type": "stream",
     "text": [
      "вакансий получено - 86\n",
      "вакансий пропущено - 7\n",
      "вакансий с ошибкой - 7\n",
      "('https://api.hh.ru/vacancies?area=1007&professional_role=70&area=1002&professional_role=51&area=66&professional_role=67&area=54&professional_role=9&area=104&professional_role=85&area=43&professional_role=83&area=2760&professional_role=97&area=25&professional_role=21&area=4&professional_role=107&area=80&professional_role=21&area=71&professional_role=102&area=26&professional_role=100', 1865)\n",
      "number url - 181\n",
      "размер массива (131609, 1)\n",
      "total_pages - 20\n"
     ]
    },
    {
     "name": "stderr",
     "output_type": "stream",
     "text": [
      "100%|████████████████████████████████████████████████████████████████████████████████| 100/100 [00:28<00:00,  2.86it/s]\n"
     ]
    },
    {
     "name": "stdout",
     "output_type": "stream",
     "text": [
      "вакансий получено - 63\n",
      "вакансий пропущено - 37\n",
      "вакансий с ошибкой - 0\n",
      "('https://api.hh.ru/vacancies?area=12&professional_role=97&area=24&professional_role=52&area=71&professional_role=48&area=79&professional_role=115&area=1454&professional_role=21&area=22&professional_role=66&area=83&professional_role=21&area=2025&professional_role=70&area=81&professional_role=21&area=90&professional_role=130&area=95&professional_role=66&area=4&professional_role=145', 1878)\n",
      "number url - 182\n",
      "размер массива (131672, 1)\n",
      "total_pages - 20\n"
     ]
    },
    {
     "name": "stderr",
     "output_type": "stream",
     "text": [
      " 21%|█████████████████                                                                | 21/100 [00:07<00:37,  2.08it/s]"
     ]
    },
    {
     "name": "stdout",
     "output_type": "stream",
     "text": [
      "captcha_required\n"
     ]
    },
    {
     "name": "stderr",
     "output_type": "stream",
     "text": [
      " 35%|████████████████████████████▎                                                    | 35/100 [00:13<00:27,  2.37it/s]"
     ]
    },
    {
     "name": "stdout",
     "output_type": "stream",
     "text": [
      "captcha_required\n"
     ]
    },
    {
     "name": "stderr",
     "output_type": "stream",
     "text": [
      " 53%|██████████████████████████████████████████▉                                      | 53/100 [00:21<00:19,  2.39it/s]"
     ]
    },
    {
     "name": "stdout",
     "output_type": "stream",
     "text": [
      "captcha_required\n"
     ]
    },
    {
     "name": "stderr",
     "output_type": "stream",
     "text": [
      " 60%|████████████████████████████████████████████████▌                                | 60/100 [00:25<00:19,  2.10it/s]"
     ]
    },
    {
     "name": "stdout",
     "output_type": "stream",
     "text": [
      "captcha_required\n"
     ]
    },
    {
     "name": "stderr",
     "output_type": "stream",
     "text": [
      " 65%|████████████████████████████████████████████████████▋                            | 65/100 [00:28<00:18,  1.87it/s]"
     ]
    },
    {
     "name": "stdout",
     "output_type": "stream",
     "text": [
      "captcha_required\n"
     ]
    },
    {
     "name": "stderr",
     "output_type": "stream",
     "text": [
      "\r",
      " 66%|█████████████████████████████████████████████████████▍                           | 66/100 [00:30<00:27,  1.25it/s]"
     ]
    },
    {
     "name": "stdout",
     "output_type": "stream",
     "text": [
      "captcha_required\n"
     ]
    },
    {
     "name": "stderr",
     "output_type": "stream",
     "text": [
      "\r",
      " 67%|██████████████████████████████████████████████████████▎                          | 67/100 [00:31<00:33,  1.00s/it]"
     ]
    },
    {
     "name": "stdout",
     "output_type": "stream",
     "text": [
      "captcha_required\n"
     ]
    },
    {
     "name": "stderr",
     "output_type": "stream",
     "text": [
      "100%|████████████████████████████████████████████████████████████████████████████████| 100/100 [00:46<00:00,  2.30it/s]\n"
     ]
    },
    {
     "name": "stdout",
     "output_type": "stream",
     "text": [
      "вакансий получено - 85\n",
      "вакансий пропущено - 8\n",
      "вакансий с ошибкой - 7\n",
      "('https://api.hh.ru/vacancies?area=67&professional_role=24&area=112&professional_role=9&area=2020&professional_role=21&area=160&professional_role=10&area=212&professional_role=83&area=1002&professional_role=64&area=84&professional_role=94&area=103&professional_role=70&area=49&professional_role=115&area=19&professional_role=83&area=24&professional_role=115&area=53&professional_role=146', 1894)\n",
      "number url - 183\n",
      "размер массива (131757, 1)\n",
      "total_pages - 20\n"
     ]
    },
    {
     "name": "stderr",
     "output_type": "stream",
     "text": [
      " 79%|███████████████████████████████████████████████████████████████▉                 | 79/100 [00:26<00:08,  2.50it/s]"
     ]
    },
    {
     "name": "stdout",
     "output_type": "stream",
     "text": [
      "captcha_required\n"
     ]
    },
    {
     "name": "stderr",
     "output_type": "stream",
     "text": [
      "100%|████████████████████████████████████████████████████████████████████████████████| 100/100 [00:32<00:00,  3.02it/s]\n"
     ]
    },
    {
     "name": "stdout",
     "output_type": "stream",
     "text": [
      "вакансий получено - 69\n",
      "вакансий пропущено - 30\n",
      "вакансий с ошибкой - 1\n",
      "('https://api.hh.ru/vacancies?area=14&professional_role=21&area=95&professional_role=49&area=1512&professional_role=70&area=99&professional_role=85&area=11&professional_role=85&area=3&professional_role=6&area=76&professional_role=128&area=76&professional_role=121&area=1375&professional_role=21&area=90&professional_role=143&area=24&professional_role=8&area=66&professional_role=146', 1915)\n",
      "number url - 184\n",
      "размер массива (131826, 1)\n",
      "total_pages - 20\n"
     ]
    },
    {
     "name": "stderr",
     "output_type": "stream",
     "text": [
      " 24%|███████████████████▍                                                             | 24/100 [00:04<00:16,  4.51it/s]"
     ]
    },
    {
     "name": "stdout",
     "output_type": "stream",
     "text": [
      "captcha_required\n"
     ]
    },
    {
     "name": "stderr",
     "output_type": "stream",
     "text": [
      " 44%|███████████████████████████████████▋                                             | 44/100 [00:08<00:15,  3.69it/s]"
     ]
    },
    {
     "name": "stdout",
     "output_type": "stream",
     "text": [
      "captcha_required\n"
     ]
    },
    {
     "name": "stderr",
     "output_type": "stream",
     "text": [
      "\r",
      " 48%|██████████████████████████████████████▉                                          | 48/100 [00:09<00:15,  3.36it/s]"
     ]
    },
    {
     "name": "stdout",
     "output_type": "stream",
     "text": [
      "captcha_required\n"
     ]
    },
    {
     "name": "stderr",
     "output_type": "stream",
     "text": [
      "\r",
      " 51%|█████████████████████████████████████████▎                                       | 51/100 [00:11<00:17,  2.85it/s]"
     ]
    },
    {
     "name": "stdout",
     "output_type": "stream",
     "text": [
      "captcha_required\n"
     ]
    },
    {
     "name": "stderr",
     "output_type": "stream",
     "text": [
      "100%|████████████████████████████████████████████████████████████████████████████████| 100/100 [00:21<00:00,  4.70it/s]\n"
     ]
    },
    {
     "name": "stdout",
     "output_type": "stream",
     "text": [
      "вакансий получено - 34\n",
      "вакансий пропущено - 62\n",
      "вакансий с ошибкой - 4\n",
      "('https://api.hh.ru/vacancies?area=66&professional_role=84&area=78&professional_role=142&area=53&professional_role=69&area=159&professional_role=129&area=2034&professional_role=24&area=1220&professional_role=97&area=15&professional_role=21&area=77&professional_role=24&area=47&professional_role=130&area=26&professional_role=142&area=22&professional_role=47&area=26&professional_role=6', 1935)\n",
      "number url - 185\n",
      "размер массива (131860, 1)\n",
      "total_pages - 20\n"
     ]
    },
    {
     "name": "stderr",
     "output_type": "stream",
     "text": [
      " 89%|████████████████████████████████████████████████████████████████████████         | 89/100 [00:36<00:05,  2.16it/s]"
     ]
    },
    {
     "name": "stdout",
     "output_type": "stream",
     "text": [
      "captcha_required\n"
     ]
    },
    {
     "name": "stderr",
     "output_type": "stream",
     "text": [
      "\r",
      " 90%|████████████████████████████████████████████████████████████████████████▉        | 90/100 [00:38<00:07,  1.33it/s]"
     ]
    },
    {
     "name": "stdout",
     "output_type": "stream",
     "text": [
      "captcha_required\n"
     ]
    },
    {
     "name": "stderr",
     "output_type": "stream",
     "text": [
      "100%|████████████████████████████████████████████████████████████████████████████████| 100/100 [00:43<00:00,  2.18it/s]\n"
     ]
    },
    {
     "name": "stdout",
     "output_type": "stream",
     "text": [
      "вакансий получено - 91\n",
      "вакансий пропущено - 7\n",
      "вакансий с ошибкой - 2\n",
      "('https://api.hh.ru/vacancies?area=68&professional_role=128&area=2090&professional_role=70&area=35&professional_role=45&area=68&professional_role=131&area=102&professional_role=143&area=79&professional_role=52&area=89&professional_role=52&area=35&professional_role=31&area=104&professional_role=82&area=47&professional_role=115&area=71&professional_role=18&area=76&professional_role=106', 1962)\n",
      "number url - 186\n",
      "размер массива (131951, 1)\n",
      "total_pages - 20\n"
     ]
    },
    {
     "name": "stderr",
     "output_type": "stream",
     "text": [
      " 11%|████████▉                                                                        | 11/100 [00:04<00:32,  2.78it/s]"
     ]
    },
    {
     "name": "stdout",
     "output_type": "stream",
     "text": [
      "captcha_required\n"
     ]
    },
    {
     "name": "stderr",
     "output_type": "stream",
     "text": [
      " 28%|██████████████████████▋                                                          | 28/100 [00:12<00:26,  2.76it/s]"
     ]
    },
    {
     "name": "stdout",
     "output_type": "stream",
     "text": [
      "captcha_required\n"
     ]
    },
    {
     "name": "stderr",
     "output_type": "stream",
     "text": [
      " 30%|████████████████████████▎                                                        | 30/100 [00:14<00:42,  1.64it/s]"
     ]
    },
    {
     "name": "stdout",
     "output_type": "stream",
     "text": [
      "captcha_required\n"
     ]
    },
    {
     "name": "stderr",
     "output_type": "stream",
     "text": [
      " 38%|██████████████████████████████▊                                                  | 38/100 [00:18<00:28,  2.19it/s]"
     ]
    },
    {
     "name": "stdout",
     "output_type": "stream",
     "text": [
      "captcha_required\n"
     ]
    },
    {
     "name": "stderr",
     "output_type": "stream",
     "text": [
      "100%|████████████████████████████████████████████████████████████████████████████████| 100/100 [00:44<00:00,  3.05it/s]\n"
     ]
    },
    {
     "name": "stdout",
     "output_type": "stream",
     "text": [
      "вакансий получено - 87\n",
      "вакансий пропущено - 9\n",
      "вакансий с ошибкой - 4\n",
      "('https://api.hh.ru/vacancies?area=53&professional_role=142&area=107&professional_role=115&area=2041&professional_role=52&area=3&professional_role=117&area=88&professional_role=31&area=54&professional_role=128&area=4&professional_role=88&area=77&professional_role=48&area=69&professional_role=21&area=2041&professional_role=21&area=104&professional_role=35&area=76&professional_role=109', 1989)\n",
      "number url - 187\n",
      "размер массива (132038, 1)\n",
      "total_pages - 20\n"
     ]
    },
    {
     "name": "stderr",
     "output_type": "stream",
     "text": [
      " 45%|████████████████████████████████████▍                                            | 45/100 [00:08<00:16,  3.24it/s]"
     ]
    },
    {
     "name": "stdout",
     "output_type": "stream",
     "text": [
      "captcha_required\n"
     ]
    },
    {
     "name": "stderr",
     "output_type": "stream",
     "text": [
      " 63%|███████████████████████████████████████████████████                              | 63/100 [00:14<00:15,  2.34it/s]"
     ]
    },
    {
     "name": "stdout",
     "output_type": "stream",
     "text": [
      "captcha_required\n"
     ]
    },
    {
     "name": "stderr",
     "output_type": "stream",
     "text": [
      "\r",
      " 64%|███████████████████████████████████████████████████▊                             | 64/100 [00:15<00:25,  1.39it/s]"
     ]
    },
    {
     "name": "stdout",
     "output_type": "stream",
     "text": [
      "captcha_required\n"
     ]
    },
    {
     "name": "stderr",
     "output_type": "stream",
     "text": [
      " 82%|██████████████████████████████████████████████████████████████████▍              | 82/100 [00:20<00:06,  2.68it/s]"
     ]
    },
    {
     "name": "stdout",
     "output_type": "stream",
     "text": [
      "captcha_required\n"
     ]
    },
    {
     "name": "stderr",
     "output_type": "stream",
     "text": [
      "100%|████████████████████████████████████████████████████████████████████████████████| 100/100 [00:26<00:00,  3.81it/s]\n"
     ]
    },
    {
     "name": "stdout",
     "output_type": "stream",
     "text": [
      "вакансий получено - 46\n",
      "вакансий пропущено - 50\n",
      "вакансий с ошибкой - 4\n",
      "('https://api.hh.ru/vacancies?area=49&professional_role=102&area=53&professional_role=45&area=78&professional_role=132&area=77&professional_role=131&area=70&professional_role=94&area=73&professional_role=58&area=1007&professional_role=97&area=72&professional_role=100&area=1641&professional_role=131&area=95&professional_role=130&area=92&professional_role=94', 1835)\n",
      "number url - 188\n",
      "размер массива (132084, 1)\n",
      "total_pages - 20\n"
     ]
    },
    {
     "name": "stderr",
     "output_type": "stream",
     "text": [
      " 16%|████████████▉                                                                    | 16/100 [00:07<00:36,  2.28it/s]"
     ]
    },
    {
     "name": "stdout",
     "output_type": "stream",
     "text": [
      "captcha_required\n"
     ]
    },
    {
     "name": "stderr",
     "output_type": "stream",
     "text": [
      " 70%|████████████████████████████████████████████████████████▋                        | 70/100 [00:31<00:12,  2.36it/s]"
     ]
    },
    {
     "name": "stdout",
     "output_type": "stream",
     "text": [
      "captcha_required\n"
     ]
    },
    {
     "name": "stderr",
     "output_type": "stream",
     "text": [
      "\r",
      " 71%|█████████████████████████████████████████████████████████▌                       | 71/100 [00:32<00:21,  1.38it/s]"
     ]
    },
    {
     "name": "stdout",
     "output_type": "stream",
     "text": [
      "captcha_required\n"
     ]
    },
    {
     "name": "stderr",
     "output_type": "stream",
     "text": [
      " 91%|█████████████████████████████████████████████████████████████████████████▋       | 91/100 [00:42<00:03,  2.31it/s]"
     ]
    },
    {
     "name": "stdout",
     "output_type": "stream",
     "text": [
      "captcha_required\n"
     ]
    },
    {
     "name": "stderr",
     "output_type": "stream",
     "text": [
      "\r",
      " 92%|██████████████████████████████████████████████████████████████████████████▌      | 92/100 [00:43<00:05,  1.37it/s]"
     ]
    },
    {
     "name": "stdout",
     "output_type": "stream",
     "text": [
      "captcha_required\n"
     ]
    },
    {
     "name": "stderr",
     "output_type": "stream",
     "text": [
      "100%|████████████████████████████████████████████████████████████████████████████████| 100/100 [00:47<00:00,  2.06it/s]\n"
     ]
    },
    {
     "name": "stdout",
     "output_type": "stream",
     "text": [
      "вакансий получено - 95\n",
      "вакансий пропущено - 0\n",
      "вакансий с ошибкой - 5\n",
      "('https://api.hh.ru/vacancies?area=102&professional_role=109&area=17&professional_role=94&area=32&professional_role=21&area=84&professional_role=83&area=78&professional_role=67&area=99&professional_role=142&area=4&professional_role=10&area=66&professional_role=78&area=68&professional_role=85&area=131&professional_role=21&area=104&professional_role=90', 1854)\n",
      "number url - 189\n",
      "размер массива (132179, 1)\n",
      "total_pages - 20\n"
     ]
    },
    {
     "name": "stderr",
     "output_type": "stream",
     "text": [
      " 14%|███████████▎                                                                     | 14/100 [00:05<00:34,  2.52it/s]"
     ]
    },
    {
     "name": "stdout",
     "output_type": "stream",
     "text": [
      "captcha_required\n"
     ]
    },
    {
     "name": "stderr",
     "output_type": "stream",
     "text": [
      " 23%|██████████████████▋                                                              | 23/100 [00:09<00:34,  2.26it/s]"
     ]
    },
    {
     "name": "stdout",
     "output_type": "stream",
     "text": [
      "captcha_required\n"
     ]
    },
    {
     "name": "stderr",
     "output_type": "stream",
     "text": [
      " 32%|█████████████████████████▉                                                       | 32/100 [00:13<00:24,  2.80it/s]"
     ]
    },
    {
     "name": "stdout",
     "output_type": "stream",
     "text": [
      "captcha_required\n"
     ]
    },
    {
     "name": "stderr",
     "output_type": "stream",
     "text": [
      "100%|████████████████████████████████████████████████████████████████████████████████| 100/100 [00:38<00:00,  2.38it/s]\n"
     ]
    },
    {
     "name": "stdout",
     "output_type": "stream",
     "text": [
      "вакансий получено - 76\n",
      "вакансий пропущено - 21\n",
      "вакансий с ошибкой - 3\n",
      "('https://api.hh.ru/vacancies?area=72&professional_role=66&area=58&professional_role=115&area=69&professional_role=83&area=92&professional_role=102&area=23&professional_role=24&area=2039&professional_role=131&area=54&professional_role=83&area=4&professional_role=90&area=53&professional_role=90&area=89&professional_role=128&area=88&professional_role=6', 1874)\n",
      "number url - 190\n",
      "размер массива (132255, 1)\n",
      "total_pages - 20\n"
     ]
    },
    {
     "name": "stderr",
     "output_type": "stream",
     "text": [
      " 36%|█████████████████████████████▏                                                   | 36/100 [00:14<00:27,  2.37it/s]"
     ]
    },
    {
     "name": "stdout",
     "output_type": "stream",
     "text": [
      "captcha_required\n"
     ]
    },
    {
     "name": "stderr",
     "output_type": "stream",
     "text": [
      "\r",
      " 37%|█████████████████████████████▉                                                   | 37/100 [00:15<00:45,  1.38it/s]"
     ]
    },
    {
     "name": "stdout",
     "output_type": "stream",
     "text": [
      "captcha_required\n"
     ]
    },
    {
     "name": "stderr",
     "output_type": "stream",
     "text": [
      " 43%|██████████████████████████████████▊                                              | 43/100 [00:19<00:29,  1.95it/s]"
     ]
    },
    {
     "name": "stdout",
     "output_type": "stream",
     "text": [
      "captcha_required\n"
     ]
    },
    {
     "name": "stderr",
     "output_type": "stream",
     "text": [
      "\r",
      " 44%|███████████████████████████████████▋                                             | 44/100 [00:21<00:43,  1.28it/s]"
     ]
    },
    {
     "name": "stdout",
     "output_type": "stream",
     "text": [
      "captcha_required\n"
     ]
    },
    {
     "name": "stderr",
     "output_type": "stream",
     "text": [
      " 59%|███████████████████████████████████████████████▊                                 | 59/100 [00:27<00:16,  2.42it/s]"
     ]
    },
    {
     "name": "stdout",
     "output_type": "stream",
     "text": [
      "captcha_required\n"
     ]
    },
    {
     "name": "stderr",
     "output_type": "stream",
     "text": [
      " 66%|█████████████████████████████████████████████████████▍                           | 66/100 [00:31<00:15,  2.15it/s]"
     ]
    },
    {
     "name": "stdout",
     "output_type": "stream",
     "text": [
      "captcha_required\n"
     ]
    },
    {
     "name": "stderr",
     "output_type": "stream",
     "text": [
      " 73%|███████████████████████████████████████████████████████████▏                     | 73/100 [00:35<00:12,  2.15it/s]"
     ]
    },
    {
     "name": "stdout",
     "output_type": "stream",
     "text": [
      "captcha_required\n"
     ]
    },
    {
     "name": "stderr",
     "output_type": "stream",
     "text": [
      "100%|████████████████████████████████████████████████████████████████████████████████| 100/100 [00:48<00:00,  2.22it/s]\n"
     ]
    },
    {
     "name": "stdout",
     "output_type": "stream",
     "text": [
      "вакансий получено - 89\n",
      "вакансий пропущено - 4\n",
      "вакансий с ошибкой - 7\n",
      "('https://api.hh.ru/vacancies?area=78&professional_role=49&area=76&professional_role=63&area=2759&professional_role=8&area=104&professional_role=78&area=68&professional_role=49&area=1512&professional_role=97&area=58&professional_role=18&area=87&professional_role=21&area=3&professional_role=51&area=22&professional_role=52&area=3&professional_role=146', 1887)\n",
      "number url - 191\n",
      "размер массива (132344, 1)\n",
      "total_pages - 20\n"
     ]
    },
    {
     "name": "stderr",
     "output_type": "stream",
     "text": [
      " 91%|█████████████████████████████████████████████████████████████████████████▋       | 91/100 [00:26<00:03,  2.95it/s]"
     ]
    },
    {
     "name": "stdout",
     "output_type": "stream",
     "text": [
      "captcha_required\n"
     ]
    },
    {
     "name": "stderr",
     "output_type": "stream",
     "text": [
      "\r",
      " 93%|███████████████████████████████████████████████████████████████████████████▎     | 93/100 [00:28<00:03,  2.22it/s]"
     ]
    },
    {
     "name": "stdout",
     "output_type": "stream",
     "text": [
      "captcha_required\n"
     ]
    },
    {
     "name": "stderr",
     "output_type": "stream",
     "text": [
      "100%|████████████████████████████████████████████████████████████████████████████████| 100/100 [00:29<00:00,  3.37it/s]\n"
     ]
    },
    {
     "name": "stdout",
     "output_type": "stream",
     "text": [
      "вакансий получено - 60\n",
      "вакансий пропущено - 38\n",
      "вакансий с ошибкой - 2\n",
      "('https://api.hh.ru/vacancies?area=99&professional_role=31&area=4&professional_role=146&area=1002&professional_role=49&area=1291&professional_role=70&area=92&professional_role=128&area=84&professional_role=18&area=26&professional_role=64&area=98&professional_role=18&area=2088&professional_role=21&area=35&professional_role=78&area=4&professional_role=113', 1896)\n",
      "number url - 192\n",
      "размер массива (132404, 1)\n",
      "total_pages - 20\n"
     ]
    },
    {
     "name": "stderr",
     "output_type": "stream",
     "text": [
      " 79%|███████████████████████████████████████████████████████████████▉                 | 79/100 [00:18<00:05,  3.72it/s]"
     ]
    },
    {
     "name": "stdout",
     "output_type": "stream",
     "text": [
      "captcha_required\n"
     ]
    },
    {
     "name": "stderr",
     "output_type": "stream",
     "text": [
      "100%|████████████████████████████████████████████████████████████████████████████████| 100/100 [00:22<00:00,  4.46it/s]\n"
     ]
    },
    {
     "name": "stdout",
     "output_type": "stream",
     "text": [
      "вакансий получено - 44\n",
      "вакансий пропущено - 55\n",
      "вакансий с ошибкой - 1\n",
      "('https://api.hh.ru/vacancies?area=89&professional_role=102&area=70&professional_role=63&area=88&professional_role=146&area=72&professional_role=78&area=76&professional_role=143&area=54&professional_role=132&area=35&professional_role=64&area=4&professional_role=77&area=53&professional_role=145&area=64&professional_role=24&area=68&professional_role=8', 1916)\n",
      "number url - 193\n",
      "размер массива (132448, 1)\n",
      "total_pages - 20\n"
     ]
    },
    {
     "name": "stderr",
     "output_type": "stream",
     "text": [
      " 77%|██████████████████████████████████████████████████████████████▎                  | 77/100 [00:33<00:11,  2.07it/s]"
     ]
    },
    {
     "name": "stdout",
     "output_type": "stream",
     "text": [
      "captcha_required\n"
     ]
    },
    {
     "name": "stderr",
     "output_type": "stream",
     "text": [
      "\r",
      " 78%|███████████████████████████████████████████████████████████████▏                 | 78/100 [00:34<00:16,  1.31it/s]"
     ]
    },
    {
     "name": "stdout",
     "output_type": "stream",
     "text": [
      "captcha_required\n"
     ]
    },
    {
     "name": "stderr",
     "output_type": "stream",
     "text": [
      "\r",
      " 79%|███████████████████████████████████████████████████████████████▉                 | 79/100 [00:35<00:19,  1.05it/s]"
     ]
    },
    {
     "name": "stdout",
     "output_type": "stream",
     "text": [
      "captcha_required\n"
     ]
    },
    {
     "name": "stderr",
     "output_type": "stream",
     "text": [
      "\r",
      " 80%|████████████████████████████████████████████████████████████████▊                | 80/100 [00:37<00:21,  1.09s/it]"
     ]
    },
    {
     "name": "stdout",
     "output_type": "stream",
     "text": [
      "captcha_required\n"
     ]
    },
    {
     "name": "stderr",
     "output_type": "stream",
     "text": [
      " 90%|████████████████████████████████████████████████████████████████████████▉        | 90/100 [00:42<00:04,  2.21it/s]"
     ]
    },
    {
     "name": "stdout",
     "output_type": "stream",
     "text": [
      "captcha_required\n"
     ]
    },
    {
     "name": "stderr",
     "output_type": "stream",
     "text": [
      "100%|████████████████████████████████████████████████████████████████████████████████| 100/100 [00:46<00:00,  2.55it/s]\n"
     ]
    },
    {
     "name": "stdout",
     "output_type": "stream",
     "text": [
      "вакансий получено - 91\n",
      "вакансий пропущено - 4\n",
      "вакансий с ошибкой - 5\n",
      "('https://api.hh.ru/vacancies?area=53&professional_role=49&area=78&professional_role=31&area=2083&professional_role=40&area=2039&professional_role=52&area=2759&professional_role=3&area=41&professional_role=89&area=54&professional_role=106&area=95&professional_role=111&area=54&professional_role=144&area=53&professional_role=84&area=88&professional_role=5', 1934)\n",
      "number url - 194\n",
      "размер массива (132539, 1)\n",
      "total_pages - 20\n"
     ]
    },
    {
     "name": "stderr",
     "output_type": "stream",
     "text": [
      " 29%|███████████████████████▍                                                         | 29/100 [00:11<00:35,  2.00it/s]"
     ]
    },
    {
     "name": "stdout",
     "output_type": "stream",
     "text": [
      "captcha_required\n"
     ]
    },
    {
     "name": "stderr",
     "output_type": "stream",
     "text": [
      "100%|████████████████████████████████████████████████████████████████████████████████| 100/100 [00:37<00:00,  2.71it/s]\n"
     ]
    },
    {
     "name": "stdout",
     "output_type": "stream",
     "text": [
      "вакансий получено - 82\n",
      "вакансий пропущено - 17\n",
      "вакансий с ошибкой - 1\n",
      "('https://api.hh.ru/vacancies?area=103&professional_role=21&area=53&professional_role=133&area=3&professional_role=129&area=76&professional_role=5&area=11&professional_role=64&area=3&professional_role=34&area=95&professional_role=5&area=160&professional_role=66&area=78&professional_role=130&area=78&professional_role=111&area=90&professional_role=102', 1962)\n",
      "number url - 195\n",
      "размер массива (132621, 1)\n",
      "total_pages - 20\n"
     ]
    },
    {
     "name": "stderr",
     "output_type": "stream",
     "text": [
      " 50%|████████████████████████████████████████▌                                        | 50/100 [00:09<00:16,  3.12it/s]"
     ]
    },
    {
     "name": "stdout",
     "output_type": "stream",
     "text": [
      "captcha_required\n"
     ]
    },
    {
     "name": "stderr",
     "output_type": "stream",
     "text": [
      "\r",
      " 53%|██████████████████████████████████████████▉                                      | 53/100 [00:10<00:17,  2.70it/s]"
     ]
    },
    {
     "name": "stdout",
     "output_type": "stream",
     "text": [
      "captcha_required\n"
     ]
    },
    {
     "name": "stderr",
     "output_type": "stream",
     "text": [
      "\r",
      " 55%|████████████████████████████████████████████▌                                    | 55/100 [00:12<00:21,  2.13it/s]"
     ]
    },
    {
     "name": "stdout",
     "output_type": "stream",
     "text": [
      "captcha_required\n"
     ]
    },
    {
     "name": "stderr",
     "output_type": "stream",
     "text": [
      " 75%|████████████████████████████████████████████████████████████▊                    | 75/100 [00:20<00:10,  2.28it/s]"
     ]
    },
    {
     "name": "stdout",
     "output_type": "stream",
     "text": [
      "captcha_required\n"
     ]
    },
    {
     "name": "stderr",
     "output_type": "stream",
     "text": [
      "100%|████████████████████████████████████████████████████████████████████████████████| 100/100 [00:30<00:00,  3.28it/s]\n"
     ]
    },
    {
     "name": "stdout",
     "output_type": "stream",
     "text": [
      "вакансий получено - 54\n",
      "вакансий пропущено - 42\n",
      "вакансий с ошибкой - 4\n",
      "('https://api.hh.ru/vacancies?area=80&professional_role=97&area=68&professional_role=111&area=95&professional_role=96&area=92&professional_role=83&area=1002&professional_role=34&area=54&professional_role=49&area=53&professional_role=10&area=1002&professional_role=111&area=104&professional_role=100&area=160&professional_role=48&area=68&professional_role=78', 1983)\n",
      "number url - 196\n",
      "размер массива (132675, 1)\n",
      "total_pages - 20\n"
     ]
    },
    {
     "name": "stderr",
     "output_type": "stream",
     "text": [
      "100%|████████████████████████████████████████████████████████████████████████████████| 100/100 [00:34<00:00,  2.93it/s]\n"
     ]
    },
    {
     "name": "stdout",
     "output_type": "stream",
     "text": [
      "вакансий получено - 73\n",
      "вакансий пропущено - 27\n",
      "вакансий с ошибкой - 0\n",
      "('https://api.hh.ru/vacancies?area=1979&professional_role=97&area=99&professional_role=130&area=53&professional_role=77&area=78&professional_role=68&area=26&professional_role=49&area=107&professional_role=83&area=99&professional_role=6&area=26&professional_role=58&area=49&professional_role=18&area=70&professional_role=24', 1819)\n",
      "number url - 197\n",
      "размер массива (132748, 1)\n",
      "total_pages - 20\n"
     ]
    },
    {
     "name": "stderr",
     "output_type": "stream",
     "text": [
      " 11%|████████▉                                                                        | 11/100 [00:05<00:40,  2.17it/s]"
     ]
    },
    {
     "name": "stdout",
     "output_type": "stream",
     "text": [
      "captcha_required\n"
     ]
    },
    {
     "name": "stderr",
     "output_type": "stream",
     "text": [
      " 27%|█████████████████████▊                                                           | 27/100 [00:13<00:31,  2.28it/s]"
     ]
    },
    {
     "name": "stdout",
     "output_type": "stream",
     "text": [
      "captcha_required\n"
     ]
    },
    {
     "name": "stderr",
     "output_type": "stream",
     "text": [
      " 38%|██████████████████████████████▊                                                  | 38/100 [00:18<00:25,  2.43it/s]"
     ]
    },
    {
     "name": "stdout",
     "output_type": "stream",
     "text": [
      "captcha_required\n"
     ]
    },
    {
     "name": "stderr",
     "output_type": "stream",
     "text": [
      " 63%|███████████████████████████████████████████████████                              | 63/100 [00:30<00:15,  2.33it/s]"
     ]
    },
    {
     "name": "stdout",
     "output_type": "stream",
     "text": [
      "captcha_required\n"
     ]
    },
    {
     "name": "stderr",
     "output_type": "stream",
     "text": [
      "100%|████████████████████████████████████████████████████████████████████████████████| 100/100 [00:47<00:00,  2.44it/s]\n"
     ]
    },
    {
     "name": "stdout",
     "output_type": "stream",
     "text": [
      "вакансий получено - 92\n",
      "вакансий пропущено - 4\n",
      "вакансий с ошибкой - 4\n",
      "('https://api.hh.ru/vacancies?area=131&professional_role=97&area=1641&professional_role=48&area=89&professional_role=115&area=66&professional_role=110&area=1641&professional_role=94&area=35&professional_role=115&area=61&professional_role=58&area=24&professional_role=102&area=95&professional_role=109&area=90&professional_role=8', 1843)\n",
      "number url - 198\n",
      "размер массива (132840, 1)\n",
      "total_pages - 20\n"
     ]
    },
    {
     "name": "stderr",
     "output_type": "stream",
     "text": [
      " 24%|███████████████████▍                                                             | 24/100 [00:10<00:32,  2.34it/s]"
     ]
    },
    {
     "name": "stdout",
     "output_type": "stream",
     "text": [
      "captcha_required\n"
     ]
    },
    {
     "name": "stderr",
     "output_type": "stream",
     "text": [
      "\r",
      " 25%|████████████████████▎                                                            | 25/100 [00:11<00:53,  1.39it/s]"
     ]
    },
    {
     "name": "stdout",
     "output_type": "stream",
     "text": [
      "captcha_required\n"
     ]
    },
    {
     "name": "stderr",
     "output_type": "stream",
     "text": [
      " 36%|█████████████████████████████▏                                                   | 36/100 [00:17<00:27,  2.34it/s]"
     ]
    },
    {
     "name": "stdout",
     "output_type": "stream",
     "text": [
      "captcha_required\n"
     ]
    },
    {
     "name": "stderr",
     "output_type": "stream",
     "text": [
      "\r",
      " 37%|█████████████████████████████▉                                                   | 37/100 [00:18<00:45,  1.38it/s]"
     ]
    },
    {
     "name": "stdout",
     "output_type": "stream",
     "text": [
      "captcha_required\n"
     ]
    },
    {
     "name": "stderr",
     "output_type": "stream",
     "text": [
      " 52%|██████████████████████████████████████████                                       | 52/100 [00:25<00:19,  2.42it/s]"
     ]
    },
    {
     "name": "stdout",
     "output_type": "stream",
     "text": [
      "captcha_required\n"
     ]
    },
    {
     "name": "stderr",
     "output_type": "stream",
     "text": [
      " 62%|██████████████████████████████████████████████████▏                              | 62/100 [00:31<00:16,  2.26it/s]"
     ]
    },
    {
     "name": "stdout",
     "output_type": "stream",
     "text": [
      "captcha_required\n"
     ]
    },
    {
     "name": "stderr",
     "output_type": "stream",
     "text": [
      " 73%|███████████████████████████████████████████████████████████▏                     | 73/100 [00:37<00:11,  2.26it/s]"
     ]
    },
    {
     "name": "stdout",
     "output_type": "stream",
     "text": [
      "captcha_required\n"
     ]
    },
    {
     "name": "stderr",
     "output_type": "stream",
     "text": [
      "100%|████████████████████████████████████████████████████████████████████████████████| 100/100 [00:49<00:00,  2.24it/s]\n"
     ]
    },
    {
     "name": "stdout",
     "output_type": "stream",
     "text": [
      "вакансий получено - 92\n",
      "вакансий пропущено - 1\n",
      "вакансий с ошибкой - 7\n",
      "('https://api.hh.ru/vacancies?area=1240&professional_role=94&area=99&professional_role=89&area=72&professional_role=131&area=22&professional_role=94&area=58&professional_role=94&area=78&professional_role=118&area=96&professional_role=52&area=4&professional_role=110&area=72&professional_role=31&area=11&professional_role=143', 1870)\n",
      "number url - 199\n",
      "размер массива (132932, 1)\n",
      "total_pages - 20\n"
     ]
    },
    {
     "name": "stderr",
     "output_type": "stream",
     "text": [
      " 25%|████████████████████▎                                                            | 25/100 [00:08<00:27,  2.69it/s]"
     ]
    },
    {
     "name": "stdout",
     "output_type": "stream",
     "text": [
      "captcha_required\n"
     ]
    },
    {
     "name": "stderr",
     "output_type": "stream",
     "text": [
      " 67%|██████████████████████████████████████████████████████▎                          | 67/100 [00:26<00:11,  2.82it/s]"
     ]
    },
    {
     "name": "stdout",
     "output_type": "stream",
     "text": [
      "captcha_required\n"
     ]
    },
    {
     "name": "stderr",
     "output_type": "stream",
     "text": [
      "\r",
      " 68%|███████████████████████████████████████████████████████                          | 68/100 [00:28<00:21,  1.47it/s]"
     ]
    },
    {
     "name": "stdout",
     "output_type": "stream",
     "text": [
      "captcha_required\n"
     ]
    },
    {
     "name": "stderr",
     "output_type": "stream",
     "text": [
      " 93%|███████████████████████████████████████████████████████████████████████████▎     | 93/100 [00:41<00:03,  2.23it/s]"
     ]
    },
    {
     "name": "stdout",
     "output_type": "stream",
     "text": [
      "captcha_required\n"
     ]
    },
    {
     "name": "stderr",
     "output_type": "stream",
     "text": [
      "\r",
      " 94%|████████████████████████████████████████████████████████████████████████████▏    | 94/100 [00:42<00:04,  1.36it/s]"
     ]
    },
    {
     "name": "stdout",
     "output_type": "stream",
     "text": [
      "captcha_required\n"
     ]
    },
    {
     "name": "stderr",
     "output_type": "stream",
     "text": [
      "100%|████████████████████████████████████████████████████████████████████████████████| 100/100 [00:46<00:00,  1.93it/s]\n"
     ]
    },
    {
     "name": "stdout",
     "output_type": "stream",
     "text": [
      "вакансий получено - 86\n",
      "вакансий пропущено - 9\n",
      "вакансий с ошибкой - 5\n",
      "('https://api.hh.ru/vacancies?area=2237&professional_role=31&area=160&professional_role=146&area=4&professional_role=69&area=90&professional_role=115&area=2759&professional_role=132&area=68&professional_role=5&area=78&professional_role=35&area=96&professional_role=96&area=88&professional_role=128&area=1550&professional_role=97', 1884)\n",
      "number url - 200\n",
      "размер массива (133018, 1)\n",
      "total_pages - 20\n"
     ]
    },
    {
     "name": "stderr",
     "output_type": "stream",
     "text": [
      " 56%|█████████████████████████████████████████████▎                                   | 56/100 [00:23<00:22,  1.97it/s]"
     ]
    },
    {
     "name": "stdout",
     "output_type": "stream",
     "text": [
      "captcha_required\n"
     ]
    },
    {
     "name": "stderr",
     "output_type": "stream",
     "text": [
      " 98%|███████████████████████████████████████████████████████████████████████████████▍ | 98/100 [00:40<00:00,  2.66it/s]"
     ]
    },
    {
     "name": "stdout",
     "output_type": "stream",
     "text": [
      "captcha_required\n"
     ]
    },
    {
     "name": "stderr",
     "output_type": "stream",
     "text": [
      "\r",
      " 99%|████████████████████████████████████████████████████████████████████████████████▏| 99/100 [00:42<00:00,  1.44it/s]"
     ]
    },
    {
     "name": "stdout",
     "output_type": "stream",
     "text": [
      "captcha_required\n"
     ]
    },
    {
     "name": "stderr",
     "output_type": "stream",
     "text": [
      "100%|████████████████████████████████████████████████████████████████████████████████| 100/100 [00:43<00:00,  1.10it/s]\n"
     ]
    },
    {
     "name": "stdout",
     "output_type": "stream",
     "text": [
      "вакансий получено - 88\n",
      "вакансий пропущено - 9\n",
      "вакансий с ошибкой - 3\n",
      "('https://api.hh.ru/vacancies?area=2045&professional_role=40&area=95&professional_role=132&area=89&professional_role=18&area=23&professional_role=18&area=76&professional_role=129&area=76&professional_role=100&area=26&professional_role=128&area=1002&professional_role=77&area=17&professional_role=48&area=1002&professional_role=83', 1903)\n",
      "number url - 201\n",
      "размер массива (133106, 1)\n",
      "total_pages - 20\n"
     ]
    },
    {
     "name": "stderr",
     "output_type": "stream",
     "text": [
      " 25%|████████████████████▎                                                            | 25/100 [00:10<00:29,  2.51it/s]"
     ]
    },
    {
     "name": "stdout",
     "output_type": "stream",
     "text": [
      "captcha_required\n"
     ]
    },
    {
     "name": "stderr",
     "output_type": "stream",
     "text": [
      " 30%|████████████████████████▎                                                        | 30/100 [00:13<00:34,  2.01it/s]"
     ]
    },
    {
     "name": "stdout",
     "output_type": "stream",
     "text": [
      "captcha_required\n"
     ]
    },
    {
     "name": "stderr",
     "output_type": "stream",
     "text": [
      "\r",
      " 31%|█████████████████████████                                                        | 31/100 [00:15<00:54,  1.28it/s]"
     ]
    },
    {
     "name": "stdout",
     "output_type": "stream",
     "text": [
      "captcha_required\n"
     ]
    },
    {
     "name": "stderr",
     "output_type": "stream",
     "text": [
      " 87%|██████████████████████████████████████████████████████████████████████▍          | 87/100 [00:39<00:05,  2.49it/s]"
     ]
    },
    {
     "name": "stdout",
     "output_type": "stream",
     "text": [
      "captcha_required\n"
     ]
    },
    {
     "name": "stderr",
     "output_type": "stream",
     "text": [
      "100%|████████████████████████████████████████████████████████████████████████████████| 100/100 [00:46<00:00,  2.07it/s]\n"
     ]
    },
    {
     "name": "stdout",
     "output_type": "stream",
     "text": [
      "вакансий получено - 91\n",
      "вакансий пропущено - 5\n",
      "вакансий с ошибкой - 4\n",
      "('https://api.hh.ru/vacancies?area=112&professional_role=102&area=103&professional_role=40&area=26&professional_role=121&area=26&professional_role=5&area=26&professional_role=31&area=4&professional_role=128&area=88&professional_role=100&area=88&professional_role=10&area=160&professional_role=118&area=2077&professional_role=21', 1915)\n",
      "number url - 202\n",
      "размер массива (133197, 1)\n",
      "total_pages - 20\n"
     ]
    },
    {
     "name": "stderr",
     "output_type": "stream",
     "text": [
      " 30%|████████████████████████▎                                                        | 30/100 [00:11<00:24,  2.88it/s]"
     ]
    },
    {
     "name": "stdout",
     "output_type": "stream",
     "text": [
      "captcha_required\n"
     ]
    },
    {
     "name": "stderr",
     "output_type": "stream",
     "text": [
      "\r",
      " 31%|█████████████████████████                                                        | 31/100 [00:12<00:46,  1.49it/s]"
     ]
    },
    {
     "name": "stdout",
     "output_type": "stream",
     "text": [
      "captcha_required\n"
     ]
    },
    {
     "name": "stderr",
     "output_type": "stream",
     "text": [
      "\r",
      " 32%|█████████████████████████▉                                                       | 32/100 [00:14<01:01,  1.10it/s]"
     ]
    },
    {
     "name": "stdout",
     "output_type": "stream",
     "text": [
      "captcha_required\n"
     ]
    },
    {
     "name": "stderr",
     "output_type": "stream",
     "text": [
      " 80%|████████████████████████████████████████████████████████████████▊                | 80/100 [00:27<00:05,  3.81it/s]"
     ]
    },
    {
     "name": "stdout",
     "output_type": "stream",
     "text": [
      "captcha_required\n"
     ]
    },
    {
     "name": "stderr",
     "output_type": "stream",
     "text": [
      "\r",
      " 81%|█████████████████████████████████████████████████████████████████▌               | 81/100 [00:29<00:11,  1.63it/s]"
     ]
    },
    {
     "name": "stdout",
     "output_type": "stream",
     "text": [
      "captcha_required\n"
     ]
    },
    {
     "name": "stderr",
     "output_type": "stream",
     "text": [
      "100%|████████████████████████████████████████████████████████████████████████████████| 100/100 [00:35<00:00,  2.58it/s]\n"
     ]
    },
    {
     "name": "stdout",
     "output_type": "stream",
     "text": [
      "вакансий получено - 64\n",
      "вакансий пропущено - 31\n",
      "вакансий с ошибкой - 5\n",
      "('https://api.hh.ru/vacancies?area=205&professional_role=40&area=212&professional_role=94&area=79&professional_role=94&area=99&professional_role=66&area=1641&professional_role=102&area=301&professional_role=97&area=92&professional_role=24&area=24&professional_role=47&area=54&professional_role=58&area=159&professional_role=89', 1926)\n",
      "number url - 203\n",
      "размер массива (133261, 1)\n",
      "total_pages - 20\n"
     ]
    },
    {
     "name": "stderr",
     "output_type": "stream",
     "text": [
      " 53%|██████████████████████████████████████████▉                                      | 53/100 [00:21<00:19,  2.36it/s]"
     ]
    },
    {
     "name": "stdout",
     "output_type": "stream",
     "text": [
      "captcha_required\n"
     ]
    },
    {
     "name": "stderr",
     "output_type": "stream",
     "text": [
      "\r",
      " 54%|███████████████████████████████████████████▋                                     | 54/100 [00:23<00:34,  1.35it/s]"
     ]
    },
    {
     "name": "stdout",
     "output_type": "stream",
     "text": [
      "captcha_required\n"
     ]
    },
    {
     "name": "stderr",
     "output_type": "stream",
     "text": [
      " 81%|█████████████████████████████████████████████████████████████████▌               | 81/100 [00:35<00:08,  2.29it/s]"
     ]
    },
    {
     "name": "stdout",
     "output_type": "stream",
     "text": [
      "captcha_required\n"
     ]
    },
    {
     "name": "stderr",
     "output_type": "stream",
     "text": [
      "\r",
      " 82%|██████████████████████████████████████████████████████████████████▍              | 82/100 [00:36<00:13,  1.37it/s]"
     ]
    },
    {
     "name": "stdout",
     "output_type": "stream",
     "text": [
      "captcha_required\n"
     ]
    },
    {
     "name": "stderr",
     "output_type": "stream",
     "text": [
      "\r",
      " 84%|████████████████████████████████████████████████████████████████████             | 84/100 [00:38<00:11,  1.38it/s]"
     ]
    },
    {
     "name": "stdout",
     "output_type": "stream",
     "text": [
      "captcha_required\n"
     ]
    },
    {
     "name": "stderr",
     "output_type": "stream",
     "text": [
      "100%|████████████████████████████████████████████████████████████████████████████████| 100/100 [00:44<00:00,  2.92it/s]\n"
     ]
    },
    {
     "name": "stdout",
     "output_type": "stream",
     "text": [
      "вакансий получено - 86\n",
      "вакансий пропущено - 9\n",
      "вакансий с ошибкой - 5\n",
      "('https://api.hh.ru/vacancies?area=54&professional_role=45&area=68&professional_role=96&area=76&professional_role=110&area=159&professional_role=21&area=96&professional_role=102&area=102&professional_role=8&area=112&professional_role=115&area=79&professional_role=102&area=75&professional_role=70&area=77&professional_role=83', 1944)\n",
      "number url - 204\n",
      "размер массива (133347, 1)\n",
      "total_pages - 20\n"
     ]
    },
    {
     "name": "stderr",
     "output_type": "stream",
     "text": [
      " 41%|█████████████████████████████████▏                                               | 41/100 [00:13<00:23,  2.48it/s]"
     ]
    },
    {
     "name": "stdout",
     "output_type": "stream",
     "text": [
      "captcha_required\n"
     ]
    },
    {
     "name": "stderr",
     "output_type": "stream",
     "text": [
      "\r",
      " 42%|██████████████████████████████████                                               | 42/100 [00:14<00:41,  1.39it/s]"
     ]
    },
    {
     "name": "stdout",
     "output_type": "stream",
     "text": [
      "captcha_required\n"
     ]
    },
    {
     "name": "stderr",
     "output_type": "stream",
     "text": [
      "100%|████████████████████████████████████████████████████████████████████████████████| 100/100 [00:35<00:00,  2.81it/s]\n"
     ]
    },
    {
     "name": "stdout",
     "output_type": "stream",
     "text": [
      "вакансий получено - 72\n",
      "вакансий пропущено - 26\n",
      "вакансий с ошибкой - 2\n",
      "('https://api.hh.ru/vacancies?area=26&professional_role=9&area=107&professional_role=21&area=107&professional_role=18&area=56&professional_role=24&area=56&professional_role=21&area=35&professional_role=100&area=61&professional_role=97&area=4&professional_role=82&area=2039&professional_role=70&area=89&professional_role=48', 1956)\n",
      "number url - 205\n",
      "размер массива (133419, 1)\n",
      "total_pages - 20\n"
     ]
    },
    {
     "name": "stderr",
     "output_type": "stream",
     "text": [
      " 45%|████████████████████████████████████▍                                            | 45/100 [00:15<00:22,  2.48it/s]"
     ]
    },
    {
     "name": "stdout",
     "output_type": "stream",
     "text": [
      "captcha_required\n"
     ]
    },
    {
     "name": "stderr",
     "output_type": "stream",
     "text": [
      "\r",
      " 46%|█████████████████████████████████████▎                                           | 46/100 [00:16<00:37,  1.42it/s]"
     ]
    },
    {
     "name": "stdout",
     "output_type": "stream",
     "text": [
      "captcha_required\n"
     ]
    },
    {
     "name": "stderr",
     "output_type": "stream",
     "text": [
      "\r",
      " 48%|██████████████████████████████████████▉                                          | 48/100 [00:18<00:36,  1.42it/s]"
     ]
    },
    {
     "name": "stdout",
     "output_type": "stream",
     "text": [
      "captcha_required\n"
     ]
    },
    {
     "name": "stderr",
     "output_type": "stream",
     "text": [
      " 65%|████████████████████████████████████████████████████▋                            | 65/100 [00:25<00:13,  2.57it/s]"
     ]
    },
    {
     "name": "stdout",
     "output_type": "stream",
     "text": [
      "captcha_required\n"
     ]
    },
    {
     "name": "stderr",
     "output_type": "stream",
     "text": [
      "100%|████████████████████████████████████████████████████████████████████████████████| 100/100 [00:44<00:00,  2.22it/s]\n"
     ]
    },
    {
     "name": "stdout",
     "output_type": "stream",
     "text": [
      "вакансий получено - 81\n",
      "вакансий пропущено - 15\n",
      "вакансий с ошибкой - 4\n",
      "('https://api.hh.ru/vacancies?area=237&professional_role=21&area=2053&professional_role=21&area=3&professional_role=33&area=92&professional_role=115&area=2088&professional_role=70&area=71&professional_role=83&area=77&professional_role=102&area=99&professional_role=9&area=2237&professional_role=21&area=81&professional_role=97', 1965)\n",
      "number url - 206\n",
      "размер массива (133500, 1)\n",
      "total_pages - 20\n"
     ]
    },
    {
     "name": "stderr",
     "output_type": "stream",
     "text": [
      " 77%|██████████████████████████████████████████████████████████████▎                  | 77/100 [00:31<00:10,  2.30it/s]"
     ]
    },
    {
     "name": "stdout",
     "output_type": "stream",
     "text": [
      "captcha_required\n"
     ]
    },
    {
     "name": "stderr",
     "output_type": "stream",
     "text": [
      "\r",
      " 78%|███████████████████████████████████████████████████████████████▏                 | 78/100 [00:32<00:16,  1.36it/s]"
     ]
    },
    {
     "name": "stdout",
     "output_type": "stream",
     "text": [
      "captcha_required\n"
     ]
    },
    {
     "name": "stderr",
     "output_type": "stream",
     "text": [
      " 94%|████████████████████████████████████████████████████████████████████████████▏    | 94/100 [00:40<00:02,  2.33it/s]"
     ]
    },
    {
     "name": "stdout",
     "output_type": "stream",
     "text": [
      "captcha_required\n"
     ]
    },
    {
     "name": "stderr",
     "output_type": "stream",
     "text": [
      "\r",
      " 95%|████████████████████████████████████████████████████████████████████████████▉    | 95/100 [00:41<00:03,  1.38it/s]"
     ]
    },
    {
     "name": "stdout",
     "output_type": "stream",
     "text": [
      "captcha_required\n"
     ]
    },
    {
     "name": "stderr",
     "output_type": "stream",
     "text": [
      " 99%|████████████████████████████████████████████████████████████████████████████████▏| 99/100 [00:43<00:00,  1.60it/s]"
     ]
    },
    {
     "name": "stdout",
     "output_type": "stream",
     "text": [
      "captcha_required\n"
     ]
    },
    {
     "name": "stderr",
     "output_type": "stream",
     "text": [
      "100%|████████████████████████████████████████████████████████████████████████████████| 100/100 [00:45<00:00,  1.15it/s]\n"
     ]
    },
    {
     "name": "stdout",
     "output_type": "stream",
     "text": [
      "вакансий получено - 86\n",
      "вакансий пропущено - 9\n",
      "вакансий с ошибкой - 5\n",
      "('https://api.hh.ru/vacancies?area=160&professional_role=34&area=47&professional_role=24&area=79&professional_role=24&area=88&professional_role=143&area=2759&professional_role=96&area=81&professional_role=70&area=2045&professional_role=97&area=68&professional_role=130&area=77&professional_role=94&area=26&professional_role=47', 1993)\n",
      "number url - 207\n",
      "размер массива (133586, 1)\n",
      "total_pages - 20\n"
     ]
    },
    {
     "name": "stderr",
     "output_type": "stream",
     "text": [
      " 39%|███████████████████████████████▌                                                 | 39/100 [00:12<00:25,  2.41it/s]"
     ]
    },
    {
     "name": "stdout",
     "output_type": "stream",
     "text": [
      "captcha_required\n"
     ]
    },
    {
     "name": "stderr",
     "output_type": "stream",
     "text": [
      "100%|████████████████████████████████████████████████████████████████████████████████| 100/100 [00:34<00:00,  2.77it/s]\n"
     ]
    },
    {
     "name": "stdout",
     "output_type": "stream",
     "text": [
      "вакансий получено - 76\n",
      "вакансий пропущено - 23\n",
      "вакансий с ошибкой - 1\n",
      "('https://api.hh.ru/vacancies?area=66&professional_role=109&area=95&professional_role=83&area=99&professional_role=45&area=53&professional_role=127&area=55&professional_role=24&area=2090&professional_role=97&area=1002&professional_role=143&area=26&professional_role=118&area=104&professional_role=89', 1815)\n",
      "number url - 208\n",
      "размер массива (133662, 1)\n",
      "total_pages - 20\n"
     ]
    },
    {
     "name": "stderr",
     "output_type": "stream",
     "text": [
      " 31%|█████████████████████████                                                        | 31/100 [00:13<00:30,  2.27it/s]"
     ]
    },
    {
     "name": "stdout",
     "output_type": "stream",
     "text": [
      "captcha_required\n"
     ]
    },
    {
     "name": "stderr",
     "output_type": "stream",
     "text": [
      " 42%|██████████████████████████████████                                               | 42/100 [00:19<00:24,  2.32it/s]"
     ]
    },
    {
     "name": "stdout",
     "output_type": "stream",
     "text": [
      "captcha_required\n"
     ]
    },
    {
     "name": "stderr",
     "output_type": "stream",
     "text": [
      "\r",
      " 43%|██████████████████████████████████▊                                              | 43/100 [00:20<00:41,  1.37it/s]"
     ]
    },
    {
     "name": "stdout",
     "output_type": "stream",
     "text": [
      "captcha_required\n"
     ]
    },
    {
     "name": "stderr",
     "output_type": "stream",
     "text": [
      " 45%|████████████████████████████████████▍                                            | 45/100 [00:22<00:43,  1.27it/s]"
     ]
    },
    {
     "name": "stdout",
     "output_type": "stream",
     "text": [
      "captcha_required\n"
     ]
    },
    {
     "name": "stderr",
     "output_type": "stream",
     "text": [
      "\r",
      " 46%|█████████████████████████████████████▎                                           | 46/100 [00:23<00:53,  1.01it/s]"
     ]
    },
    {
     "name": "stdout",
     "output_type": "stream",
     "text": [
      "captcha_required\n"
     ]
    },
    {
     "name": "stderr",
     "output_type": "stream",
     "text": [
      " 59%|███████████████████████████████████████████████▊                                 | 59/100 [00:30<00:17,  2.28it/s]"
     ]
    },
    {
     "name": "stdout",
     "output_type": "stream",
     "text": [
      "captcha_required\n"
     ]
    },
    {
     "name": "stderr",
     "output_type": "stream",
     "text": [
      "100%|████████████████████████████████████████████████████████████████████████████████| 100/100 [00:49<00:00,  2.34it/s]\n"
     ]
    },
    {
     "name": "stdout",
     "output_type": "stream",
     "text": [
      "вакансий получено - 92\n",
      "вакансий пропущено - 2\n",
      "вакансий с ошибкой - 6\n",
      "('https://api.hh.ru/vacancies?area=75&professional_role=97&area=3&professional_role=127&area=2090&professional_role=40&area=104&professional_role=86&area=88&professional_role=130&area=35&professional_role=89&area=3&professional_role=44&area=160&professional_role=106&area=11&professional_role=83', 1827)\n",
      "number url - 209\n",
      "размер массива (133754, 1)\n",
      "total_pages - 20\n"
     ]
    },
    {
     "name": "stderr",
     "output_type": "stream",
     "text": [
      " 31%|█████████████████████████                                                        | 31/100 [00:12<00:29,  2.38it/s]"
     ]
    },
    {
     "name": "stdout",
     "output_type": "stream",
     "text": [
      "captcha_required\n"
     ]
    },
    {
     "name": "stderr",
     "output_type": "stream",
     "text": [
      " 69%|███████████████████████████████████████████████████████▉                         | 69/100 [00:29<00:11,  2.64it/s]"
     ]
    },
    {
     "name": "stdout",
     "output_type": "stream",
     "text": [
      "captcha_required\n"
     ]
    },
    {
     "name": "stderr",
     "output_type": "stream",
     "text": [
      "\r",
      " 70%|████████████████████████████████████████████████████████▋                        | 70/100 [00:30<00:20,  1.43it/s]"
     ]
    },
    {
     "name": "stdout",
     "output_type": "stream",
     "text": [
      "captcha_required\n"
     ]
    },
    {
     "name": "stderr",
     "output_type": "stream",
     "text": [
      "\r",
      " 71%|█████████████████████████████████████████████████████████▌                       | 71/100 [00:31<00:26,  1.10it/s]"
     ]
    },
    {
     "name": "stdout",
     "output_type": "stream",
     "text": [
      "captcha_required\n"
     ]
    },
    {
     "name": "stderr",
     "output_type": "stream",
     "text": [
      " 73%|███████████████████████████████████████████████████████████▏                     | 73/100 [00:33<00:23,  1.13it/s]"
     ]
    },
    {
     "name": "stdout",
     "output_type": "stream",
     "text": [
      "captcha_required\n"
     ]
    },
    {
     "name": "stderr",
     "output_type": "stream",
     "text": [
      " 87%|██████████████████████████████████████████████████████████████████████▍          | 87/100 [00:40<00:05,  2.31it/s]"
     ]
    },
    {
     "name": "stdout",
     "output_type": "stream",
     "text": [
      "captcha_required\n"
     ]
    },
    {
     "name": "stderr",
     "output_type": "stream",
     "text": [
      "\r",
      " 88%|███████████████████████████████████████████████████████████████████████▎         | 88/100 [00:41<00:08,  1.37it/s]"
     ]
    },
    {
     "name": "stdout",
     "output_type": "stream",
     "text": [
      "captcha_required\n"
     ]
    },
    {
     "name": "stderr",
     "output_type": "stream",
     "text": [
      "100%|████████████████████████████████████████████████████████████████████████████████| 100/100 [00:47<00:00,  2.26it/s]\n"
     ]
    },
    {
     "name": "stdout",
     "output_type": "stream",
     "text": [
      "вакансий получено - 83\n",
      "вакансий пропущено - 10\n",
      "вакансий с ошибкой - 7\n",
      "('https://api.hh.ru/vacancies?area=72&professional_role=9&area=2034&professional_role=70&area=99&professional_role=78&area=63&professional_role=97&area=106&professional_role=70&area=70&professional_role=83&area=99&professional_role=64&area=1641&professional_role=18&area=77&professional_role=115', 1843)\n",
      "number url - 210\n",
      "размер массива (133837, 1)\n",
      "total_pages - 20\n"
     ]
    },
    {
     "name": "stderr",
     "output_type": "stream",
     "text": [
      "100%|████████████████████████████████████████████████████████████████████████████████| 100/100 [00:50<00:00,  2.10it/s]\n"
     ]
    },
    {
     "name": "stdout",
     "output_type": "stream",
     "text": [
      "вакансий получено - 100\n",
      "вакансий пропущено - 0\n",
      "вакансий с ошибкой - 0\n",
      "('https://api.hh.ru/vacancies?area=95&professional_role=52&area=88&professional_role=88&area=55&professional_role=21&area=301&professional_role=40&area=84&professional_role=21&area=2077&professional_role=52&area=58&professional_role=83&area=53&professional_role=78&area=4&professional_role=133', 1862)\n",
      "number url - 211\n",
      "размер массива (133937, 1)\n",
      "total_pages - 20\n"
     ]
    },
    {
     "name": "stderr",
     "output_type": "stream",
     "text": [
      "100%|████████████████████████████████████████████████████████████████████████████████| 100/100 [00:41<00:00,  2.10it/s]\n"
     ]
    },
    {
     "name": "stdout",
     "output_type": "stream",
     "text": [
      "вакансий получено - 87\n",
      "вакансий пропущено - 13\n",
      "вакансий с ошибкой - 0\n",
      "('https://api.hh.ru/vacancies?area=26&professional_role=143&area=76&professional_role=132&area=78&professional_role=66&area=73&professional_role=70&area=11&professional_role=48&area=19&professional_role=21&area=53&professional_role=58&area=47&professional_role=102&area=47&professional_role=48', 1880)\n",
      "number url - 212\n",
      "размер массива (134024, 1)\n",
      "total_pages - 20\n"
     ]
    },
    {
     "name": "stderr",
     "output_type": "stream",
     "text": [
      " 26%|█████████████████████                                                            | 26/100 [00:09<00:35,  2.07it/s]"
     ]
    },
    {
     "name": "stdout",
     "output_type": "stream",
     "text": [
      "captcha_required\n"
     ]
    },
    {
     "name": "stderr",
     "output_type": "stream",
     "text": [
      "\r",
      " 27%|█████████████████████▊                                                           | 27/100 [00:11<00:55,  1.31it/s]"
     ]
    },
    {
     "name": "stdout",
     "output_type": "stream",
     "text": [
      "captcha_required\n"
     ]
    },
    {
     "name": "stderr",
     "output_type": "stream",
     "text": [
      " 38%|██████████████████████████████▊                                                  | 38/100 [00:16<00:25,  2.39it/s]"
     ]
    },
    {
     "name": "stdout",
     "output_type": "stream",
     "text": [
      "captcha_required\n"
     ]
    },
    {
     "name": "stderr",
     "output_type": "stream",
     "text": [
      "\r",
      " 39%|███████████████████████████████▌                                                 | 39/100 [00:18<00:43,  1.39it/s]"
     ]
    },
    {
     "name": "stdout",
     "output_type": "stream",
     "text": [
      "captcha_required\n"
     ]
    },
    {
     "name": "stderr",
     "output_type": "stream",
     "text": [
      " 69%|███████████████████████████████████████████████████████▉                         | 69/100 [00:32<00:14,  2.13it/s]"
     ]
    },
    {
     "name": "stdout",
     "output_type": "stream",
     "text": [
      "captcha_required\n"
     ]
    },
    {
     "name": "stderr",
     "output_type": "stream",
     "text": [
      "\r",
      " 70%|████████████████████████████████████████████████████████▋                        | 70/100 [00:34<00:23,  1.30it/s]"
     ]
    },
    {
     "name": "stdout",
     "output_type": "stream",
     "text": [
      "captcha_required\n"
     ]
    },
    {
     "name": "stderr",
     "output_type": "stream",
     "text": [
      "100%|████████████████████████████████████████████████████████████████████████████████| 100/100 [00:48<00:00,  2.34it/s]\n"
     ]
    },
    {
     "name": "stdout",
     "output_type": "stream",
     "text": [
      "вакансий получено - 87\n",
      "вакансий пропущено - 7\n",
      "вакансий с ошибкой - 6\n",
      "('https://api.hh.ru/vacancies?area=24&professional_role=48&area=26&professional_role=89&area=53&professional_role=109&area=32&professional_role=18&area=66&professional_role=10&area=12&professional_role=63&area=4&professional_role=45&area=104&professional_role=142&area=79&professional_role=9', 1891)\n",
      "number url - 213\n",
      "размер массива (134111, 1)\n",
      "total_pages - 20\n"
     ]
    },
    {
     "name": "stderr",
     "output_type": "stream",
     "text": [
      " 65%|████████████████████████████████████████████████████▋                            | 65/100 [00:22<00:14,  2.34it/s]"
     ]
    },
    {
     "name": "stdout",
     "output_type": "stream",
     "text": [
      "captcha_required\n"
     ]
    },
    {
     "name": "stderr",
     "output_type": "stream",
     "text": [
      " 77%|██████████████████████████████████████████████████████████████▎                  | 77/100 [00:28<00:09,  2.46it/s]"
     ]
    },
    {
     "name": "stdout",
     "output_type": "stream",
     "text": [
      "captcha_required\n"
     ]
    },
    {
     "name": "stderr",
     "output_type": "stream",
     "text": [
      "\r",
      " 78%|███████████████████████████████████████████████████████████████▏                 | 78/100 [00:29<00:15,  1.41it/s]"
     ]
    },
    {
     "name": "stdout",
     "output_type": "stream",
     "text": [
      "captcha_required\n"
     ]
    },
    {
     "name": "stderr",
     "output_type": "stream",
     "text": [
      "100%|████████████████████████████████████████████████████████████████████████████████| 100/100 [00:39<00:00,  2.34it/s]\n"
     ]
    },
    {
     "name": "stdout",
     "output_type": "stream",
     "text": [
      "вакансий получено - 77\n",
      "вакансий пропущено - 20\n",
      "вакансий с ошибкой - 3\n",
      "('https://api.hh.ru/vacancies?area=212&professional_role=18&area=76&professional_role=111&area=26&professional_role=130&area=26&professional_role=66&area=78&professional_role=121&area=106&professional_role=97&area=159&professional_role=96&area=76&professional_role=130&area=160&professional_role=24', 1908)\n",
      "number url - 214\n",
      "размер массива (134188, 1)\n",
      "total_pages - 20\n"
     ]
    },
    {
     "name": "stderr",
     "output_type": "stream",
     "text": [
      " 30%|████████████████████████▎                                                        | 30/100 [00:08<00:28,  2.43it/s]"
     ]
    },
    {
     "name": "stdout",
     "output_type": "stream",
     "text": [
      "captcha_required\n"
     ]
    },
    {
     "name": "stderr",
     "output_type": "stream",
     "text": [
      "100%|████████████████████████████████████████████████████████████████████████████████| 100/100 [01:23<00:00,  1.19it/s]\n"
     ]
    },
    {
     "name": "stdout",
     "output_type": "stream",
     "text": [
      "вакансий получено - 53\n",
      "вакансий пропущено - 37\n",
      "вакансий с ошибкой - 1\n",
      "('https://api.hh.ru/vacancies?area=88&professional_role=121&area=95&professional_role=64&area=78&professional_role=89&area=3&professional_role=86&area=80&professional_role=70&area=4&professional_role=129&area=1240&professional_role=115&area=68&professional_role=100&area=96&professional_role=128', 1923)\n",
      "number url - 215\n",
      "размер массива (134241, 1)\n",
      "total_pages - 20\n"
     ]
    },
    {
     "name": "stderr",
     "output_type": "stream",
     "text": [
      "100%|████████████████████████████████████████████████████████████████████████████████| 100/100 [00:28<00:00,  2.01it/s]\n"
     ]
    },
    {
     "name": "stdout",
     "output_type": "stream",
     "text": [
      "вакансий получено - 62\n",
      "вакансий пропущено - 38\n",
      "вакансий с ошибкой - 0\n",
      "('https://api.hh.ru/vacancies?area=35&professional_role=111&area=131&professional_role=18&area=66&professional_role=121&area=11&professional_role=31&area=102&professional_role=47&area=17&professional_role=18&area=66&professional_role=85&area=66&professional_role=9&area=3&professional_role=46', 1944)\n",
      "number url - 216\n",
      "размер массива (134303, 1)\n",
      "total_pages - 20\n"
     ]
    },
    {
     "name": "stderr",
     "output_type": "stream",
     "text": [
      "100%|████████████████████████████████████████████████████████████████████████████████| 100/100 [00:44<00:00,  2.22it/s]\n"
     ]
    },
    {
     "name": "stdout",
     "output_type": "stream",
     "text": [
      "вакансий получено - 100\n",
      "вакансий пропущено - 0\n",
      "вакансий с ошибкой - 0\n",
      "('https://api.hh.ru/vacancies?area=98&professional_role=83&area=4&professional_role=84&area=47&professional_role=18&area=43&professional_role=21&area=96&professional_role=24&area=1240&professional_role=63&area=2065&professional_role=40&area=3&professional_role=113&area=76&professional_role=68', 1956)\n",
      "number url - 217\n",
      "размер массива (134403, 1)\n",
      "total_pages - 20\n"
     ]
    },
    {
     "name": "stderr",
     "output_type": "stream",
     "text": [
      "100%|████████████████████████████████████████████████████████████████████████████████| 100/100 [00:27<00:00,  3.66it/s]\n"
     ]
    },
    {
     "name": "stdout",
     "output_type": "stream",
     "text": [
      "вакансий получено - 63\n",
      "вакансий пропущено - 37\n",
      "вакансий с ошибкой - 0\n",
      "('https://api.hh.ru/vacancies?area=1440&professional_role=40&area=26&professional_role=85&area=1007&professional_role=40&area=2062&professional_role=97&area=1399&professional_role=70&area=1381&professional_role=21&area=88&professional_role=66&area=11&professional_role=52&area=22&professional_role=8', 1976)\n",
      "number url - 218\n",
      "размер массива (134466, 1)\n",
      "total_pages - 20\n"
     ]
    },
    {
     "name": "stderr",
     "output_type": "stream",
     "text": [
      " 77%|██████████████████████████████████████████████████████████████▎                  | 77/100 [00:24<00:06,  3.49it/s]"
     ]
    },
    {
     "name": "stdout",
     "output_type": "stream",
     "text": [
      "captcha_required\n"
     ]
    },
    {
     "name": "stderr",
     "output_type": "stream",
     "text": [
      "\r",
      " 78%|███████████████████████████████████████████████████████████████▏                 | 78/100 [00:25<00:13,  1.60it/s]"
     ]
    },
    {
     "name": "stdout",
     "output_type": "stream",
     "text": [
      "captcha_required\n"
     ]
    },
    {
     "name": "stderr",
     "output_type": "stream",
     "text": [
      "\r",
      " 80%|████████████████████████████████████████████████████████████████▊                | 80/100 [00:27<00:12,  1.54it/s]"
     ]
    },
    {
     "name": "stdout",
     "output_type": "stream",
     "text": [
      "captcha_required\n"
     ]
    },
    {
     "name": "stderr",
     "output_type": "stream",
     "text": [
      "\r",
      " 81%|█████████████████████████████████████████████████████████████████▌               | 81/100 [00:28<00:16,  1.15it/s]"
     ]
    },
    {
     "name": "stdout",
     "output_type": "stream",
     "text": [
      "captcha_required\n"
     ]
    },
    {
     "name": "stderr",
     "output_type": "stream",
     "text": [
      "\r",
      " 82%|██████████████████████████████████████████████████████████████████▍              | 82/100 [00:30<00:18,  1.03s/it]"
     ]
    },
    {
     "name": "stdout",
     "output_type": "stream",
     "text": [
      "captcha_required\n"
     ]
    },
    {
     "name": "stderr",
     "output_type": "stream",
     "text": [
      "\r",
      " 83%|███████████████████████████████████████████████████████████████████▏             | 83/100 [00:31<00:19,  1.14s/it]"
     ]
    },
    {
     "name": "stdout",
     "output_type": "stream",
     "text": [
      "captcha_required\n"
     ]
    },
    {
     "name": "stderr",
     "output_type": "stream",
     "text": [
      "100%|████████████████████████████████████████████████████████████████████████████████| 100/100 [00:37<00:00,  2.65it/s]\n"
     ]
    },
    {
     "name": "stdout",
     "output_type": "stream",
     "text": [
      "вакансий получено - 67\n",
      "вакансий пропущено - 27\n",
      "вакансий с ошибкой - 6\n",
      "('https://api.hh.ru/vacancies?area=35&professional_role=5&area=78&professional_role=63&area=68&professional_role=83&area=90&professional_role=96&area=4&professional_role=118&area=107&professional_role=48&area=76&professional_role=6&area=1002&professional_role=142', 1778)\n",
      "number url - 219\n",
      "размер массива (134533, 1)\n",
      "total_pages - 20\n"
     ]
    },
    {
     "name": "stderr",
     "output_type": "stream",
     "text": [
      "100%|████████████████████████████████████████████████████████████████████████████████| 100/100 [00:44<00:00,  2.28it/s]\n"
     ]
    },
    {
     "name": "stdout",
     "output_type": "stream",
     "text": [
      "вакансий получено - 100\n",
      "вакансий пропущено - 0\n",
      "вакансий с ошибкой - 0\n",
      "('https://api.hh.ru/vacancies?area=3&professional_role=77&area=66&professional_role=142&area=177&professional_role=70&area=88&professional_role=49&area=53&professional_role=110&area=88&professional_role=102&area=88&professional_role=142&area=99&professional_role=111', 1796)\n",
      "number url - 220\n",
      "размер массива (134633, 1)\n",
      "total_pages - 20\n"
     ]
    },
    {
     "name": "stderr",
     "output_type": "stream",
     "text": [
      " 10%|████████                                                                         | 10/100 [00:03<00:38,  2.32it/s]"
     ]
    },
    {
     "name": "stdout",
     "output_type": "stream",
     "text": [
      "captcha_required\n"
     ]
    },
    {
     "name": "stderr",
     "output_type": "stream",
     "text": [
      "\r",
      " 11%|████████▉                                                                        | 11/100 [00:05<01:04,  1.37it/s]"
     ]
    },
    {
     "name": "stdout",
     "output_type": "stream",
     "text": [
      "captcha_required\n"
     ]
    },
    {
     "name": "stderr",
     "output_type": "stream",
     "text": [
      "\r",
      " 12%|█████████▋                                                                       | 12/100 [00:06<01:21,  1.07it/s]"
     ]
    },
    {
     "name": "stdout",
     "output_type": "stream",
     "text": [
      "captcha_required\n"
     ]
    },
    {
     "name": "stderr",
     "output_type": "stream",
     "text": [
      "\r",
      " 13%|██████████▌                                                                      | 13/100 [00:08<01:33,  1.07s/it]"
     ]
    },
    {
     "name": "stdout",
     "output_type": "stream",
     "text": [
      "captcha_required\n"
     ]
    },
    {
     "name": "stderr",
     "output_type": "stream",
     "text": [
      " 22%|█████████████████▊                                                               | 22/100 [00:13<00:38,  2.05it/s]"
     ]
    },
    {
     "name": "stdout",
     "output_type": "stream",
     "text": [
      "captcha_required\n"
     ]
    },
    {
     "name": "stderr",
     "output_type": "stream",
     "text": [
      "\r",
      " 24%|███████████████████▍                                                             | 24/100 [00:14<00:42,  1.80it/s]"
     ]
    },
    {
     "name": "stdout",
     "output_type": "stream",
     "text": [
      "captcha_required\n"
     ]
    },
    {
     "name": "stderr",
     "output_type": "stream",
     "text": [
      "100%|████████████████████████████████████████████████████████████████████████████████| 100/100 [00:39<00:00,  2.54it/s]\n"
     ]
    },
    {
     "name": "stdout",
     "output_type": "stream",
     "text": [
      "вакансий получено - 70\n",
      "вакансий пропущено - 24\n",
      "вакансий с ошибкой - 6\n",
      "('https://api.hh.ru/vacancies?area=104&professional_role=96&area=3&professional_role=84&area=2065&professional_role=97&area=102&professional_role=102&area=78&professional_role=128&area=66&professional_role=31&area=72&professional_role=63&area=159&professional_role=94', 1812)\n",
      "number url - 221\n",
      "размер массива (134703, 1)\n",
      "total_pages - 20\n"
     ]
    },
    {
     "name": "stderr",
     "output_type": "stream",
     "text": [
      " 61%|█████████████████████████████████████████████████▍                               | 61/100 [00:24<00:16,  2.37it/s]"
     ]
    },
    {
     "name": "stdout",
     "output_type": "stream",
     "text": [
      "captcha_required\n"
     ]
    },
    {
     "name": "stderr",
     "output_type": "stream",
     "text": [
      "\r",
      " 62%|██████████████████████████████████████████████████▏                              | 62/100 [00:26<00:27,  1.38it/s]"
     ]
    },
    {
     "name": "stdout",
     "output_type": "stream",
     "text": [
      "captcha_required\n"
     ]
    },
    {
     "name": "stderr",
     "output_type": "stream",
     "text": [
      "\r",
      " 63%|███████████████████████████████████████████████████                              | 63/100 [00:27<00:34,  1.07it/s]"
     ]
    },
    {
     "name": "stdout",
     "output_type": "stream",
     "text": [
      "captcha_required\n"
     ]
    },
    {
     "name": "stderr",
     "output_type": "stream",
     "text": [
      "\r",
      " 64%|███████████████████████████████████████████████████▊                             | 64/100 [00:29<00:39,  1.09s/it]"
     ]
    },
    {
     "name": "stdout",
     "output_type": "stream",
     "text": [
      "captcha_required\n"
     ]
    },
    {
     "name": "stderr",
     "output_type": "stream",
     "text": [
      " 76%|█████████████████████████████████████████████████████████████▌                   | 76/100 [00:33<00:09,  2.50it/s]"
     ]
    },
    {
     "name": "stdout",
     "output_type": "stream",
     "text": [
      "captcha_required\n"
     ]
    },
    {
     "name": "stderr",
     "output_type": "stream",
     "text": [
      "\r",
      " 77%|██████████████████████████████████████████████████████████████▎                  | 77/100 [00:35<00:16,  1.43it/s]"
     ]
    },
    {
     "name": "stdout",
     "output_type": "stream",
     "text": [
      "captcha_required\n"
     ]
    },
    {
     "name": "stderr",
     "output_type": "stream",
     "text": [
      "100%|████████████████████████████████████████████████████████████████████████████████| 100/100 [00:45<00:00,  2.82it/s]\n"
     ]
    },
    {
     "name": "stdout",
     "output_type": "stream",
     "text": [
      "вакансий получено - 83\n",
      "вакансий пропущено - 11\n",
      "вакансий с ошибкой - 6\n",
      "('https://api.hh.ru/vacancies?area=247&professional_role=97&area=159&professional_role=94&area=22&professional_role=67&area=3&professional_role=85&area=99&professional_role=131&area=1002&professional_role=24&area=35&professional_role=109&area=35&professional_role=143', 1831)\n",
      "number url - 222\n",
      "размер массива (134786, 1)\n",
      "total_pages - 20\n"
     ]
    },
    {
     "name": "stderr",
     "output_type": "stream",
     "text": [
      " 49%|███████████████████████████████████████▋                                         | 49/100 [00:16<00:20,  2.54it/s]"
     ]
    },
    {
     "name": "stdout",
     "output_type": "stream",
     "text": [
      "captcha_required\n"
     ]
    },
    {
     "name": "stderr",
     "output_type": "stream",
     "text": [
      "100%|████████████████████████████████████████████████████████████████████████████████| 100/100 [00:37<00:00,  2.25it/s]\n"
     ]
    },
    {
     "name": "stdout",
     "output_type": "stream",
     "text": [
      "вакансий получено - 81\n",
      "вакансий пропущено - 18\n",
      "вакансий с ошибкой - 1\n",
      "('https://api.hh.ru/vacancies?area=90&professional_role=63&area=49&professional_role=24&area=1641&professional_role=52&area=72&professional_role=109&area=90&professional_role=18&area=11&professional_role=63&area=104&professional_role=66&area=96&professional_role=48', 1845)\n",
      "number url - 223\n",
      "размер массива (134867, 1)\n",
      "total_pages - 20\n"
     ]
    },
    {
     "name": "stderr",
     "output_type": "stream",
     "text": [
      "  9%|███████▍                                                                          | 9/100 [00:03<00:37,  2.41it/s]"
     ]
    },
    {
     "name": "stdout",
     "output_type": "stream",
     "text": [
      "captcha_required\n"
     ]
    },
    {
     "name": "stderr",
     "output_type": "stream",
     "text": [
      "\r",
      " 10%|████████                                                                         | 10/100 [00:05<01:04,  1.39it/s]"
     ]
    },
    {
     "name": "stdout",
     "output_type": "stream",
     "text": [
      "captcha_required\n"
     ]
    },
    {
     "name": "stderr",
     "output_type": "stream",
     "text": [
      " 19%|███████████████▍                                                                 | 19/100 [00:10<00:38,  2.10it/s]"
     ]
    },
    {
     "name": "stdout",
     "output_type": "stream",
     "text": [
      "captcha_required\n"
     ]
    },
    {
     "name": "stderr",
     "output_type": "stream",
     "text": [
      " 40%|████████████████████████████████▍                                                | 40/100 [00:20<00:26,  2.23it/s]"
     ]
    },
    {
     "name": "stdout",
     "output_type": "stream",
     "text": [
      "captcha_required\n"
     ]
    },
    {
     "name": "stderr",
     "output_type": "stream",
     "text": [
      " 71%|█████████████████████████████████████████████████████████▌                       | 71/100 [00:34<00:12,  2.30it/s]"
     ]
    },
    {
     "name": "stdout",
     "output_type": "stream",
     "text": [
      "captcha_required\n"
     ]
    },
    {
     "name": "stderr",
     "output_type": "stream",
     "text": [
      " 80%|████████████████████████████████████████████████████████████████▊                | 80/100 [00:39<00:09,  2.22it/s]"
     ]
    },
    {
     "name": "stdout",
     "output_type": "stream",
     "text": [
      "captcha_required\n"
     ]
    },
    {
     "name": "stderr",
     "output_type": "stream",
     "text": [
      "100%|████████████████████████████████████████████████████████████████████████████████| 100/100 [00:49<00:00,  2.31it/s]\n"
     ]
    },
    {
     "name": "stdout",
     "output_type": "stream",
     "text": [
      "вакансий получено - 92\n",
      "вакансий пропущено - 2\n",
      "вакансий с ошибкой - 6\n",
      "('https://api.hh.ru/vacancies?area=112&professional_role=83&area=104&professional_role=9&area=68&professional_role=31&area=64&professional_role=70&area=88&professional_role=106&area=99&professional_role=58&area=4&professional_role=35&area=54&professional_role=96', 1856)\n",
      "number url - 224\n",
      "размер массива (134959, 1)\n",
      "total_pages - 20\n"
     ]
    },
    {
     "name": "stderr",
     "output_type": "stream",
     "text": [
      " 29%|███████████████████████▍                                                         | 29/100 [00:11<00:30,  2.32it/s]"
     ]
    },
    {
     "name": "stdout",
     "output_type": "stream",
     "text": [
      "captcha_required\n"
     ]
    },
    {
     "name": "stderr",
     "output_type": "stream",
     "text": [
      " 34%|███████████████████████████▌                                                     | 34/100 [00:14<00:32,  2.02it/s]"
     ]
    },
    {
     "name": "stdout",
     "output_type": "stream",
     "text": [
      "captcha_required\n"
     ]
    },
    {
     "name": "stderr",
     "output_type": "stream",
     "text": [
      "\r",
      " 35%|████████████████████████████▎                                                    | 35/100 [00:16<00:50,  1.29it/s]"
     ]
    },
    {
     "name": "stdout",
     "output_type": "stream",
     "text": [
      "captcha_required\n"
     ]
    },
    {
     "name": "stderr",
     "output_type": "stream",
     "text": [
      " 44%|███████████████████████████████████▋                                             | 44/100 [00:20<00:28,  2.00it/s]"
     ]
    },
    {
     "name": "stdout",
     "output_type": "stream",
     "text": [
      "captcha_required\n"
     ]
    },
    {
     "name": "stderr",
     "output_type": "stream",
     "text": [
      " 67%|██████████████████████████████████████████████████████▎                          | 67/100 [00:31<00:12,  2.65it/s]"
     ]
    },
    {
     "name": "stdout",
     "output_type": "stream",
     "text": [
      "captcha_required\n"
     ]
    },
    {
     "name": "stderr",
     "output_type": "stream",
     "text": [
      "100%|████████████████████████████████████████████████████████████████████████████████| 100/100 [00:46<00:00,  2.38it/s]\n"
     ]
    },
    {
     "name": "stdout",
     "output_type": "stream",
     "text": [
      "вакансий получено - 90\n",
      "вакансий пропущено - 5\n",
      "вакансий с ошибкой - 5\n",
      "('https://api.hh.ru/vacancies?area=212&professional_role=24&area=4&professional_role=142&area=88&professional_role=64&area=237&professional_role=130&area=1440&professional_role=97&area=76&professional_role=31&area=35&professional_role=48&area=3&professional_role=88', 1867)\n",
      "number url - 225\n",
      "размер массива (135049, 1)\n",
      "total_pages - 20\n"
     ]
    },
    {
     "name": "stderr",
     "output_type": "stream",
     "text": [
      " 25%|████████████████████▎                                                            | 25/100 [00:11<00:33,  2.26it/s]"
     ]
    },
    {
     "name": "stdout",
     "output_type": "stream",
     "text": [
      "captcha_required\n"
     ]
    },
    {
     "name": "stderr",
     "output_type": "stream",
     "text": [
      "\r",
      " 26%|█████████████████████                                                            | 26/100 [00:12<00:54,  1.37it/s]"
     ]
    },
    {
     "name": "stdout",
     "output_type": "stream",
     "text": [
      "captcha_required\n"
     ]
    },
    {
     "name": "stderr",
     "output_type": "stream",
     "text": [
      " 59%|███████████████████████████████████████████████▊                                 | 59/100 [00:28<00:17,  2.30it/s]"
     ]
    },
    {
     "name": "stdout",
     "output_type": "stream",
     "text": [
      "captcha_required\n"
     ]
    },
    {
     "name": "stderr",
     "output_type": "stream",
     "text": [
      "\r",
      " 60%|████████████████████████████████████████████████▌                                | 60/100 [00:29<00:29,  1.36it/s]"
     ]
    },
    {
     "name": "stdout",
     "output_type": "stream",
     "text": [
      "captcha_required\n"
     ]
    },
    {
     "name": "stderr",
     "output_type": "stream",
     "text": [
      " 70%|████████████████████████████████████████████████████████▋                        | 70/100 [00:35<00:14,  2.09it/s]"
     ]
    },
    {
     "name": "stdout",
     "output_type": "stream",
     "text": [
      "captcha_required\n"
     ]
    },
    {
     "name": "stderr",
     "output_type": "stream",
     "text": [
      "100%|████████████████████████████████████████████████████████████████████████████████| 100/100 [00:50<00:00,  2.36it/s]\n"
     ]
    },
    {
     "name": "stdout",
     "output_type": "stream",
     "text": [
      "вакансий получено - 95\n",
      "вакансий пропущено - 0\n",
      "вакансий с ошибкой - 5\n",
      "('https://api.hh.ru/vacancies?area=66&professional_role=111&area=14&professional_role=70&area=88&professional_role=68&area=35&professional_role=8&area=49&professional_role=94&area=95&professional_role=89&area=1002&professional_role=66&area=112&professional_role=48', 1885)\n",
      "number url - 226\n",
      "размер массива (135144, 1)\n",
      "total_pages - 20\n"
     ]
    },
    {
     "name": "stderr",
     "output_type": "stream",
     "text": [
      " 72%|██████████████████████████████████████████████████████████▎                      | 72/100 [00:21<00:11,  2.36it/s]"
     ]
    },
    {
     "name": "stdout",
     "output_type": "stream",
     "text": [
      "captcha_required\n"
     ]
    },
    {
     "name": "stderr",
     "output_type": "stream",
     "text": [
      "\r",
      " 73%|███████████████████████████████████████████████████████████▏                     | 73/100 [00:22<00:19,  1.38it/s]"
     ]
    },
    {
     "name": "stdout",
     "output_type": "stream",
     "text": [
      "captcha_required\n"
     ]
    },
    {
     "name": "stderr",
     "output_type": "stream",
     "text": [
      "100%|████████████████████████████████████████████████████████████████████████████████| 100/100 [00:33<00:00,  2.67it/s]\n"
     ]
    },
    {
     "name": "stdout",
     "output_type": "stream",
     "text": [
      "вакансий получено - 68\n",
      "вакансий пропущено - 30\n",
      "вакансий с ошибкой - 2\n",
      "('https://api.hh.ru/vacancies?area=68&professional_role=52&area=76&professional_role=67&area=26&professional_role=111&area=76&professional_role=35&area=95&professional_role=143&area=55&professional_role=70&area=20&professional_role=63&area=237&professional_role=8', 1905)\n",
      "number url - 227\n",
      "размер массива (135212, 1)\n",
      "total_pages - 20\n"
     ]
    },
    {
     "name": "stderr",
     "output_type": "stream",
     "text": [
      " 17%|█████████████▊                                                                   | 17/100 [00:07<00:35,  2.37it/s]"
     ]
    },
    {
     "name": "stdout",
     "output_type": "stream",
     "text": [
      "captcha_required\n"
     ]
    },
    {
     "name": "stderr",
     "output_type": "stream",
     "text": [
      " 21%|█████████████████                                                                | 21/100 [00:10<00:41,  1.91it/s]"
     ]
    },
    {
     "name": "stdout",
     "output_type": "stream",
     "text": [
      "captcha_required\n"
     ]
    },
    {
     "name": "stderr",
     "output_type": "stream",
     "text": [
      " 50%|████████████████████████████████████████▌                                        | 50/100 [00:23<00:21,  2.36it/s]"
     ]
    },
    {
     "name": "stdout",
     "output_type": "stream",
     "text": [
      "captcha_required\n"
     ]
    },
    {
     "name": "stderr",
     "output_type": "stream",
     "text": [
      "\r",
      " 51%|█████████████████████████████████████████▎                                       | 51/100 [00:25<00:36,  1.33it/s]"
     ]
    },
    {
     "name": "stdout",
     "output_type": "stream",
     "text": [
      "captcha_required\n"
     ]
    },
    {
     "name": "stderr",
     "output_type": "stream",
     "text": [
      " 94%|████████████████████████████████████████████████████████████████████████████▏    | 94/100 [00:44<00:02,  2.29it/s]"
     ]
    },
    {
     "name": "stdout",
     "output_type": "stream",
     "text": [
      "captcha_required\n"
     ]
    },
    {
     "name": "stderr",
     "output_type": "stream",
     "text": [
      "100%|████████████████████████████████████████████████████████████████████████████████| 100/100 [00:47<00:00,  2.08it/s]\n"
     ]
    },
    {
     "name": "stdout",
     "output_type": "stream",
     "text": [
      "вакансий получено - 92\n",
      "вакансий пропущено - 3\n",
      "вакансий с ошибкой - 5\n",
      "('https://api.hh.ru/vacancies?area=3&professional_role=45&area=61&professional_role=70&area=4&professional_role=144&area=1512&professional_role=40&area=4&professional_role=78&area=77&professional_role=18&area=205&professional_role=70&area=41&professional_role=21', 1916)\n",
      "number url - 228\n",
      "размер массива (135304, 1)\n",
      "total_pages - 20\n"
     ]
    },
    {
     "name": "stderr",
     "output_type": "stream",
     "text": [
      " 32%|█████████████████████████▉                                                       | 32/100 [00:10<00:15,  4.28it/s]"
     ]
    },
    {
     "name": "stdout",
     "output_type": "stream",
     "text": [
      "captcha_required\n"
     ]
    },
    {
     "name": "stderr",
     "output_type": "stream",
     "text": [
      "\r",
      " 33%|██████████████████████████▋                                                      | 33/100 [00:11<00:40,  1.67it/s]"
     ]
    },
    {
     "name": "stdout",
     "output_type": "stream",
     "text": [
      "captcha_required\n"
     ]
    },
    {
     "name": "stderr",
     "output_type": "stream",
     "text": [
      " 65%|████████████████████████████████████████████████████▋                            | 65/100 [00:23<00:12,  2.91it/s]"
     ]
    },
    {
     "name": "stdout",
     "output_type": "stream",
     "text": [
      "captcha_required\n"
     ]
    },
    {
     "name": "stderr",
     "output_type": "stream",
     "text": [
      "100%|████████████████████████████████████████████████████████████████████████████████| 100/100 [00:36<00:00,  2.78it/s]\n"
     ]
    },
    {
     "name": "stdout",
     "output_type": "stream",
     "text": [
      "вакансий получено - 70\n",
      "вакансий пропущено - 27\n",
      "вакансий с ошибкой - 3\n",
      "('https://api.hh.ru/vacancies?area=20&professional_role=70&area=96&professional_role=115&area=66&professional_role=68&area=102&professional_role=24&area=99&professional_role=100&area=2025&professional_role=21&area=11&professional_role=115&area=53&professional_role=67', 1928)\n",
      "number url - 229\n",
      "размер массива (135374, 1)\n",
      "total_pages - 20\n"
     ]
    },
    {
     "name": "stderr",
     "output_type": "stream",
     "text": [
      " 58%|██████████████████████████████████████████████▉                                  | 58/100 [00:16<00:15,  2.75it/s]"
     ]
    },
    {
     "name": "stdout",
     "output_type": "stream",
     "text": [
      "captcha_required\n"
     ]
    },
    {
     "name": "stderr",
     "output_type": "stream",
     "text": [
      " 69%|███████████████████████████████████████████████████████▉                         | 69/100 [00:21<00:13,  2.22it/s]"
     ]
    },
    {
     "name": "stdout",
     "output_type": "stream",
     "text": [
      "captcha_required\n"
     ]
    },
    {
     "name": "stderr",
     "output_type": "stream",
     "text": [
      "\r",
      " 71%|█████████████████████████████████████████████████████████▌                       | 71/100 [00:23<00:15,  1.86it/s]"
     ]
    },
    {
     "name": "stdout",
     "output_type": "stream",
     "text": [
      "captcha_required\n"
     ]
    },
    {
     "name": "stderr",
     "output_type": "stream",
     "text": [
      " 97%|██████████████████████████████████████████████████████████████████████████████▌  | 97/100 [00:35<00:01,  2.37it/s]"
     ]
    },
    {
     "name": "stdout",
     "output_type": "stream",
     "text": [
      "captcha_required\n"
     ]
    },
    {
     "name": "stderr",
     "output_type": "stream",
     "text": [
      "100%|████████████████████████████████████████████████████████████████████████████████| 100/100 [00:37<00:00,  1.75it/s]\n"
     ]
    },
    {
     "name": "stdout",
     "output_type": "stream",
     "text": [
      "вакансий получено - 71\n",
      "вакансий пропущено - 25\n",
      "вакансий с ошибкой - 4\n",
      "('https://api.hh.ru/vacancies?area=205&professional_role=70&area=88&professional_role=111&area=1753&professional_role=70&area=2020&professional_role=70&area=53&professional_role=121&area=177&professional_role=40&area=35&professional_role=130&area=76&professional_role=118', 1937)\n",
      "number url - 230\n",
      "размер массива (135445, 1)\n",
      "total_pages - 20\n"
     ]
    },
    {
     "name": "stderr",
     "output_type": "stream",
     "text": [
      " 59%|███████████████████████████████████████████████▊                                 | 59/100 [00:20<00:17,  2.29it/s]"
     ]
    },
    {
     "name": "stdout",
     "output_type": "stream",
     "text": [
      "captcha_required\n"
     ]
    },
    {
     "name": "stderr",
     "output_type": "stream",
     "text": [
      "100%|████████████████████████████████████████████████████████████████████████████████| 100/100 [00:36<00:00,  2.82it/s]\n"
     ]
    },
    {
     "name": "stdout",
     "output_type": "stream",
     "text": [
      "вакансий получено - 79\n",
      "вакансий пропущено - 20\n",
      "вакансий с ошибкой - 1\n",
      "('https://api.hh.ru/vacancies?area=3&professional_role=35&area=92&professional_role=18&area=54&professional_role=66&area=177&professional_role=40&area=67&professional_role=70&area=68&professional_role=47&area=78&professional_role=47&area=79&professional_role=48', 1951)\n",
      "number url - 231\n",
      "размер массива (135524, 1)\n",
      "total_pages - 20\n"
     ]
    },
    {
     "name": "stderr",
     "output_type": "stream",
     "text": [
      " 24%|███████████████████▍                                                             | 24/100 [00:06<00:24,  3.08it/s]"
     ]
    },
    {
     "name": "stdout",
     "output_type": "stream",
     "text": [
      "captcha_required\n"
     ]
    },
    {
     "name": "stderr",
     "output_type": "stream",
     "text": [
      " 33%|██████████████████████████▋                                                      | 33/100 [00:10<00:26,  2.49it/s]"
     ]
    },
    {
     "name": "stdout",
     "output_type": "stream",
     "text": [
      "captcha_required\n"
     ]
    },
    {
     "name": "stderr",
     "output_type": "stream",
     "text": [
      " 63%|███████████████████████████████████████████████████                              | 63/100 [00:20<00:12,  2.93it/s]"
     ]
    },
    {
     "name": "stdout",
     "output_type": "stream",
     "text": [
      "captcha_required\n"
     ]
    },
    {
     "name": "stderr",
     "output_type": "stream",
     "text": [
      "\r",
      " 64%|███████████████████████████████████████████████████▊                             | 64/100 [00:21<00:23,  1.51it/s]"
     ]
    },
    {
     "name": "stdout",
     "output_type": "stream",
     "text": [
      "captcha_required\n"
     ]
    },
    {
     "name": "stderr",
     "output_type": "stream",
     "text": [
      " 74%|███████████████████████████████████████████████████████████▉                     | 74/100 [00:24<00:11,  2.23it/s]"
     ]
    },
    {
     "name": "stdout",
     "output_type": "stream",
     "text": [
      "captcha_required\n"
     ]
    },
    {
     "name": "stderr",
     "output_type": "stream",
     "text": [
      "100%|████████████████████████████████████████████████████████████████████████████████| 100/100 [00:33<00:00,  3.03it/s]\n"
     ]
    },
    {
     "name": "stdout",
     "output_type": "stream",
     "text": [
      "вакансий получено - 56\n",
      "вакансий пропущено - 39\n",
      "вакансий с ошибкой - 5\n",
      "('https://api.hh.ru/vacancies?area=1240&professional_role=102&area=104&professional_role=5&area=78&professional_role=9&area=89&professional_role=24&area=76&professional_role=64&area=32&professional_role=24&area=53&professional_role=143&area=25&professional_role=24', 1982)\n",
      "number url - 232\n",
      "размер массива (135580, 1)\n",
      "total_pages - 20\n"
     ]
    },
    {
     "name": "stderr",
     "output_type": "stream",
     "text": [
      " 74%|███████████████████████████████████████████████████████████▉                     | 74/100 [00:32<00:11,  2.20it/s]"
     ]
    },
    {
     "name": "stdout",
     "output_type": "stream",
     "text": [
      "captcha_required\n"
     ]
    },
    {
     "name": "stderr",
     "output_type": "stream",
     "text": [
      " 82%|██████████████████████████████████████████████████████████████████▍              | 82/100 [00:37<00:08,  2.17it/s]"
     ]
    },
    {
     "name": "stdout",
     "output_type": "stream",
     "text": [
      "captcha_required\n"
     ]
    },
    {
     "name": "stderr",
     "output_type": "stream",
     "text": [
      "\r",
      " 83%|███████████████████████████████████████████████████████████████████▏             | 83/100 [00:38<00:12,  1.31it/s]"
     ]
    },
    {
     "name": "stdout",
     "output_type": "stream",
     "text": [
      "captcha_required\n"
     ]
    },
    {
     "name": "stderr",
     "output_type": "stream",
     "text": [
      "100%|████████████████████████████████████████████████████████████████████████████████| 100/100 [00:47<00:00,  2.23it/s]\n"
     ]
    },
    {
     "name": "stdout",
     "output_type": "stream",
     "text": [
      "вакансий получено - 97\n",
      "вакансий пропущено - 0\n",
      "вакансий с ошибкой - 3\n",
      "('https://api.hh.ru/vacancies?area=54&professional_role=64&area=54&professional_role=100&area=2025&professional_role=52&area=1220&professional_role=40&area=95&professional_role=100&area=78&professional_role=143&area=88&professional_role=115&area=130&professional_role=70', 1999)\n",
      "number url - 233\n",
      "размер массива (135677, 1)\n",
      "total_pages - 20\n"
     ]
    },
    {
     "name": "stderr",
     "output_type": "stream",
     "text": [
      "  7%|█████▋                                                                            | 7/100 [00:02<00:39,  2.33it/s]"
     ]
    },
    {
     "name": "stdout",
     "output_type": "stream",
     "text": [
      "captcha_required\n"
     ]
    },
    {
     "name": "stderr",
     "output_type": "stream",
     "text": [
      " 16%|████████████▉                                                                    | 16/100 [00:07<00:33,  2.51it/s]"
     ]
    },
    {
     "name": "stdout",
     "output_type": "stream",
     "text": [
      "captcha_required\n"
     ]
    },
    {
     "name": "stderr",
     "output_type": "stream",
     "text": [
      " 21%|█████████████████                                                                | 21/100 [00:10<00:38,  2.03it/s]"
     ]
    },
    {
     "name": "stdout",
     "output_type": "stream",
     "text": [
      "captcha_required\n"
     ]
    },
    {
     "name": "stderr",
     "output_type": "stream",
     "text": [
      "\r",
      " 22%|█████████████████▊                                                               | 22/100 [00:11<01:01,  1.28it/s]"
     ]
    },
    {
     "name": "stdout",
     "output_type": "stream",
     "text": [
      "captcha_required\n"
     ]
    },
    {
     "name": "stderr",
     "output_type": "stream",
     "text": [
      "100%|████████████████████████████████████████████████████████████████████████████████| 100/100 [00:40<00:00,  2.40it/s]\n"
     ]
    },
    {
     "name": "stdout",
     "output_type": "stream",
     "text": [
      "вакансий получено - 78\n",
      "вакансий пропущено - 18\n",
      "вакансий с ошибкой - 4\n",
      "('https://api.hh.ru/vacancies?area=160&professional_role=110&area=26&professional_role=102&area=99&professional_role=49&area=66&professional_role=143&area=11&professional_role=130&area=66&professional_role=130&area=88&professional_role=89', 1761)\n",
      "number url - 234\n",
      "размер массива (135755, 1)\n",
      "total_pages - 20\n"
     ]
    },
    {
     "name": "stderr",
     "output_type": "stream",
     "text": [
      " 25%|████████████████████▎                                                            | 25/100 [00:09<00:31,  2.41it/s]"
     ]
    },
    {
     "name": "stdout",
     "output_type": "stream",
     "text": [
      "captcha_required\n"
     ]
    },
    {
     "name": "stderr",
     "output_type": "stream",
     "text": [
      " 43%|██████████████████████████████████▊                                              | 43/100 [00:17<00:24,  2.33it/s]"
     ]
    },
    {
     "name": "stdout",
     "output_type": "stream",
     "text": [
      "captcha_required\n"
     ]
    },
    {
     "name": "stderr",
     "output_type": "stream",
     "text": [
      "\r",
      " 44%|███████████████████████████████████▋                                             | 44/100 [00:19<00:41,  1.36it/s]"
     ]
    },
    {
     "name": "stdout",
     "output_type": "stream",
     "text": [
      "captcha_required\n"
     ]
    },
    {
     "name": "stderr",
     "output_type": "stream",
     "text": [
      " 64%|███████████████████████████████████████████████████▊                             | 64/100 [00:26<00:13,  2.59it/s]"
     ]
    },
    {
     "name": "stdout",
     "output_type": "stream",
     "text": [
      "captcha_required\n"
     ]
    },
    {
     "name": "stderr",
     "output_type": "stream",
     "text": [
      "\r",
      " 65%|████████████████████████████████████████████████████▋                            | 65/100 [00:27<00:24,  1.44it/s]"
     ]
    },
    {
     "name": "stdout",
     "output_type": "stream",
     "text": [
      "captcha_required\n"
     ]
    },
    {
     "name": "stderr",
     "output_type": "stream",
     "text": [
      " 70%|████████████████████████████████████████████████████████▋                        | 70/100 [00:31<00:16,  1.81it/s]"
     ]
    },
    {
     "name": "stdout",
     "output_type": "stream",
     "text": [
      "captcha_required\n"
     ]
    },
    {
     "name": "stderr",
     "output_type": "stream",
     "text": [
      "100%|████████████████████████████████████████████████████████████████████████████████| 100/100 [00:44<00:00,  2.02it/s]\n"
     ]
    },
    {
     "name": "stdout",
     "output_type": "stream",
     "text": [
      "вакансий получено - 80\n",
      "вакансий пропущено - 14\n",
      "вакансий с ошибкой - 6\n",
      "('https://api.hh.ru/vacancies?area=1550&professional_role=40&area=159&professional_role=132&area=2053&professional_role=70&area=72&professional_role=8&area=41&professional_role=18&area=92&professional_role=48&area=41&professional_role=94', 1776)\n",
      "number url - 235\n",
      "размер массива (135835, 1)\n",
      "total_pages - 20\n"
     ]
    },
    {
     "name": "stderr",
     "output_type": "stream",
     "text": [
      " 79%|███████████████████████████████████████████████████████████████▉                 | 79/100 [00:33<00:09,  2.27it/s]"
     ]
    },
    {
     "name": "stdout",
     "output_type": "stream",
     "text": [
      "captcha_required\n"
     ]
    },
    {
     "name": "stderr",
     "output_type": "stream",
     "text": [
      "\r",
      " 80%|████████████████████████████████████████████████████████████████▊                | 80/100 [00:35<00:14,  1.36it/s]"
     ]
    },
    {
     "name": "stdout",
     "output_type": "stream",
     "text": [
      "captcha_required\n"
     ]
    },
    {
     "name": "stderr",
     "output_type": "stream",
     "text": [
      " 95%|████████████████████████████████████████████████████████████████████████████▉    | 95/100 [00:42<00:02,  2.21it/s]"
     ]
    },
    {
     "name": "stdout",
     "output_type": "stream",
     "text": [
      "captcha_required\n"
     ]
    },
    {
     "name": "stderr",
     "output_type": "stream",
     "text": [
      " 99%|████████████████████████████████████████████████████████████████████████████████▏| 99/100 [00:45<00:00,  1.78it/s]"
     ]
    },
    {
     "name": "stdout",
     "output_type": "stream",
     "text": [
      "captcha_required\n"
     ]
    },
    {
     "name": "stderr",
     "output_type": "stream",
     "text": [
      "100%|████████████████████████████████████████████████████████████████████████████████| 100/100 [00:47<00:00,  1.21it/s]\n"
     ]
    },
    {
     "name": "stdout",
     "output_type": "stream",
     "text": [
      "вакансий получено - 91\n",
      "вакансий пропущено - 5\n",
      "вакансий с ошибкой - 4\n",
      "('https://api.hh.ru/vacancies?area=112&professional_role=24&area=98&professional_role=21&area=12&professional_role=70&area=66&professional_role=5&area=17&professional_role=21&area=73&professional_role=97&area=3&professional_role=82', 1788)\n",
      "number url - 236\n",
      "размер массива (135926, 1)\n",
      "total_pages - 20\n"
     ]
    },
    {
     "name": "stderr",
     "output_type": "stream",
     "text": [
      " 28%|██████████████████████▋                                                          | 28/100 [00:11<00:33,  2.14it/s]"
     ]
    },
    {
     "name": "stdout",
     "output_type": "stream",
     "text": [
      "captcha_required\n"
     ]
    },
    {
     "name": "stderr",
     "output_type": "stream",
     "text": [
      "100%|████████████████████████████████████████████████████████████████████████████████| 100/100 [00:44<00:00,  2.36it/s]\n"
     ]
    },
    {
     "name": "stdout",
     "output_type": "stream",
     "text": [
      "вакансий получено - 93\n",
      "вакансий пропущено - 6\n",
      "вакансий с ошибкой - 1\n",
      "('https://api.hh.ru/vacancies?area=53&professional_role=115&area=88&professional_role=118&area=237&professional_role=24&area=53&professional_role=5&area=75&professional_role=40&area=54&professional_role=131&area=76&professional_role=115', 1797)\n",
      "number url - 237\n",
      "размер массива (136019, 1)\n",
      "total_pages - 20\n"
     ]
    },
    {
     "name": "stderr",
     "output_type": "stream",
     "text": [
      " 23%|██████████████████▋                                                              | 23/100 [00:09<00:34,  2.25it/s]"
     ]
    },
    {
     "name": "stdout",
     "output_type": "stream",
     "text": [
      "captcha_required\n"
     ]
    },
    {
     "name": "stderr",
     "output_type": "stream",
     "text": [
      " 27%|█████████████████████▊                                                           | 27/100 [00:12<00:38,  1.87it/s]"
     ]
    },
    {
     "name": "stdout",
     "output_type": "stream",
     "text": [
      "captcha_required\n"
     ]
    },
    {
     "name": "stderr",
     "output_type": "stream",
     "text": [
      "\r",
      " 28%|██████████████████████▋                                                          | 28/100 [00:13<00:57,  1.26it/s]"
     ]
    },
    {
     "name": "stdout",
     "output_type": "stream",
     "text": [
      "captcha_required\n"
     ]
    },
    {
     "name": "stderr",
     "output_type": "stream",
     "text": [
      " 56%|█████████████████████████████████████████████▎                                   | 56/100 [00:28<00:19,  2.23it/s]"
     ]
    },
    {
     "name": "stdout",
     "output_type": "stream",
     "text": [
      "captcha_required\n"
     ]
    },
    {
     "name": "stderr",
     "output_type": "stream",
     "text": [
      "100%|████████████████████████████████████████████████████████████████████████████████| 100/100 [00:48<00:00,  2.20it/s]\n"
     ]
    },
    {
     "name": "stdout",
     "output_type": "stream",
     "text": [
      "вакансий получено - 94\n",
      "вакансий пропущено - 2\n",
      "вакансий с ошибкой - 4\n",
      "('https://api.hh.ru/vacancies?area=53&professional_role=129&area=72&professional_role=52&area=53&professional_role=35&area=3&professional_role=69&area=55&professional_role=97&area=3&professional_role=109&area=1002&professional_role=67', 1823)\n",
      "number url - 238\n",
      "размер массива (136113, 1)\n",
      "total_pages - 20\n"
     ]
    },
    {
     "name": "stderr",
     "output_type": "stream",
     "text": [
      " 47%|██████████████████████████████████████                                           | 47/100 [00:21<00:24,  2.15it/s]"
     ]
    },
    {
     "name": "stdout",
     "output_type": "stream",
     "text": [
      "captcha_required\n"
     ]
    },
    {
     "name": "stderr",
     "output_type": "stream",
     "text": [
      " 51%|█████████████████████████████████████████▎                                       | 51/100 [00:23<00:26,  1.85it/s]"
     ]
    },
    {
     "name": "stdout",
     "output_type": "stream",
     "text": [
      "captcha_required\n"
     ]
    },
    {
     "name": "stderr",
     "output_type": "stream",
     "text": [
      "\r",
      " 52%|██████████████████████████████████████████                                       | 52/100 [00:25<00:38,  1.24it/s]"
     ]
    },
    {
     "name": "stdout",
     "output_type": "stream",
     "text": [
      "captcha_required\n"
     ]
    },
    {
     "name": "stderr",
     "output_type": "stream",
     "text": [
      "\r",
      " 53%|██████████████████████████████████████████▉                                      | 53/100 [00:26<00:47,  1.00s/it]"
     ]
    },
    {
     "name": "stdout",
     "output_type": "stream",
     "text": [
      "captcha_required\n"
     ]
    },
    {
     "name": "stderr",
     "output_type": "stream",
     "text": [
      " 80%|████████████████████████████████████████████████████████████████▊                | 80/100 [00:39<00:08,  2.31it/s]"
     ]
    },
    {
     "name": "stdout",
     "output_type": "stream",
     "text": [
      "captcha_required\n"
     ]
    },
    {
     "name": "stderr",
     "output_type": "stream",
     "text": [
      "100%|████████████████████████████████████████████████████████████████████████████████| 100/100 [00:48<00:00,  2.07it/s]\n"
     ]
    },
    {
     "name": "stdout",
     "output_type": "stream",
     "text": [
      "вакансий получено - 91\n",
      "вакансий пропущено - 4\n",
      "вакансий с ошибкой - 5\n",
      "('https://api.hh.ru/vacancies?area=54&professional_role=89&area=99&professional_role=5&area=72&professional_role=96&area=53&professional_role=9&area=95&professional_role=115&area=96&professional_role=94&area=47&professional_role=63', 1848)\n",
      "number url - 239\n",
      "размер массива (136204, 1)\n",
      "total_pages - 20\n"
     ]
    },
    {
     "name": "stderr",
     "output_type": "stream",
     "text": [
      " 24%|███████████████████▍                                                             | 24/100 [00:10<00:32,  2.37it/s]"
     ]
    },
    {
     "name": "stdout",
     "output_type": "stream",
     "text": [
      "captcha_required\n"
     ]
    },
    {
     "name": "stderr",
     "output_type": "stream",
     "text": [
      " 75%|████████████████████████████████████████████████████████████▊                    | 75/100 [00:34<00:11,  2.20it/s]"
     ]
    },
    {
     "name": "stdout",
     "output_type": "stream",
     "text": [
      "captcha_required\n"
     ]
    },
    {
     "name": "stderr",
     "output_type": "stream",
     "text": [
      "\r",
      " 76%|█████████████████████████████████████████████████████████████▌                   | 76/100 [00:36<00:17,  1.36it/s]"
     ]
    },
    {
     "name": "stdout",
     "output_type": "stream",
     "text": [
      "captcha_required\n"
     ]
    },
    {
     "name": "stderr",
     "output_type": "stream",
     "text": [
      "\r",
      " 77%|██████████████████████████████████████████████████████████████▎                  | 77/100 [00:37<00:21,  1.06it/s]"
     ]
    },
    {
     "name": "stdout",
     "output_type": "stream",
     "text": [
      "captcha_required\n"
     ]
    },
    {
     "name": "stderr",
     "output_type": "stream",
     "text": [
      "\r",
      " 78%|███████████████████████████████████████████████████████████████▏                 | 78/100 [00:39<00:23,  1.08s/it]"
     ]
    },
    {
     "name": "stdout",
     "output_type": "stream",
     "text": [
      "captcha_required\n"
     ]
    },
    {
     "name": "stderr",
     "output_type": "stream",
     "text": [
      "100%|████████████████████████████████████████████████████████████████████████████████| 100/100 [00:49<00:00,  2.34it/s]\n"
     ]
    },
    {
     "name": "stdout",
     "output_type": "stream",
     "text": [
      "вакансий получено - 95\n",
      "вакансий пропущено - 0\n",
      "вакансий с ошибкой - 5\n",
      "('https://api.hh.ru/vacancies?area=66&professional_role=118&area=72&professional_role=47&area=112&professional_role=18&area=76&professional_role=66&area=63&professional_role=40&area=72&professional_role=49&area=160&professional_role=129', 1868)\n",
      "number url - 240\n",
      "размер массива (136299, 1)\n",
      "total_pages - 20\n"
     ]
    },
    {
     "name": "stderr",
     "output_type": "stream",
     "text": [
      " 37%|█████████████████████████████▉                                                   | 37/100 [00:09<00:25,  2.49it/s]"
     ]
    },
    {
     "name": "stdout",
     "output_type": "stream",
     "text": [
      "captcha_required\n"
     ]
    },
    {
     "name": "stderr",
     "output_type": "stream",
     "text": [
      " 61%|█████████████████████████████████████████████████▍                               | 61/100 [00:20<00:15,  2.56it/s]"
     ]
    },
    {
     "name": "stdout",
     "output_type": "stream",
     "text": [
      "captcha_required\n"
     ]
    },
    {
     "name": "stderr",
     "output_type": "stream",
     "text": [
      "100%|████████████████████████████████████████████████████████████████████████████████| 100/100 [00:36<00:00,  1.16it/s]\n"
     ]
    },
    {
     "name": "stdout",
     "output_type": "stream",
     "text": [
      "вакансий получено - 73\n",
      "вакансий пропущено - 25\n",
      "вакансий с ошибкой - 2\n",
      "('https://api.hh.ru/vacancies?area=3&professional_role=107&area=104&professional_role=111&area=12&professional_role=21&area=104&professional_role=47&area=90&professional_role=48&area=95&professional_role=8&area=3&professional_role=10', 1881)\n",
      "number url - 241\n",
      "размер массива (136372, 1)\n",
      "total_pages - 20\n"
     ]
    },
    {
     "name": "stderr",
     "output_type": "stream",
     "text": [
      " 24%|███████████████████▍                                                             | 24/100 [00:10<00:33,  2.27it/s]"
     ]
    },
    {
     "name": "stdout",
     "output_type": "stream",
     "text": [
      "captcha_required\n"
     ]
    },
    {
     "name": "stderr",
     "output_type": "stream",
     "text": [
      " 28%|██████████████████████▋                                                          | 28/100 [00:13<00:38,  1.89it/s]"
     ]
    },
    {
     "name": "stdout",
     "output_type": "stream",
     "text": [
      "captcha_required\n"
     ]
    },
    {
     "name": "stderr",
     "output_type": "stream",
     "text": [
      " 45%|████████████████████████████████████▍                                            | 45/100 [00:21<00:24,  2.28it/s]"
     ]
    },
    {
     "name": "stdout",
     "output_type": "stream",
     "text": [
      "captcha_required\n"
     ]
    },
    {
     "name": "stderr",
     "output_type": "stream",
     "text": [
      " 70%|████████████████████████████████████████████████████████▋                        | 70/100 [00:33<00:12,  2.34it/s]"
     ]
    },
    {
     "name": "stdout",
     "output_type": "stream",
     "text": [
      "captcha_required\n"
     ]
    },
    {
     "name": "stderr",
     "output_type": "stream",
     "text": [
      " 92%|██████████████████████████████████████████████████████████████████████████▌      | 92/100 [00:44<00:03,  2.31it/s]"
     ]
    },
    {
     "name": "stdout",
     "output_type": "stream",
     "text": [
      "captcha_required\n"
     ]
    },
    {
     "name": "stderr",
     "output_type": "stream",
     "text": [
      "\r",
      " 93%|███████████████████████████████████████████████████████████████████████████▎     | 93/100 [00:45<00:05,  1.35it/s]"
     ]
    },
    {
     "name": "stdout",
     "output_type": "stream",
     "text": [
      "captcha_required\n"
     ]
    },
    {
     "name": "stderr",
     "output_type": "stream",
     "text": [
      "100%|████████████████████████████████████████████████████████████████████████████████| 100/100 [00:49<00:00,  2.07it/s]\n"
     ]
    },
    {
     "name": "stdout",
     "output_type": "stream",
     "text": [
      "вакансий получено - 94\n",
      "вакансий пропущено - 0\n",
      "вакансий с ошибкой - 6\n",
      "('https://api.hh.ru/vacancies?area=99&professional_role=96&area=66&professional_role=47&area=23&professional_role=21&area=35&professional_role=52&area=26&professional_role=131&area=99&professional_role=128&area=35&professional_role=47', 1895)\n",
      "number url - 242\n",
      "размер массива (136466, 1)\n",
      "total_pages - 20\n"
     ]
    },
    {
     "name": "stderr",
     "output_type": "stream",
     "text": [
      " 20%|████████████████▏                                                                | 20/100 [00:08<00:34,  2.34it/s]"
     ]
    },
    {
     "name": "stdout",
     "output_type": "stream",
     "text": [
      "captcha_required\n"
     ]
    },
    {
     "name": "stderr",
     "output_type": "stream",
     "text": [
      " 50%|████████████████████████████████████████▌                                        | 50/100 [00:22<00:21,  2.30it/s]"
     ]
    },
    {
     "name": "stdout",
     "output_type": "stream",
     "text": [
      "captcha_required\n"
     ]
    },
    {
     "name": "stderr",
     "output_type": "stream",
     "text": [
      "\r",
      " 51%|█████████████████████████████████████████▎                                       | 51/100 [00:24<00:35,  1.38it/s]"
     ]
    },
    {
     "name": "stdout",
     "output_type": "stream",
     "text": [
      "captcha_required\n"
     ]
    },
    {
     "name": "stderr",
     "output_type": "stream",
     "text": [
      "100%|████████████████████████████████████████████████████████████████████████████████| 100/100 [00:47<00:00,  2.36it/s]\n"
     ]
    },
    {
     "name": "stdout",
     "output_type": "stream",
     "text": [
      "вакансий получено - 96\n",
      "вакансий пропущено - 1\n",
      "вакансий с ошибкой - 3\n",
      "('https://api.hh.ru/vacancies?area=88&professional_role=9&area=63&professional_role=70&area=3&professional_role=90&area=66&professional_role=89&area=1641&professional_role=115&area=3&professional_role=121&area=4&professional_role=106', 1915)\n",
      "number url - 243\n",
      "размер массива (136562, 1)\n",
      "total_pages - 20\n"
     ]
    },
    {
     "name": "stderr",
     "output_type": "stream",
     "text": [
      " 16%|████████████▉                                                                    | 16/100 [00:06<00:35,  2.35it/s]"
     ]
    },
    {
     "name": "stdout",
     "output_type": "stream",
     "text": [
      "captcha_required\n"
     ]
    },
    {
     "name": "stderr",
     "output_type": "stream",
     "text": [
      " 22%|█████████████████▊                                                               | 22/100 [00:10<00:45,  1.72it/s]"
     ]
    },
    {
     "name": "stdout",
     "output_type": "stream",
     "text": [
      "captcha_required\n"
     ]
    },
    {
     "name": "stderr",
     "output_type": "stream",
     "text": [
      " 57%|██████████████████████████████████████████████▏                                  | 57/100 [00:20<00:10,  4.24it/s]"
     ]
    },
    {
     "name": "stdout",
     "output_type": "stream",
     "text": [
      "captcha_required\n"
     ]
    },
    {
     "name": "stderr",
     "output_type": "stream",
     "text": [
      "\r",
      " 58%|██████████████████████████████████████████████▉                                  | 58/100 [00:21<00:24,  1.70it/s]"
     ]
    },
    {
     "name": "stdout",
     "output_type": "stream",
     "text": [
      "captcha_required\n"
     ]
    },
    {
     "name": "stderr",
     "output_type": "stream",
     "text": [
      "100%|████████████████████████████████████████████████████████████████████████████████| 100/100 [00:35<00:00,  2.79it/s]\n"
     ]
    },
    {
     "name": "stdout",
     "output_type": "stream",
     "text": [
      "вакансий получено - 68\n",
      "вакансий пропущено - 28\n",
      "вакансий с ошибкой - 4\n",
      "('https://api.hh.ru/vacancies?area=26&professional_role=115&area=76&professional_role=58&area=78&professional_role=102&area=3&professional_role=110&area=78&professional_role=115&area=49&professional_role=21&area=66&professional_role=132', 1933)\n",
      "number url - 244\n",
      "размер массива (136630, 1)\n",
      "total_pages - 20\n"
     ]
    },
    {
     "name": "stderr",
     "output_type": "stream",
     "text": [
      "  7%|█████▋                                                                            | 7/100 [00:02<00:39,  2.34it/s]"
     ]
    },
    {
     "name": "stdout",
     "output_type": "stream",
     "text": [
      "captcha_required\n"
     ]
    },
    {
     "name": "stderr",
     "output_type": "stream",
     "text": [
      " 58%|██████████████████████████████████████████████▉                                  | 58/100 [00:23<00:17,  2.44it/s]"
     ]
    },
    {
     "name": "stdout",
     "output_type": "stream",
     "text": [
      "captcha_required\n"
     ]
    },
    {
     "name": "stderr",
     "output_type": "stream",
     "text": [
      " 80%|████████████████████████████████████████████████████████████████▊                | 80/100 [00:33<00:08,  2.36it/s]"
     ]
    },
    {
     "name": "stdout",
     "output_type": "stream",
     "text": [
      "captcha_required\n"
     ]
    },
    {
     "name": "stderr",
     "output_type": "stream",
     "text": [
      "\r",
      " 81%|█████████████████████████████████████████████████████████████████▌               | 81/100 [00:34<00:13,  1.40it/s]"
     ]
    },
    {
     "name": "stdout",
     "output_type": "stream",
     "text": [
      "captcha_required\n"
     ]
    },
    {
     "name": "stderr",
     "output_type": "stream",
     "text": [
      "100%|████████████████████████████████████████████████████████████████████████████████| 100/100 [00:42<00:00,  2.34it/s]\n"
     ]
    },
    {
     "name": "stdout",
     "output_type": "stream",
     "text": [
      "вакансий получено - 81\n",
      "вакансий пропущено - 15\n",
      "вакансий с ошибкой - 4\n",
      "('https://api.hh.ru/vacancies?area=2061&professional_role=52&area=53&professional_role=132&area=102&professional_role=94&area=67&professional_role=97&area=3&professional_role=144&area=88&professional_role=110&area=247&professional_role=40', 1950)\n",
      "number url - 245\n",
      "размер массива (136711, 1)\n",
      "total_pages - 20\n"
     ]
    },
    {
     "name": "stderr",
     "output_type": "stream",
     "text": [
      " 39%|███████████████████████████████▌                                                 | 39/100 [00:15<00:22,  2.67it/s]"
     ]
    },
    {
     "name": "stdout",
     "output_type": "stream",
     "text": [
      "captcha_required\n"
     ]
    },
    {
     "name": "stderr",
     "output_type": "stream",
     "text": [
      " 50%|████████████████████████████████████████▌                                        | 50/100 [00:19<00:18,  2.77it/s]"
     ]
    },
    {
     "name": "stdout",
     "output_type": "stream",
     "text": [
      "captcha_required\n"
     ]
    },
    {
     "name": "stderr",
     "output_type": "stream",
     "text": [
      "100%|████████████████████████████████████████████████████████████████████████████████| 100/100 [00:38<00:00,  2.61it/s]\n"
     ]
    },
    {
     "name": "stdout",
     "output_type": "stream",
     "text": [
      "вакансий получено - 79\n",
      "вакансий пропущено - 19\n",
      "вакансий с ошибкой - 2\n",
      "('https://api.hh.ru/vacancies?area=112&professional_role=94&area=76&professional_role=89&area=2061&professional_role=131&area=53&professional_role=106&area=72&professional_role=83&area=4&professional_role=68&area=2760&professional_role=18', 1966)\n",
      "number url - 246\n",
      "размер массива (136790, 1)\n",
      "total_pages - 20\n"
     ]
    },
    {
     "name": "stderr",
     "output_type": "stream",
     "text": [
      " 28%|██████████████████████▋                                                          | 28/100 [00:11<00:27,  2.64it/s]"
     ]
    },
    {
     "name": "stdout",
     "output_type": "stream",
     "text": [
      "captcha_required\n"
     ]
    },
    {
     "name": "stderr",
     "output_type": "stream",
     "text": [
      " 39%|███████████████████████████████▌                                                 | 39/100 [00:15<00:24,  2.45it/s]"
     ]
    },
    {
     "name": "stdout",
     "output_type": "stream",
     "text": [
      "captcha_required\n"
     ]
    },
    {
     "name": "stderr",
     "output_type": "stream",
     "text": [
      " 46%|█████████████████████████████████████▎                                           | 46/100 [00:19<00:24,  2.22it/s]"
     ]
    },
    {
     "name": "stdout",
     "output_type": "stream",
     "text": [
      "captcha_required\n"
     ]
    },
    {
     "name": "stderr",
     "output_type": "stream",
     "text": [
      " 51%|█████████████████████████████████████████▎                                       | 51/100 [00:22<00:24,  2.03it/s]"
     ]
    },
    {
     "name": "stdout",
     "output_type": "stream",
     "text": [
      "captcha_required\n"
     ]
    },
    {
     "name": "stderr",
     "output_type": "stream",
     "text": [
      "100%|████████████████████████████████████████████████████████████████████████████████| 100/100 [00:40<00:00,  2.44it/s]\n"
     ]
    },
    {
     "name": "stdout",
     "output_type": "stream",
     "text": [
      "вакансий получено - 78\n",
      "вакансий пропущено - 18\n",
      "вакансий с ошибкой - 4\n",
      "('https://api.hh.ru/vacancies?area=53&professional_role=31&area=2039&professional_role=40&area=76&professional_role=9&area=54&professional_role=90&area=61&professional_role=40&area=160&professional_role=67&area=159&professional_role=8', 1985)\n",
      "number url - 247\n",
      "размер массива (136868, 1)\n",
      "total_pages - 20\n"
     ]
    },
    {
     "name": "stderr",
     "output_type": "stream",
     "text": [
      " 63%|███████████████████████████████████████████████████                              | 63/100 [00:16<00:13,  2.82it/s]"
     ]
    },
    {
     "name": "stdout",
     "output_type": "stream",
     "text": [
      "captcha_required\n"
     ]
    },
    {
     "name": "stderr",
     "output_type": "stream",
     "text": [
      " 74%|███████████████████████████████████████████████████████████▉                     | 74/100 [00:21<00:10,  2.42it/s]"
     ]
    },
    {
     "name": "stdout",
     "output_type": "stream",
     "text": [
      "captcha_required\n"
     ]
    },
    {
     "name": "stderr",
     "output_type": "stream",
     "text": [
      "100%|████████████████████████████████████████████████████████████████████████████████| 100/100 [00:31<00:00,  3.10it/s]\n"
     ]
    },
    {
     "name": "stdout",
     "output_type": "stream",
     "text": [
      "вакансий получено - 64\n",
      "вакансий пропущено - 34\n",
      "вакансий с ошибкой - 2\n",
      "('https://api.hh.ru/vacancies?area=3&professional_role=145&area=3&professional_role=106&area=2025&professional_role=97&area=1291&professional_role=97&area=53&professional_role=64&area=4&professional_role=109', 1715)\n",
      "number url - 248\n",
      "размер массива (136932, 1)\n",
      "total_pages - 20\n"
     ]
    },
    {
     "name": "stderr",
     "output_type": "stream",
     "text": [
      " 17%|█████████████▊                                                                   | 17/100 [00:08<00:37,  2.20it/s]"
     ]
    },
    {
     "name": "stdout",
     "output_type": "stream",
     "text": [
      "captcha_required\n"
     ]
    },
    {
     "name": "stderr",
     "output_type": "stream",
     "text": [
      " 47%|██████████████████████████████████████                                           | 47/100 [00:22<00:22,  2.33it/s]"
     ]
    },
    {
     "name": "stdout",
     "output_type": "stream",
     "text": [
      "captcha_required\n"
     ]
    },
    {
     "name": "stderr",
     "output_type": "stream",
     "text": [
      " 55%|████████████████████████████████████████████▌                                    | 55/100 [00:27<00:21,  2.05it/s]"
     ]
    },
    {
     "name": "stdout",
     "output_type": "stream",
     "text": [
      "captcha_required\n"
     ]
    },
    {
     "name": "stderr",
     "output_type": "stream",
     "text": [
      "100%|████████████████████████████████████████████████████████████████████████████████| 100/100 [00:50<00:00,  2.25it/s]\n"
     ]
    },
    {
     "name": "stdout",
     "output_type": "stream",
     "text": [
      "вакансий получено - 97\n",
      "вакансий пропущено - 0\n",
      "вакансий с ошибкой - 3\n",
      "('https://api.hh.ru/vacancies?area=76&professional_role=47&area=2034&professional_role=40&area=68&professional_role=109&area=2025&professional_role=40&area=212&professional_role=21&area=53&professional_role=111', 1728)\n",
      "number url - 249\n",
      "размер массива (137029, 1)\n",
      "total_pages - 20\n"
     ]
    },
    {
     "name": "stderr",
     "output_type": "stream",
     "text": [
      " 27%|█████████████████████▊                                                           | 27/100 [00:09<00:24,  2.94it/s]"
     ]
    },
    {
     "name": "stdout",
     "output_type": "stream",
     "text": [
      "captcha_required\n"
     ]
    },
    {
     "name": "stderr",
     "output_type": "stream",
     "text": [
      " 55%|████████████████████████████████████████████▌                                    | 55/100 [00:18<00:18,  2.44it/s]"
     ]
    },
    {
     "name": "stdout",
     "output_type": "stream",
     "text": [
      "captcha_required\n"
     ]
    },
    {
     "name": "stderr",
     "output_type": "stream",
     "text": [
      " 90%|████████████████████████████████████████████████████████████████████████▉        | 90/100 [00:32<00:03,  2.54it/s]"
     ]
    },
    {
     "name": "stdout",
     "output_type": "stream",
     "text": [
      "captcha_required\n"
     ]
    },
    {
     "name": "stderr",
     "output_type": "stream",
     "text": [
      "100%|████████████████████████████████████████████████████████████████████████████████| 100/100 [00:36<00:00,  2.44it/s]\n"
     ]
    },
    {
     "name": "stdout",
     "output_type": "stream",
     "text": [
      "вакансий получено - 73\n",
      "вакансий пропущено - 24\n",
      "вакансий с ошибкой - 3\n",
      "('https://api.hh.ru/vacancies?area=24&professional_role=94&area=2759&professional_role=83&area=4&professional_role=100&area=3&professional_role=78&area=104&professional_role=49&area=90&professional_role=94', 1745)\n",
      "number url - 250\n",
      "размер массива (137102, 1)\n",
      "total_pages - 20\n"
     ]
    },
    {
     "name": "stderr",
     "output_type": "stream",
     "text": [
      "  7%|█████▋                                                                            | 7/100 [00:03<00:41,  2.22it/s]"
     ]
    },
    {
     "name": "stdout",
     "output_type": "stream",
     "text": [
      "captcha_required\n"
     ]
    },
    {
     "name": "stderr",
     "output_type": "stream",
     "text": [
      " 26%|█████████████████████                                                            | 26/100 [00:12<00:31,  2.32it/s]"
     ]
    },
    {
     "name": "stdout",
     "output_type": "stream",
     "text": [
      "captcha_required\n"
     ]
    },
    {
     "name": "stderr",
     "output_type": "stream",
     "text": [
      " 44%|███████████████████████████████████▋                                             | 44/100 [00:21<00:24,  2.30it/s]"
     ]
    },
    {
     "name": "stdout",
     "output_type": "stream",
     "text": [
      "captcha_required\n"
     ]
    },
    {
     "name": "stderr",
     "output_type": "stream",
     "text": [
      "\r",
      " 45%|████████████████████████████████████▍                                            | 45/100 [00:22<00:40,  1.37it/s]"
     ]
    },
    {
     "name": "stdout",
     "output_type": "stream",
     "text": [
      "captcha_required\n"
     ]
    },
    {
     "name": "stderr",
     "output_type": "stream",
     "text": [
      " 72%|██████████████████████████████████████████████████████████▎                      | 72/100 [00:35<00:11,  2.34it/s]"
     ]
    },
    {
     "name": "stdout",
     "output_type": "stream",
     "text": [
      "captcha_required\n"
     ]
    },
    {
     "name": "stderr",
     "output_type": "stream",
     "text": [
      " 88%|███████████████████████████████████████████████████████████████████████▎         | 88/100 [00:43<00:05,  2.29it/s]"
     ]
    },
    {
     "name": "stdout",
     "output_type": "stream",
     "text": [
      "captcha_required\n"
     ]
    },
    {
     "name": "stderr",
     "output_type": "stream",
     "text": [
      "100%|████████████████████████████████████████████████████████████████████████████████| 100/100 [00:49<00:00,  2.37it/s]\n"
     ]
    },
    {
     "name": "stdout",
     "output_type": "stream",
     "text": [
      "вакансий получено - 94\n",
      "вакансий пропущено - 0\n",
      "вакансий с ошибкой - 6\n",
      "('https://api.hh.ru/vacancies?area=35&professional_role=102&area=4&professional_role=9&area=72&professional_role=128&area=102&professional_role=52&area=4&professional_role=121&area=1002&professional_role=5', 1754)\n",
      "number url - 251\n",
      "размер массива (137196, 1)\n",
      "total_pages - 20\n"
     ]
    },
    {
     "name": "stderr",
     "output_type": "stream",
     "text": [
      " 21%|█████████████████                                                                | 21/100 [00:09<00:36,  2.18it/s]"
     ]
    },
    {
     "name": "stdout",
     "output_type": "stream",
     "text": [
      "captcha_required\n"
     ]
    },
    {
     "name": "stderr",
     "output_type": "stream",
     "text": [
      " 28%|██████████████████████▋                                                          | 28/100 [00:13<00:34,  2.11it/s]"
     ]
    },
    {
     "name": "stdout",
     "output_type": "stream",
     "text": [
      "captcha_required\n"
     ]
    },
    {
     "name": "stderr",
     "output_type": "stream",
     "text": [
      " 48%|██████████████████████████████████████▉                                          | 48/100 [00:22<00:22,  2.26it/s]"
     ]
    },
    {
     "name": "stdout",
     "output_type": "stream",
     "text": [
      "captcha_required\n"
     ]
    },
    {
     "name": "stderr",
     "output_type": "stream",
     "text": [
      " 65%|████████████████████████████████████████████████████▋                            | 65/100 [00:31<00:14,  2.34it/s]"
     ]
    },
    {
     "name": "stdout",
     "output_type": "stream",
     "text": [
      "captcha_required\n"
     ]
    },
    {
     "name": "stderr",
     "output_type": "stream",
     "text": [
      "\r",
      " 66%|█████████████████████████████████████████████████████▍                           | 66/100 [00:32<00:24,  1.38it/s]"
     ]
    },
    {
     "name": "stdout",
     "output_type": "stream",
     "text": [
      "captcha_required\n"
     ]
    },
    {
     "name": "stderr",
     "output_type": "stream",
     "text": [
      "100%|████████████████████████████████████████████████████████████████████████████████| 100/100 [00:49<00:00,  2.27it/s]\n"
     ]
    },
    {
     "name": "stdout",
     "output_type": "stream",
     "text": [
      "вакансий получено - 95\n",
      "вакансий пропущено - 0\n",
      "вакансий с ошибкой - 5\n",
      "('https://api.hh.ru/vacancies?area=24&professional_role=24&area=76&professional_role=102&area=24&professional_role=18&area=130&professional_role=40&area=72&professional_role=143&area=71&professional_role=21', 1764)\n",
      "number url - 252\n",
      "размер массива (137291, 1)\n",
      "total_pages - 20\n"
     ]
    },
    {
     "name": "stderr",
     "output_type": "stream",
     "text": [
      " 21%|█████████████████                                                                | 21/100 [00:08<00:33,  2.33it/s]"
     ]
    },
    {
     "name": "stdout",
     "output_type": "stream",
     "text": [
      "captcha_required\n"
     ]
    },
    {
     "name": "stderr",
     "output_type": "stream",
     "text": [
      " 93%|███████████████████████████████████████████████████████████████████████████▎     | 93/100 [00:41<00:03,  2.24it/s]"
     ]
    },
    {
     "name": "stdout",
     "output_type": "stream",
     "text": [
      "captcha_required\n"
     ]
    },
    {
     "name": "stderr",
     "output_type": "stream",
     "text": [
      "\r",
      " 94%|████████████████████████████████████████████████████████████████████████████▏    | 94/100 [00:43<00:04,  1.37it/s]"
     ]
    },
    {
     "name": "stdout",
     "output_type": "stream",
     "text": [
      "captcha_required\n"
     ]
    },
    {
     "name": "stderr",
     "output_type": "stream",
     "text": [
      "100%|████████████████████████████████████████████████████████████████████████████████| 100/100 [00:47<00:00,  1.54it/s]\n"
     ]
    },
    {
     "name": "stdout",
     "output_type": "stream",
     "text": [
      "вакансий получено - 90\n",
      "вакансий пропущено - 7\n",
      "вакансий с ошибкой - 3\n",
      "('https://api.hh.ru/vacancies?area=104&professional_role=64&area=99&professional_role=8&area=4&professional_role=49&area=104&professional_role=109&area=66&professional_role=128&area=4&professional_role=67', 1777)\n",
      "number url - 253\n",
      "размер массива (137381, 1)\n",
      "total_pages - 20\n"
     ]
    },
    {
     "name": "stderr",
     "output_type": "stream",
     "text": [
      " 48%|██████████████████████████████████████▉                                          | 48/100 [00:22<00:24,  2.09it/s]"
     ]
    },
    {
     "name": "stdout",
     "output_type": "stream",
     "text": [
      "captcha_required\n"
     ]
    },
    {
     "name": "stderr",
     "output_type": "stream",
     "text": [
      " 74%|███████████████████████████████████████████████████████████▉                     | 74/100 [00:34<00:11,  2.31it/s]"
     ]
    },
    {
     "name": "stdout",
     "output_type": "stream",
     "text": [
      "captcha_required\n"
     ]
    },
    {
     "name": "stderr",
     "output_type": "stream",
     "text": [
      "\r",
      " 75%|████████████████████████████████████████████████████████████▊                    | 75/100 [00:36<00:18,  1.38it/s]"
     ]
    },
    {
     "name": "stdout",
     "output_type": "stream",
     "text": [
      "captcha_required\n"
     ]
    },
    {
     "name": "stderr",
     "output_type": "stream",
     "text": [
      "100%|████████████████████████████████████████████████████████████████████████████████| 100/100 [00:48<00:00,  2.35it/s]\n"
     ]
    },
    {
     "name": "stdout",
     "output_type": "stream",
     "text": [
      "вакансий получено - 97\n",
      "вакансий пропущено - 0\n",
      "вакансий с ошибкой - 3\n",
      "('https://api.hh.ru/vacancies?area=2759&professional_role=97&area=4&professional_role=132&area=73&professional_role=40&area=53&professional_role=68&area=66&professional_role=58&area=35&professional_role=24', 1796)\n",
      "number url - 254\n",
      "размер массива (137478, 1)\n",
      "total_pages - 20\n"
     ]
    },
    {
     "name": "stderr",
     "output_type": "stream",
     "text": [
      " 21%|█████████████████                                                                | 21/100 [00:07<00:29,  2.69it/s]"
     ]
    },
    {
     "name": "stdout",
     "output_type": "stream",
     "text": [
      "captcha_required\n"
     ]
    },
    {
     "name": "stderr",
     "output_type": "stream",
     "text": [
      " 25%|████████████████████▎                                                            | 25/100 [00:09<00:31,  2.37it/s]"
     ]
    },
    {
     "name": "stdout",
     "output_type": "stream",
     "text": [
      "captcha_required\n"
     ]
    },
    {
     "name": "stderr",
     "output_type": "stream",
     "text": [
      "\r",
      " 26%|█████████████████████                                                            | 26/100 [00:11<00:54,  1.35it/s]"
     ]
    },
    {
     "name": "stdout",
     "output_type": "stream",
     "text": [
      "captcha_required\n"
     ]
    },
    {
     "name": "stderr",
     "output_type": "stream",
     "text": [
      " 39%|███████████████████████████████▌                                                 | 39/100 [00:17<00:25,  2.43it/s]"
     ]
    },
    {
     "name": "stdout",
     "output_type": "stream",
     "text": [
      "captcha_required\n"
     ]
    },
    {
     "name": "stderr",
     "output_type": "stream",
     "text": [
      " 86%|█████████████████████████████████████████████████████████████████████▋           | 86/100 [00:37<00:06,  2.28it/s]"
     ]
    },
    {
     "name": "stdout",
     "output_type": "stream",
     "text": [
      "captcha_required\n"
     ]
    },
    {
     "name": "stderr",
     "output_type": "stream",
     "text": [
      "100%|████████████████████████████████████████████████████████████████████████████████| 100/100 [00:42<00:00,  2.36it/s]\n"
     ]
    },
    {
     "name": "stdout",
     "output_type": "stream",
     "text": [
      "вакансий получено - 79\n",
      "вакансий пропущено - 16\n",
      "вакансий с ошибкой - 5\n",
      "('https://api.hh.ru/vacancies?area=2053&professional_role=40&area=54&professional_role=31&area=79&professional_role=18&area=53&professional_role=100&area=1454&professional_role=40&area=78&professional_role=131', 1818)\n",
      "number url - 255\n",
      "размер массива (137557, 1)\n",
      "total_pages - 20\n"
     ]
    },
    {
     "name": "stderr",
     "output_type": "stream",
     "text": [
      " 64%|███████████████████████████████████████████████████▊                             | 64/100 [00:15<00:09,  3.89it/s]"
     ]
    },
    {
     "name": "stdout",
     "output_type": "stream",
     "text": [
      "captcha_required\n"
     ]
    },
    {
     "name": "stderr",
     "output_type": "stream",
     "text": [
      "\r",
      " 65%|████████████████████████████████████████████████████▋                            | 65/100 [00:16<00:21,  1.62it/s]"
     ]
    },
    {
     "name": "stdout",
     "output_type": "stream",
     "text": [
      "captcha_required\n"
     ]
    },
    {
     "name": "stderr",
     "output_type": "stream",
     "text": [
      " 94%|████████████████████████████████████████████████████████████████████████████▏    | 94/100 [00:27<00:02,  2.59it/s]"
     ]
    },
    {
     "name": "stdout",
     "output_type": "stream",
     "text": [
      "captcha_required\n"
     ]
    },
    {
     "name": "stderr",
     "output_type": "stream",
     "text": [
      "\r",
      " 95%|████████████████████████████████████████████████████████████████████████████▉    | 95/100 [00:28<00:03,  1.43it/s]"
     ]
    },
    {
     "name": "stdout",
     "output_type": "stream",
     "text": [
      "captcha_required\n"
     ]
    },
    {
     "name": "stderr",
     "output_type": "stream",
     "text": [
      "100%|████████████████████████████████████████████████████████████████████████████████| 100/100 [00:31<00:00,  1.79it/s]\n"
     ]
    },
    {
     "name": "stdout",
     "output_type": "stream",
     "text": [
      "вакансий получено - 59\n",
      "вакансий пропущено - 37\n",
      "вакансий с ошибкой - 4\n",
      "('https://api.hh.ru/vacancies?area=160&professional_role=3&area=102&professional_role=18&area=14&professional_role=24&area=1002&professional_role=89&area=2077&professional_role=70&area=22&professional_role=21', 1840)\n",
      "number url - 256\n",
      "размер массива (137616, 1)\n",
      "total_pages - 20\n"
     ]
    },
    {
     "name": "stderr",
     "output_type": "stream",
     "text": [
      "100%|████████████████████████████████████████████████████████████████████████████████| 100/100 [00:19<00:00,  4.40it/s]\n"
     ]
    },
    {
     "name": "stdout",
     "output_type": "stream",
     "text": [
      "вакансий получено - 44\n",
      "вакансий пропущено - 56\n",
      "вакансий с ошибкой - 0\n",
      "('https://api.hh.ru/vacancies?area=41&professional_role=24&area=14&professional_role=97&area=88&professional_role=131&area=66&professional_role=66&area=54&professional_role=130&area=68&professional_role=143', 1856)\n",
      "number url - 257\n",
      "размер массива (137660, 1)\n",
      "total_pages - 20\n"
     ]
    },
    {
     "name": "stderr",
     "output_type": "stream",
     "text": [
      " 72%|██████████████████████████████████████████████████████████▎                      | 72/100 [00:34<00:12,  2.26it/s]"
     ]
    },
    {
     "name": "stdout",
     "output_type": "stream",
     "text": [
      "captcha_required\n"
     ]
    },
    {
     "name": "stderr",
     "output_type": "stream",
     "text": [
      "\r",
      " 73%|███████████████████████████████████████████████████████████▏                     | 73/100 [00:35<00:20,  1.31it/s]"
     ]
    },
    {
     "name": "stdout",
     "output_type": "stream",
     "text": [
      "captcha_required\n"
     ]
    },
    {
     "name": "stderr",
     "output_type": "stream",
     "text": [
      " 76%|█████████████████████████████████████████████████████████████▌                   | 76/100 [00:37<00:16,  1.47it/s]"
     ]
    },
    {
     "name": "stdout",
     "output_type": "stream",
     "text": [
      "captcha_required\n"
     ]
    },
    {
     "name": "stderr",
     "output_type": "stream",
     "text": [
      "\r",
      " 77%|██████████████████████████████████████████████████████████████▎                  | 77/100 [00:39<00:20,  1.11it/s]"
     ]
    },
    {
     "name": "stdout",
     "output_type": "stream",
     "text": [
      "captcha_required\n"
     ]
    },
    {
     "name": "stderr",
     "output_type": "stream",
     "text": [
      "100%|████████████████████████████████████████████████████████████████████████████████| 100/100 [00:50<00:00,  2.31it/s]\n"
     ]
    },
    {
     "name": "stdout",
     "output_type": "stream",
     "text": [
      "вакансий получено - 96\n",
      "вакансий пропущено - 0\n",
      "вакансий с ошибкой - 4\n",
      "('https://api.hh.ru/vacancies?area=99&professional_role=109&area=26&professional_role=8&area=53&professional_role=63&area=26&professional_role=96&area=99&professional_role=52&area=20&professional_role=97', 1877)\n",
      "number url - 258\n",
      "размер массива (137756, 1)\n",
      "total_pages - 20\n"
     ]
    },
    {
     "name": "stderr",
     "output_type": "stream",
     "text": [
      " 37%|█████████████████████████████▉                                                   | 37/100 [00:16<00:28,  2.21it/s]"
     ]
    },
    {
     "name": "stdout",
     "output_type": "stream",
     "text": [
      "captcha_required\n"
     ]
    },
    {
     "name": "stderr",
     "output_type": "stream",
     "text": [
      " 47%|██████████████████████████████████████                                           | 47/100 [00:21<00:25,  2.11it/s]"
     ]
    },
    {
     "name": "stdout",
     "output_type": "stream",
     "text": [
      "captcha_required\n"
     ]
    },
    {
     "name": "stderr",
     "output_type": "stream",
     "text": [
      " 95%|████████████████████████████████████████████████████████████████████████████▉    | 95/100 [00:44<00:02,  2.04it/s]"
     ]
    },
    {
     "name": "stdout",
     "output_type": "stream",
     "text": [
      "captcha_required\n"
     ]
    },
    {
     "name": "stderr",
     "output_type": "stream",
     "text": [
      "\r",
      " 96%|█████████████████████████████████████████████████████████████████████████████▊   | 96/100 [00:45<00:03,  1.28it/s]"
     ]
    },
    {
     "name": "stdout",
     "output_type": "stream",
     "text": [
      "captcha_required\n"
     ]
    },
    {
     "name": "stderr",
     "output_type": "stream",
     "text": [
      " 99%|████████████████████████████████████████████████████████████████████████████████▏| 99/100 [00:48<00:00,  1.44it/s]"
     ]
    },
    {
     "name": "stdout",
     "output_type": "stream",
     "text": [
      "captcha_required\n"
     ]
    },
    {
     "name": "stderr",
     "output_type": "stream",
     "text": [
      "100%|████████████████████████████████████████████████████████████████████████████████| 100/100 [00:49<00:00,  1.10it/s]\n"
     ]
    },
    {
     "name": "stdout",
     "output_type": "stream",
     "text": [
      "вакансий получено - 94\n",
      "вакансий пропущено - 1\n",
      "вакансий с ошибкой - 5\n",
      "('https://api.hh.ru/vacancies?area=69&professional_role=97&area=237&professional_role=89&area=52&professional_role=97&area=160&professional_role=88&area=47&professional_role=94&area=95&professional_role=102', 1889)\n",
      "number url - 259\n",
      "размер массива (137850, 1)\n",
      "total_pages - 20\n"
     ]
    },
    {
     "name": "stderr",
     "output_type": "stream",
     "text": [
      " 26%|█████████████████████                                                            | 26/100 [00:10<00:30,  2.42it/s]"
     ]
    },
    {
     "name": "stdout",
     "output_type": "stream",
     "text": [
      "captcha_required\n"
     ]
    },
    {
     "name": "stderr",
     "output_type": "stream",
     "text": [
      " 80%|████████████████████████████████████████████████████████████████▊                | 80/100 [00:31<00:08,  2.31it/s]"
     ]
    },
    {
     "name": "stdout",
     "output_type": "stream",
     "text": [
      "captcha_required\n"
     ]
    },
    {
     "name": "stderr",
     "output_type": "stream",
     "text": [
      "100%|████████████████████████████████████████████████████████████████████████████████| 100/100 [00:41<00:00,  2.30it/s]\n"
     ]
    },
    {
     "name": "stdout",
     "output_type": "stream",
     "text": [
      "вакансий получено - 88\n",
      "вакансий пропущено - 10\n",
      "вакансий с ошибкой - 2\n",
      "('https://api.hh.ru/vacancies?area=2041&professional_role=70&area=87&professional_role=97&area=1454&professional_role=97&area=67&professional_role=40&area=69&professional_role=70&area=1454&professional_role=70', 1908)\n",
      "number url - 260\n",
      "размер массива (137938, 1)\n",
      "total_pages - 20\n"
     ]
    },
    {
     "name": "stderr",
     "output_type": "stream",
     "text": [
      " 27%|█████████████████████▊                                                           | 27/100 [00:12<00:30,  2.37it/s]"
     ]
    },
    {
     "name": "stdout",
     "output_type": "stream",
     "text": [
      "captcha_required\n"
     ]
    },
    {
     "name": "stderr",
     "output_type": "stream",
     "text": [
      " 30%|████████████████████████▎                                                        | 30/100 [00:15<00:45,  1.54it/s]"
     ]
    },
    {
     "name": "stdout",
     "output_type": "stream",
     "text": [
      "captcha_required\n"
     ]
    },
    {
     "name": "stderr",
     "output_type": "stream",
     "text": [
      "\r",
      " 31%|█████████████████████████                                                        | 31/100 [00:16<01:03,  1.09it/s]"
     ]
    },
    {
     "name": "stdout",
     "output_type": "stream",
     "text": [
      "captcha_required\n"
     ]
    },
    {
     "name": "stderr",
     "output_type": "stream",
     "text": [
      " 56%|█████████████████████████████████████████████▎                                   | 56/100 [00:28<00:19,  2.29it/s]"
     ]
    },
    {
     "name": "stdout",
     "output_type": "stream",
     "text": [
      "captcha_required\n"
     ]
    },
    {
     "name": "stderr",
     "output_type": "stream",
     "text": [
      "100%|████████████████████████████████████████████████████████████████████████████████| 100/100 [00:49<00:00,  2.24it/s]\n"
     ]
    },
    {
     "name": "stdout",
     "output_type": "stream",
     "text": [
      "вакансий получено - 96\n",
      "вакансий пропущено - 0\n",
      "вакансий с ошибкой - 4\n",
      "('https://api.hh.ru/vacancies?area=1291&professional_role=40&area=80&professional_role=40&area=1002&professional_role=102&area=89&professional_role=21&area=96&professional_role=18&area=76&professional_role=131', 1948)\n",
      "number url - 261\n",
      "размер массива (138034, 1)\n",
      "total_pages - 20\n"
     ]
    },
    {
     "name": "stderr",
     "output_type": "stream",
     "text": [
      " 38%|██████████████████████████████▊                                                  | 38/100 [00:09<00:17,  3.45it/s]"
     ]
    },
    {
     "name": "stdout",
     "output_type": "stream",
     "text": [
      "captcha_required\n"
     ]
    },
    {
     "name": "stderr",
     "output_type": "stream",
     "text": [
      " 85%|████████████████████████████████████████████████████████████████████▊            | 85/100 [00:23<00:05,  2.82it/s]"
     ]
    },
    {
     "name": "stdout",
     "output_type": "stream",
     "text": [
      "captcha_required\n"
     ]
    },
    {
     "name": "stderr",
     "output_type": "stream",
     "text": [
      "\r",
      " 86%|█████████████████████████████████████████████████████████████████████▋           | 86/100 [00:24<00:09,  1.49it/s]"
     ]
    },
    {
     "name": "stdout",
     "output_type": "stream",
     "text": [
      "captcha_required\n"
     ]
    },
    {
     "name": "stderr",
     "output_type": "stream",
     "text": [
      " 90%|████████████████████████████████████████████████████████████████████████▉        | 90/100 [00:27<00:06,  1.64it/s]"
     ]
    },
    {
     "name": "stdout",
     "output_type": "stream",
     "text": [
      "captcha_required\n"
     ]
    },
    {
     "name": "stderr",
     "output_type": "stream",
     "text": [
      "100%|████████████████████████████████████████████████████████████████████████████████| 100/100 [00:31<00:00,  3.17it/s]\n"
     ]
    },
    {
     "name": "stdout",
     "output_type": "stream",
     "text": [
      "вакансий получено - 57\n",
      "вакансий пропущено - 39\n",
      "вакансий с ошибкой - 4\n",
      "('https://api.hh.ru/vacancies?area=15&professional_role=70&area=68&professional_role=18&area=104&professional_role=83&area=99&professional_role=83&area=78&professional_role=8&area=58&professional_role=21', 1960)\n",
      "number url - 262\n",
      "размер массива (138091, 1)\n",
      "total_pages - 20\n"
     ]
    },
    {
     "name": "stderr",
     "output_type": "stream",
     "text": [
      "100%|████████████████████████████████████████████████████████████████████████████████| 100/100 [00:30<00:00,  3.13it/s]\n"
     ]
    },
    {
     "name": "stdout",
     "output_type": "stream",
     "text": [
      "вакансий получено - 66\n",
      "вакансий пропущено - 34\n",
      "вакансий с ошибкой - 0\n",
      "('https://api.hh.ru/vacancies?area=1002&professional_role=52&area=68&professional_role=115&area=4&professional_role=130&area=53&professional_role=130&area=3&professional_role=5&area=66&professional_role=131', 1977)\n",
      "number url - 263\n",
      "размер массива (138157, 1)\n",
      "total_pages - 20\n"
     ]
    },
    {
     "name": "stderr",
     "output_type": "stream",
     "text": [
      " 58%|██████████████████████████████████████████████▉                                  | 58/100 [00:19<00:13,  3.06it/s]"
     ]
    },
    {
     "name": "stdout",
     "output_type": "stream",
     "text": [
      "captcha_required\n"
     ]
    },
    {
     "name": "stderr",
     "output_type": "stream",
     "text": [
      "\r",
      " 59%|███████████████████████████████████████████████▊                                 | 59/100 [00:20<00:26,  1.53it/s]"
     ]
    },
    {
     "name": "stdout",
     "output_type": "stream",
     "text": [
      "captcha_required\n"
     ]
    },
    {
     "name": "stderr",
     "output_type": "stream",
     "text": [
      "\r",
      " 60%|████████████████████████████████████████████████▌                                | 60/100 [00:22<00:35,  1.12it/s]"
     ]
    },
    {
     "name": "stdout",
     "output_type": "stream",
     "text": [
      "captcha_required\n"
     ]
    },
    {
     "name": "stderr",
     "output_type": "stream",
     "text": [
      " 68%|███████████████████████████████████████████████████████                          | 68/100 [00:26<00:15,  2.10it/s]"
     ]
    },
    {
     "name": "stdout",
     "output_type": "stream",
     "text": [
      "captcha_required\n"
     ]
    },
    {
     "name": "stderr",
     "output_type": "stream",
     "text": [
      "\r",
      " 70%|████████████████████████████████████████████████████████▋                        | 70/100 [00:28<00:16,  1.82it/s]"
     ]
    },
    {
     "name": "stdout",
     "output_type": "stream",
     "text": [
      "captcha_required\n"
     ]
    },
    {
     "name": "stderr",
     "output_type": "stream",
     "text": [
      "100%|████████████████████████████████████████████████████████████████████████████████| 100/100 [00:38<00:00,  2.61it/s]\n"
     ]
    },
    {
     "name": "stdout",
     "output_type": "stream",
     "text": [
      "вакансий получено - 71\n",
      "вакансий пропущено - 24\n",
      "вакансий с ошибкой - 5\n",
      "('https://api.hh.ru/vacancies?area=78&professional_role=52&area=96&professional_role=21&area=1002&professional_role=115&area=90&professional_role=24&area=1399&professional_role=40&area=4&professional_role=66', 1992)\n",
      "number url - 264\n",
      "размер массива (138228, 1)\n",
      "total_pages - 20\n"
     ]
    },
    {
     "name": "stderr",
     "output_type": "stream",
     "text": [
      " 56%|█████████████████████████████████████████████▎                                   | 56/100 [00:19<00:12,  3.54it/s]"
     ]
    },
    {
     "name": "stdout",
     "output_type": "stream",
     "text": [
      "captcha_required\n"
     ]
    },
    {
     "name": "stderr",
     "output_type": "stream",
     "text": [
      "\r",
      " 57%|██████████████████████████████████████████████▏                                  | 57/100 [00:20<00:27,  1.59it/s]"
     ]
    },
    {
     "name": "stdout",
     "output_type": "stream",
     "text": [
      "captcha_required\n"
     ]
    },
    {
     "name": "stderr",
     "output_type": "stream",
     "text": [
      "100%|████████████████████████████████████████████████████████████████████████████████| 100/100 [00:39<00:00,  2.80it/s]\n"
     ]
    },
    {
     "name": "stdout",
     "output_type": "stream",
     "text": [
      "вакансий получено - 80\n",
      "вакансий пропущено - 18\n",
      "вакансий с ошибкой - 2\n",
      "('https://api.hh.ru/vacancies?area=160&professional_role=132&area=104&professional_role=128&area=2041&professional_role=40&area=104&professional_role=8&area=52&professional_role=70', 1671)\n",
      "number url - 265\n",
      "размер массива (138308, 1)\n",
      "total_pages - 20\n"
     ]
    },
    {
     "name": "stderr",
     "output_type": "stream",
     "text": [
      " 20%|████████████████▏                                                                | 20/100 [00:08<00:34,  2.33it/s]"
     ]
    },
    {
     "name": "stdout",
     "output_type": "stream",
     "text": [
      "captcha_required\n"
     ]
    },
    {
     "name": "stderr",
     "output_type": "stream",
     "text": [
      " 42%|██████████████████████████████████                                               | 42/100 [00:16<00:19,  3.01it/s]"
     ]
    },
    {
     "name": "stdout",
     "output_type": "stream",
     "text": [
      "captcha_required\n"
     ]
    },
    {
     "name": "stderr",
     "output_type": "stream",
     "text": [
      " 44%|███████████████████████████████████▋                                             | 44/100 [00:18<00:34,  1.64it/s]"
     ]
    },
    {
     "name": "stdout",
     "output_type": "stream",
     "text": [
      "captcha_required\n"
     ]
    },
    {
     "name": "stderr",
     "output_type": "stream",
     "text": [
      " 98%|███████████████████████████████████████████████████████████████████████████████▍ | 98/100 [00:40<00:00,  2.25it/s]"
     ]
    },
    {
     "name": "stdout",
     "output_type": "stream",
     "text": [
      "captcha_required\n"
     ]
    },
    {
     "name": "stderr",
     "output_type": "stream",
     "text": [
      "\r",
      " 99%|████████████████████████████████████████████████████████████████████████████████▏| 99/100 [00:41<00:00,  1.35it/s]"
     ]
    },
    {
     "name": "stdout",
     "output_type": "stream",
     "text": [
      "captcha_required\n"
     ]
    },
    {
     "name": "stderr",
     "output_type": "stream",
     "text": [
      "100%|████████████████████████████████████████████████████████████████████████████████| 100/100 [00:43<00:00,  1.05it/s]\n"
     ]
    },
    {
     "name": "stdout",
     "output_type": "stream",
     "text": [
      "вакансий получено - 81\n",
      "вакансий пропущено - 14\n",
      "вакансий с ошибкой - 5\n",
      "('https://api.hh.ru/vacancies?area=160&professional_role=83&area=54&professional_role=111&area=11&professional_role=102&area=104&professional_role=31&area=53&professional_role=118', 1685)\n",
      "number url - 266\n",
      "размер массива (138389, 1)\n",
      "total_pages - 20\n"
     ]
    },
    {
     "name": "stderr",
     "output_type": "stream",
     "text": [
      " 34%|███████████████████████████▌                                                     | 34/100 [00:14<00:28,  2.30it/s]"
     ]
    },
    {
     "name": "stdout",
     "output_type": "stream",
     "text": [
      "captcha_required\n"
     ]
    },
    {
     "name": "stderr",
     "output_type": "stream",
     "text": [
      " 39%|███████████████████████████████▌                                                 | 39/100 [00:17<00:30,  2.01it/s]"
     ]
    },
    {
     "name": "stdout",
     "output_type": "stream",
     "text": [
      "captcha_required\n"
     ]
    },
    {
     "name": "stderr",
     "output_type": "stream",
     "text": [
      " 53%|██████████████████████████████████████████▉                                      | 53/100 [00:25<00:21,  2.21it/s]"
     ]
    },
    {
     "name": "stdout",
     "output_type": "stream",
     "text": [
      "captcha_required\n"
     ]
    },
    {
     "name": "stderr",
     "output_type": "stream",
     "text": [
      " 73%|███████████████████████████████████████████████████████████▏                     | 73/100 [00:35<00:14,  1.88it/s]"
     ]
    },
    {
     "name": "stdout",
     "output_type": "stream",
     "text": [
      "captcha_required\n"
     ]
    },
    {
     "name": "stderr",
     "output_type": "stream",
     "text": [
      "100%|████████████████████████████████████████████████████████████████████████████████| 100/100 [00:48<00:00,  2.09it/s]\n"
     ]
    },
    {
     "name": "stdout",
     "output_type": "stream",
     "text": [
      "вакансий получено - 96\n",
      "вакансий пропущено - 0\n",
      "вакансий с ошибкой - 4\n",
      "('https://api.hh.ru/vacancies?area=77&professional_role=21&area=4&professional_role=85&area=72&professional_role=102&area=83&professional_role=70&area=95&professional_role=47', 1690)\n",
      "number url - 267\n",
      "размер массива (138485, 1)\n",
      "total_pages - 20\n"
     ]
    },
    {
     "name": "stderr",
     "output_type": "stream",
     "text": [
      " 20%|████████████████▏                                                                | 20/100 [00:09<00:35,  2.23it/s]"
     ]
    },
    {
     "name": "stdout",
     "output_type": "stream",
     "text": [
      "captcha_required\n"
     ]
    },
    {
     "name": "stderr",
     "output_type": "stream",
     "text": [
      "\r",
      " 21%|█████████████████                                                                | 21/100 [00:10<00:58,  1.35it/s]"
     ]
    },
    {
     "name": "stdout",
     "output_type": "stream",
     "text": [
      "captcha_required\n"
     ]
    },
    {
     "name": "stderr",
     "output_type": "stream",
     "text": [
      " 75%|████████████████████████████████████████████████████████████▊                    | 75/100 [00:32<00:10,  2.43it/s]"
     ]
    },
    {
     "name": "stdout",
     "output_type": "stream",
     "text": [
      "captcha_required\n"
     ]
    },
    {
     "name": "stderr",
     "output_type": "stream",
     "text": [
      " 95%|████████████████████████████████████████████████████████████████████████████▉    | 95/100 [00:41<00:02,  2.29it/s]"
     ]
    },
    {
     "name": "stdout",
     "output_type": "stream",
     "text": [
      "captcha_required\n"
     ]
    },
    {
     "name": "stderr",
     "output_type": "stream",
     "text": [
      "100%|████████████████████████████████████████████████████████████████████████████████| 100/100 [00:44<00:00,  2.12it/s]\n"
     ]
    },
    {
     "name": "stdout",
     "output_type": "stream",
     "text": [
      "вакансий получено - 85\n",
      "вакансий пропущено - 11\n",
      "вакансий с ошибкой - 4\n",
      "('https://api.hh.ru/vacancies?area=160&professional_role=68&area=54&professional_role=143&area=2088&professional_role=97&area=66&professional_role=49&area=72&professional_role=94', 1698)\n",
      "number url - 268\n",
      "размер массива (138570, 1)\n",
      "total_pages - 20\n"
     ]
    },
    {
     "name": "stderr",
     "output_type": "stream",
     "text": [
      " 67%|██████████████████████████████████████████████████████▎                          | 67/100 [00:23<00:13,  2.48it/s]"
     ]
    },
    {
     "name": "stdout",
     "output_type": "stream",
     "text": [
      "captcha_required\n"
     ]
    },
    {
     "name": "stderr",
     "output_type": "stream",
     "text": [
      "\r",
      " 69%|███████████████████████████████████████████████████████▉                         | 69/100 [00:25<00:15,  2.03it/s]"
     ]
    },
    {
     "name": "stdout",
     "output_type": "stream",
     "text": [
      "captcha_required\n"
     ]
    },
    {
     "name": "stderr",
     "output_type": "stream",
     "text": [
      " 81%|█████████████████████████████████████████████████████████████████▌               | 81/100 [00:31<00:08,  2.18it/s]"
     ]
    },
    {
     "name": "stdout",
     "output_type": "stream",
     "text": [
      "captcha_required\n"
     ]
    },
    {
     "name": "stderr",
     "output_type": "stream",
     "text": [
      "100%|████████████████████████████████████████████████████████████████████████████████| 100/100 [00:37<00:00,  3.30it/s]\n"
     ]
    },
    {
     "name": "stdout",
     "output_type": "stream",
     "text": [
      "вакансий получено - 73\n",
      "вакансий пропущено - 24\n",
      "вакансий с ошибкой - 3\n",
      "('https://api.hh.ru/vacancies?area=78&professional_role=64&area=88&professional_role=58&area=3&professional_role=132&area=70&professional_role=21&area=1399&professional_role=97', 1705)\n",
      "number url - 269\n",
      "размер массива (138643, 1)\n",
      "total_pages - 20\n"
     ]
    },
    {
     "name": "stderr",
     "output_type": "stream",
     "text": [
      " 42%|██████████████████████████████████                                               | 42/100 [00:18<00:26,  2.21it/s]"
     ]
    },
    {
     "name": "stdout",
     "output_type": "stream",
     "text": [
      "captcha_required\n"
     ]
    },
    {
     "name": "stderr",
     "output_type": "stream",
     "text": [
      " 45%|████████████████████████████████████▍                                            | 45/100 [00:21<00:34,  1.59it/s]"
     ]
    },
    {
     "name": "stdout",
     "output_type": "stream",
     "text": [
      "captcha_required\n"
     ]
    },
    {
     "name": "stderr",
     "output_type": "stream",
     "text": [
      " 99%|████████████████████████████████████████████████████████████████████████████████▏| 99/100 [00:47<00:00,  2.24it/s]"
     ]
    },
    {
     "name": "stdout",
     "output_type": "stream",
     "text": [
      "captcha_required\n"
     ]
    },
    {
     "name": "stderr",
     "output_type": "stream",
     "text": [
      "100%|████████████████████████████████████████████████████████████████████████████████| 100/100 [00:48<00:00,  1.35it/s]\n"
     ]
    },
    {
     "name": "stdout",
     "output_type": "stream",
     "text": [
      "вакансий получено - 96\n",
      "вакансий пропущено - 1\n",
      "вакансий с ошибкой - 3\n",
      "('https://api.hh.ru/vacancies?area=68&professional_role=48&area=2088&professional_role=40&area=3&professional_role=68&area=54&professional_role=5&area=1002&professional_role=31', 1711)\n",
      "number url - 270\n",
      "размер массива (138739, 1)\n",
      "total_pages - 20\n"
     ]
    },
    {
     "name": "stderr",
     "output_type": "stream",
     "text": [
      " 23%|██████████████████▋                                                              | 23/100 [00:09<00:31,  2.48it/s]"
     ]
    },
    {
     "name": "stdout",
     "output_type": "stream",
     "text": [
      "captcha_required\n"
     ]
    },
    {
     "name": "stderr",
     "output_type": "stream",
     "text": [
      "\r",
      " 24%|███████████████████▍                                                             | 24/100 [00:10<00:54,  1.39it/s]"
     ]
    },
    {
     "name": "stdout",
     "output_type": "stream",
     "text": [
      "captcha_required\n"
     ]
    },
    {
     "name": "stderr",
     "output_type": "stream",
     "text": [
      " 73%|███████████████████████████████████████████████████████████▏                     | 73/100 [00:30<00:11,  2.42it/s]"
     ]
    },
    {
     "name": "stdout",
     "output_type": "stream",
     "text": [
      "captcha_required\n"
     ]
    },
    {
     "name": "stderr",
     "output_type": "stream",
     "text": [
      " 76%|█████████████████████████████████████████████████████████████▌                   | 76/100 [00:32<00:13,  1.73it/s]"
     ]
    },
    {
     "name": "stdout",
     "output_type": "stream",
     "text": [
      "captcha_required\n"
     ]
    },
    {
     "name": "stderr",
     "output_type": "stream",
     "text": [
      " 96%|█████████████████████████████████████████████████████████████████████████████▊   | 96/100 [00:41<00:01,  2.38it/s]"
     ]
    },
    {
     "name": "stdout",
     "output_type": "stream",
     "text": [
      "captcha_required\n"
     ]
    },
    {
     "name": "stderr",
     "output_type": "stream",
     "text": [
      "100%|████████████████████████████████████████████████████████████████████████████████| 100/100 [00:44<00:00,  1.92it/s]\n"
     ]
    },
    {
     "name": "stdout",
     "output_type": "stream",
     "text": [
      "вакансий получено - 85\n",
      "вакансий пропущено - 10\n",
      "вакансий с ошибкой - 5\n",
      "('https://api.hh.ru/vacancies?area=78&professional_role=96&area=43&professional_role=97&area=79&professional_role=83&area=54&professional_role=78&area=26&professional_role=52', 1736)\n",
      "number url - 271\n",
      "размер массива (138824, 1)\n",
      "total_pages - 20\n"
     ]
    },
    {
     "name": "stderr",
     "output_type": "stream",
     "text": [
      " 34%|███████████████████████████▌                                                     | 34/100 [00:13<00:25,  2.54it/s]"
     ]
    },
    {
     "name": "stdout",
     "output_type": "stream",
     "text": [
      "captcha_required\n"
     ]
    },
    {
     "name": "stderr",
     "output_type": "stream",
     "text": [
      " 52%|██████████████████████████████████████████                                       | 52/100 [00:21<00:20,  2.34it/s]"
     ]
    },
    {
     "name": "stdout",
     "output_type": "stream",
     "text": [
      "captcha_required\n"
     ]
    },
    {
     "name": "stderr",
     "output_type": "stream",
     "text": [
      " 58%|██████████████████████████████████████████████▉                                  | 58/100 [00:25<00:19,  2.11it/s]"
     ]
    },
    {
     "name": "stdout",
     "output_type": "stream",
     "text": [
      "captcha_required\n"
     ]
    },
    {
     "name": "stderr",
     "output_type": "stream",
     "text": [
      "\r",
      " 59%|███████████████████████████████████████████████▊                                 | 59/100 [00:26<00:31,  1.32it/s]"
     ]
    },
    {
     "name": "stdout",
     "output_type": "stream",
     "text": [
      "captcha_required\n"
     ]
    },
    {
     "name": "stderr",
     "output_type": "stream",
     "text": [
      "100%|████████████████████████████████████████████████████████████████████████████████| 100/100 [00:46<00:00,  2.26it/s]\n"
     ]
    },
    {
     "name": "stdout",
     "output_type": "stream",
     "text": [
      "вакансий получено - 91\n",
      "вакансий пропущено - 5\n",
      "вакансий с ошибкой - 4\n",
      "('https://api.hh.ru/vacancies?area=4&professional_role=5&area=2061&professional_role=97&area=53&professional_role=88&area=87&professional_role=70&area=53&professional_role=102', 1760)\n",
      "number url - 272\n",
      "размер массива (138915, 1)\n",
      "total_pages - 20\n"
     ]
    },
    {
     "name": "stderr",
     "output_type": "stream",
     "text": [
      " 26%|█████████████████████                                                            | 26/100 [00:12<00:37,  1.98it/s]"
     ]
    },
    {
     "name": "stdout",
     "output_type": "stream",
     "text": [
      "captcha_required\n"
     ]
    },
    {
     "name": "stderr",
     "output_type": "stream",
     "text": [
      " 75%|████████████████████████████████████████████████████████████▊                    | 75/100 [00:35<00:10,  2.39it/s]"
     ]
    },
    {
     "name": "stdout",
     "output_type": "stream",
     "text": [
      "captcha_required\n"
     ]
    },
    {
     "name": "stderr",
     "output_type": "stream",
     "text": [
      " 80%|████████████████████████████████████████████████████████████████▊                | 80/100 [00:38<00:10,  1.86it/s]"
     ]
    },
    {
     "name": "stdout",
     "output_type": "stream",
     "text": [
      "captcha_required\n"
     ]
    },
    {
     "name": "stderr",
     "output_type": "stream",
     "text": [
      "\r",
      " 81%|█████████████████████████████████████████████████████████████████▌               | 81/100 [00:39<00:15,  1.25it/s]"
     ]
    },
    {
     "name": "stdout",
     "output_type": "stream",
     "text": [
      "captcha_required\n"
     ]
    },
    {
     "name": "stderr",
     "output_type": "stream",
     "text": [
      "\r",
      " 82%|██████████████████████████████████████████████████████████████████▍              | 82/100 [00:41<00:17,  1.02it/s]"
     ]
    },
    {
     "name": "stdout",
     "output_type": "stream",
     "text": [
      "captcha_required\n"
     ]
    },
    {
     "name": "stderr",
     "output_type": "stream",
     "text": [
      "100%|████████████████████████████████████████████████████████████████████████████████| 100/100 [00:50<00:00,  2.36it/s]\n"
     ]
    },
    {
     "name": "stdout",
     "output_type": "stream",
     "text": [
      "вакансий получено - 94\n",
      "вакансий пропущено - 1\n",
      "вакансий с ошибкой - 5\n",
      "('https://api.hh.ru/vacancies?area=76&professional_role=96&area=112&professional_role=21&area=54&professional_role=8&area=3&professional_role=67&area=99&professional_role=102', 1773)\n",
      "number url - 273\n",
      "размер массива (139009, 1)\n",
      "total_pages - 20\n"
     ]
    },
    {
     "name": "stderr",
     "output_type": "stream",
     "text": [
      " 48%|██████████████████████████████████████▉                                          | 48/100 [00:20<00:20,  2.49it/s]"
     ]
    },
    {
     "name": "stdout",
     "output_type": "stream",
     "text": [
      "captcha_required\n"
     ]
    },
    {
     "name": "stderr",
     "output_type": "stream",
     "text": [
      " 79%|███████████████████████████████████████████████████████████████▉                 | 79/100 [00:32<00:07,  2.70it/s]"
     ]
    },
    {
     "name": "stdout",
     "output_type": "stream",
     "text": [
      "captcha_required\n"
     ]
    },
    {
     "name": "stderr",
     "output_type": "stream",
     "text": [
      "100%|████████████████████████████████████████████████████████████████████████████████| 100/100 [00:41<00:00,  2.41it/s]\n"
     ]
    },
    {
     "name": "stdout",
     "output_type": "stream",
     "text": [
      "вакансий получено - 87\n",
      "вакансий пропущено - 11\n",
      "вакансий с ошибкой - 2\n",
      "('https://api.hh.ru/vacancies?area=3&professional_role=142&area=11&professional_role=18&area=1002&professional_role=68&area=88&professional_role=132&area=1240&professional_role=21', 1801)\n",
      "number url - 274\n",
      "размер массива (139096, 1)\n",
      "total_pages - 20\n"
     ]
    },
    {
     "name": "stderr",
     "output_type": "stream",
     "text": [
      " 14%|███████████▎                                                                     | 14/100 [00:05<00:36,  2.36it/s]"
     ]
    },
    {
     "name": "stdout",
     "output_type": "stream",
     "text": [
      "captcha_required\n"
     ]
    },
    {
     "name": "stderr",
     "output_type": "stream",
     "text": [
      "\r",
      " 15%|████████████▏                                                                    | 15/100 [00:07<01:02,  1.37it/s]"
     ]
    },
    {
     "name": "stdout",
     "output_type": "stream",
     "text": [
      "captcha_required\n"
     ]
    },
    {
     "name": "stderr",
     "output_type": "stream",
     "text": [
      " 23%|██████████████████▋                                                              | 23/100 [00:11<00:35,  2.16it/s]"
     ]
    },
    {
     "name": "stdout",
     "output_type": "stream",
     "text": [
      "captcha_required\n"
     ]
    },
    {
     "name": "stderr",
     "output_type": "stream",
     "text": [
      " 33%|██████████████████████████▋                                                      | 33/100 [00:16<00:27,  2.44it/s]"
     ]
    },
    {
     "name": "stdout",
     "output_type": "stream",
     "text": [
      "captcha_required\n"
     ]
    },
    {
     "name": "stderr",
     "output_type": "stream",
     "text": [
      " 92%|██████████████████████████████████████████████████████████████████████████▌      | 92/100 [00:38<00:03,  2.33it/s]"
     ]
    },
    {
     "name": "stdout",
     "output_type": "stream",
     "text": [
      "captcha_required\n"
     ]
    },
    {
     "name": "stderr",
     "output_type": "stream",
     "text": [
      "100%|████████████████████████████████████████████████████████████████████████████████| 100/100 [00:42<00:00,  2.24it/s]\n"
     ]
    },
    {
     "name": "stdout",
     "output_type": "stream",
     "text": [
      "вакансий получено - 79\n",
      "вакансий пропущено - 16\n",
      "вакансий с ошибкой - 5\n",
      "('https://api.hh.ru/vacancies?area=95&professional_role=18&area=76&professional_role=8&area=92&professional_role=21&area=66&professional_role=64&area=76&professional_role=48', 1821)\n",
      "number url - 275\n",
      "размер массива (139175, 1)\n",
      "total_pages - 20\n"
     ]
    },
    {
     "name": "stderr",
     "output_type": "stream",
     "text": [
      " 72%|██████████████████████████████████████████████████████████▎                      | 72/100 [00:15<00:08,  3.28it/s]"
     ]
    },
    {
     "name": "stdout",
     "output_type": "stream",
     "text": [
      "captcha_required\n"
     ]
    },
    {
     "name": "stderr",
     "output_type": "stream",
     "text": [
      "100%|████████████████████████████████████████████████████████████████████████████████| 100/100 [00:25<00:00,  3.17it/s]\n"
     ]
    },
    {
     "name": "stdout",
     "output_type": "stream",
     "text": [
      "вакансий получено - 52\n",
      "вакансий пропущено - 47\n",
      "вакансий с ошибкой - 1\n",
      "('https://api.hh.ru/vacancies?area=19&professional_role=97&area=2061&professional_role=21&area=54&professional_role=48&area=106&professional_role=63&area=68&professional_role=102', 1836)\n",
      "number url - 276\n",
      "размер массива (139227, 1)\n",
      "total_pages - 20\n"
     ]
    },
    {
     "name": "stderr",
     "output_type": "stream",
     "text": [
      " 71%|█████████████████████████████████████████████████████████▌                       | 71/100 [00:28<00:12,  2.24it/s]"
     ]
    },
    {
     "name": "stdout",
     "output_type": "stream",
     "text": [
      "captcha_required\n"
     ]
    },
    {
     "name": "stderr",
     "output_type": "stream",
     "text": [
      " 77%|██████████████████████████████████████████████████████████████▎                  | 77/100 [00:31<00:11,  2.03it/s]"
     ]
    },
    {
     "name": "stdout",
     "output_type": "stream",
     "text": [
      "captcha_required\n"
     ]
    },
    {
     "name": "stderr",
     "output_type": "stream",
     "text": [
      "\r",
      " 78%|███████████████████████████████████████████████████████████████▏                 | 78/100 [00:33<00:16,  1.30it/s]"
     ]
    },
    {
     "name": "stdout",
     "output_type": "stream",
     "text": [
      "captcha_required\n"
     ]
    },
    {
     "name": "stderr",
     "output_type": "stream",
     "text": [
      "100%|████████████████████████████████████████████████████████████████████████████████| 100/100 [00:44<00:00,  2.27it/s]\n"
     ]
    },
    {
     "name": "stdout",
     "output_type": "stream",
     "text": [
      "вакансий получено - 86\n",
      "вакансий пропущено - 11\n",
      "вакансий с ошибкой - 3\n",
      "('https://api.hh.ru/vacancies?area=1753&professional_role=97&area=104&professional_role=63&area=1002&professional_role=8&area=2061&professional_role=70&area=4&professional_role=89', 1840)\n",
      "number url - 277\n",
      "размер массива (139313, 1)\n",
      "total_pages - 20\n"
     ]
    },
    {
     "name": "stderr",
     "output_type": "stream",
     "text": [
      " 48%|██████████████████████████████████████▉                                          | 48/100 [00:14<00:15,  3.26it/s]"
     ]
    },
    {
     "name": "stdout",
     "output_type": "stream",
     "text": [
      "captcha_required\n"
     ]
    },
    {
     "name": "stderr",
     "output_type": "stream",
     "text": [
      " 53%|██████████████████████████████████████████▉                                      | 53/100 [00:16<00:21,  2.19it/s]"
     ]
    },
    {
     "name": "stdout",
     "output_type": "stream",
     "text": [
      "captcha_required\n"
     ]
    },
    {
     "name": "stderr",
     "output_type": "stream",
     "text": [
      "\r",
      " 54%|███████████████████████████████████████████▋                                     | 54/100 [00:18<00:35,  1.31it/s]"
     ]
    },
    {
     "name": "stdout",
     "output_type": "stream",
     "text": [
      "captcha_required\n"
     ]
    },
    {
     "name": "stderr",
     "output_type": "stream",
     "text": [
      "100%|████████████████████████████████████████████████████████████████████████████████| 100/100 [00:32<00:00,  3.45it/s]\n"
     ]
    },
    {
     "name": "stdout",
     "output_type": "stream",
     "text": [
      "вакансий получено - 62\n",
      "вакансий пропущено - 35\n",
      "вакансий с ошибкой - 3\n",
      "('https://api.hh.ru/vacancies?area=2760&professional_role=70&area=56&professional_role=70&area=2759&professional_role=18&area=4&professional_role=31&area=2759&professional_role=18', 1847)\n",
      "number url - 278\n",
      "размер массива (139375, 1)\n",
      "total_pages - 20\n"
     ]
    },
    {
     "name": "stderr",
     "output_type": "stream",
     "text": [
      " 84%|████████████████████████████████████████████████████████████████████             | 84/100 [00:38<00:07,  2.24it/s]"
     ]
    },
    {
     "name": "stdout",
     "output_type": "stream",
     "text": [
      "captcha_required\n"
     ]
    },
    {
     "name": "stderr",
     "output_type": "stream",
     "text": [
      " 90%|████████████████████████████████████████████████████████████████████████▉        | 90/100 [00:42<00:04,  2.12it/s]"
     ]
    },
    {
     "name": "stdout",
     "output_type": "stream",
     "text": [
      "captcha_required\n"
     ]
    },
    {
     "name": "stderr",
     "output_type": "stream",
     "text": [
      "\r",
      " 91%|█████████████████████████████████████████████████████████████████████████▋       | 91/100 [00:43<00:06,  1.33it/s]"
     ]
    },
    {
     "name": "stdout",
     "output_type": "stream",
     "text": [
      "captcha_required\n"
     ]
    },
    {
     "name": "stderr",
     "output_type": "stream",
     "text": [
      "\r",
      " 92%|██████████████████████████████████████████████████████████████████████████▌      | 92/100 [00:45<00:07,  1.05it/s]"
     ]
    },
    {
     "name": "stdout",
     "output_type": "stream",
     "text": [
      "captcha_required\n"
     ]
    },
    {
     "name": "stderr",
     "output_type": "stream",
     "text": [
      "100%|████████████████████████████████████████████████████████████████████████████████| 100/100 [00:49<00:00,  2.06it/s]\n"
     ]
    },
    {
     "name": "stdout",
     "output_type": "stream",
     "text": [
      "вакансий получено - 96\n",
      "вакансий пропущено - 0\n",
      "вакансий с ошибкой - 4\n",
      "('https://api.hh.ru/vacancies?area=54&professional_role=109&area=3&professional_role=31&area=99&professional_role=143&area=2077&professional_role=40&area=104&professional_role=58', 1858)\n",
      "number url - 279\n",
      "размер массива (139471, 1)\n",
      "total_pages - 20\n"
     ]
    },
    {
     "name": "stderr",
     "output_type": "stream",
     "text": [
      "100%|████████████████████████████████████████████████████████████████████████████████| 100/100 [00:48<00:00,  2.24it/s]\n"
     ]
    },
    {
     "name": "stdout",
     "output_type": "stream",
     "text": [
      "вакансий получено - 99\n",
      "вакансий пропущено - 1\n",
      "вакансий с ошибкой - 0\n",
      "('https://api.hh.ru/vacancies?area=1979&professional_role=40&area=3&professional_role=128&area=104&professional_role=143&area=104&professional_role=52&area=88&professional_role=47', 1871)\n",
      "number url - 280\n",
      "размер массива (139570, 1)\n",
      "total_pages - 20\n"
     ]
    },
    {
     "name": "stderr",
     "output_type": "stream",
     "text": [
      " 21%|█████████████████                                                                | 21/100 [00:10<00:36,  2.17it/s]"
     ]
    },
    {
     "name": "stdout",
     "output_type": "stream",
     "text": [
      "captcha_required\n"
     ]
    },
    {
     "name": "stderr",
     "output_type": "stream",
     "text": [
      " 26%|█████████████████████                                                            | 26/100 [00:13<00:37,  1.98it/s]"
     ]
    },
    {
     "name": "stdout",
     "output_type": "stream",
     "text": [
      "captcha_required\n"
     ]
    },
    {
     "name": "stderr",
     "output_type": "stream",
     "text": [
      "\r",
      " 27%|█████████████████████▊                                                           | 27/100 [00:14<00:57,  1.26it/s]"
     ]
    },
    {
     "name": "stdout",
     "output_type": "stream",
     "text": [
      "captcha_required\n"
     ]
    },
    {
     "name": "stderr",
     "output_type": "stream",
     "text": [
      " 42%|██████████████████████████████████                                               | 42/100 [00:22<00:26,  2.21it/s]"
     ]
    },
    {
     "name": "stdout",
     "output_type": "stream",
     "text": [
      "captcha_required\n"
     ]
    },
    {
     "name": "stderr",
     "output_type": "stream",
     "text": [
      " 72%|██████████████████████████████████████████████████████████▎                      | 72/100 [00:36<00:12,  2.33it/s]"
     ]
    },
    {
     "name": "stdout",
     "output_type": "stream",
     "text": [
      "captcha_required\n"
     ]
    },
    {
     "name": "stderr",
     "output_type": "stream",
     "text": [
      "\r",
      " 73%|███████████████████████████████████████████████████████████▏                     | 73/100 [00:37<00:19,  1.36it/s]"
     ]
    },
    {
     "name": "stdout",
     "output_type": "stream",
     "text": [
      "captcha_required\n"
     ]
    },
    {
     "name": "stderr",
     "output_type": "stream",
     "text": [
      "100%|████████████████████████████████████████████████████████████████████████████████| 100/100 [00:49<00:00,  2.43it/s]\n"
     ]
    },
    {
     "name": "stdout",
     "output_type": "stream",
     "text": [
      "вакансий получено - 90\n",
      "вакансий пропущено - 4\n",
      "вакансий с ошибкой - 6\n",
      "('https://api.hh.ru/vacancies?area=1381&professional_role=70&area=83&professional_role=97&area=2039&professional_role=97&area=54&professional_role=47&area=24&professional_role=21', 1892)\n",
      "number url - 281\n",
      "размер массива (139660, 1)\n",
      "total_pages - 20\n"
     ]
    },
    {
     "name": "stderr",
     "output_type": "stream",
     "text": [
      " 52%|██████████████████████████████████████████                                       | 52/100 [00:23<00:21,  2.21it/s]"
     ]
    },
    {
     "name": "stdout",
     "output_type": "stream",
     "text": [
      "captcha_required\n"
     ]
    },
    {
     "name": "stderr",
     "output_type": "stream",
     "text": [
      "\r",
      " 53%|██████████████████████████████████████████▉                                      | 53/100 [00:25<00:35,  1.34it/s]"
     ]
    },
    {
     "name": "stdout",
     "output_type": "stream",
     "text": [
      "captcha_required\n"
     ]
    },
    {
     "name": "stderr",
     "output_type": "stream",
     "text": [
      " 68%|███████████████████████████████████████████████████████                          | 68/100 [00:33<00:14,  2.23it/s]"
     ]
    },
    {
     "name": "stdout",
     "output_type": "stream",
     "text": [
      "captcha_required\n"
     ]
    },
    {
     "name": "stderr",
     "output_type": "stream",
     "text": [
      " 99%|████████████████████████████████████████████████████████████████████████████████▏| 99/100 [00:47<00:00,  2.23it/s]"
     ]
    },
    {
     "name": "stdout",
     "output_type": "stream",
     "text": [
      "captcha_required\n"
     ]
    },
    {
     "name": "stderr",
     "output_type": "stream",
     "text": [
      "100%|████████████████████████████████████████████████████████████████████████████████| 100/100 [00:49<00:00,  1.36it/s]\n"
     ]
    },
    {
     "name": "stdout",
     "output_type": "stream",
     "text": [
      "вакансий получено - 95\n",
      "вакансий пропущено - 1\n",
      "вакансий с ошибкой - 4\n",
      "('https://api.hh.ru/vacancies?area=84&professional_role=97&area=160&professional_role=94&area=11&professional_role=94&area=3&professional_role=64&area=131&professional_role=40', 1915)\n",
      "number url - 282\n",
      "размер массива (139755, 1)\n",
      "total_pages - 20\n"
     ]
    },
    {
     "name": "stderr",
     "output_type": "stream",
     "text": [
      " 72%|██████████████████████████████████████████████████████████▎                      | 72/100 [00:17<00:10,  2.61it/s]"
     ]
    },
    {
     "name": "stdout",
     "output_type": "stream",
     "text": [
      "captcha_required\n"
     ]
    },
    {
     "name": "stderr",
     "output_type": "stream",
     "text": [
      "100%|████████████████████████████████████████████████████████████████████████████████| 100/100 [00:28<00:00,  2.64it/s]\n"
     ]
    },
    {
     "name": "stdout",
     "output_type": "stream",
     "text": [
      "вакансий получено - 61\n",
      "вакансий пропущено - 38\n",
      "вакансий с ошибкой - 1\n",
      "('https://api.hh.ru/vacancies?area=69&professional_role=40&area=72&professional_role=18&area=53&professional_role=66&area=2237&professional_role=97&area=4&professional_role=111', 1929)\n",
      "number url - 283\n",
      "размер массива (139816, 1)\n",
      "total_pages - 20\n"
     ]
    },
    {
     "name": "stderr",
     "output_type": "stream",
     "text": [
      " 80%|████████████████████████████████████████████████████████████████▊                | 80/100 [00:28<00:08,  2.29it/s]"
     ]
    },
    {
     "name": "stdout",
     "output_type": "stream",
     "text": [
      "captcha_required\n"
     ]
    },
    {
     "name": "stderr",
     "output_type": "stream",
     "text": [
      "\r",
      " 81%|█████████████████████████████████████████████████████████████████▌               | 81/100 [00:29<00:13,  1.37it/s]"
     ]
    },
    {
     "name": "stdout",
     "output_type": "stream",
     "text": [
      "captcha_required\n"
     ]
    },
    {
     "name": "stderr",
     "output_type": "stream",
     "text": [
      "100%|████████████████████████████████████████████████████████████████████████████████| 100/100 [00:36<00:00,  2.75it/s]\n"
     ]
    },
    {
     "name": "stdout",
     "output_type": "stream",
     "text": [
      "вакансий получено - 70\n",
      "вакансий пропущено - 28\n",
      "вакансий с ошибкой - 2\n",
      "('https://api.hh.ru/vacancies?area=56&professional_role=97&area=160&professional_role=8&area=2760&professional_role=40&area=104&professional_role=130&area=53&professional_role=96', 1939)\n",
      "number url - 284\n",
      "размер массива (139886, 1)\n",
      "total_pages - 20\n"
     ]
    },
    {
     "name": "stderr",
     "output_type": "stream",
     "text": [
      "100%|████████████████████████████████████████████████████████████████████████████████| 100/100 [00:20<00:00,  3.58it/s]\n"
     ]
    },
    {
     "name": "stdout",
     "output_type": "stream",
     "text": [
      "вакансий получено - 46\n",
      "вакансий пропущено - 54\n",
      "вакансий с ошибкой - 0\n",
      "('https://api.hh.ru/vacancies?area=83&professional_role=40&area=88&professional_role=83&area=17&professional_role=70&area=3&professional_role=100&area=17&professional_role=97', 1951)\n",
      "number url - 285\n",
      "размер массива (139932, 1)\n",
      "total_pages - 20\n"
     ]
    },
    {
     "name": "stderr",
     "output_type": "stream",
     "text": [
      " 60%|████████████████████████████████████████████████▌                                | 60/100 [00:12<00:10,  3.96it/s]"
     ]
    },
    {
     "name": "stdout",
     "output_type": "stream",
     "text": [
      "captcha_required\n"
     ]
    },
    {
     "name": "stderr",
     "output_type": "stream",
     "text": [
      " 80%|████████████████████████████████████████████████████████████████▊                | 80/100 [00:16<00:03,  5.10it/s]"
     ]
    },
    {
     "name": "stdout",
     "output_type": "stream",
     "text": [
      "captcha_required\n"
     ]
    },
    {
     "name": "stderr",
     "output_type": "stream",
     "text": [
      "100%|████████████████████████████████████████████████████████████████████████████████| 100/100 [00:21<00:00,  2.99it/s]\n"
     ]
    },
    {
     "name": "stdout",
     "output_type": "stream",
     "text": [
      "вакансий получено - 42\n",
      "вакансий пропущено - 56\n",
      "вакансий с ошибкой - 2\n",
      "('https://api.hh.ru/vacancies?area=87&professional_role=40&area=1002&professional_role=131&area=25&professional_role=97&area=79&professional_role=21&area=4&professional_role=58', 1967)\n",
      "number url - 286\n",
      "размер массива (139974, 1)\n",
      "total_pages - 20\n"
     ]
    },
    {
     "name": "stderr",
     "output_type": "stream",
     "text": [
      " 64%|███████████████████████████████████████████████████▊                             | 64/100 [00:07<00:08,  4.01it/s]"
     ]
    },
    {
     "name": "stdout",
     "output_type": "stream",
     "text": [
      "captcha_required\n"
     ]
    },
    {
     "name": "stderr",
     "output_type": "stream",
     "text": [
      " 96%|█████████████████████████████████████████████████████████████████████████████▊   | 96/100 [00:14<00:01,  2.81it/s]"
     ]
    },
    {
     "name": "stdout",
     "output_type": "stream",
     "text": [
      "captcha_required\n"
     ]
    },
    {
     "name": "stderr",
     "output_type": "stream",
     "text": [
      "100%|████████████████████████████████████████████████████████████████████████████████| 100/100 [00:15<00:00,  6.32it/s]\n"
     ]
    },
    {
     "name": "stdout",
     "output_type": "stream",
     "text": [
      "вакансий получено - 29\n",
      "вакансий пропущено - 69\n",
      "вакансий с ошибкой - 2\n",
      "('https://api.hh.ru/vacancies?area=160&professional_role=89&area=64&professional_role=97&area=25&professional_role=70&area=78&professional_role=58&area=11&professional_role=24', 1975)\n",
      "number url - 287\n",
      "размер массива (140003, 1)\n",
      "total_pages - 20\n"
     ]
    },
    {
     "name": "stderr",
     "output_type": "stream",
     "text": [
      " 48%|██████████████████████████████████████▉                                          | 48/100 [00:20<00:22,  2.30it/s]"
     ]
    },
    {
     "name": "stdout",
     "output_type": "stream",
     "text": [
      "captcha_required\n"
     ]
    },
    {
     "name": "stderr",
     "output_type": "stream",
     "text": [
      "100%|████████████████████████████████████████████████████████████████████████████████| 100/100 [00:41<00:00,  2.56it/s]\n"
     ]
    },
    {
     "name": "stdout",
     "output_type": "stream",
     "text": [
      "вакансий получено - 88\n",
      "вакансий пропущено - 11\n",
      "вакансий с ошибкой - 1\n",
      "('https://api.hh.ru/vacancies?area=4&professional_role=143&area=23&professional_role=97&area=22&professional_role=18&area=1641&professional_role=21&area=1240&professional_role=70', 1983)\n",
      "number url - 288\n",
      "размер массива (140091, 1)\n",
      "total_pages - 20\n"
     ]
    },
    {
     "name": "stderr",
     "output_type": "stream",
     "text": [
      " 40%|████████████████████████████████▍                                                | 40/100 [00:15<00:26,  2.31it/s]"
     ]
    },
    {
     "name": "stdout",
     "output_type": "stream",
     "text": [
      "captcha_required\n"
     ]
    },
    {
     "name": "stderr",
     "output_type": "stream",
     "text": [
      "\r",
      " 41%|█████████████████████████████████▏                                               | 41/100 [00:16<00:43,  1.36it/s]"
     ]
    },
    {
     "name": "stdout",
     "output_type": "stream",
     "text": [
      "captcha_required\n"
     ]
    },
    {
     "name": "stderr",
     "output_type": "stream",
     "text": [
      " 59%|███████████████████████████████████████████████▊                                 | 59/100 [00:25<00:16,  2.43it/s]"
     ]
    },
    {
     "name": "stdout",
     "output_type": "stream",
     "text": [
      "captcha_required\n"
     ]
    },
    {
     "name": "stderr",
     "output_type": "stream",
     "text": [
      " 92%|██████████████████████████████████████████████████████████████████████████▌      | 92/100 [00:41<00:03,  2.33it/s]"
     ]
    },
    {
     "name": "stdout",
     "output_type": "stream",
     "text": [
      "captcha_required\n"
     ]
    },
    {
     "name": "stderr",
     "output_type": "stream",
     "text": [
      "100%|████████████████████████████████████████████████████████████████████████████████| 100/100 [00:45<00:00,  2.16it/s]\n"
     ]
    },
    {
     "name": "stdout",
     "output_type": "stream",
     "text": [
      "вакансий получено - 86\n",
      "вакансий пропущено - 10\n",
      "вакансий с ошибкой - 4\n",
      "('https://api.hh.ru/vacancies?area=72&professional_role=115&area=3&professional_role=118&area=2020&professional_role=97&area=102&professional_role=63', 1601)\n",
      "number url - 289\n",
      "размер массива (140177, 1)\n",
      "total_pages - 20\n"
     ]
    },
    {
     "name": "stderr",
     "output_type": "stream",
     "text": [
      " 41%|█████████████████████████████████▏                                               | 41/100 [00:18<00:24,  2.40it/s]"
     ]
    },
    {
     "name": "stdout",
     "output_type": "stream",
     "text": [
      "captcha_required\n"
     ]
    },
    {
     "name": "stderr",
     "output_type": "stream",
     "text": [
      " 47%|██████████████████████████████████████                                           | 47/100 [00:21<00:25,  2.08it/s]"
     ]
    },
    {
     "name": "stdout",
     "output_type": "stream",
     "text": [
      "captcha_required\n"
     ]
    },
    {
     "name": "stderr",
     "output_type": "stream",
     "text": [
      " 63%|███████████████████████████████████████████████████                              | 63/100 [00:30<00:15,  2.32it/s]"
     ]
    },
    {
     "name": "stdout",
     "output_type": "stream",
     "text": [
      "captcha_required\n"
     ]
    },
    {
     "name": "stderr",
     "output_type": "stream",
     "text": [
      "\r",
      " 64%|███████████████████████████████████████████████████▊                             | 64/100 [00:31<00:26,  1.36it/s]"
     ]
    },
    {
     "name": "stdout",
     "output_type": "stream",
     "text": [
      "captcha_required\n"
     ]
    },
    {
     "name": "stderr",
     "output_type": "stream",
     "text": [
      " 81%|█████████████████████████████████████████████████████████████████▌               | 81/100 [00:39<00:08,  2.16it/s]"
     ]
    },
    {
     "name": "stdout",
     "output_type": "stream",
     "text": [
      "captcha_required\n"
     ]
    },
    {
     "name": "stderr",
     "output_type": "stream",
     "text": [
      "100%|████████████████████████████████████████████████████████████████████████████████| 100/100 [00:49<00:00,  2.30it/s]\n"
     ]
    },
    {
     "name": "stdout",
     "output_type": "stream",
     "text": [
      "вакансий получено - 95\n",
      "вакансий пропущено - 0\n",
      "вакансий с ошибкой - 5\n",
      "('https://api.hh.ru/vacancies?area=1002&professional_role=48&area=35&professional_role=18&area=88&professional_role=52&area=99&professional_role=115', 1614)\n",
      "number url - 290\n",
      "размер массива (140272, 1)\n",
      "total_pages - 20\n"
     ]
    },
    {
     "name": "stderr",
     "output_type": "stream",
     "text": [
      " 22%|█████████████████▊                                                               | 22/100 [00:09<00:33,  2.35it/s]"
     ]
    },
    {
     "name": "stdout",
     "output_type": "stream",
     "text": [
      "captcha_required\n"
     ]
    },
    {
     "name": "stderr",
     "output_type": "stream",
     "text": [
      " 70%|████████████████████████████████████████████████████████▋                        | 70/100 [00:31<00:12,  2.36it/s]"
     ]
    },
    {
     "name": "stdout",
     "output_type": "stream",
     "text": [
      "captcha_required\n"
     ]
    },
    {
     "name": "stderr",
     "output_type": "stream",
     "text": [
      " 75%|████████████████████████████████████████████████████████████▊                    | 75/100 [00:35<00:12,  1.95it/s]"
     ]
    },
    {
     "name": "stdout",
     "output_type": "stream",
     "text": [
      "captcha_required\n"
     ]
    },
    {
     "name": "stderr",
     "output_type": "stream",
     "text": [
      "100%|████████████████████████████████████████████████████████████████████████████████| 100/100 [00:48<00:00,  2.22it/s]\n"
     ]
    },
    {
     "name": "stdout",
     "output_type": "stream",
     "text": [
      "вакансий получено - 94\n",
      "вакансий пропущено - 3\n",
      "вакансий с ошибкой - 3\n",
      "('https://api.hh.ru/vacancies?area=107&professional_role=97&area=53&professional_role=131&area=1002&professional_role=132&area=4&professional_role=83', 1619)\n",
      "number url - 291\n",
      "размер массива (140366, 1)\n",
      "total_pages - 20\n"
     ]
    },
    {
     "name": "stderr",
     "output_type": "stream",
     "text": [
      " 62%|██████████████████████████████████████████████████▏                              | 62/100 [00:20<00:13,  2.85it/s]"
     ]
    },
    {
     "name": "stdout",
     "output_type": "stream",
     "text": [
      "captcha_required\n"
     ]
    },
    {
     "name": "stderr",
     "output_type": "stream",
     "text": [
      "100%|████████████████████████████████████████████████████████████████████████████████| 100/100 [00:37<00:00,  1.56it/s]\n"
     ]
    },
    {
     "name": "stdout",
     "output_type": "stream",
     "text": [
      "вакансий получено - 78\n",
      "вакансий пропущено - 21\n",
      "вакансий с ошибкой - 1\n",
      "('https://api.hh.ru/vacancies?area=2237&professional_role=40&area=160&professional_role=21&area=2053&professional_role=97&area=3&professional_role=63', 1636)\n",
      "number url - 292\n",
      "размер массива (140444, 1)\n",
      "total_pages - 20\n"
     ]
    },
    {
     "name": "stderr",
     "output_type": "stream",
     "text": [
      " 54%|███████████████████████████████████████████▋                                     | 54/100 [00:18<00:15,  3.06it/s]"
     ]
    },
    {
     "name": "stdout",
     "output_type": "stream",
     "text": [
      "captcha_required\n"
     ]
    },
    {
     "name": "stderr",
     "output_type": "stream",
     "text": [
      "\r",
      " 56%|█████████████████████████████████████████████▎                                   | 56/100 [00:19<00:20,  2.12it/s]"
     ]
    },
    {
     "name": "stdout",
     "output_type": "stream",
     "text": [
      "captcha_required\n"
     ]
    },
    {
     "name": "stderr",
     "output_type": "stream",
     "text": [
      "\r",
      " 57%|██████████████████████████████████████████████▏                                  | 57/100 [00:21<00:32,  1.32it/s]"
     ]
    },
    {
     "name": "stdout",
     "output_type": "stream",
     "text": [
      "captcha_required\n"
     ]
    },
    {
     "name": "stderr",
     "output_type": "stream",
     "text": [
      "100%|████████████████████████████████████████████████████████████████████████████████| 100/100 [00:24<00:00,  4.10it/s]\n"
     ]
    },
    {
     "name": "stdout",
     "output_type": "stream",
     "text": [
      "вакансий получено - 45\n",
      "вакансий пропущено - 52\n",
      "вакансий с ошибкой - 3\n",
      "('https://api.hh.ru/vacancies?area=1381&professional_role=97&area=14&professional_role=40&area=20&professional_role=21&area=95&professional_role=48', 1649)\n",
      "number url - 293\n",
      "размер массива (140489, 1)\n",
      "total_pages - 20\n"
     ]
    },
    {
     "name": "stderr",
     "output_type": "stream",
     "text": [
      " 71%|█████████████████████████████████████████████████████████▌                       | 71/100 [00:31<00:12,  2.25it/s]"
     ]
    },
    {
     "name": "stdout",
     "output_type": "stream",
     "text": [
      "captcha_required\n"
     ]
    },
    {
     "name": "stderr",
     "output_type": "stream",
     "text": [
      "\r",
      " 72%|██████████████████████████████████████████████████████████▎                      | 72/100 [00:33<00:20,  1.36it/s]"
     ]
    },
    {
     "name": "stdout",
     "output_type": "stream",
     "text": [
      "captcha_required\n"
     ]
    },
    {
     "name": "stderr",
     "output_type": "stream",
     "text": [
      "\r",
      " 73%|███████████████████████████████████████████████████████████▏                     | 73/100 [00:34<00:25,  1.06it/s]"
     ]
    },
    {
     "name": "stdout",
     "output_type": "stream",
     "text": [
      "captcha_required\n"
     ]
    },
    {
     "name": "stderr",
     "output_type": "stream",
     "text": [
      "100%|████████████████████████████████████████████████████████████████████████████████| 100/100 [00:47<00:00,  2.25it/s]\n"
     ]
    },
    {
     "name": "stdout",
     "output_type": "stream",
     "text": [
      "вакансий получено - 97\n",
      "вакансий пропущено - 0\n",
      "вакансий с ошибкой - 3\n",
      "('https://api.hh.ru/vacancies?area=3&professional_role=111&area=19&professional_role=70&area=35&professional_role=94&area=43&professional_role=70', 1657)\n",
      "number url - 294\n",
      "размер массива (140586, 1)\n",
      "total_pages - 20\n"
     ]
    },
    {
     "name": "stderr",
     "output_type": "stream",
     "text": [
      " 16%|████████████▉                                                                    | 16/100 [00:07<00:37,  2.26it/s]"
     ]
    },
    {
     "name": "stdout",
     "output_type": "stream",
     "text": [
      "captcha_required\n"
     ]
    },
    {
     "name": "stderr",
     "output_type": "stream",
     "text": [
      " 20%|████████████████▏                                                                | 20/100 [00:10<00:52,  1.52it/s]"
     ]
    },
    {
     "name": "stdout",
     "output_type": "stream",
     "text": [
      "captcha_required\n"
     ]
    },
    {
     "name": "stderr",
     "output_type": "stream",
     "text": [
      "\r",
      " 21%|█████████████████                                                                | 21/100 [00:11<01:10,  1.12it/s]"
     ]
    },
    {
     "name": "stdout",
     "output_type": "stream",
     "text": [
      "captcha_required\n"
     ]
    },
    {
     "name": "stderr",
     "output_type": "stream",
     "text": [
      " 93%|███████████████████████████████████████████████████████████████████████████▎     | 93/100 [00:45<00:03,  2.27it/s]"
     ]
    },
    {
     "name": "stdout",
     "output_type": "stream",
     "text": [
      "captcha_required\n"
     ]
    },
    {
     "name": "stderr",
     "output_type": "stream",
     "text": [
      "\r",
      " 94%|████████████████████████████████████████████████████████████████████████████▏    | 94/100 [00:46<00:04,  1.36it/s]"
     ]
    },
    {
     "name": "stdout",
     "output_type": "stream",
     "text": [
      "captcha_required\n"
     ]
    },
    {
     "name": "stderr",
     "output_type": "stream",
     "text": [
      "100%|████████████████████████████████████████████████████████████████████████████████| 100/100 [00:50<00:00,  1.94it/s]\n"
     ]
    },
    {
     "name": "stdout",
     "output_type": "stream",
     "text": [
      "вакансий получено - 95\n",
      "вакансий пропущено - 0\n",
      "вакансий с ошибкой - 5\n",
      "('https://api.hh.ru/vacancies?area=54&professional_role=115&area=53&professional_role=89&area=2041&professional_role=97&area=54&professional_role=52', 1669)\n",
      "number url - 295\n",
      "размер массива (140681, 1)\n",
      "total_pages - 20\n"
     ]
    },
    {
     "name": "stderr",
     "output_type": "stream",
     "text": [
      " 37%|█████████████████████████████▉                                                   | 37/100 [00:16<00:27,  2.28it/s]"
     ]
    },
    {
     "name": "stdout",
     "output_type": "stream",
     "text": [
      "captcha_required\n"
     ]
    },
    {
     "name": "stderr",
     "output_type": "stream",
     "text": [
      " 41%|█████████████████████████████████▏                                               | 41/100 [00:19<00:30,  1.91it/s]"
     ]
    },
    {
     "name": "stdout",
     "output_type": "stream",
     "text": [
      "captcha_required\n"
     ]
    },
    {
     "name": "stderr",
     "output_type": "stream",
     "text": [
      "\r",
      " 42%|██████████████████████████████████                                               | 42/100 [00:20<00:45,  1.27it/s]"
     ]
    },
    {
     "name": "stdout",
     "output_type": "stream",
     "text": [
      "captcha_required\n"
     ]
    },
    {
     "name": "stderr",
     "output_type": "stream",
     "text": [
      "\r",
      " 43%|██████████████████████████████████▊                                              | 43/100 [00:22<00:55,  1.03it/s]"
     ]
    },
    {
     "name": "stdout",
     "output_type": "stream",
     "text": [
      "captcha_required\n"
     ]
    },
    {
     "name": "stderr",
     "output_type": "stream",
     "text": [
      "100%|████████████████████████████████████████████████████████████████████████████████| 100/100 [00:49<00:00,  2.35it/s]\n"
     ]
    },
    {
     "name": "stdout",
     "output_type": "stream",
     "text": [
      "вакансий получено - 96\n",
      "вакансий пропущено - 0\n",
      "вакансий с ошибкой - 4\n",
      "('https://api.hh.ru/vacancies?area=95&professional_role=63&area=26&professional_role=24&area=2020&professional_role=40&area=104&professional_role=131', 1687)\n",
      "number url - 296\n",
      "размер массива (140777, 1)\n",
      "total_pages - 20\n"
     ]
    },
    {
     "name": "stderr",
     "output_type": "stream",
     "text": [
      " 32%|█████████████████████████▉                                                       | 32/100 [00:13<00:28,  2.35it/s]"
     ]
    },
    {
     "name": "stdout",
     "output_type": "stream",
     "text": [
      "captcha_required\n"
     ]
    },
    {
     "name": "stderr",
     "output_type": "stream",
     "text": [
      " 63%|███████████████████████████████████████████████████                              | 63/100 [00:27<00:15,  2.38it/s]"
     ]
    },
    {
     "name": "stdout",
     "output_type": "stream",
     "text": [
      "captcha_required\n"
     ]
    },
    {
     "name": "stderr",
     "output_type": "stream",
     "text": [
      " 67%|██████████████████████████████████████████████████████▎                          | 67/100 [00:30<00:18,  1.79it/s]"
     ]
    },
    {
     "name": "stdout",
     "output_type": "stream",
     "text": [
      "captcha_required\n"
     ]
    },
    {
     "name": "stderr",
     "output_type": "stream",
     "text": [
      "\r",
      " 68%|███████████████████████████████████████████████████████                          | 68/100 [00:32<00:25,  1.24it/s]"
     ]
    },
    {
     "name": "stdout",
     "output_type": "stream",
     "text": [
      "captcha_required\n"
     ]
    },
    {
     "name": "stderr",
     "output_type": "stream",
     "text": [
      "\r",
      " 69%|███████████████████████████████████████████████████████▉                         | 69/100 [00:33<00:32,  1.03s/it]"
     ]
    },
    {
     "name": "stdout",
     "output_type": "stream",
     "text": [
      "captcha_required\n"
     ]
    },
    {
     "name": "stderr",
     "output_type": "stream",
     "text": [
      "100%|████████████████████████████████████████████████████████████████████████████████| 100/100 [00:47<00:00,  2.39it/s]\n"
     ]
    },
    {
     "name": "stdout",
     "output_type": "stream",
     "text": [
      "вакансий получено - 92\n",
      "вакансий пропущено - 3\n",
      "вакансий с ошибкой - 5\n",
      "('https://api.hh.ru/vacancies?area=131&professional_role=70&area=17&professional_role=24&area=66&professional_role=115&area=78&professional_role=83', 1708)\n",
      "number url - 297\n",
      "размер массива (140869, 1)\n",
      "total_pages - 20\n"
     ]
    },
    {
     "name": "stderr",
     "output_type": "stream",
     "text": [
      " 24%|███████████████████▍                                                             | 24/100 [00:11<00:33,  2.27it/s]"
     ]
    },
    {
     "name": "stdout",
     "output_type": "stream",
     "text": [
      "captcha_required\n"
     ]
    },
    {
     "name": "stderr",
     "output_type": "stream",
     "text": [
      " 85%|████████████████████████████████████████████████████████████████████▊            | 85/100 [00:40<00:06,  2.33it/s]"
     ]
    },
    {
     "name": "stdout",
     "output_type": "stream",
     "text": [
      "captcha_required\n"
     ]
    },
    {
     "name": "stderr",
     "output_type": "stream",
     "text": [
      " 89%|████████████████████████████████████████████████████████████████████████         | 89/100 [00:42<00:06,  1.79it/s]"
     ]
    },
    {
     "name": "stdout",
     "output_type": "stream",
     "text": [
      "captcha_required\n"
     ]
    },
    {
     "name": "stderr",
     "output_type": "stream",
     "text": [
      "\r",
      " 90%|████████████████████████████████████████████████████████████████████████▉        | 90/100 [00:44<00:08,  1.21it/s]"
     ]
    },
    {
     "name": "stdout",
     "output_type": "stream",
     "text": [
      "captcha_required\n"
     ]
    },
    {
     "name": "stderr",
     "output_type": "stream",
     "text": [
      "\r",
      " 91%|█████████████████████████████████████████████████████████████████████████▋       | 91/100 [00:45<00:09,  1.01s/it]"
     ]
    },
    {
     "name": "stdout",
     "output_type": "stream",
     "text": [
      "captcha_required\n"
     ]
    },
    {
     "name": "stderr",
     "output_type": "stream",
     "text": [
      "100%|████████████████████████████████████████████████████████████████████████████████| 100/100 [00:50<00:00,  2.01it/s]\n"
     ]
    },
    {
     "name": "stdout",
     "output_type": "stream",
     "text": [
      "вакансий получено - 95\n",
      "вакансий пропущено - 0\n",
      "вакансий с ошибкой - 5\n",
      "('https://api.hh.ru/vacancies?area=95&professional_role=24&area=76&professional_role=24&area=88&professional_role=8&area=12&professional_role=40', 1733)\n",
      "number url - 298\n",
      "размер массива (140964, 1)\n",
      "total_pages - 20\n"
     ]
    },
    {
     "name": "stderr",
     "output_type": "stream",
     "text": [
      " 61%|█████████████████████████████████████████████████▍                               | 61/100 [00:20<00:15,  2.50it/s]"
     ]
    },
    {
     "name": "stdout",
     "output_type": "stream",
     "text": [
      "captcha_required\n"
     ]
    },
    {
     "name": "stderr",
     "output_type": "stream",
     "text": [
      " 73%|███████████████████████████████████████████████████████████▏                     | 73/100 [00:25<00:10,  2.68it/s]"
     ]
    },
    {
     "name": "stdout",
     "output_type": "stream",
     "text": [
      "captcha_required\n"
     ]
    },
    {
     "name": "stderr",
     "output_type": "stream",
     "text": [
      "100%|████████████████████████████████████████████████████████████████████████████████| 100/100 [00:36<00:00,  2.54it/s]\n"
     ]
    },
    {
     "name": "stdout",
     "output_type": "stream",
     "text": [
      "вакансий получено - 75\n",
      "вакансий пропущено - 23\n",
      "вакансий с ошибкой - 2\n",
      "('https://api.hh.ru/vacancies?area=55&professional_role=40&area=98&professional_role=97&area=78&professional_role=48&area=24&professional_role=83', 1743)\n",
      "number url - 299\n",
      "размер массива (141039, 1)\n",
      "total_pages - 20\n"
     ]
    },
    {
     "name": "stderr",
     "output_type": "stream",
     "text": [
      " 39%|███████████████████████████████▌                                                 | 39/100 [00:17<00:26,  2.33it/s]"
     ]
    },
    {
     "name": "stdout",
     "output_type": "stream",
     "text": [
      "captcha_required\n"
     ]
    },
    {
     "name": "stderr",
     "output_type": "stream",
     "text": [
      " 48%|██████████████████████████████████████▉                                          | 48/100 [00:21<00:22,  2.29it/s]"
     ]
    },
    {
     "name": "stdout",
     "output_type": "stream",
     "text": [
      "captcha_required\n"
     ]
    },
    {
     "name": "stderr",
     "output_type": "stream",
     "text": [
      "\r",
      " 49%|███████████████████████████████████████▋                                         | 49/100 [00:23<00:37,  1.38it/s]"
     ]
    },
    {
     "name": "stdout",
     "output_type": "stream",
     "text": [
      "captcha_required\n"
     ]
    },
    {
     "name": "stderr",
     "output_type": "stream",
     "text": [
      "100%|████████████████████████████████████████████████████████████████████████████████| 100/100 [00:45<00:00,  2.04it/s]\n"
     ]
    },
    {
     "name": "stdout",
     "output_type": "stream",
     "text": [
      "вакансий получено - 89\n",
      "вакансий пропущено - 8\n",
      "вакансий с ошибкой - 3\n",
      "('https://api.hh.ru/vacancies?area=159&professional_role=97&area=159&professional_role=97&area=99&professional_role=47&area=3&professional_role=49', 1759)\n",
      "number url - 300\n",
      "размер массива (141128, 1)\n",
      "total_pages - 20\n"
     ]
    },
    {
     "name": "stderr",
     "output_type": "stream",
     "text": [
      " 40%|████████████████████████████████▍                                                | 40/100 [00:12<00:21,  2.83it/s]"
     ]
    },
    {
     "name": "stdout",
     "output_type": "stream",
     "text": [
      "captcha_required\n"
     ]
    },
    {
     "name": "stderr",
     "output_type": "stream",
     "text": [
      " 47%|██████████████████████████████████████                                           | 47/100 [00:15<00:21,  2.41it/s]"
     ]
    },
    {
     "name": "stdout",
     "output_type": "stream",
     "text": [
      "captcha_required\n"
     ]
    },
    {
     "name": "stderr",
     "output_type": "stream",
     "text": [
      " 50%|████████████████████████████████████████▌                                        | 50/100 [00:17<00:28,  1.76it/s]"
     ]
    },
    {
     "name": "stdout",
     "output_type": "stream",
     "text": [
      "captcha_required\n"
     ]
    },
    {
     "name": "stderr",
     "output_type": "stream",
     "text": [
      " 78%|███████████████████████████████████████████████████████████████▏                 | 78/100 [00:30<00:09,  2.32it/s]"
     ]
    },
    {
     "name": "stdout",
     "output_type": "stream",
     "text": [
      "captcha_required\n"
     ]
    },
    {
     "name": "stderr",
     "output_type": "stream",
     "text": [
      "\r",
      " 79%|███████████████████████████████████████████████████████████████▉                 | 79/100 [00:32<00:15,  1.37it/s]"
     ]
    },
    {
     "name": "stdout",
     "output_type": "stream",
     "text": [
      "captcha_required\n"
     ]
    },
    {
     "name": "stderr",
     "output_type": "stream",
     "text": [
      " 87%|██████████████████████████████████████████████████████████████████████▍          | 87/100 [00:36<00:06,  1.99it/s]"
     ]
    },
    {
     "name": "stdout",
     "output_type": "stream",
     "text": [
      "captcha_required\n"
     ]
    },
    {
     "name": "stderr",
     "output_type": "stream",
     "text": [
      "\r",
      " 88%|███████████████████████████████████████████████████████████████████████▎         | 88/100 [00:38<00:09,  1.30it/s]"
     ]
    },
    {
     "name": "stdout",
     "output_type": "stream",
     "text": [
      "captcha_required\n"
     ]
    },
    {
     "name": "stderr",
     "output_type": "stream",
     "text": [
      "100%|████████████████████████████████████████████████████████████████████████████████| 100/100 [00:44<00:00,  2.27it/s]\n"
     ]
    },
    {
     "name": "stdout",
     "output_type": "stream",
     "text": [
      "вакансий получено - 79\n",
      "вакансий пропущено - 14\n",
      "вакансий с ошибкой - 7\n",
      "('https://api.hh.ru/vacancies?area=106&professional_role=21&area=3&professional_role=83&area=160&professional_role=96&area=1375&professional_role=40', 1781)\n",
      "number url - 301\n",
      "размер массива (141207, 1)\n",
      "total_pages - 20\n"
     ]
    },
    {
     "name": "stderr",
     "output_type": "stream",
     "text": [
      " 90%|████████████████████████████████████████████████████████████████████████▉        | 90/100 [00:27<00:03,  2.66it/s]"
     ]
    },
    {
     "name": "stdout",
     "output_type": "stream",
     "text": [
      "captcha_required\n"
     ]
    },
    {
     "name": "stderr",
     "output_type": "stream",
     "text": [
      "100%|████████████████████████████████████████████████████████████████████████████████| 100/100 [00:32<00:00,  2.19it/s]\n"
     ]
    },
    {
     "name": "stdout",
     "output_type": "stream",
     "text": [
      "вакансий получено - 69\n",
      "вакансий пропущено - 30\n",
      "вакансий с ошибкой - 1\n",
      "('https://api.hh.ru/vacancies?area=15&professional_role=97&area=41&professional_role=97&area=99&professional_role=24&area=70&professional_role=70', 1804)\n",
      "number url - 302\n",
      "размер массива (141276, 1)\n",
      "total_pages - 20\n"
     ]
    },
    {
     "name": "stderr",
     "output_type": "stream",
     "text": [
      " 30%|████████████████████████▎                                                        | 30/100 [00:12<00:31,  2.24it/s]"
     ]
    },
    {
     "name": "stdout",
     "output_type": "stream",
     "text": [
      "captcha_required\n"
     ]
    },
    {
     "name": "stderr",
     "output_type": "stream",
     "text": [
      " 38%|██████████████████████████████▊                                                  | 38/100 [00:17<00:30,  2.01it/s]"
     ]
    },
    {
     "name": "stdout",
     "output_type": "stream",
     "text": [
      "captcha_required\n"
     ]
    },
    {
     "name": "stderr",
     "output_type": "stream",
     "text": [
      "\r",
      " 39%|███████████████████████████████▌                                                 | 39/100 [00:19<00:47,  1.29it/s]"
     ]
    },
    {
     "name": "stdout",
     "output_type": "stream",
     "text": [
      "captcha_required\n"
     ]
    },
    {
     "name": "stderr",
     "output_type": "stream",
     "text": [
      " 50%|████████████████████████████████████████▌                                        | 50/100 [00:25<00:22,  2.19it/s]"
     ]
    },
    {
     "name": "stdout",
     "output_type": "stream",
     "text": [
      "captcha_required\n"
     ]
    },
    {
     "name": "stderr",
     "output_type": "stream",
     "text": [
      "\r",
      " 51%|█████████████████████████████████████████▎                                       | 51/100 [00:26<00:36,  1.33it/s]"
     ]
    },
    {
     "name": "stdout",
     "output_type": "stream",
     "text": [
      "captcha_required\n"
     ]
    },
    {
     "name": "stderr",
     "output_type": "stream",
     "text": [
      "100%|████████████████████████████████████████████████████████████████████████████████| 100/100 [00:46<00:00,  2.14it/s]\n"
     ]
    },
    {
     "name": "stdout",
     "output_type": "stream",
     "text": [
      "вакансий получено - 87\n",
      "вакансий пропущено - 8\n",
      "вакансий с ошибкой - 5\n",
      "('https://api.hh.ru/vacancies?area=76&professional_role=52&area=90&professional_role=21&area=72&professional_role=24&area=66&professional_role=102', 1834)\n",
      "number url - 303\n",
      "размер массива (141363, 1)\n",
      "total_pages - 20\n"
     ]
    },
    {
     "name": "stderr",
     "output_type": "stream",
     "text": [
      " 68%|███████████████████████████████████████████████████████                          | 68/100 [00:30<00:13,  2.38it/s]"
     ]
    },
    {
     "name": "stdout",
     "output_type": "stream",
     "text": [
      "captcha_required\n"
     ]
    },
    {
     "name": "stderr",
     "output_type": "stream",
     "text": [
      "\r",
      " 69%|███████████████████████████████████████████████████████▉                         | 69/100 [00:31<00:22,  1.39it/s]"
     ]
    },
    {
     "name": "stdout",
     "output_type": "stream",
     "text": [
      "captcha_required\n"
     ]
    },
    {
     "name": "stderr",
     "output_type": "stream",
     "text": [
      "\r",
      " 70%|████████████████████████████████████████████████████████▋                        | 70/100 [00:32<00:27,  1.08it/s]"
     ]
    },
    {
     "name": "stdout",
     "output_type": "stream",
     "text": [
      "captcha_required\n"
     ]
    },
    {
     "name": "stderr",
     "output_type": "stream",
     "text": [
      " 80%|████████████████████████████████████████████████████████████████▊                | 80/100 [00:38<00:09,  2.18it/s]"
     ]
    },
    {
     "name": "stdout",
     "output_type": "stream",
     "text": [
      "captcha_required\n"
     ]
    },
    {
     "name": "stderr",
     "output_type": "stream",
     "text": [
      "\r",
      " 81%|█████████████████████████████████████████████████████████████████▌               | 81/100 [00:39<00:14,  1.33it/s]"
     ]
    },
    {
     "name": "stdout",
     "output_type": "stream",
     "text": [
      "captcha_required\n"
     ]
    },
    {
     "name": "stderr",
     "output_type": "stream",
     "text": [
      "100%|████████████████████████████████████████████████████████████████████████████████| 100/100 [00:49<00:00,  1.92it/s]\n"
     ]
    },
    {
     "name": "stdout",
     "output_type": "stream",
     "text": [
      "вакансий получено - 95\n",
      "вакансий пропущено - 0\n",
      "вакансий с ошибкой - 5\n",
      "('https://api.hh.ru/vacancies?area=4&professional_role=47&area=99&professional_role=18&area=1240&professional_role=97&area=3&professional_role=9', 1868)\n",
      "number url - 304\n",
      "размер массива (141458, 1)\n",
      "total_pages - 20\n"
     ]
    },
    {
     "name": "stderr",
     "output_type": "stream",
     "text": [
      " 90%|████████████████████████████████████████████████████████████████████████▉        | 90/100 [00:40<00:04,  2.08it/s]"
     ]
    },
    {
     "name": "stdout",
     "output_type": "stream",
     "text": [
      "captcha_required\n"
     ]
    },
    {
     "name": "stderr",
     "output_type": "stream",
     "text": [
      "\r",
      " 91%|█████████████████████████████████████████████████████████████████████████▋       | 91/100 [00:41<00:06,  1.29it/s]"
     ]
    },
    {
     "name": "stdout",
     "output_type": "stream",
     "text": [
      "captcha_required\n"
     ]
    },
    {
     "name": "stderr",
     "output_type": "stream",
     "text": [
      "\r",
      " 92%|██████████████████████████████████████████████████████████████████████████▌      | 92/100 [00:43<00:07,  1.02it/s]"
     ]
    },
    {
     "name": "stdout",
     "output_type": "stream",
     "text": [
      "captcha_required\n"
     ]
    },
    {
     "name": "stderr",
     "output_type": "stream",
     "text": [
      "100%|████████████████████████████████████████████████████████████████████████████████| 100/100 [00:47<00:00,  1.95it/s]\n"
     ]
    },
    {
     "name": "stdout",
     "output_type": "stream",
     "text": [
      "вакансий получено - 97\n",
      "вакансий пропущено - 0\n",
      "вакансий с ошибкой - 3\n",
      "('https://api.hh.ru/vacancies?area=66&professional_role=8&area=22&professional_role=97&area=89&professional_role=97&area=53&professional_role=6', 1891)\n",
      "number url - 305\n",
      "размер массива (141555, 1)\n",
      "total_pages - 20\n"
     ]
    },
    {
     "name": "stderr",
     "output_type": "stream",
     "text": [
      " 22%|█████████████████▊                                                               | 22/100 [00:07<00:25,  3.09it/s]"
     ]
    },
    {
     "name": "stdout",
     "output_type": "stream",
     "text": [
      "captcha_required\n"
     ]
    },
    {
     "name": "stderr",
     "output_type": "stream",
     "text": [
      " 24%|███████████████████▍                                                             | 24/100 [00:09<00:45,  1.67it/s]"
     ]
    },
    {
     "name": "stdout",
     "output_type": "stream",
     "text": [
      "captcha_required\n"
     ]
    },
    {
     "name": "stderr",
     "output_type": "stream",
     "text": [
      "\r",
      " 25%|████████████████████▎                                                            | 25/100 [00:11<01:03,  1.19it/s]"
     ]
    },
    {
     "name": "stdout",
     "output_type": "stream",
     "text": [
      "captcha_required\n"
     ]
    },
    {
     "name": "stderr",
     "output_type": "stream",
     "text": [
      "100%|████████████████████████████████████████████████████████████████████████████████| 100/100 [00:43<00:00,  2.28it/s]\n"
     ]
    },
    {
     "name": "stdout",
     "output_type": "stream",
     "text": [
      "вакансий получено - 86\n",
      "вакансий пропущено - 11\n",
      "вакансий с ошибкой - 3\n",
      "('https://api.hh.ru/vacancies?area=47&professional_role=21&area=3&professional_role=130&area=88&professional_role=24&area=76&professional_role=83', 1910)\n",
      "number url - 306\n",
      "размер массива (141641, 1)\n",
      "total_pages - 20\n"
     ]
    },
    {
     "name": "stderr",
     "output_type": "stream",
     "text": [
      " 26%|█████████████████████                                                            | 26/100 [00:11<00:32,  2.30it/s]"
     ]
    },
    {
     "name": "stdout",
     "output_type": "stream",
     "text": [
      "captcha_required\n"
     ]
    },
    {
     "name": "stderr",
     "output_type": "stream",
     "text": [
      " 32%|█████████████████████████▉                                                       | 32/100 [00:14<00:32,  2.09it/s]"
     ]
    },
    {
     "name": "stdout",
     "output_type": "stream",
     "text": [
      "captcha_required\n"
     ]
    },
    {
     "name": "stderr",
     "output_type": "stream",
     "text": [
      " 60%|████████████████████████████████████████████████▌                                | 60/100 [00:24<00:16,  2.47it/s]"
     ]
    },
    {
     "name": "stdout",
     "output_type": "stream",
     "text": [
      "captcha_required\n"
     ]
    },
    {
     "name": "stderr",
     "output_type": "stream",
     "text": [
      " 62%|██████████████████████████████████████████████████▏                              | 62/100 [00:26<00:24,  1.56it/s]"
     ]
    },
    {
     "name": "stdout",
     "output_type": "stream",
     "text": [
      "captcha_required\n"
     ]
    },
    {
     "name": "stderr",
     "output_type": "stream",
     "text": [
      "\r",
      " 63%|███████████████████████████████████████████████████                              | 63/100 [00:27<00:32,  1.12it/s]"
     ]
    },
    {
     "name": "stdout",
     "output_type": "stream",
     "text": [
      "captcha_required\n"
     ]
    },
    {
     "name": "stderr",
     "output_type": "stream",
     "text": [
      " 96%|█████████████████████████████████████████████████████████████████████████████▊   | 96/100 [00:39<00:01,  2.30it/s]"
     ]
    },
    {
     "name": "stdout",
     "output_type": "stream",
     "text": [
      "captcha_required\n"
     ]
    },
    {
     "name": "stderr",
     "output_type": "stream",
     "text": [
      "100%|████████████████████████████████████████████████████████████████████████████████| 100/100 [00:40<00:00,  2.46it/s]\n"
     ]
    },
    {
     "name": "stdout",
     "output_type": "stream",
     "text": [
      "вакансий получено - 71\n",
      "вакансий пропущено - 23\n",
      "вакансий с ошибкой - 6\n",
      "('https://api.hh.ru/vacancies?area=1381&professional_role=40&area=15&professional_role=40&area=56&professional_role=40&area=237&professional_role=94', 1936)\n",
      "number url - 307\n",
      "размер массива (141712, 1)\n",
      "total_pages - 20\n"
     ]
    },
    {
     "name": "stderr",
     "output_type": "stream",
     "text": [
      " 75%|████████████████████████████████████████████████████████████▊                    | 75/100 [00:33<00:10,  2.29it/s]"
     ]
    },
    {
     "name": "stdout",
     "output_type": "stream",
     "text": [
      "captcha_required\n"
     ]
    },
    {
     "name": "stderr",
     "output_type": "stream",
     "text": [
      " 96%|█████████████████████████████████████████████████████████████████████████████▊   | 96/100 [00:44<00:01,  2.19it/s]"
     ]
    },
    {
     "name": "stdout",
     "output_type": "stream",
     "text": [
      "captcha_required\n"
     ]
    },
    {
     "name": "stderr",
     "output_type": "stream",
     "text": [
      "\r",
      " 97%|██████████████████████████████████████████████████████████████████████████████▌  | 97/100 [00:46<00:02,  1.35it/s]"
     ]
    },
    {
     "name": "stdout",
     "output_type": "stream",
     "text": [
      "captcha_required\n"
     ]
    },
    {
     "name": "stderr",
     "output_type": "stream",
     "text": [
      "100%|████████████████████████████████████████████████████████████████████████████████| 100/100 [00:48<00:00,  1.46it/s]\n"
     ]
    },
    {
     "name": "stdout",
     "output_type": "stream",
     "text": [
      "вакансий получено - 97\n",
      "вакансий пропущено - 0\n",
      "вакансий с ошибкой - 3\n",
      "('https://api.hh.ru/vacancies?area=20&professional_role=40&area=53&professional_role=52&area=72&professional_role=48&area=95&professional_role=94', 1950)\n",
      "number url - 308\n",
      "размер массива (141809, 1)\n",
      "total_pages - 20\n"
     ]
    },
    {
     "name": "stderr",
     "output_type": "stream",
     "text": [
      " 22%|█████████████████▊                                                               | 22/100 [00:09<00:29,  2.61it/s]"
     ]
    },
    {
     "name": "stdout",
     "output_type": "stream",
     "text": [
      "captcha_required\n"
     ]
    },
    {
     "name": "stderr",
     "output_type": "stream",
     "text": [
      "\r",
      " 23%|██████████████████▋                                                              | 23/100 [00:10<00:53,  1.45it/s]"
     ]
    },
    {
     "name": "stdout",
     "output_type": "stream",
     "text": [
      "captcha_required\n"
     ]
    },
    {
     "name": "stderr",
     "output_type": "stream",
     "text": [
      "100%|████████████████████████████████████████████████████████████████████████████████| 100/100 [00:43<00:00,  2.57it/s]\n"
     ]
    },
    {
     "name": "stdout",
     "output_type": "stream",
     "text": [
      "вакансий получено - 90\n",
      "вакансий пропущено - 8\n",
      "вакансий с ошибкой - 2\n",
      "('https://api.hh.ru/vacancies?area=84&professional_role=40&area=2061&professional_role=40&area=58&professional_role=97&area=70&professional_role=97', 1967)\n",
      "number url - 309\n",
      "размер массива (141899, 1)\n",
      "total_pages - 20\n"
     ]
    },
    {
     "name": "stderr",
     "output_type": "stream",
     "text": [
      " 26%|█████████████████████                                                            | 26/100 [00:12<00:34,  2.12it/s]"
     ]
    },
    {
     "name": "stdout",
     "output_type": "stream",
     "text": [
      "captcha_required\n"
     ]
    },
    {
     "name": "stderr",
     "output_type": "stream",
     "text": [
      " 28%|██████████████████████▋                                                          | 28/100 [00:14<00:50,  1.42it/s]"
     ]
    },
    {
     "name": "stdout",
     "output_type": "stream",
     "text": [
      "captcha_required\n"
     ]
    },
    {
     "name": "stderr",
     "output_type": "stream",
     "text": [
      "\r",
      " 29%|███████████████████████▍                                                         | 29/100 [00:15<01:05,  1.08it/s]"
     ]
    },
    {
     "name": "stdout",
     "output_type": "stream",
     "text": [
      "captcha_required\n"
     ]
    },
    {
     "name": "stderr",
     "output_type": "stream",
     "text": [
      " 49%|███████████████████████████████████████▋                                         | 49/100 [00:25<00:22,  2.24it/s]"
     ]
    },
    {
     "name": "stdout",
     "output_type": "stream",
     "text": [
      "captcha_required\n"
     ]
    },
    {
     "name": "stderr",
     "output_type": "stream",
     "text": [
      "\r",
      " 50%|████████████████████████████████████████▌                                        | 50/100 [00:26<00:37,  1.34it/s]"
     ]
    },
    {
     "name": "stdout",
     "output_type": "stream",
     "text": [
      "captcha_required\n"
     ]
    },
    {
     "name": "stderr",
     "output_type": "stream",
     "text": [
      "100%|████████████████████████████████████████████████████████████████████████████████| 100/100 [00:50<00:00,  2.10it/s]\n"
     ]
    },
    {
     "name": "stdout",
     "output_type": "stream",
     "text": [
      "вакансий получено - 95\n",
      "вакансий пропущено - 0\n",
      "вакансий с ошибкой - 5\n",
      "('https://api.hh.ru/vacancies?area=32&professional_role=97&area=26&professional_role=83&area=3&professional_role=66', 1501)\n",
      "number url - 310\n",
      "размер массива (141994, 1)\n",
      "total_pages - 20\n"
     ]
    },
    {
     "name": "stderr",
     "output_type": "stream",
     "text": [
      " 63%|███████████████████████████████████████████████████                              | 63/100 [00:22<00:16,  2.31it/s]"
     ]
    },
    {
     "name": "stdout",
     "output_type": "stream",
     "text": [
      "captcha_required\n"
     ]
    },
    {
     "name": "stderr",
     "output_type": "stream",
     "text": [
      "\r",
      " 64%|███████████████████████████████████████████████████▊                             | 64/100 [00:23<00:26,  1.38it/s]"
     ]
    },
    {
     "name": "stdout",
     "output_type": "stream",
     "text": [
      "captcha_required\n"
     ]
    },
    {
     "name": "stderr",
     "output_type": "stream",
     "text": [
      "\r",
      " 65%|████████████████████████████████████████████████████▋                            | 65/100 [00:25<00:32,  1.07it/s]"
     ]
    },
    {
     "name": "stdout",
     "output_type": "stream",
     "text": [
      "captcha_required\n"
     ]
    },
    {
     "name": "stderr",
     "output_type": "stream",
     "text": [
      " 85%|████████████████████████████████████████████████████████████████████▊            | 85/100 [00:35<00:06,  2.16it/s]"
     ]
    },
    {
     "name": "stdout",
     "output_type": "stream",
     "text": [
      "captcha_required\n"
     ]
    },
    {
     "name": "stderr",
     "output_type": "stream",
     "text": [
      "\r",
      " 86%|█████████████████████████████████████████████████████████████████████▋           | 86/100 [00:36<00:10,  1.34it/s]"
     ]
    },
    {
     "name": "stdout",
     "output_type": "stream",
     "text": [
      "captcha_required\n"
     ]
    },
    {
     "name": "stderr",
     "output_type": "stream",
     "text": [
      "100%|████████████████████████████████████████████████████████████████████████████████| 100/100 [00:43<00:00,  2.21it/s]\n"
     ]
    },
    {
     "name": "stdout",
     "output_type": "stream",
     "text": [
      "вакансий получено - 81\n",
      "вакансий пропущено - 14\n",
      "вакансий с ошибкой - 5\n",
      "('https://api.hh.ru/vacancies?area=54&professional_role=102&area=71&professional_role=97&area=26&professional_role=48', 1511)\n",
      "number url - 311\n",
      "размер массива (142075, 1)\n",
      "total_pages - 20\n"
     ]
    },
    {
     "name": "stderr",
     "output_type": "stream",
     "text": [
      " 48%|██████████████████████████████████████▉                                          | 48/100 [00:21<00:22,  2.34it/s]"
     ]
    },
    {
     "name": "stdout",
     "output_type": "stream",
     "text": [
      "captcha_required\n"
     ]
    },
    {
     "name": "stderr",
     "output_type": "stream",
     "text": [
      " 87%|██████████████████████████████████████████████████████████████████████▍          | 87/100 [00:40<00:07,  1.67it/s]"
     ]
    },
    {
     "name": "stdout",
     "output_type": "stream",
     "text": [
      "captcha_required\n"
     ]
    },
    {
     "name": "stderr",
     "output_type": "stream",
     "text": [
      "100%|████████████████████████████████████████████████████████████████████████████████| 100/100 [00:47<00:00,  2.14it/s]\n"
     ]
    },
    {
     "name": "stdout",
     "output_type": "stream",
     "text": [
      "вакансий получено - 97\n",
      "вакансий пропущено - 1\n",
      "вакансий с ошибкой - 2\n",
      "('https://api.hh.ru/vacancies?area=4&professional_role=131&area=1002&professional_role=130&area=68&professional_role=63', 1526)\n",
      "number url - 312\n",
      "размер массива (142172, 1)\n",
      "total_pages - 20\n"
     ]
    },
    {
     "name": "stderr",
     "output_type": "stream",
     "text": [
      " 11%|████████▉                                                                        | 11/100 [00:04<00:38,  2.28it/s]"
     ]
    },
    {
     "name": "stdout",
     "output_type": "stream",
     "text": [
      "captcha_required\n"
     ]
    },
    {
     "name": "stderr",
     "output_type": "stream",
     "text": [
      " 21%|█████████████████                                                                | 21/100 [00:10<00:38,  2.06it/s]"
     ]
    },
    {
     "name": "stdout",
     "output_type": "stream",
     "text": [
      "captcha_required\n"
     ]
    },
    {
     "name": "stderr",
     "output_type": "stream",
     "text": [
      "100%|████████████████████████████████████████████████████████████████████████████████| 100/100 [00:48<00:00,  2.22it/s]\n"
     ]
    },
    {
     "name": "stdout",
     "output_type": "stream",
     "text": [
      "вакансий получено - 97\n",
      "вакансий пропущено - 1\n",
      "вакансий с ошибкой - 2\n",
      "('https://api.hh.ru/vacancies?area=66&professional_role=83&area=1002&professional_role=94&area=26&professional_role=94', 1537)\n",
      "number url - 313\n",
      "размер массива (142269, 1)\n",
      "total_pages - 20\n"
     ]
    },
    {
     "name": "stderr",
     "output_type": "stream",
     "text": [
      " 31%|█████████████████████████                                                        | 31/100 [00:13<00:30,  2.24it/s]"
     ]
    },
    {
     "name": "stdout",
     "output_type": "stream",
     "text": [
      "captcha_required\n"
     ]
    },
    {
     "name": "stderr",
     "output_type": "stream",
     "text": [
      " 45%|████████████████████████████████████▍                                            | 45/100 [00:21<00:24,  2.27it/s]"
     ]
    },
    {
     "name": "stdout",
     "output_type": "stream",
     "text": [
      "captcha_required\n"
     ]
    },
    {
     "name": "stderr",
     "output_type": "stream",
     "text": [
      " 92%|██████████████████████████████████████████████████████████████████████████▌      | 92/100 [00:44<00:03,  2.26it/s]"
     ]
    },
    {
     "name": "stdout",
     "output_type": "stream",
     "text": [
      "captcha_required\n"
     ]
    },
    {
     "name": "stderr",
     "output_type": "stream",
     "text": [
      "100%|████████████████████████████████████████████████████████████████████████████████| 100/100 [00:49<00:00,  2.02it/s]\n"
     ]
    },
    {
     "name": "stdout",
     "output_type": "stream",
     "text": [
      "вакансий получено - 94\n",
      "вакансий пропущено - 3\n",
      "вакансий с ошибкой - 3\n",
      "('https://api.hh.ru/vacancies?area=3&professional_role=143&area=53&professional_role=47&area=81&professional_role=40', 1550)\n",
      "number url - 314\n",
      "размер массива (142363, 1)\n",
      "total_pages - 20\n"
     ]
    },
    {
     "name": "stderr",
     "output_type": "stream",
     "text": [
      " 55%|████████████████████████████████████████████▌                                    | 55/100 [00:24<00:19,  2.34it/s]"
     ]
    },
    {
     "name": "stdout",
     "output_type": "stream",
     "text": [
      "captcha_required\n"
     ]
    },
    {
     "name": "stderr",
     "output_type": "stream",
     "text": [
      " 68%|███████████████████████████████████████████████████████                          | 68/100 [00:31<00:13,  2.32it/s]"
     ]
    },
    {
     "name": "stdout",
     "output_type": "stream",
     "text": [
      "captcha_required\n"
     ]
    },
    {
     "name": "stderr",
     "output_type": "stream",
     "text": [
      " 75%|████████████████████████████████████████████████████████████▊                    | 75/100 [00:35<00:11,  2.09it/s]"
     ]
    },
    {
     "name": "stdout",
     "output_type": "stream",
     "text": [
      "captcha_required\n"
     ]
    },
    {
     "name": "stderr",
     "output_type": "stream",
     "text": [
      "100%|████████████████████████████████████████████████████████████████████████████████| 100/100 [00:47<00:00,  2.29it/s]\n"
     ]
    },
    {
     "name": "stdout",
     "output_type": "stream",
     "text": [
      "вакансий получено - 97\n",
      "вакансий пропущено - 0\n",
      "вакансий с ошибкой - 3\n",
      "('https://api.hh.ru/vacancies?area=68&professional_role=24&area=2077&professional_role=97&area=68&professional_role=94', 1557)\n",
      "number url - 315\n",
      "размер массива (142460, 1)\n",
      "total_pages - 20\n"
     ]
    },
    {
     "name": "stderr",
     "output_type": "stream",
     "text": [
      " 20%|████████████████▏                                                                | 20/100 [00:09<00:37,  2.14it/s]"
     ]
    },
    {
     "name": "stdout",
     "output_type": "stream",
     "text": [
      "captcha_required\n"
     ]
    },
    {
     "name": "stderr",
     "output_type": "stream",
     "text": [
      "\r",
      " 21%|█████████████████                                                                | 21/100 [00:10<00:58,  1.34it/s]"
     ]
    },
    {
     "name": "stdout",
     "output_type": "stream",
     "text": [
      "captcha_required\n"
     ]
    },
    {
     "name": "stderr",
     "output_type": "stream",
     "text": [
      "100%|████████████████████████████████████████████████████████████████████████████████| 100/100 [00:49<00:00,  2.15it/s]\n"
     ]
    },
    {
     "name": "stdout",
     "output_type": "stream",
     "text": [
      "вакансий получено - 98\n",
      "вакансий пропущено - 0\n",
      "вакансий с ошибкой - 2\n",
      "('https://api.hh.ru/vacancies?area=77&professional_role=97&area=104&professional_role=115&area=3&professional_role=89', 1567)\n",
      "number url - 316\n",
      "размер массива (142558, 1)\n",
      "total_pages - 20\n"
     ]
    },
    {
     "name": "stderr",
     "output_type": "stream",
     "text": [
      " 73%|███████████████████████████████████████████████████████████▏                     | 73/100 [00:18<00:07,  3.52it/s]"
     ]
    },
    {
     "name": "stdout",
     "output_type": "stream",
     "text": [
      "captcha_required\n"
     ]
    },
    {
     "name": "stderr",
     "output_type": "stream",
     "text": [
      "\r",
      " 74%|███████████████████████████████████████████████████████████▉                     | 74/100 [00:20<00:16,  1.62it/s]"
     ]
    },
    {
     "name": "stdout",
     "output_type": "stream",
     "text": [
      "captcha_required\n"
     ]
    },
    {
     "name": "stderr",
     "output_type": "stream",
     "text": [
      "\r",
      " 75%|████████████████████████████████████████████████████████████▊                    | 75/100 [00:21<00:21,  1.18it/s]"
     ]
    },
    {
     "name": "stdout",
     "output_type": "stream",
     "text": [
      "captcha_required\n"
     ]
    },
    {
     "name": "stderr",
     "output_type": "stream",
     "text": [
      "100%|████████████████████████████████████████████████████████████████████████████████| 100/100 [00:30<00:00,  3.19it/s]\n"
     ]
    },
    {
     "name": "stdout",
     "output_type": "stream",
     "text": [
      "вакансий получено - 58\n",
      "вакансий пропущено - 39\n",
      "вакансий с ошибкой - 3\n",
      "('https://api.hh.ru/vacancies?area=25&professional_role=40&area=4&professional_role=8&area=66&professional_role=96', 1581)\n",
      "number url - 317\n",
      "размер массива (142616, 1)\n",
      "total_pages - 20\n"
     ]
    },
    {
     "name": "stderr",
     "output_type": "stream",
     "text": [
      " 36%|█████████████████████████████▏                                                   | 36/100 [00:14<00:26,  2.41it/s]"
     ]
    },
    {
     "name": "stdout",
     "output_type": "stream",
     "text": [
      "captcha_required\n"
     ]
    },
    {
     "name": "stderr",
     "output_type": "stream",
     "text": [
      " 48%|██████████████████████████████████████▉                                          | 48/100 [00:20<00:21,  2.37it/s]"
     ]
    },
    {
     "name": "stdout",
     "output_type": "stream",
     "text": [
      "captcha_required\n"
     ]
    },
    {
     "name": "stderr",
     "output_type": "stream",
     "text": [
      " 61%|█████████████████████████████████████████████████▍                               | 61/100 [00:27<00:16,  2.30it/s]"
     ]
    },
    {
     "name": "stdout",
     "output_type": "stream",
     "text": [
      "captcha_required\n"
     ]
    },
    {
     "name": "stderr",
     "output_type": "stream",
     "text": [
      " 75%|████████████████████████████████████████████████████████████▊                    | 75/100 [00:34<00:10,  2.28it/s]"
     ]
    },
    {
     "name": "stdout",
     "output_type": "stream",
     "text": [
      "captcha_required\n"
     ]
    },
    {
     "name": "stderr",
     "output_type": "stream",
     "text": [
      "100%|████████████████████████████████████████████████████████████████████████████████| 100/100 [00:48<00:00,  2.24it/s]\n"
     ]
    },
    {
     "name": "stdout",
     "output_type": "stream",
     "text": [
      "вакансий получено - 94\n",
      "вакансий пропущено - 2\n",
      "вакансий с ошибкой - 4\n",
      "('https://api.hh.ru/vacancies?area=212&professional_role=70&area=4&professional_role=64&area=19&professional_role=40', 1599)\n",
      "number url - 318\n",
      "размер массива (142710, 1)\n",
      "total_pages - 20\n"
     ]
    },
    {
     "name": "stderr",
     "output_type": "stream",
     "text": [
      " 87%|██████████████████████████████████████████████████████████████████████▍          | 87/100 [00:25<00:05,  2.48it/s]"
     ]
    },
    {
     "name": "stdout",
     "output_type": "stream",
     "text": [
      "captcha_required\n"
     ]
    },
    {
     "name": "stderr",
     "output_type": "stream",
     "text": [
      "100%|████████████████████████████████████████████████████████████████████████████████| 100/100 [00:31<00:00,  2.48it/s]\n"
     ]
    },
    {
     "name": "stdout",
     "output_type": "stream",
     "text": [
      "вакансий получено - 66\n",
      "вакансий пропущено - 33\n",
      "вакансий с ошибкой - 1\n",
      "('https://api.hh.ru/vacancies?area=66&professional_role=52&area=47&professional_role=97&area=78&professional_role=24', 1616)\n",
      "number url - 319\n",
      "размер массива (142776, 1)\n",
      "total_pages - 20\n"
     ]
    },
    {
     "name": "stderr",
     "output_type": "stream",
     "text": [
      " 30%|████████████████████████▎                                                        | 30/100 [00:13<00:30,  2.30it/s]"
     ]
    },
    {
     "name": "stdout",
     "output_type": "stream",
     "text": [
      "captcha_required\n"
     ]
    },
    {
     "name": "stderr",
     "output_type": "stream",
     "text": [
      " 35%|████████████████████████████▎                                                    | 35/100 [00:16<00:35,  1.84it/s]"
     ]
    },
    {
     "name": "stdout",
     "output_type": "stream",
     "text": [
      "captcha_required\n"
     ]
    },
    {
     "name": "stderr",
     "output_type": "stream",
     "text": [
      "\r",
      " 36%|█████████████████████████████▏                                                   | 36/100 [00:18<00:51,  1.24it/s]"
     ]
    },
    {
     "name": "stdout",
     "output_type": "stream",
     "text": [
      "captcha_required\n"
     ]
    },
    {
     "name": "stderr",
     "output_type": "stream",
     "text": [
      " 53%|██████████████████████████████████████████▉                                      | 53/100 [00:26<00:20,  2.24it/s]"
     ]
    },
    {
     "name": "stdout",
     "output_type": "stream",
     "text": [
      "captcha_required\n"
     ]
    },
    {
     "name": "stderr",
     "output_type": "stream",
     "text": [
      "\r",
      " 54%|███████████████████████████████████████████▋                                     | 54/100 [00:28<00:33,  1.37it/s]"
     ]
    },
    {
     "name": "stdout",
     "output_type": "stream",
     "text": [
      "captcha_required\n"
     ]
    },
    {
     "name": "stderr",
     "output_type": "stream",
     "text": [
      "100%|████████████████████████████████████████████████████████████████████████████████| 100/100 [00:50<00:00,  2.27it/s]\n"
     ]
    },
    {
     "name": "stdout",
     "output_type": "stream",
     "text": [
      "вакансий получено - 95\n",
      "вакансий пропущено - 0\n",
      "вакансий с ошибкой - 5\n",
      "('https://api.hh.ru/vacancies?area=90&professional_role=97&area=4&professional_role=115&area=66&professional_role=94', 1626)\n",
      "number url - 320\n",
      "размер массива (142871, 1)\n",
      "total_pages - 20\n"
     ]
    },
    {
     "name": "stderr",
     "output_type": "stream",
     "text": [
      " 52%|██████████████████████████████████████████                                       | 52/100 [00:22<00:20,  2.31it/s]"
     ]
    },
    {
     "name": "stdout",
     "output_type": "stream",
     "text": [
      "captcha_required\n"
     ]
    },
    {
     "name": "stderr",
     "output_type": "stream",
     "text": [
      "\r",
      " 53%|██████████████████████████████████████████▉                                      | 53/100 [00:23<00:34,  1.37it/s]"
     ]
    },
    {
     "name": "stdout",
     "output_type": "stream",
     "text": [
      "captcha_required\n"
     ]
    },
    {
     "name": "stderr",
     "output_type": "stream",
     "text": [
      " 59%|███████████████████████████████████████████████▊                                 | 59/100 [00:27<00:22,  1.84it/s]"
     ]
    },
    {
     "name": "stdout",
     "output_type": "stream",
     "text": [
      "captcha_required\n"
     ]
    },
    {
     "name": "stderr",
     "output_type": "stream",
     "text": [
      " 80%|████████████████████████████████████████████████████████████████▊                | 80/100 [00:36<00:08,  2.44it/s]"
     ]
    },
    {
     "name": "stdout",
     "output_type": "stream",
     "text": [
      "captcha_required\n"
     ]
    },
    {
     "name": "stderr",
     "output_type": "stream",
     "text": [
      "\r",
      " 81%|█████████████████████████████████████████████████████████████████▌               | 81/100 [00:37<00:13,  1.41it/s]"
     ]
    },
    {
     "name": "stdout",
     "output_type": "stream",
     "text": [
      "captcha_required\n"
     ]
    },
    {
     "name": "stderr",
     "output_type": "stream",
     "text": [
      "\r",
      " 83%|███████████████████████████████████████████████████████████████████▏             | 83/100 [00:39<00:12,  1.40it/s]"
     ]
    },
    {
     "name": "stdout",
     "output_type": "stream",
     "text": [
      "captcha_required\n"
     ]
    },
    {
     "name": "stderr",
     "output_type": "stream",
     "text": [
      "100%|████████████████████████████████████████████████████████████████████████████████| 100/100 [00:45<00:00,  2.44it/s]\n"
     ]
    },
    {
     "name": "stdout",
     "output_type": "stream",
     "text": [
      "вакансий получено - 84\n",
      "вакансий пропущено - 10\n",
      "вакансий с ошибкой - 6\n",
      "('https://api.hh.ru/vacancies?area=4&professional_role=63&area=64&professional_role=40&area=104&professional_role=24', 1642)\n",
      "number url - 321\n",
      "размер массива (142955, 1)\n",
      "total_pages - 20\n"
     ]
    },
    {
     "name": "stderr",
     "output_type": "stream",
     "text": [
      " 85%|████████████████████████████████████████████████████████████████████▊            | 85/100 [00:38<00:06,  2.26it/s]"
     ]
    },
    {
     "name": "stdout",
     "output_type": "stream",
     "text": [
      "captcha_required\n"
     ]
    },
    {
     "name": "stderr",
     "output_type": "stream",
     "text": [
      " 88%|███████████████████████████████████████████████████████████████████████▎         | 88/100 [00:41<00:06,  1.73it/s]"
     ]
    },
    {
     "name": "stdout",
     "output_type": "stream",
     "text": [
      "captcha_required\n"
     ]
    },
    {
     "name": "stderr",
     "output_type": "stream",
     "text": [
      "\r",
      " 89%|████████████████████████████████████████████████████████████████████████         | 89/100 [00:42<00:09,  1.19it/s]"
     ]
    },
    {
     "name": "stdout",
     "output_type": "stream",
     "text": [
      "captcha_required\n"
     ]
    },
    {
     "name": "stderr",
     "output_type": "stream",
     "text": [
      "100%|████████████████████████████████████████████████████████████████████████████████| 100/100 [00:48<00:00,  2.16it/s]\n"
     ]
    },
    {
     "name": "stdout",
     "output_type": "stream",
     "text": [
      "вакансий получено - 97\n",
      "вакансий пропущено - 0\n",
      "вакансий с ошибкой - 3\n",
      "('https://api.hh.ru/vacancies?area=107&professional_role=70&area=52&professional_role=40&area=90&professional_role=70', 1653)\n",
      "number url - 322\n",
      "размер массива (143052, 1)\n",
      "total_pages - 20\n"
     ]
    },
    {
     "name": "stderr",
     "output_type": "stream",
     "text": [
      " 20%|████████████████▏                                                                | 20/100 [00:09<00:36,  2.19it/s]"
     ]
    },
    {
     "name": "stdout",
     "output_type": "stream",
     "text": [
      "captcha_required\n"
     ]
    },
    {
     "name": "stderr",
     "output_type": "stream",
     "text": [
      " 24%|███████████████████▍                                                             | 24/100 [00:11<00:40,  1.86it/s]"
     ]
    },
    {
     "name": "stdout",
     "output_type": "stream",
     "text": [
      "captcha_required\n"
     ]
    },
    {
     "name": "stderr",
     "output_type": "stream",
     "text": [
      " 38%|██████████████████████████████▊                                                  | 38/100 [00:18<00:27,  2.29it/s]"
     ]
    },
    {
     "name": "stdout",
     "output_type": "stream",
     "text": [
      "captcha_required\n"
     ]
    },
    {
     "name": "stderr",
     "output_type": "stream",
     "text": [
      "100%|████████████████████████████████████████████████████████████████████████████████| 100/100 [00:47<00:00,  2.26it/s]\n"
     ]
    },
    {
     "name": "stdout",
     "output_type": "stream",
     "text": [
      "вакансий получено - 97\n",
      "вакансий пропущено - 0\n",
      "вакансий с ошибкой - 3\n",
      "('https://api.hh.ru/vacancies?area=88&professional_role=96&area=49&professional_role=97&area=43&professional_role=40', 1659)\n",
      "number url - 323\n",
      "размер массива (143149, 1)\n",
      "total_pages - 20\n"
     ]
    },
    {
     "name": "stderr",
     "output_type": "stream",
     "text": [
      " 11%|████████▉                                                                        | 11/100 [00:04<00:37,  2.36it/s]"
     ]
    },
    {
     "name": "stdout",
     "output_type": "stream",
     "text": [
      "captcha_required\n"
     ]
    },
    {
     "name": "stderr",
     "output_type": "stream",
     "text": [
      " 21%|█████████████████                                                                | 21/100 [00:10<00:42,  1.87it/s]"
     ]
    },
    {
     "name": "stdout",
     "output_type": "stream",
     "text": [
      "captcha_required\n"
     ]
    },
    {
     "name": "stderr",
     "output_type": "stream",
     "text": [
      "\r",
      " 22%|█████████████████▊                                                               | 22/100 [00:12<01:02,  1.25it/s]"
     ]
    },
    {
     "name": "stdout",
     "output_type": "stream",
     "text": [
      "captcha_required\n"
     ]
    },
    {
     "name": "stderr",
     "output_type": "stream",
     "text": [
      " 42%|██████████████████████████████████                                               | 42/100 [00:21<00:25,  2.29it/s]"
     ]
    },
    {
     "name": "stdout",
     "output_type": "stream",
     "text": [
      "captcha_required\n"
     ]
    },
    {
     "name": "stderr",
     "output_type": "stream",
     "text": [
      " 47%|██████████████████████████████████████                                           | 47/100 [00:24<00:26,  2.00it/s]"
     ]
    },
    {
     "name": "stdout",
     "output_type": "stream",
     "text": [
      "captcha_required\n"
     ]
    },
    {
     "name": "stderr",
     "output_type": "stream",
     "text": [
      "100%|████████████████████████████████████████████████████████████████████████████████| 100/100 [00:49<00:00,  2.32it/s]\n"
     ]
    },
    {
     "name": "stdout",
     "output_type": "stream",
     "text": [
      "вакансий получено - 94\n",
      "вакансий пропущено - 1\n",
      "вакансий с ошибкой - 5\n",
      "('https://api.hh.ru/vacancies?area=2034&professional_role=97&area=54&professional_role=18&area=1641&professional_role=97', 1662)\n",
      "number url - 324\n",
      "размер массива (143243, 1)\n",
      "total_pages - 20\n"
     ]
    },
    {
     "name": "stderr",
     "output_type": "stream",
     "text": [
      " 31%|█████████████████████████                                                        | 31/100 [00:13<00:29,  2.36it/s]"
     ]
    },
    {
     "name": "stdout",
     "output_type": "stream",
     "text": [
      "captcha_required\n"
     ]
    },
    {
     "name": "stderr",
     "output_type": "stream",
     "text": [
      "\r",
      " 32%|█████████████████████████▉                                                       | 32/100 [00:15<00:48,  1.39it/s]"
     ]
    },
    {
     "name": "stdout",
     "output_type": "stream",
     "text": [
      "captcha_required\n"
     ]
    },
    {
     "name": "stderr",
     "output_type": "stream",
     "text": [
      " 42%|██████████████████████████████████                                               | 42/100 [00:20<00:26,  2.16it/s]"
     ]
    },
    {
     "name": "stdout",
     "output_type": "stream",
     "text": [
      "captcha_required\n"
     ]
    },
    {
     "name": "stderr",
     "output_type": "stream",
     "text": [
      "\r",
      " 43%|██████████████████████████████████▊                                              | 43/100 [00:22<00:42,  1.35it/s]"
     ]
    },
    {
     "name": "stdout",
     "output_type": "stream",
     "text": [
      "captcha_required\n"
     ]
    },
    {
     "name": "stderr",
     "output_type": "stream",
     "text": [
      " 68%|███████████████████████████████████████████████████████                          | 68/100 [00:34<00:14,  2.22it/s]"
     ]
    },
    {
     "name": "stdout",
     "output_type": "stream",
     "text": [
      "captcha_required\n"
     ]
    },
    {
     "name": "stderr",
     "output_type": "stream",
     "text": [
      "\r",
      " 69%|███████████████████████████████████████████████████████▉                         | 69/100 [00:36<00:23,  1.33it/s]"
     ]
    },
    {
     "name": "stdout",
     "output_type": "stream",
     "text": [
      "captcha_required\n"
     ]
    },
    {
     "name": "stderr",
     "output_type": "stream",
     "text": [
      "100%|████████████████████████████████████████████████████████████████████████████████| 100/100 [00:51<00:00,  2.01it/s]\n"
     ]
    },
    {
     "name": "stdout",
     "output_type": "stream",
     "text": [
      "вакансий получено - 94\n",
      "вакансий пропущено - 0\n",
      "вакансий с ошибкой - 6\n",
      "('https://api.hh.ru/vacancies?area=159&professional_role=18&area=53&professional_role=48&area=1753&professional_role=40', 1690)\n",
      "number url - 325\n",
      "размер массива (143337, 1)\n",
      "total_pages - 20\n"
     ]
    },
    {
     "name": "stderr",
     "output_type": "stream",
     "text": [
      " 64%|███████████████████████████████████████████████████▊                             | 64/100 [00:29<00:14,  2.44it/s]"
     ]
    },
    {
     "name": "stdout",
     "output_type": "stream",
     "text": [
      "captcha_required\n"
     ]
    },
    {
     "name": "stderr",
     "output_type": "stream",
     "text": [
      "\r",
      " 65%|████████████████████████████████████████████████████▋                            | 65/100 [00:31<00:25,  1.40it/s]"
     ]
    },
    {
     "name": "stdout",
     "output_type": "stream",
     "text": [
      "captcha_required\n"
     ]
    },
    {
     "name": "stderr",
     "output_type": "stream",
     "text": [
      " 91%|█████████████████████████████████████████████████████████████████████████▋       | 91/100 [00:43<00:03,  2.80it/s]"
     ]
    },
    {
     "name": "stdout",
     "output_type": "stream",
     "text": [
      "captcha_required\n"
     ]
    },
    {
     "name": "stderr",
     "output_type": "stream",
     "text": [
      "\r",
      " 92%|██████████████████████████████████████████████████████████████████████████▌      | 92/100 [00:44<00:05,  1.45it/s]"
     ]
    },
    {
     "name": "stdout",
     "output_type": "stream",
     "text": [
      "captcha_required\n"
     ]
    },
    {
     "name": "stderr",
     "output_type": "stream",
     "text": [
      "\r",
      " 93%|███████████████████████████████████████████████████████████████████████████▎     | 93/100 [00:46<00:06,  1.10it/s]"
     ]
    },
    {
     "name": "stdout",
     "output_type": "stream",
     "text": [
      "captcha_required\n"
     ]
    },
    {
     "name": "stderr",
     "output_type": "stream",
     "text": [
      "100%|████████████████████████████████████████████████████████████████████████████████| 100/100 [00:49<00:00,  2.12it/s]\n"
     ]
    },
    {
     "name": "stdout",
     "output_type": "stream",
     "text": [
      "вакансий получено - 93\n",
      "вакансий пропущено - 2\n",
      "вакансий с ошибкой - 5\n",
      "('https://api.hh.ru/vacancies?area=102&professional_role=21&area=78&professional_role=18&area=89&professional_role=70', 1702)\n",
      "number url - 326\n",
      "размер массива (143430, 1)\n",
      "total_pages - 20\n"
     ]
    },
    {
     "name": "stderr",
     "output_type": "stream",
     "text": [
      " 52%|██████████████████████████████████████████                                       | 52/100 [00:22<00:21,  2.20it/s]"
     ]
    },
    {
     "name": "stdout",
     "output_type": "stream",
     "text": [
      "captcha_required\n"
     ]
    },
    {
     "name": "stderr",
     "output_type": "stream",
     "text": [
      " 59%|███████████████████████████████████████████████▊                                 | 59/100 [00:26<00:19,  2.13it/s]"
     ]
    },
    {
     "name": "stdout",
     "output_type": "stream",
     "text": [
      "captcha_required\n"
     ]
    },
    {
     "name": "stderr",
     "output_type": "stream",
     "text": [
      "100%|████████████████████████████████████████████████████████████████████████████████| 100/100 [00:46<00:00,  2.37it/s]\n"
     ]
    },
    {
     "name": "stdout",
     "output_type": "stream",
     "text": [
      "вакансий получено - 98\n",
      "вакансий пропущено - 0\n",
      "вакансий с ошибкой - 2\n",
      "('https://api.hh.ru/vacancies?area=78&professional_role=94&area=11&professional_role=21&area=88&professional_role=94', 1719)\n",
      "number url - 327\n",
      "размер массива (143528, 1)\n",
      "total_pages - 20\n"
     ]
    },
    {
     "name": "stderr",
     "output_type": "stream",
     "text": [
      " 20%|████████████████▏                                                                | 20/100 [00:11<00:35,  2.24it/s]"
     ]
    },
    {
     "name": "stdout",
     "output_type": "stream",
     "text": [
      "captcha_required\n"
     ]
    },
    {
     "name": "stderr",
     "output_type": "stream",
     "text": [
      " 74%|███████████████████████████████████████████████████████████▉                     | 74/100 [00:36<00:11,  2.22it/s]"
     ]
    },
    {
     "name": "stdout",
     "output_type": "stream",
     "text": [
      "captcha_required\n"
     ]
    },
    {
     "name": "stderr",
     "output_type": "stream",
     "text": [
      " 80%|████████████████████████████████████████████████████████████████▊                | 80/100 [00:39<00:09,  2.10it/s]"
     ]
    },
    {
     "name": "stdout",
     "output_type": "stream",
     "text": [
      "captcha_required\n"
     ]
    },
    {
     "name": "stderr",
     "output_type": "stream",
     "text": [
      "\r",
      " 81%|█████████████████████████████████████████████████████████████████▌               | 81/100 [00:41<00:14,  1.32it/s]"
     ]
    },
    {
     "name": "stdout",
     "output_type": "stream",
     "text": [
      "captcha_required\n"
     ]
    },
    {
     "name": "stderr",
     "output_type": "stream",
     "text": [
      "100%|████████████████████████████████████████████████████████████████████████████████| 100/100 [00:50<00:00,  2.09it/s]\n"
     ]
    },
    {
     "name": "stdout",
     "output_type": "stream",
     "text": [
      "вакансий получено - 96\n",
      "вакансий пропущено - 0\n",
      "вакансий с ошибкой - 4\n",
      "('https://api.hh.ru/vacancies?area=3&professional_role=47&area=58&professional_role=70&area=88&professional_role=48', 1739)\n",
      "number url - 328\n",
      "размер массива (143624, 1)\n",
      "total_pages - 20\n"
     ]
    },
    {
     "name": "stderr",
     "output_type": "stream",
     "text": [
      " 24%|███████████████████▍                                                             | 24/100 [00:10<00:32,  2.37it/s]"
     ]
    },
    {
     "name": "stdout",
     "output_type": "stream",
     "text": [
      "captcha_required\n"
     ]
    },
    {
     "name": "stderr",
     "output_type": "stream",
     "text": [
      "\r",
      " 25%|████████████████████▎                                                            | 25/100 [00:12<00:57,  1.30it/s]"
     ]
    },
    {
     "name": "stdout",
     "output_type": "stream",
     "text": [
      "captcha_required\n"
     ]
    },
    {
     "name": "stderr",
     "output_type": "stream",
     "text": [
      " 42%|██████████████████████████████████                                               | 42/100 [00:20<00:26,  2.22it/s]"
     ]
    },
    {
     "name": "stdout",
     "output_type": "stream",
     "text": [
      "captcha_required\n"
     ]
    },
    {
     "name": "stderr",
     "output_type": "stream",
     "text": [
      "100%|████████████████████████████████████████████████████████████████████████████████| 100/100 [00:44<00:00,  2.30it/s]\n"
     ]
    },
    {
     "name": "stdout",
     "output_type": "stream",
     "text": [
      "вакансий получено - 92\n",
      "вакансий пропущено - 5\n",
      "вакансий с ошибкой - 3\n",
      "('https://api.hh.ru/vacancies?area=1641&professional_role=70&area=3&professional_role=102&area=104&professional_role=18', 1747)\n",
      "number url - 329\n",
      "размер массива (143716, 1)\n",
      "total_pages - 20\n"
     ]
    },
    {
     "name": "stderr",
     "output_type": "stream",
     "text": [
      "  9%|███████▍                                                                          | 9/100 [00:03<00:29,  3.08it/s]"
     ]
    },
    {
     "name": "stdout",
     "output_type": "stream",
     "text": [
      "captcha_required\n"
     ]
    },
    {
     "name": "stderr",
     "output_type": "stream",
     "text": [
      " 22%|█████████████████▊                                                               | 22/100 [00:09<00:35,  2.21it/s]"
     ]
    },
    {
     "name": "stdout",
     "output_type": "stream",
     "text": [
      "captcha_required\n"
     ]
    },
    {
     "name": "stderr",
     "output_type": "stream",
     "text": [
      " 28%|██████████████████████▋                                                          | 28/100 [00:13<00:36,  1.98it/s]"
     ]
    },
    {
     "name": "stdout",
     "output_type": "stream",
     "text": [
      "captcha_required\n"
     ]
    },
    {
     "name": "stderr",
     "output_type": "stream",
     "text": [
      " 56%|█████████████████████████████████████████████▎                                   | 56/100 [00:25<00:17,  2.45it/s]"
     ]
    },
    {
     "name": "stdout",
     "output_type": "stream",
     "text": [
      "captcha_required\n"
     ]
    },
    {
     "name": "stderr",
     "output_type": "stream",
     "text": [
      "\r",
      " 58%|██████████████████████████████████████████████▉                                  | 58/100 [00:26<00:21,  2.00it/s]"
     ]
    },
    {
     "name": "stdout",
     "output_type": "stream",
     "text": [
      "captcha_required\n"
     ]
    },
    {
     "name": "stderr",
     "output_type": "stream",
     "text": [
      "\r",
      " 59%|███████████████████████████████████████████████▊                                 | 59/100 [00:27<00:31,  1.29it/s]"
     ]
    },
    {
     "name": "stdout",
     "output_type": "stream",
     "text": [
      "captcha_required\n"
     ]
    },
    {
     "name": "stderr",
     "output_type": "stream",
     "text": [
      "100%|████████████████████████████████████████████████████████████████████████████████| 100/100 [00:45<00:00,  2.41it/s]\n"
     ]
    },
    {
     "name": "stdout",
     "output_type": "stream",
     "text": [
      "вакансий получено - 84\n",
      "вакансий пропущено - 10\n",
      "вакансий с ошибкой - 6\n",
      "('https://api.hh.ru/vacancies?area=32&professional_role=70&area=72&professional_role=21&area=1002&professional_role=96', 1765)\n",
      "number url - 330\n",
      "размер массива (143800, 1)\n",
      "total_pages - 20\n"
     ]
    },
    {
     "name": "stderr",
     "output_type": "stream",
     "text": [
      " 39%|███████████████████████████████▌                                                 | 39/100 [00:16<00:23,  2.57it/s]"
     ]
    },
    {
     "name": "stdout",
     "output_type": "stream",
     "text": [
      "captcha_required\n"
     ]
    },
    {
     "name": "stderr",
     "output_type": "stream",
     "text": [
      "\r",
      " 40%|████████████████████████████████▍                                                | 40/100 [00:18<00:41,  1.45it/s]"
     ]
    },
    {
     "name": "stdout",
     "output_type": "stream",
     "text": [
      "captcha_required\n"
     ]
    },
    {
     "name": "stderr",
     "output_type": "stream",
     "text": [
      " 58%|██████████████████████████████████████████████▉                                  | 58/100 [00:26<00:19,  2.21it/s]"
     ]
    },
    {
     "name": "stdout",
     "output_type": "stream",
     "text": [
      "captcha_required\n"
     ]
    },
    {
     "name": "stderr",
     "output_type": "stream",
     "text": [
      "\r",
      " 59%|███████████████████████████████████████████████▊                                 | 59/100 [00:27<00:30,  1.32it/s]"
     ]
    },
    {
     "name": "stdout",
     "output_type": "stream",
     "text": [
      "captcha_required\n"
     ]
    },
    {
     "name": "stderr",
     "output_type": "stream",
     "text": [
      " 84%|████████████████████████████████████████████████████████████████████             | 84/100 [00:40<00:07,  2.15it/s]"
     ]
    },
    {
     "name": "stdout",
     "output_type": "stream",
     "text": [
      "captcha_required\n"
     ]
    },
    {
     "name": "stderr",
     "output_type": "stream",
     "text": [
      "\r",
      " 85%|████████████████████████████████████████████████████████████████████▊            | 85/100 [00:41<00:11,  1.34it/s]"
     ]
    },
    {
     "name": "stdout",
     "output_type": "stream",
     "text": [
      "captcha_required\n"
     ]
    },
    {
     "name": "stderr",
     "output_type": "stream",
     "text": [
      "\r",
      " 86%|█████████████████████████████████████████████████████████████████████▋           | 86/100 [00:42<00:13,  1.05it/s]"
     ]
    },
    {
     "name": "stdout",
     "output_type": "stream",
     "text": [
      "captcha_required\n"
     ]
    },
    {
     "name": "stderr",
     "output_type": "stream",
     "text": [
      "100%|████████████████████████████████████████████████████████████████████████████████| 100/100 [00:49<00:00,  2.23it/s]\n"
     ]
    },
    {
     "name": "stdout",
     "output_type": "stream",
     "text": [
      "вакансий получено - 90\n",
      "вакансий пропущено - 3\n",
      "вакансий с ошибкой - 7\n",
      "('https://api.hh.ru/vacancies?area=99&professional_role=94&area=84&professional_role=70&area=4&professional_role=102', 1777)\n",
      "number url - 331\n",
      "размер массива (143890, 1)\n",
      "total_pages - 20\n"
     ]
    },
    {
     "name": "stderr",
     "output_type": "stream",
     "text": [
      " 87%|██████████████████████████████████████████████████████████████████████▍          | 87/100 [00:36<00:04,  2.69it/s]"
     ]
    },
    {
     "name": "stdout",
     "output_type": "stream",
     "text": [
      "captcha_required\n"
     ]
    },
    {
     "name": "stderr",
     "output_type": "stream",
     "text": [
      "\r",
      " 88%|███████████████████████████████████████████████████████████████████████▎         | 88/100 [00:38<00:08,  1.48it/s]"
     ]
    },
    {
     "name": "stdout",
     "output_type": "stream",
     "text": [
      "captcha_required\n"
     ]
    },
    {
     "name": "stderr",
     "output_type": "stream",
     "text": [
      "100%|████████████████████████████████████████████████████████████████████████████████| 100/100 [00:44<00:00,  2.30it/s]\n"
     ]
    },
    {
     "name": "stdout",
     "output_type": "stream",
     "text": [
      "вакансий получено - 92\n",
      "вакансий пропущено - 6\n",
      "вакансий с ошибкой - 2\n",
      "('https://api.hh.ru/vacancies?area=23&professional_role=70&area=3&professional_role=58&area=104&professional_role=102', 1799)\n",
      "number url - 332\n",
      "размер массива (143982, 1)\n",
      "total_pages - 20\n"
     ]
    },
    {
     "name": "stderr",
     "output_type": "stream",
     "text": [
      " 23%|██████████████████▋                                                              | 23/100 [00:06<00:24,  3.11it/s]"
     ]
    },
    {
     "name": "stdout",
     "output_type": "stream",
     "text": [
      "captcha_required\n"
     ]
    },
    {
     "name": "stderr",
     "output_type": "stream",
     "text": [
      " 39%|███████████████████████████████▌                                                 | 39/100 [00:11<00:26,  2.34it/s]"
     ]
    },
    {
     "name": "stdout",
     "output_type": "stream",
     "text": [
      "captcha_required\n"
     ]
    },
    {
     "name": "stderr",
     "output_type": "stream",
     "text": [
      " 44%|███████████████████████████████████▋                                             | 44/100 [00:13<00:22,  2.48it/s]"
     ]
    },
    {
     "name": "stdout",
     "output_type": "stream",
     "text": [
      "captcha_required\n"
     ]
    },
    {
     "name": "stderr",
     "output_type": "stream",
     "text": [
      "\r",
      " 48%|██████████████████████████████████████▉                                          | 48/100 [00:14<00:20,  2.58it/s]"
     ]
    },
    {
     "name": "stdout",
     "output_type": "stream",
     "text": [
      "captcha_required\n"
     ]
    },
    {
     "name": "stderr",
     "output_type": "stream",
     "text": [
      "100%|████████████████████████████████████████████████████████████████████████████████| 100/100 [00:39<00:00,  2.27it/s]\n"
     ]
    },
    {
     "name": "stdout",
     "output_type": "stream",
     "text": [
      "вакансий получено - 75\n",
      "вакансий пропущено - 21\n",
      "вакансий с ошибкой - 4\n",
      "('https://api.hh.ru/vacancies?area=98&professional_role=70&area=237&professional_role=6&area=49&professional_role=70', 1819)\n",
      "number url - 333\n",
      "размер массива (144057, 1)\n",
      "total_pages - 20\n"
     ]
    },
    {
     "name": "stderr",
     "output_type": "stream",
     "text": [
      " 66%|█████████████████████████████████████████████████████▍                           | 66/100 [00:31<00:15,  2.23it/s]"
     ]
    },
    {
     "name": "stdout",
     "output_type": "stream",
     "text": [
      "captcha_required\n"
     ]
    },
    {
     "name": "stderr",
     "output_type": "stream",
     "text": [
      " 69%|███████████████████████████████████████████████████████▉                         | 69/100 [00:34<00:21,  1.43it/s]"
     ]
    },
    {
     "name": "stdout",
     "output_type": "stream",
     "text": [
      "captcha_required\n"
     ]
    },
    {
     "name": "stderr",
     "output_type": "stream",
     "text": [
      "\r",
      " 70%|████████████████████████████████████████████████████████▋                        | 70/100 [00:35<00:27,  1.10it/s]"
     ]
    },
    {
     "name": "stdout",
     "output_type": "stream",
     "text": [
      "captcha_required\n"
     ]
    },
    {
     "name": "stderr",
     "output_type": "stream",
     "text": [
      "100%|████████████████████████████████████████████████████████████████████████████████| 100/100 [00:49<00:00,  2.32it/s]\n"
     ]
    },
    {
     "name": "stdout",
     "output_type": "stream",
     "text": [
      "вакансий получено - 97\n",
      "вакансий пропущено - 0\n",
      "вакансий с ошибкой - 3\n",
      "('https://api.hh.ru/vacancies?area=106&professional_role=40&area=47&professional_role=70&area=66&professional_role=24', 1838)\n",
      "number url - 334\n",
      "размер массива (144154, 1)\n",
      "total_pages - 20\n"
     ]
    },
    {
     "name": "stderr",
     "output_type": "stream",
     "text": [
      " 20%|████████████████▏                                                                | 20/100 [00:08<00:36,  2.19it/s]"
     ]
    },
    {
     "name": "stdout",
     "output_type": "stream",
     "text": [
      "captcha_required\n"
     ]
    },
    {
     "name": "stderr",
     "output_type": "stream",
     "text": [
      " 51%|█████████████████████████████████████████▎                                       | 51/100 [00:23<00:27,  1.81it/s]"
     ]
    },
    {
     "name": "stdout",
     "output_type": "stream",
     "text": [
      "captcha_required\n"
     ]
    },
    {
     "name": "stderr",
     "output_type": "stream",
     "text": [
      " 87%|██████████████████████████████████████████████████████████████████████▍          | 87/100 [00:41<00:05,  2.32it/s]"
     ]
    },
    {
     "name": "stdout",
     "output_type": "stream",
     "text": [
      "captcha_required\n"
     ]
    },
    {
     "name": "stderr",
     "output_type": "stream",
     "text": [
      " 90%|████████████████████████████████████████████████████████████████████████▉        | 90/100 [00:43<00:05,  1.73it/s]"
     ]
    },
    {
     "name": "stdout",
     "output_type": "stream",
     "text": [
      "captcha_required\n"
     ]
    },
    {
     "name": "stderr",
     "output_type": "stream",
     "text": [
      "\r",
      " 91%|█████████████████████████████████████████████████████████████████████████▋       | 91/100 [00:45<00:07,  1.21it/s]"
     ]
    },
    {
     "name": "stdout",
     "output_type": "stream",
     "text": [
      "captcha_required\n"
     ]
    },
    {
     "name": "stderr",
     "output_type": "stream",
     "text": [
      "\r",
      " 92%|██████████████████████████████████████████████████████████████████████████▌      | 92/100 [00:46<00:08,  1.02s/it]"
     ]
    },
    {
     "name": "stdout",
     "output_type": "stream",
     "text": [
      "captcha_required\n"
     ]
    },
    {
     "name": "stderr",
     "output_type": "stream",
     "text": [
      "100%|████████████████████████████████████████████████████████████████████████████████| 100/100 [00:50<00:00,  1.99it/s]\n"
     ]
    },
    {
     "name": "stdout",
     "output_type": "stream",
     "text": [
      "вакансий получено - 94\n",
      "вакансий пропущено - 0\n",
      "вакансий с ошибкой - 6\n",
      "('https://api.hh.ru/vacancies?area=11&professional_role=97&area=41&professional_role=70&area=99&professional_role=63', 1852)\n",
      "number url - 335\n",
      "размер массива (144248, 1)\n",
      "total_pages - 20\n"
     ]
    },
    {
     "name": "stderr",
     "output_type": "stream",
     "text": [
      " 55%|████████████████████████████████████████████▌                                    | 55/100 [00:23<00:19,  2.31it/s]"
     ]
    },
    {
     "name": "stdout",
     "output_type": "stream",
     "text": [
      "captcha_required\n"
     ]
    },
    {
     "name": "stderr",
     "output_type": "stream",
     "text": [
      " 78%|███████████████████████████████████████████████████████████████▏                 | 78/100 [00:34<00:09,  2.20it/s]"
     ]
    },
    {
     "name": "stdout",
     "output_type": "stream",
     "text": [
      "captcha_required\n"
     ]
    },
    {
     "name": "stderr",
     "output_type": "stream",
     "text": [
      "100%|████████████████████████████████████████████████████████████████████████████████| 100/100 [00:45<00:00,  1.74it/s]\n"
     ]
    },
    {
     "name": "stdout",
     "output_type": "stream",
     "text": [
      "вакансий получено - 94\n",
      "вакансий пропущено - 4\n",
      "вакансий с ошибкой - 2\n",
      "('https://api.hh.ru/vacancies?area=26&professional_role=18&area=3&professional_role=8&area=237&professional_role=97', 1875)\n",
      "number url - 336\n",
      "размер массива (144342, 1)\n",
      "total_pages - 20\n"
     ]
    },
    {
     "name": "stderr",
     "output_type": "stream",
     "text": [
      " 20%|████████████████▏                                                                | 20/100 [00:07<00:40,  1.97it/s]"
     ]
    },
    {
     "name": "stdout",
     "output_type": "stream",
     "text": [
      "captcha_required\n"
     ]
    },
    {
     "name": "stderr",
     "output_type": "stream",
     "text": [
      " 27%|█████████████████████▊                                                           | 27/100 [00:11<00:35,  2.08it/s]"
     ]
    },
    {
     "name": "stdout",
     "output_type": "stream",
     "text": [
      "captcha_required\n"
     ]
    },
    {
     "name": "stderr",
     "output_type": "stream",
     "text": [
      "\r",
      " 28%|██████████████████████▋                                                          | 28/100 [00:13<00:55,  1.29it/s]"
     ]
    },
    {
     "name": "stdout",
     "output_type": "stream",
     "text": [
      "captcha_required\n"
     ]
    },
    {
     "name": "stderr",
     "output_type": "stream",
     "text": [
      "\r",
      " 29%|███████████████████████▍                                                         | 29/100 [00:14<01:07,  1.05it/s]"
     ]
    },
    {
     "name": "stdout",
     "output_type": "stream",
     "text": [
      "captcha_required\n"
     ]
    },
    {
     "name": "stderr",
     "output_type": "stream",
     "text": [
      "100%|████████████████████████████████████████████████████████████████████████████████| 100/100 [00:41<00:00,  2.78it/s]\n"
     ]
    },
    {
     "name": "stdout",
     "output_type": "stream",
     "text": [
      "вакансий получено - 80\n",
      "вакансий пропущено - 16\n",
      "вакансий с ошибкой - 4\n",
      "('https://api.hh.ru/vacancies?area=71&professional_role=70&area=96&professional_role=97&area=104&professional_role=48', 1910)\n",
      "number url - 337\n",
      "размер массива (144422, 1)\n",
      "total_pages - 20\n"
     ]
    },
    {
     "name": "stderr",
     "output_type": "stream",
     "text": [
      " 36%|█████████████████████████████▏                                                   | 36/100 [00:16<00:29,  2.16it/s]"
     ]
    },
    {
     "name": "stdout",
     "output_type": "stream",
     "text": [
      "captcha_required\n"
     ]
    },
    {
     "name": "stderr",
     "output_type": "stream",
     "text": [
      " 54%|███████████████████████████████████████████▋                                     | 54/100 [00:25<00:20,  2.19it/s]"
     ]
    },
    {
     "name": "stdout",
     "output_type": "stream",
     "text": [
      "captcha_required\n"
     ]
    },
    {
     "name": "stderr",
     "output_type": "stream",
     "text": [
      " 62%|██████████████████████████████████████████████████▏                              | 62/100 [00:30<00:20,  1.83it/s]"
     ]
    },
    {
     "name": "stdout",
     "output_type": "stream",
     "text": [
      "captcha_required\n"
     ]
    },
    {
     "name": "stderr",
     "output_type": "stream",
     "text": [
      "\r",
      " 63%|███████████████████████████████████████████████████                              | 63/100 [00:32<00:33,  1.12it/s]"
     ]
    },
    {
     "name": "stdout",
     "output_type": "stream",
     "text": [
      "captcha_required\n"
     ]
    },
    {
     "name": "stderr",
     "output_type": "stream",
     "text": [
      "100%|████████████████████████████████████████████████████████████████████████████████| 100/100 [00:50<00:00,  2.13it/s]\n"
     ]
    },
    {
     "name": "stdout",
     "output_type": "stream",
     "text": [
      "вакансий получено - 96\n",
      "вакансий пропущено - 0\n",
      "вакансий с ошибкой - 4\n",
      "('https://api.hh.ru/vacancies?area=76&professional_role=94&area=26&professional_role=21&area=35&professional_role=63', 1941)\n",
      "number url - 338\n",
      "размер массива (144518, 1)\n",
      "total_pages - 20\n"
     ]
    },
    {
     "name": "stderr",
     "output_type": "stream",
     "text": [
      " 84%|████████████████████████████████████████████████████████████████████             | 84/100 [00:40<00:06,  2.32it/s]"
     ]
    },
    {
     "name": "stdout",
     "output_type": "stream",
     "text": [
      "captcha_required\n"
     ]
    },
    {
     "name": "stderr",
     "output_type": "stream",
     "text": [
      "\r",
      " 85%|████████████████████████████████████████████████████████████████████▊            | 85/100 [00:41<00:10,  1.38it/s]"
     ]
    },
    {
     "name": "stdout",
     "output_type": "stream",
     "text": [
      "captcha_required\n"
     ]
    },
    {
     "name": "stderr",
     "output_type": "stream",
     "text": [
      "\r",
      " 86%|█████████████████████████████████████████████████████████████████████▋           | 86/100 [00:43<00:12,  1.08it/s]"
     ]
    },
    {
     "name": "stdout",
     "output_type": "stream",
     "text": [
      "captcha_required\n"
     ]
    },
    {
     "name": "stderr",
     "output_type": "stream",
     "text": [
      "100%|████████████████████████████████████████████████████████████████████████████████| 100/100 [00:50<00:00,  2.04it/s]\n"
     ]
    },
    {
     "name": "stdout",
     "output_type": "stream",
     "text": [
      "вакансий получено - 97\n",
      "вакансий пропущено - 0\n",
      "вакансий с ошибкой - 3\n",
      "('https://api.hh.ru/vacancies?area=53&professional_role=83&area=32&professional_role=40&area=54&professional_role=24', 1964)\n",
      "number url - 339\n",
      "размер массива (144615, 1)\n",
      "total_pages - 20\n"
     ]
    },
    {
     "name": "stderr",
     "output_type": "stream",
     "text": [
      " 33%|██████████████████████████▋                                                      | 33/100 [00:09<00:28,  2.35it/s]"
     ]
    },
    {
     "name": "stdout",
     "output_type": "stream",
     "text": [
      "captcha_required\n"
     ]
    },
    {
     "name": "stderr",
     "output_type": "stream",
     "text": [
      "\r",
      " 34%|███████████████████████████▌                                                     | 34/100 [00:11<00:47,  1.39it/s]"
     ]
    },
    {
     "name": "stdout",
     "output_type": "stream",
     "text": [
      "captcha_required\n"
     ]
    },
    {
     "name": "stderr",
     "output_type": "stream",
     "text": [
      " 38%|██████████████████████████████▊                                                  | 38/100 [00:13<00:36,  1.70it/s]"
     ]
    },
    {
     "name": "stdout",
     "output_type": "stream",
     "text": [
      "captcha_required\n"
     ]
    },
    {
     "name": "stderr",
     "output_type": "stream",
     "text": [
      "100%|████████████████████████████████████████████████████████████████████████████████| 100/100 [00:41<00:00,  2.37it/s]\n"
     ]
    },
    {
     "name": "stdout",
     "output_type": "stream",
     "text": [
      "вакансий получено - 83\n",
      "вакансий пропущено - 14\n",
      "вакансий с ошибкой - 3\n",
      "('https://api.hh.ru/vacancies?area=23&professional_role=40&area=66&professional_role=48&area=98&professional_role=40', 1976)\n",
      "number url - 340\n",
      "размер массива (144698, 1)\n",
      "total_pages - 20\n"
     ]
    },
    {
     "name": "stderr",
     "output_type": "stream",
     "text": [
      " 34%|███████████████████████████▌                                                     | 34/100 [00:15<00:29,  2.27it/s]"
     ]
    },
    {
     "name": "stdout",
     "output_type": "stream",
     "text": [
      "captcha_required\n"
     ]
    },
    {
     "name": "stderr",
     "output_type": "stream",
     "text": [
      "\r",
      " 35%|████████████████████████████▎                                                    | 35/100 [00:17<00:48,  1.35it/s]"
     ]
    },
    {
     "name": "stdout",
     "output_type": "stream",
     "text": [
      "captcha_required\n"
     ]
    },
    {
     "name": "stderr",
     "output_type": "stream",
     "text": [
      " 41%|█████████████████████████████████▏                                               | 41/100 [00:20<00:30,  1.93it/s]"
     ]
    },
    {
     "name": "stdout",
     "output_type": "stream",
     "text": [
      "captcha_required\n"
     ]
    },
    {
     "name": "stderr",
     "output_type": "stream",
     "text": [
      " 57%|██████████████████████████████████████████████▏                                  | 57/100 [00:28<00:18,  2.31it/s]"
     ]
    },
    {
     "name": "stdout",
     "output_type": "stream",
     "text": [
      "captcha_required\n"
     ]
    },
    {
     "name": "stderr",
     "output_type": "stream",
     "text": [
      "\r",
      " 58%|██████████████████████████████████████████████▉                                  | 58/100 [00:30<00:31,  1.34it/s]"
     ]
    },
    {
     "name": "stdout",
     "output_type": "stream",
     "text": [
      "captcha_required\n"
     ]
    },
    {
     "name": "stderr",
     "output_type": "stream",
     "text": [
      " 66%|█████████████████████████████████████████████████████▍                           | 66/100 [00:34<00:16,  2.06it/s]"
     ]
    },
    {
     "name": "stdout",
     "output_type": "stream",
     "text": [
      "captcha_required\n"
     ]
    },
    {
     "name": "stderr",
     "output_type": "stream",
     "text": [
      "100%|████████████████████████████████████████████████████████████████████████████████| 100/100 [00:50<00:00,  2.33it/s]\n"
     ]
    },
    {
     "name": "stdout",
     "output_type": "stream",
     "text": [
      "вакансий получено - 94\n",
      "вакансий пропущено - 0\n",
      "вакансий с ошибкой - 6\n",
      "('https://api.hh.ru/vacancies?area=4&professional_role=52&area=3&professional_role=131&area=71&professional_role=40', 1999)\n",
      "number url - 341\n",
      "размер массива (144792, 1)\n",
      "total_pages - 20\n"
     ]
    },
    {
     "name": "stderr",
     "output_type": "stream",
     "text": [
      " 66%|█████████████████████████████████████████████████████▍                           | 66/100 [00:25<00:13,  2.49it/s]"
     ]
    },
    {
     "name": "stdout",
     "output_type": "stream",
     "text": [
      "captcha_required\n"
     ]
    },
    {
     "name": "stderr",
     "output_type": "stream",
     "text": [
      " 80%|████████████████████████████████████████████████████████████████▊                | 80/100 [00:29<00:06,  3.31it/s]"
     ]
    },
    {
     "name": "stdout",
     "output_type": "stream",
     "text": [
      "captcha_required\n"
     ]
    },
    {
     "name": "stderr",
     "output_type": "stream",
     "text": [
      "100%|████████████████████████████████████████████████████████████████████████████████| 100/100 [00:37<00:00,  2.55it/s]\n"
     ]
    },
    {
     "name": "stdout",
     "output_type": "stream",
     "text": [
      "вакансий получено - 76\n",
      "вакансий пропущено - 22\n",
      "вакансий с ошибкой - 2\n",
      "('https://api.hh.ru/vacancies?area=4&professional_role=96&area=99&professional_role=48', 1359)\n",
      "number url - 342\n",
      "размер массива (144868, 1)\n",
      "total_pages - 20\n"
     ]
    },
    {
     "name": "stderr",
     "output_type": "stream",
     "text": [
      " 10%|████████                                                                         | 10/100 [00:04<00:38,  2.35it/s]"
     ]
    },
    {
     "name": "stdout",
     "output_type": "stream",
     "text": [
      "captcha_required\n"
     ]
    },
    {
     "name": "stderr",
     "output_type": "stream",
     "text": [
      " 42%|██████████████████████████████████                                               | 42/100 [00:19<00:27,  2.12it/s]"
     ]
    },
    {
     "name": "stdout",
     "output_type": "stream",
     "text": [
      "captcha_required\n"
     ]
    },
    {
     "name": "stderr",
     "output_type": "stream",
     "text": [
      "100%|████████████████████████████████████████████████████████████████████████████████| 100/100 [00:47<00:00,  2.31it/s]\n"
     ]
    },
    {
     "name": "stdout",
     "output_type": "stream",
     "text": [
      "вакансий получено - 98\n",
      "вакансий пропущено - 0\n",
      "вакансий с ошибкой - 2\n",
      "('https://api.hh.ru/vacancies?area=212&professional_role=97&area=3&professional_role=115', 1367)\n",
      "number url - 343\n",
      "размер массива (144966, 1)\n",
      "total_pages - 20\n"
     ]
    },
    {
     "name": "stderr",
     "output_type": "stream",
     "text": [
      " 20%|████████████████▏                                                                | 20/100 [00:09<00:38,  2.07it/s]"
     ]
    },
    {
     "name": "stdout",
     "output_type": "stream",
     "text": [
      "captcha_required\n"
     ]
    },
    {
     "name": "stderr",
     "output_type": "stream",
     "text": [
      "\r",
      " 21%|█████████████████                                                                | 21/100 [00:10<00:59,  1.32it/s]"
     ]
    },
    {
     "name": "stdout",
     "output_type": "stream",
     "text": [
      "captcha_required\n"
     ]
    },
    {
     "name": "stderr",
     "output_type": "stream",
     "text": [
      " 32%|█████████████████████████▉                                                       | 32/100 [00:16<00:29,  2.28it/s]"
     ]
    },
    {
     "name": "stdout",
     "output_type": "stream",
     "text": [
      "captcha_required\n"
     ]
    },
    {
     "name": "stderr",
     "output_type": "stream",
     "text": [
      "100%|████████████████████████████████████████████████████████████████████████████████| 100/100 [00:51<00:00,  2.20it/s]\n"
     ]
    },
    {
     "name": "stdout",
     "output_type": "stream",
     "text": [
      "вакансий получено - 97\n",
      "вакансий пропущено - 0\n",
      "вакансий с ошибкой - 3\n",
      "('https://api.hh.ru/vacancies?area=77&professional_role=70&area=88&professional_role=21', 1375)\n",
      "number url - 344\n",
      "размер массива (145063, 1)\n",
      "total_pages - 20\n"
     ]
    },
    {
     "name": "stderr",
     "output_type": "stream",
     "text": [
      " 55%|████████████████████████████████████████████▌                                    | 55/100 [00:25<00:19,  2.26it/s]"
     ]
    },
    {
     "name": "stdout",
     "output_type": "stream",
     "text": [
      "captcha_required\n"
     ]
    },
    {
     "name": "stderr",
     "output_type": "stream",
     "text": [
      " 81%|█████████████████████████████████████████████████████████████████▌               | 81/100 [00:39<00:09,  2.04it/s]"
     ]
    },
    {
     "name": "stdout",
     "output_type": "stream",
     "text": [
      "captcha_required\n"
     ]
    },
    {
     "name": "stderr",
     "output_type": "stream",
     "text": [
      "100%|████████████████████████████████████████████████████████████████████████████████| 100/100 [00:49<00:00,  2.11it/s]\n"
     ]
    },
    {
     "name": "stdout",
     "output_type": "stream",
     "text": [
      "вакансий получено - 98\n",
      "вакансий пропущено - 0\n",
      "вакансий с ошибкой - 2\n",
      "('https://api.hh.ru/vacancies?area=92&professional_role=97&area=70&professional_role=40', 1382)\n",
      "number url - 345\n",
      "размер массива (145161, 1)\n",
      "total_pages - 20\n"
     ]
    },
    {
     "name": "stderr",
     "output_type": "stream",
     "text": [
      " 24%|███████████████████▍                                                             | 24/100 [00:10<00:34,  2.21it/s]"
     ]
    },
    {
     "name": "stdout",
     "output_type": "stream",
     "text": [
      "captcha_required\n"
     ]
    },
    {
     "name": "stderr",
     "output_type": "stream",
     "text": [
      " 35%|████████████████████████████▎                                                    | 35/100 [00:16<00:30,  2.13it/s]"
     ]
    },
    {
     "name": "stdout",
     "output_type": "stream",
     "text": [
      "captcha_required\n"
     ]
    },
    {
     "name": "stderr",
     "output_type": "stream",
     "text": [
      " 96%|█████████████████████████████████████████████████████████████████████████████▊   | 96/100 [00:46<00:01,  2.32it/s]"
     ]
    },
    {
     "name": "stdout",
     "output_type": "stream",
     "text": [
      "captcha_required\n"
     ]
    },
    {
     "name": "stderr",
     "output_type": "stream",
     "text": [
      "100%|████████████████████████████████████████████████████████████████████████████████| 100/100 [00:49<00:00,  1.88it/s]\n"
     ]
    },
    {
     "name": "stdout",
     "output_type": "stream",
     "text": [
      "вакансий получено - 97\n",
      "вакансий пропущено - 0\n",
      "вакансий с ошибкой - 3\n",
      "('https://api.hh.ru/vacancies?area=102&professional_role=97&area=112&professional_role=97', 1413)\n",
      "number url - 346\n",
      "размер массива (145258, 1)\n",
      "total_pages - 20\n"
     ]
    },
    {
     "name": "stderr",
     "output_type": "stream",
     "text": [
      " 46%|█████████████████████████████████████▎                                           | 46/100 [00:21<00:26,  2.06it/s]"
     ]
    },
    {
     "name": "stdout",
     "output_type": "stream",
     "text": [
      "captcha_required\n"
     ]
    },
    {
     "name": "stderr",
     "output_type": "stream",
     "text": [
      " 69%|███████████████████████████████████████████████████████▉                         | 69/100 [00:33<00:13,  2.23it/s]"
     ]
    },
    {
     "name": "stdout",
     "output_type": "stream",
     "text": [
      "captcha_required\n"
     ]
    },
    {
     "name": "stderr",
     "output_type": "stream",
     "text": [
      "\r",
      " 70%|████████████████████████████████████████████████████████▋                        | 70/100 [00:35<00:22,  1.33it/s]"
     ]
    },
    {
     "name": "stdout",
     "output_type": "stream",
     "text": [
      "captcha_required\n"
     ]
    },
    {
     "name": "stderr",
     "output_type": "stream",
     "text": [
      "100%|████████████████████████████████████████████████████████████████████████████████| 100/100 [00:50<00:00,  2.15it/s]\n"
     ]
    },
    {
     "name": "stdout",
     "output_type": "stream",
     "text": [
      "вакансий получено - 97\n",
      "вакансий пропущено - 0\n",
      "вакансий с ошибкой - 3\n",
      "('https://api.hh.ru/vacancies?area=95&professional_role=21&area=53&professional_role=8', 1418)\n",
      "number url - 347\n",
      "размер массива (145355, 1)\n",
      "total_pages - 20\n"
     ]
    },
    {
     "name": "stderr",
     "output_type": "stream",
     "text": [
      " 44%|███████████████████████████████████▋                                             | 44/100 [00:19<00:24,  2.33it/s]"
     ]
    },
    {
     "name": "stdout",
     "output_type": "stream",
     "text": [
      "captcha_required\n"
     ]
    },
    {
     "name": "stderr",
     "output_type": "stream",
     "text": [
      " 68%|███████████████████████████████████████████████████████                          | 68/100 [00:31<00:14,  2.14it/s]"
     ]
    },
    {
     "name": "stdout",
     "output_type": "stream",
     "text": [
      "captcha_required\n"
     ]
    },
    {
     "name": "stderr",
     "output_type": "stream",
     "text": [
      " 90%|████████████████████████████████████████████████████████████████████████▉        | 90/100 [00:42<00:04,  2.29it/s]"
     ]
    },
    {
     "name": "stdout",
     "output_type": "stream",
     "text": [
      "captcha_required\n"
     ]
    },
    {
     "name": "stderr",
     "output_type": "stream",
     "text": [
      "\r",
      " 91%|█████████████████████████████████████████████████████████████████████████▋       | 91/100 [00:43<00:06,  1.37it/s]"
     ]
    },
    {
     "name": "stdout",
     "output_type": "stream",
     "text": [
      "captcha_required\n"
     ]
    },
    {
     "name": "stderr",
     "output_type": "stream",
     "text": [
      "\r",
      " 92%|██████████████████████████████████████████████████████████████████████████▌      | 92/100 [00:45<00:07,  1.07it/s]"
     ]
    },
    {
     "name": "stdout",
     "output_type": "stream",
     "text": [
      "captcha_required\n"
     ]
    },
    {
     "name": "stderr",
     "output_type": "stream",
     "text": [
      "100%|████████████████████████████████████████████████████████████████████████████████| 100/100 [00:49<00:00,  2.04it/s]\n"
     ]
    },
    {
     "name": "stdout",
     "output_type": "stream",
     "text": [
      "вакансий получено - 95\n",
      "вакансий пропущено - 0\n",
      "вакансий с ошибкой - 5\n",
      "('https://api.hh.ru/vacancies?area=54&professional_role=63&area=3&professional_role=52', 1445)\n",
      "number url - 348\n",
      "размер массива (145450, 1)\n",
      "total_pages - 20\n"
     ]
    },
    {
     "name": "stderr",
     "output_type": "stream",
     "text": [
      " 90%|████████████████████████████████████████████████████████████████████████▉        | 90/100 [00:41<00:04,  2.03it/s]"
     ]
    },
    {
     "name": "stdout",
     "output_type": "stream",
     "text": [
      "captcha_required\n"
     ]
    },
    {
     "name": "stderr",
     "output_type": "stream",
     "text": [
      "100%|████████████████████████████████████████████████████████████████████████████████| 100/100 [00:47<00:00,  2.05it/s]\n"
     ]
    },
    {
     "name": "stdout",
     "output_type": "stream",
     "text": [
      "вакансий получено - 99\n",
      "вакансий пропущено - 0\n",
      "вакансий с ошибкой - 1\n",
      "('https://api.hh.ru/vacancies?area=92&professional_role=70&area=104&professional_role=94', 1462)\n",
      "number url - 349\n",
      "размер массива (145549, 1)\n",
      "total_pages - 20\n"
     ]
    },
    {
     "name": "stderr",
     "output_type": "stream",
     "text": [
      " 20%|████████████████▏                                                                | 20/100 [00:09<00:36,  2.21it/s]"
     ]
    },
    {
     "name": "stdout",
     "output_type": "stream",
     "text": [
      "captcha_required\n"
     ]
    },
    {
     "name": "stderr",
     "output_type": "stream",
     "text": [
      "\r",
      " 21%|█████████████████                                                                | 21/100 [00:11<00:58,  1.34it/s]"
     ]
    },
    {
     "name": "stdout",
     "output_type": "stream",
     "text": [
      "captcha_required\n"
     ]
    },
    {
     "name": "stderr",
     "output_type": "stream",
     "text": [
      "100%|████████████████████████████████████████████████████████████████████████████████| 100/100 [00:50<00:00,  2.18it/s]\n"
     ]
    },
    {
     "name": "stdout",
     "output_type": "stream",
     "text": [
      "вакансий получено - 98\n",
      "вакансий пропущено - 0\n",
      "вакансий с ошибкой - 2\n",
      "('https://api.hh.ru/vacancies?area=49&professional_role=40&area=160&professional_role=97', 1488)\n",
      "number url - 350\n",
      "размер массива (145647, 1)\n",
      "total_pages - 20\n"
     ]
    },
    {
     "name": "stderr",
     "output_type": "stream",
     "text": [
      " 45%|████████████████████████████████████▍                                            | 45/100 [00:17<00:24,  2.21it/s]"
     ]
    },
    {
     "name": "stdout",
     "output_type": "stream",
     "text": [
      "captcha_required\n"
     ]
    },
    {
     "name": "stderr",
     "output_type": "stream",
     "text": [
      " 51%|█████████████████████████████████████████▎                                       | 51/100 [00:20<00:23,  2.09it/s]"
     ]
    },
    {
     "name": "stdout",
     "output_type": "stream",
     "text": [
      "captcha_required\n"
     ]
    },
    {
     "name": "stderr",
     "output_type": "stream",
     "text": [
      " 68%|███████████████████████████████████████████████████████                          | 68/100 [00:28<00:13,  2.31it/s]"
     ]
    },
    {
     "name": "stdout",
     "output_type": "stream",
     "text": [
      "captcha_required\n"
     ]
    },
    {
     "name": "stderr",
     "output_type": "stream",
     "text": [
      " 88%|███████████████████████████████████████████████████████████████████████▎         | 88/100 [00:39<00:05,  2.21it/s]"
     ]
    },
    {
     "name": "stdout",
     "output_type": "stream",
     "text": [
      "captcha_required\n"
     ]
    },
    {
     "name": "stderr",
     "output_type": "stream",
     "text": [
      "100%|████████████████████████████████████████████████████████████████████████████████| 100/100 [00:46<00:00,  1.93it/s]\n"
     ]
    },
    {
     "name": "stdout",
     "output_type": "stream",
     "text": [
      "вакансий получено - 86\n",
      "вакансий пропущено - 10\n",
      "вакансий с ошибкой - 4\n",
      "('https://api.hh.ru/vacancies?area=35&professional_role=97&area=54&professional_role=94', 1497)\n",
      "number url - 351\n",
      "размер массива (145733, 1)\n",
      "total_pages - 20\n"
     ]
    },
    {
     "name": "stderr",
     "output_type": "stream",
     "text": [
      " 91%|█████████████████████████████████████████████████████████████████████████▋       | 91/100 [00:42<00:04,  2.18it/s]"
     ]
    },
    {
     "name": "stdout",
     "output_type": "stream",
     "text": [
      "captcha_required\n"
     ]
    },
    {
     "name": "stderr",
     "output_type": "stream",
     "text": [
      "100%|████████████████████████████████████████████████████████████████████████████████| 100/100 [00:47<00:00,  2.38it/s]\n"
     ]
    },
    {
     "name": "stdout",
     "output_type": "stream",
     "text": [
      "вакансий получено - 97\n",
      "вакансий пропущено - 2\n",
      "вакансий с ошибкой - 1\n",
      "('https://api.hh.ru/vacancies?area=17&professional_role=40&area=88&professional_role=18', 1501)\n",
      "number url - 352\n",
      "размер массива (145830, 1)\n",
      "total_pages - 20\n"
     ]
    },
    {
     "name": "stderr",
     "output_type": "stream",
     "text": [
      " 24%|███████████████████▍                                                             | 24/100 [00:11<00:34,  2.19it/s]"
     ]
    },
    {
     "name": "stdout",
     "output_type": "stream",
     "text": [
      "captcha_required\n"
     ]
    },
    {
     "name": "stderr",
     "output_type": "stream",
     "text": [
      " 92%|██████████████████████████████████████████████████████████████████████████▌      | 92/100 [00:43<00:03,  2.21it/s]"
     ]
    },
    {
     "name": "stdout",
     "output_type": "stream",
     "text": [
      "captcha_required\n"
     ]
    },
    {
     "name": "stderr",
     "output_type": "stream",
     "text": [
      "100%|████████████████████████████████████████████████████████████████████████████████| 100/100 [00:49<00:00,  2.05it/s]\n"
     ]
    },
    {
     "name": "stdout",
     "output_type": "stream",
     "text": [
      "вакансий получено - 98\n",
      "вакансий пропущено - 0\n",
      "вакансий с ошибкой - 2\n",
      "('https://api.hh.ru/vacancies?area=53&professional_role=24&area=2759&professional_role=40', 1523)\n",
      "number url - 353\n",
      "размер массива (145928, 1)\n",
      "total_pages - 20\n"
     ]
    },
    {
     "name": "stderr",
     "output_type": "stream",
     "text": [
      " 25%|████████████████████▎                                                            | 25/100 [00:10<00:31,  2.38it/s]"
     ]
    },
    {
     "name": "stdout",
     "output_type": "stream",
     "text": [
      "captcha_required\n"
     ]
    },
    {
     "name": "stderr",
     "output_type": "stream",
     "text": [
      " 50%|████████████████████████████████████████▌                                        | 50/100 [00:22<00:22,  2.26it/s]"
     ]
    },
    {
     "name": "stdout",
     "output_type": "stream",
     "text": [
      "captcha_required\n"
     ]
    },
    {
     "name": "stderr",
     "output_type": "stream",
     "text": [
      "100%|████████████████████████████████████████████████████████████████████████████████| 100/100 [00:47<00:00,  2.24it/s]\n"
     ]
    },
    {
     "name": "stdout",
     "output_type": "stream",
     "text": [
      "вакансий получено - 93\n",
      "вакансий пропущено - 5\n",
      "вакансий с ошибкой - 2\n",
      "('https://api.hh.ru/vacancies?area=1002&professional_role=21&area=107&professional_role=40', 1530)\n",
      "number url - 354\n",
      "размер массива (146021, 1)\n",
      "total_pages - 20\n"
     ]
    },
    {
     "name": "stderr",
     "output_type": "stream",
     "text": [
      " 75%|████████████████████████████████████████████████████████████▊                    | 75/100 [00:36<00:11,  2.19it/s]"
     ]
    },
    {
     "name": "stdout",
     "output_type": "stream",
     "text": [
      "captcha_required\n"
     ]
    },
    {
     "name": "stderr",
     "output_type": "stream",
     "text": [
      " 97%|██████████████████████████████████████████████████████████████████████████████▌  | 97/100 [00:46<00:01,  2.31it/s]"
     ]
    },
    {
     "name": "stdout",
     "output_type": "stream",
     "text": [
      "captcha_required\n"
     ]
    },
    {
     "name": "stderr",
     "output_type": "stream",
     "text": [
      "\r",
      " 98%|███████████████████████████████████████████████████████████████████████████████▍ | 98/100 [00:48<00:01,  1.38it/s]"
     ]
    },
    {
     "name": "stdout",
     "output_type": "stream",
     "text": [
      "captcha_required\n"
     ]
    },
    {
     "name": "stderr",
     "output_type": "stream",
     "text": [
      "100%|████████████████████████████████████████████████████████████████████████████████| 100/100 [00:50<00:00,  1.29it/s]\n"
     ]
    },
    {
     "name": "stdout",
     "output_type": "stream",
     "text": [
      "вакансий получено - 97\n",
      "вакансий пропущено - 0\n",
      "вакансий с ошибкой - 3\n",
      "('https://api.hh.ru/vacancies?area=58&professional_role=40&area=41&professional_role=40', 1543)\n",
      "number url - 355\n",
      "размер массива (146118, 1)\n",
      "total_pages - 20\n"
     ]
    },
    {
     "name": "stderr",
     "output_type": "stream",
     "text": [
      " 83%|███████████████████████████████████████████████████████████████████▏             | 83/100 [00:39<00:07,  2.30it/s]"
     ]
    },
    {
     "name": "stdout",
     "output_type": "stream",
     "text": [
      "captcha_required\n"
     ]
    },
    {
     "name": "stderr",
     "output_type": "stream",
     "text": [
      "100%|████████████████████████████████████████████████████████████████████████████████| 100/100 [00:47<00:00,  2.32it/s]\n"
     ]
    },
    {
     "name": "stdout",
     "output_type": "stream",
     "text": [
      "вакансий получено - 99\n",
      "вакансий пропущено - 0\n",
      "вакансий с ошибкой - 1\n",
      "('https://api.hh.ru/vacancies?area=66&professional_role=21&area=3&professional_role=96', 1553)\n",
      "number url - 356\n",
      "размер массива (146217, 1)\n",
      "total_pages - 20\n"
     ]
    },
    {
     "name": "stderr",
     "output_type": "stream",
     "text": [
      " 20%|████████████████▏                                                                | 20/100 [00:08<00:35,  2.24it/s]"
     ]
    },
    {
     "name": "stdout",
     "output_type": "stream",
     "text": [
      "captcha_required\n"
     ]
    },
    {
     "name": "stderr",
     "output_type": "stream",
     "text": [
      "\r",
      " 21%|█████████████████                                                                | 21/100 [00:10<00:59,  1.34it/s]"
     ]
    },
    {
     "name": "stdout",
     "output_type": "stream",
     "text": [
      "captcha_required\n"
     ]
    },
    {
     "name": "stderr",
     "output_type": "stream",
     "text": [
      " 29%|███████████████████████▍                                                         | 29/100 [00:14<00:34,  2.04it/s]"
     ]
    },
    {
     "name": "stdout",
     "output_type": "stream",
     "text": [
      "captcha_required\n"
     ]
    },
    {
     "name": "stderr",
     "output_type": "stream",
     "text": [
      " 38%|██████████████████████████████▊                                                  | 38/100 [00:19<00:28,  2.21it/s]"
     ]
    },
    {
     "name": "stdout",
     "output_type": "stream",
     "text": [
      "captcha_required\n"
     ]
    },
    {
     "name": "stderr",
     "output_type": "stream",
     "text": [
      " 74%|███████████████████████████████████████████████████████████▉                     | 74/100 [00:36<00:11,  2.31it/s]"
     ]
    },
    {
     "name": "stdout",
     "output_type": "stream",
     "text": [
      "captcha_required\n"
     ]
    },
    {
     "name": "stderr",
     "output_type": "stream",
     "text": [
      "100%|████████████████████████████████████████████████████████████████████████████████| 100/100 [00:49<00:00,  2.23it/s]\n"
     ]
    },
    {
     "name": "stdout",
     "output_type": "stream",
     "text": [
      "вакансий получено - 95\n",
      "вакансий пропущено - 0\n",
      "вакансий с ошибкой - 5\n",
      "('https://api.hh.ru/vacancies?area=24&professional_role=97&area=4&professional_role=48', 1563)\n",
      "number url - 357\n",
      "размер массива (146312, 1)\n",
      "total_pages - 20\n"
     ]
    },
    {
     "name": "stderr",
     "output_type": "stream",
     "text": [
      " 42%|██████████████████████████████████                                               | 42/100 [00:19<00:28,  2.06it/s]"
     ]
    },
    {
     "name": "stdout",
     "output_type": "stream",
     "text": [
      "captcha_required\n"
     ]
    },
    {
     "name": "stderr",
     "output_type": "stream",
     "text": [
      "\r",
      " 43%|██████████████████████████████████▊                                              | 43/100 [00:20<00:43,  1.31it/s]"
     ]
    },
    {
     "name": "stdout",
     "output_type": "stream",
     "text": [
      "captcha_required\n"
     ]
    },
    {
     "name": "stderr",
     "output_type": "stream",
     "text": [
      "\r",
      " 44%|███████████████████████████████████▋                                             | 44/100 [00:22<00:53,  1.05it/s]"
     ]
    },
    {
     "name": "stdout",
     "output_type": "stream",
     "text": [
      "captcha_required\n"
     ]
    },
    {
     "name": "stderr",
     "output_type": "stream",
     "text": [
      " 96%|█████████████████████████████████████████████████████████████████████████████▊   | 96/100 [00:47<00:01,  2.17it/s]"
     ]
    },
    {
     "name": "stdout",
     "output_type": "stream",
     "text": [
      "captcha_required\n"
     ]
    },
    {
     "name": "stderr",
     "output_type": "stream",
     "text": [
      "100%|████████████████████████████████████████████████████████████████████████████████| 100/100 [00:50<00:00,  1.75it/s]\n"
     ]
    },
    {
     "name": "stdout",
     "output_type": "stream",
     "text": [
      "вакансий получено - 96\n",
      "вакансий пропущено - 0\n",
      "вакансий с ошибкой - 4\n",
      "('https://api.hh.ru/vacancies?area=237&professional_role=40&area=1240&professional_role=40', 1571)\n",
      "number url - 358\n",
      "размер массива (146408, 1)\n",
      "total_pages - 20\n"
     ]
    },
    {
     "name": "stderr",
     "output_type": "stream",
     "text": [
      " 65%|████████████████████████████████████████████████████▋                            | 65/100 [00:30<00:17,  2.03it/s]"
     ]
    },
    {
     "name": "stdout",
     "output_type": "stream",
     "text": [
      "captcha_required\n"
     ]
    },
    {
     "name": "stderr",
     "output_type": "stream",
     "text": [
      "\r",
      " 66%|█████████████████████████████████████████████████████▍                           | 66/100 [00:32<00:26,  1.29it/s]"
     ]
    },
    {
     "name": "stdout",
     "output_type": "stream",
     "text": [
      "captcha_required\n"
     ]
    },
    {
     "name": "stderr",
     "output_type": "stream",
     "text": [
      "100%|████████████████████████████████████████████████████████████████████████████████| 100/100 [00:50<00:00,  2.26it/s]\n"
     ]
    },
    {
     "name": "stdout",
     "output_type": "stream",
     "text": [
      "вакансий получено - 98\n",
      "вакансий пропущено - 0\n",
      "вакансий с ошибкой - 2\n",
      "('https://api.hh.ru/vacancies?area=96&professional_role=70&area=66&professional_role=18', 1594)\n",
      "number url - 359\n",
      "размер массива (146506, 1)\n",
      "total_pages - 20\n"
     ]
    },
    {
     "name": "stderr",
     "output_type": "stream",
     "text": [
      " 85%|████████████████████████████████████████████████████████████████████▊            | 85/100 [00:37<00:06,  2.49it/s]"
     ]
    },
    {
     "name": "stdout",
     "output_type": "stream",
     "text": [
      "captcha_required\n"
     ]
    },
    {
     "name": "stderr",
     "output_type": "stream",
     "text": [
      " 91%|█████████████████████████████████████████████████████████████████████████▋       | 91/100 [00:40<00:04,  2.18it/s]"
     ]
    },
    {
     "name": "stdout",
     "output_type": "stream",
     "text": [
      "captcha_required\n"
     ]
    },
    {
     "name": "stderr",
     "output_type": "stream",
     "text": [
      " 97%|██████████████████████████████████████████████████████████████████████████████▌  | 97/100 [00:44<00:01,  1.96it/s]"
     ]
    },
    {
     "name": "stdout",
     "output_type": "stream",
     "text": [
      "captcha_required\n"
     ]
    },
    {
     "name": "stderr",
     "output_type": "stream",
     "text": [
      "100%|████████████████████████████████████████████████████████████████████████████████| 100/100 [00:46<00:00,  1.97it/s]\n"
     ]
    },
    {
     "name": "stdout",
     "output_type": "stream",
     "text": [
      "вакансий получено - 91\n",
      "вакансий пропущено - 6\n",
      "вакансий с ошибкой - 3\n",
      "('https://api.hh.ru/vacancies?area=78&professional_role=21&area=68&professional_role=70', 1626)\n",
      "number url - 360\n",
      "размер массива (146597, 1)\n",
      "total_pages - 20\n"
     ]
    },
    {
     "name": "stderr",
     "output_type": "stream",
     "text": [
      " 30%|████████████████████████▎                                                        | 30/100 [00:14<00:31,  2.20it/s]"
     ]
    },
    {
     "name": "stdout",
     "output_type": "stream",
     "text": [
      "captcha_required\n"
     ]
    },
    {
     "name": "stderr",
     "output_type": "stream",
     "text": [
      " 57%|██████████████████████████████████████████████▏                                  | 57/100 [00:27<00:18,  2.27it/s]"
     ]
    },
    {
     "name": "stdout",
     "output_type": "stream",
     "text": [
      "captcha_required\n"
     ]
    },
    {
     "name": "stderr",
     "output_type": "stream",
     "text": [
      "100%|████████████████████████████████████████████████████████████████████████████████| 100/100 [00:47<00:00,  2.32it/s]\n"
     ]
    },
    {
     "name": "stdout",
     "output_type": "stream",
     "text": [
      "вакансий получено - 98\n",
      "вакансий пропущено - 0\n",
      "вакансий с ошибкой - 2\n",
      "('https://api.hh.ru/vacancies?area=76&professional_role=18&area=112&professional_role=70', 1637)\n",
      "number url - 361\n",
      "размер массива (146695, 1)\n",
      "total_pages - 20\n"
     ]
    },
    {
     "name": "stderr",
     "output_type": "stream",
     "text": [
      " 20%|████████████████▏                                                                | 20/100 [00:09<00:35,  2.26it/s]"
     ]
    },
    {
     "name": "stdout",
     "output_type": "stream",
     "text": [
      "captcha_required\n"
     ]
    },
    {
     "name": "stderr",
     "output_type": "stream",
     "text": [
      "\r",
      " 21%|█████████████████                                                                | 21/100 [00:10<00:57,  1.37it/s]"
     ]
    },
    {
     "name": "stdout",
     "output_type": "stream",
     "text": [
      "captcha_required\n"
     ]
    },
    {
     "name": "stderr",
     "output_type": "stream",
     "text": [
      "\r",
      " 22%|█████████████████▊                                                               | 22/100 [00:11<01:13,  1.07it/s]"
     ]
    },
    {
     "name": "stdout",
     "output_type": "stream",
     "text": [
      "captcha_required\n"
     ]
    },
    {
     "name": "stderr",
     "output_type": "stream",
     "text": [
      " 79%|███████████████████████████████████████████████████████████████▉                 | 79/100 [00:39<00:09,  2.16it/s]"
     ]
    },
    {
     "name": "stdout",
     "output_type": "stream",
     "text": [
      "captcha_required\n"
     ]
    },
    {
     "name": "stderr",
     "output_type": "stream",
     "text": [
      "100%|████████████████████████████████████████████████████████████████████████████████| 100/100 [00:50<00:00,  1.91it/s]\n"
     ]
    },
    {
     "name": "stdout",
     "output_type": "stream",
     "text": [
      "вакансий получено - 96\n",
      "вакансий пропущено - 0\n",
      "вакансий с ошибкой - 4\n",
      "('https://api.hh.ru/vacancies?area=76&professional_role=21&area=212&professional_role=40', 1653)\n",
      "number url - 362\n",
      "размер массива (146791, 1)\n",
      "total_pages - 20\n"
     ]
    },
    {
     "name": "stderr",
     "output_type": "stream",
     "text": [
      " 47%|██████████████████████████████████████                                           | 47/100 [00:19<00:22,  2.32it/s]"
     ]
    },
    {
     "name": "stdout",
     "output_type": "stream",
     "text": [
      "captcha_required\n"
     ]
    },
    {
     "name": "stderr",
     "output_type": "stream",
     "text": [
      "\r",
      " 48%|██████████████████████████████████████▉                                          | 48/100 [00:21<00:37,  1.38it/s]"
     ]
    },
    {
     "name": "stdout",
     "output_type": "stream",
     "text": [
      "captcha_required\n"
     ]
    },
    {
     "name": "stderr",
     "output_type": "stream",
     "text": [
      "\r",
      " 49%|███████████████████████████████████████▋                                         | 49/100 [00:22<00:47,  1.08it/s]"
     ]
    },
    {
     "name": "stdout",
     "output_type": "stream",
     "text": [
      "captcha_required\n"
     ]
    },
    {
     "name": "stderr",
     "output_type": "stream",
     "text": [
      " 80%|████████████████████████████████████████████████████████████████▊                | 80/100 [00:37<00:08,  2.35it/s]"
     ]
    },
    {
     "name": "stdout",
     "output_type": "stream",
     "text": [
      "captcha_required\n"
     ]
    },
    {
     "name": "stderr",
     "output_type": "stream",
     "text": [
      "100%|████████████████████████████████████████████████████████████████████████████████| 100/100 [00:47<00:00,  2.02it/s]\n"
     ]
    },
    {
     "name": "stdout",
     "output_type": "stream",
     "text": [
      "вакансий получено - 91\n",
      "вакансий пропущено - 5\n",
      "вакансий с ошибкой - 4\n",
      "('https://api.hh.ru/vacancies?area=4&professional_role=94&area=53&professional_role=94', 1682)\n",
      "number url - 363\n",
      "размер массива (146882, 1)\n",
      "total_pages - 20\n"
     ]
    },
    {
     "name": "stderr",
     "output_type": "stream",
     "text": [
      " 70%|████████████████████████████████████████████████████████▋                        | 70/100 [00:33<00:13,  2.23it/s]"
     ]
    },
    {
     "name": "stdout",
     "output_type": "stream",
     "text": [
      "captcha_required\n"
     ]
    },
    {
     "name": "stderr",
     "output_type": "stream",
     "text": [
      "\r",
      " 71%|█████████████████████████████████████████████████████████▌                       | 71/100 [00:35<00:21,  1.34it/s]"
     ]
    },
    {
     "name": "stdout",
     "output_type": "stream",
     "text": [
      "captcha_required\n"
     ]
    },
    {
     "name": "stderr",
     "output_type": "stream",
     "text": [
      "100%|████████████████████████████████████████████████████████████████████████████████| 100/100 [00:49<00:00,  2.19it/s]\n"
     ]
    },
    {
     "name": "stdout",
     "output_type": "stream",
     "text": [
      "вакансий получено - 98\n",
      "вакансий пропущено - 0\n",
      "вакансий с ошибкой - 2\n",
      "('https://api.hh.ru/vacancies?area=68&professional_role=21&area=11&professional_role=70', 1710)\n",
      "number url - 364\n",
      "размер массива (146980, 1)\n",
      "total_pages - 20\n"
     ]
    },
    {
     "name": "stderr",
     "output_type": "stream",
     "text": [
      " 24%|███████████████████▍                                                             | 24/100 [00:10<00:34,  2.23it/s]"
     ]
    },
    {
     "name": "stdout",
     "output_type": "stream",
     "text": [
      "captcha_required\n"
     ]
    },
    {
     "name": "stderr",
     "output_type": "stream",
     "text": [
      " 43%|██████████████████████████████████▊                                              | 43/100 [00:19<00:24,  2.34it/s]"
     ]
    },
    {
     "name": "stdout",
     "output_type": "stream",
     "text": [
      "captcha_required\n"
     ]
    },
    {
     "name": "stderr",
     "output_type": "stream",
     "text": [
      " 47%|██████████████████████████████████████                                           | 47/100 [00:22<00:27,  1.90it/s]"
     ]
    },
    {
     "name": "stdout",
     "output_type": "stream",
     "text": [
      "captcha_required\n"
     ]
    },
    {
     "name": "stderr",
     "output_type": "stream",
     "text": [
      "\r",
      " 48%|██████████████████████████████████████▉                                          | 48/100 [00:24<00:41,  1.26it/s]"
     ]
    },
    {
     "name": "stdout",
     "output_type": "stream",
     "text": [
      "captcha_required\n"
     ]
    },
    {
     "name": "stderr",
     "output_type": "stream",
     "text": [
      " 92%|██████████████████████████████████████████████████████████████████████████▌      | 92/100 [00:44<00:03,  2.10it/s]"
     ]
    },
    {
     "name": "stdout",
     "output_type": "stream",
     "text": [
      "captcha_required\n"
     ]
    },
    {
     "name": "stderr",
     "output_type": "stream",
     "text": [
      "\r",
      " 93%|███████████████████████████████████████████████████████████████████████████▎     | 93/100 [00:45<00:05,  1.32it/s]"
     ]
    },
    {
     "name": "stdout",
     "output_type": "stream",
     "text": [
      "captcha_required\n"
     ]
    },
    {
     "name": "stderr",
     "output_type": "stream",
     "text": [
      "100%|████████████████████████████████████████████████████████████████████████████████| 100/100 [00:50<00:00,  1.98it/s]\n"
     ]
    },
    {
     "name": "stdout",
     "output_type": "stream",
     "text": [
      "вакансий получено - 94\n",
      "вакансий пропущено - 0\n",
      "вакансий с ошибкой - 6\n",
      "('https://api.hh.ru/vacancies?area=102&professional_role=70&area=79&professional_role=70', 1778)\n",
      "number url - 365\n",
      "размер массива (147074, 1)\n",
      "total_pages - 20\n"
     ]
    },
    {
     "name": "stderr",
     "output_type": "stream",
     "text": [
      " 23%|██████████████████▋                                                              | 23/100 [00:09<00:33,  2.28it/s]"
     ]
    },
    {
     "name": "stdout",
     "output_type": "stream",
     "text": [
      "captcha_required\n"
     ]
    },
    {
     "name": "stderr",
     "output_type": "stream",
     "text": [
      " 64%|███████████████████████████████████████████████████▊                             | 64/100 [00:29<00:15,  2.27it/s]"
     ]
    },
    {
     "name": "stdout",
     "output_type": "stream",
     "text": [
      "captcha_required\n"
     ]
    },
    {
     "name": "stderr",
     "output_type": "stream",
     "text": [
      " 69%|███████████████████████████████████████████████████████▉                         | 69/100 [00:32<00:15,  1.95it/s]"
     ]
    },
    {
     "name": "stdout",
     "output_type": "stream",
     "text": [
      "captcha_required\n"
     ]
    },
    {
     "name": "stderr",
     "output_type": "stream",
     "text": [
      "\r",
      " 70%|████████████████████████████████████████████████████████▋                        | 70/100 [00:34<00:23,  1.26it/s]"
     ]
    },
    {
     "name": "stdout",
     "output_type": "stream",
     "text": [
      "captcha_required\n"
     ]
    },
    {
     "name": "stderr",
     "output_type": "stream",
     "text": [
      "100%|████████████████████████████████████████████████████████████████████████████████| 100/100 [00:48<00:00,  2.23it/s]\n"
     ]
    },
    {
     "name": "stdout",
     "output_type": "stream",
     "text": [
      "вакансий получено - 96\n",
      "вакансий пропущено - 0\n",
      "вакансий с ошибкой - 4\n",
      "('https://api.hh.ru/vacancies?area=159&professional_role=40&area=1002&professional_role=18', 1808)\n",
      "number url - 366\n",
      "размер массива (147170, 1)\n",
      "total_pages - 20\n"
     ]
    },
    {
     "name": "stderr",
     "output_type": "stream",
     "text": [
      " 20%|████████████████▏                                                                | 20/100 [00:08<00:34,  2.34it/s]"
     ]
    },
    {
     "name": "stdout",
     "output_type": "stream",
     "text": [
      "captcha_required\n"
     ]
    },
    {
     "name": "stderr",
     "output_type": "stream",
     "text": [
      " 25%|████████████████████▎                                                            | 25/100 [00:11<00:35,  2.09it/s]"
     ]
    },
    {
     "name": "stdout",
     "output_type": "stream",
     "text": [
      "captcha_required\n"
     ]
    },
    {
     "name": "stderr",
     "output_type": "stream",
     "text": [
      " 47%|██████████████████████████████████████                                           | 47/100 [00:21<00:22,  2.31it/s]"
     ]
    },
    {
     "name": "stdout",
     "output_type": "stream",
     "text": [
      "captcha_required\n"
     ]
    },
    {
     "name": "stderr",
     "output_type": "stream",
     "text": [
      "100%|████████████████████████████████████████████████████████████████████████████████| 100/100 [00:39<00:00,  2.71it/s]\n"
     ]
    },
    {
     "name": "stdout",
     "output_type": "stream",
     "text": [
      "вакансий получено - 77\n",
      "вакансий пропущено - 20\n",
      "вакансий с ошибкой - 3\n",
      "('https://api.hh.ru/vacancies?area=89&professional_role=40&area=79&professional_role=97', 1823)\n",
      "number url - 367\n",
      "размер массива (147247, 1)\n",
      "total_pages - 20\n"
     ]
    },
    {
     "name": "stderr",
     "output_type": "stream",
     "text": [
      " 41%|█████████████████████████████████▏                                               | 41/100 [00:19<00:26,  2.19it/s]"
     ]
    },
    {
     "name": "stdout",
     "output_type": "stream",
     "text": [
      "captcha_required\n"
     ]
    },
    {
     "name": "stderr",
     "output_type": "stream",
     "text": [
      " 61%|█████████████████████████████████████████████████▍                               | 61/100 [00:29<00:18,  2.07it/s]"
     ]
    },
    {
     "name": "stdout",
     "output_type": "stream",
     "text": [
      "captcha_required\n"
     ]
    },
    {
     "name": "stderr",
     "output_type": "stream",
     "text": [
      " 85%|████████████████████████████████████████████████████████████████████▊            | 85/100 [00:41<00:06,  2.32it/s]"
     ]
    },
    {
     "name": "stdout",
     "output_type": "stream",
     "text": [
      "captcha_required\n"
     ]
    },
    {
     "name": "stderr",
     "output_type": "stream",
     "text": [
      "\r",
      " 86%|█████████████████████████████████████████████████████████████████████▋           | 86/100 [00:43<00:10,  1.36it/s]"
     ]
    },
    {
     "name": "stdout",
     "output_type": "stream",
     "text": [
      "captcha_required\n"
     ]
    },
    {
     "name": "stderr",
     "output_type": "stream",
     "text": [
      "100%|████████████████████████████████████████████████████████████████████████████████| 100/100 [00:51<00:00,  2.13it/s]\n"
     ]
    },
    {
     "name": "stdout",
     "output_type": "stream",
     "text": [
      "вакансий получено - 96\n",
      "вакансий пропущено - 0\n",
      "вакансий с ошибкой - 4\n",
      "('https://api.hh.ru/vacancies?area=237&professional_role=70&area=3&professional_role=24', 1846)\n",
      "number url - 368\n",
      "размер массива (147343, 1)\n",
      "total_pages - 20\n"
     ]
    },
    {
     "name": "stderr",
     "output_type": "stream",
     "text": [
      " 66%|█████████████████████████████████████████████████████▍                           | 66/100 [00:30<00:14,  2.40it/s]"
     ]
    },
    {
     "name": "stdout",
     "output_type": "stream",
     "text": [
      "captcha_required\n"
     ]
    },
    {
     "name": "stderr",
     "output_type": "stream",
     "text": [
      " 82%|██████████████████████████████████████████████████████████████████▍              | 82/100 [00:38<00:07,  2.32it/s]"
     ]
    },
    {
     "name": "stdout",
     "output_type": "stream",
     "text": [
      "captcha_required\n"
     ]
    },
    {
     "name": "stderr",
     "output_type": "stream",
     "text": [
      "\r",
      " 83%|███████████████████████████████████████████████████████████████████▏             | 83/100 [00:39<00:12,  1.38it/s]"
     ]
    },
    {
     "name": "stdout",
     "output_type": "stream",
     "text": [
      "captcha_required\n"
     ]
    },
    {
     "name": "stderr",
     "output_type": "stream",
     "text": [
      "100%|████████████████████████████████████████████████████████████████████████████████| 100/100 [00:48<00:00,  2.26it/s]\n"
     ]
    },
    {
     "name": "stdout",
     "output_type": "stream",
     "text": [
      "вакансий получено - 97\n",
      "вакансий пропущено - 0\n",
      "вакансий с ошибкой - 3\n",
      "('https://api.hh.ru/vacancies?area=112&professional_role=40&area=47&professional_role=40', 1873)\n",
      "number url - 369\n",
      "размер массива (147440, 1)\n",
      "total_pages - 20\n"
     ]
    },
    {
     "name": "stderr",
     "output_type": "stream",
     "text": [
      " 14%|███████████▎                                                                     | 14/100 [00:06<00:38,  2.22it/s]"
     ]
    },
    {
     "name": "stdout",
     "output_type": "stream",
     "text": [
      "captcha_required\n"
     ]
    },
    {
     "name": "stderr",
     "output_type": "stream",
     "text": [
      " 20%|████████████████▏                                                                | 20/100 [00:09<00:40,  2.00it/s]"
     ]
    },
    {
     "name": "stdout",
     "output_type": "stream",
     "text": [
      "captcha_required\n"
     ]
    },
    {
     "name": "stderr",
     "output_type": "stream",
     "text": [
      " 38%|██████████████████████████████▊                                                  | 38/100 [00:19<00:26,  2.36it/s]"
     ]
    },
    {
     "name": "stdout",
     "output_type": "stream",
     "text": [
      "captcha_required\n"
     ]
    },
    {
     "name": "stderr",
     "output_type": "stream",
     "text": [
      " 48%|██████████████████████████████████████▉                                          | 48/100 [00:24<00:23,  2.19it/s]"
     ]
    },
    {
     "name": "stdout",
     "output_type": "stream",
     "text": [
      "captcha_required\n"
     ]
    },
    {
     "name": "stderr",
     "output_type": "stream",
     "text": [
      "100%|████████████████████████████████████████████████████████████████████████████████| 100/100 [00:48<00:00,  2.21it/s]\n"
     ]
    },
    {
     "name": "stdout",
     "output_type": "stream",
     "text": [
      "вакансий получено - 96\n",
      "вакансий пропущено - 0\n",
      "вакансий с ошибкой - 4\n",
      "('https://api.hh.ru/vacancies?area=104&professional_role=21&area=68&professional_role=97', 1893)\n",
      "number url - 370\n",
      "размер массива (147536, 1)\n",
      "total_pages - 20\n"
     ]
    },
    {
     "name": "stderr",
     "output_type": "stream",
     "text": [
      " 20%|████████████████▏                                                                | 20/100 [00:08<00:35,  2.25it/s]"
     ]
    },
    {
     "name": "stdout",
     "output_type": "stream",
     "text": [
      "captcha_required\n"
     ]
    },
    {
     "name": "stderr",
     "output_type": "stream",
     "text": [
      "\r",
      " 21%|█████████████████                                                                | 21/100 [00:10<00:57,  1.36it/s]"
     ]
    },
    {
     "name": "stdout",
     "output_type": "stream",
     "text": [
      "captcha_required\n"
     ]
    },
    {
     "name": "stderr",
     "output_type": "stream",
     "text": [
      " 36%|█████████████████████████████▏                                                   | 36/100 [00:18<00:28,  2.27it/s]"
     ]
    },
    {
     "name": "stdout",
     "output_type": "stream",
     "text": [
      "captcha_required\n"
     ]
    },
    {
     "name": "stderr",
     "output_type": "stream",
     "text": [
      " 41%|█████████████████████████████████▏                                               | 41/100 [00:21<00:29,  2.00it/s]"
     ]
    },
    {
     "name": "stdout",
     "output_type": "stream",
     "text": [
      "captcha_required\n"
     ]
    },
    {
     "name": "stderr",
     "output_type": "stream",
     "text": [
      " 61%|█████████████████████████████████████████████████▍                               | 61/100 [00:30<00:15,  2.45it/s]"
     ]
    },
    {
     "name": "stdout",
     "output_type": "stream",
     "text": [
      "captcha_required\n"
     ]
    },
    {
     "name": "stderr",
     "output_type": "stream",
     "text": [
      " 79%|███████████████████████████████████████████████████████████████▉                 | 79/100 [00:35<00:07,  2.69it/s]"
     ]
    },
    {
     "name": "stdout",
     "output_type": "stream",
     "text": [
      "captcha_required\n"
     ]
    },
    {
     "name": "stderr",
     "output_type": "stream",
     "text": [
      "100%|████████████████████████████████████████████████████████████████████████████████| 100/100 [00:44<00:00,  2.28it/s]\n"
     ]
    },
    {
     "name": "stdout",
     "output_type": "stream",
     "text": [
      "вакансий получено - 81\n",
      "вакансий пропущено - 13\n",
      "вакансий с ошибкой - 6\n",
      "('https://api.hh.ru/vacancies?area=24&professional_role=70&area=99&professional_role=21', 1902)\n",
      "number url - 371\n",
      "размер массива (147617, 1)\n",
      "total_pages - 20\n"
     ]
    },
    {
     "name": "stderr",
     "output_type": "stream",
     "text": [
      " 88%|███████████████████████████████████████████████████████████████████████▎         | 88/100 [00:42<00:05,  2.27it/s]"
     ]
    },
    {
     "name": "stdout",
     "output_type": "stream",
     "text": [
      "captcha_required\n"
     ]
    },
    {
     "name": "stderr",
     "output_type": "stream",
     "text": [
      "100%|████████████████████████████████████████████████████████████████████████████████| 100/100 [00:48<00:00,  2.18it/s]\n"
     ]
    },
    {
     "name": "stdout",
     "output_type": "stream",
     "text": [
      "вакансий получено - 99\n",
      "вакансий пропущено - 0\n",
      "вакансий с ошибкой - 1\n",
      "('https://api.hh.ru/vacancies?area=2759&professional_role=70&area=22&professional_role=40', 1921)\n",
      "number url - 372\n",
      "размер массива (147716, 1)\n",
      "total_pages - 20\n"
     ]
    },
    {
     "name": "stderr",
     "output_type": "stream",
     "text": [
      " 21%|█████████████████                                                                | 21/100 [00:09<00:34,  2.31it/s]"
     ]
    },
    {
     "name": "stdout",
     "output_type": "stream",
     "text": [
      "captcha_required\n"
     ]
    },
    {
     "name": "stderr",
     "output_type": "stream",
     "text": [
      " 41%|█████████████████████████████████▏                                               | 41/100 [00:18<00:24,  2.40it/s]"
     ]
    },
    {
     "name": "stdout",
     "output_type": "stream",
     "text": [
      "captcha_required\n"
     ]
    },
    {
     "name": "stderr",
     "output_type": "stream",
     "text": [
      " 66%|█████████████████████████████████████████████████████▍                           | 66/100 [00:30<00:14,  2.31it/s]"
     ]
    },
    {
     "name": "stdout",
     "output_type": "stream",
     "text": [
      "captcha_required\n"
     ]
    },
    {
     "name": "stderr",
     "output_type": "stream",
     "text": [
      " 74%|███████████████████████████████████████████████████████████▉                     | 74/100 [00:35<00:11,  2.22it/s]"
     ]
    },
    {
     "name": "stdout",
     "output_type": "stream",
     "text": [
      "captcha_required\n"
     ]
    },
    {
     "name": "stderr",
     "output_type": "stream",
     "text": [
      "100%|████████████████████████████████████████████████████████████████████████████████| 100/100 [00:49<00:00,  2.22it/s]\n"
     ]
    },
    {
     "name": "stdout",
     "output_type": "stream",
     "text": [
      "вакансий получено - 96\n",
      "вакансий пропущено - 0\n",
      "вакансий с ошибкой - 4\n",
      "('https://api.hh.ru/vacancies?area=53&professional_role=18&area=4&professional_role=18', 1930)\n",
      "number url - 373\n",
      "размер массива (147812, 1)\n",
      "total_pages - 20\n"
     ]
    },
    {
     "name": "stderr",
     "output_type": "stream",
     "text": [
      " 20%|████████████████▏                                                                | 20/100 [00:08<00:33,  2.41it/s]"
     ]
    },
    {
     "name": "stdout",
     "output_type": "stream",
     "text": [
      "captcha_required\n"
     ]
    },
    {
     "name": "stderr",
     "output_type": "stream",
     "text": [
      " 42%|██████████████████████████████████                                               | 42/100 [00:19<00:28,  2.02it/s]"
     ]
    },
    {
     "name": "stdout",
     "output_type": "stream",
     "text": [
      "captcha_required\n"
     ]
    },
    {
     "name": "stderr",
     "output_type": "stream",
     "text": [
      " 67%|██████████████████████████████████████████████████████▎                          | 67/100 [00:32<00:16,  1.98it/s]"
     ]
    },
    {
     "name": "stdout",
     "output_type": "stream",
     "text": [
      "captcha_required\n"
     ]
    },
    {
     "name": "stderr",
     "output_type": "stream",
     "text": [
      " 90%|████████████████████████████████████████████████████████████████████████▉        | 90/100 [00:43<00:04,  2.35it/s]"
     ]
    },
    {
     "name": "stdout",
     "output_type": "stream",
     "text": [
      "captcha_required\n"
     ]
    },
    {
     "name": "stderr",
     "output_type": "stream",
     "text": [
      "100%|████████████████████████████████████████████████████████████████████████████████| 100/100 [00:49<00:00,  2.15it/s]\n"
     ]
    },
    {
     "name": "stdout",
     "output_type": "stream",
     "text": [
      "вакансий получено - 96\n",
      "вакансий пропущено - 0\n",
      "вакансий с ошибкой - 4\n",
      "('https://api.hh.ru/vacancies?area=53&professional_role=21&area=35&professional_role=21', 1942)\n",
      "number url - 374\n",
      "размер массива (147908, 1)\n",
      "total_pages - 20\n"
     ]
    },
    {
     "name": "stderr",
     "output_type": "stream",
     "text": [
      " 24%|███████████████████▍                                                             | 24/100 [00:11<00:32,  2.31it/s]"
     ]
    },
    {
     "name": "stdout",
     "output_type": "stream",
     "text": [
      "captcha_required\n"
     ]
    },
    {
     "name": "stderr",
     "output_type": "stream",
     "text": [
      " 42%|██████████████████████████████████                                               | 42/100 [00:19<00:25,  2.27it/s]"
     ]
    },
    {
     "name": "stdout",
     "output_type": "stream",
     "text": [
      "captcha_required\n"
     ]
    },
    {
     "name": "stderr",
     "output_type": "stream",
     "text": [
      " 71%|█████████████████████████████████████████████████████████▌                       | 71/100 [00:33<00:12,  2.30it/s]"
     ]
    },
    {
     "name": "stdout",
     "output_type": "stream",
     "text": [
      "captcha_required\n"
     ]
    },
    {
     "name": "stderr",
     "output_type": "stream",
     "text": [
      " 93%|███████████████████████████████████████████████████████████████████████████▎     | 93/100 [00:44<00:03,  2.22it/s]"
     ]
    },
    {
     "name": "stdout",
     "output_type": "stream",
     "text": [
      "captcha_required\n"
     ]
    },
    {
     "name": "stderr",
     "output_type": "stream",
     "text": [
      "100%|████████████████████████████████████████████████████████████████████████████████| 100/100 [00:49<00:00,  2.11it/s]\n"
     ]
    },
    {
     "name": "stdout",
     "output_type": "stream",
     "text": [
      "вакансий получено - 96\n",
      "вакансий пропущено - 0\n",
      "вакансий с ошибкой - 4\n",
      "('https://api.hh.ru/vacancies?area=77&professional_role=40&area=35&professional_role=70', 1976)\n",
      "number url - 375\n",
      "размер массива (148004, 1)\n",
      "total_pages - 20\n"
     ]
    },
    {
     "name": "stderr",
     "output_type": "stream",
     "text": [
      " 20%|████████████████▏                                                                | 20/100 [00:09<00:36,  2.20it/s]"
     ]
    },
    {
     "name": "stdout",
     "output_type": "stream",
     "text": [
      "captcha_required\n"
     ]
    },
    {
     "name": "stderr",
     "output_type": "stream",
     "text": [
      " 23%|██████████████████▋                                                              | 23/100 [00:11<00:46,  1.67it/s]"
     ]
    },
    {
     "name": "stdout",
     "output_type": "stream",
     "text": [
      "captcha_required\n"
     ]
    },
    {
     "name": "stderr",
     "output_type": "stream",
     "text": [
      " 46%|█████████████████████████████████████▎                                           | 46/100 [00:22<00:23,  2.29it/s]"
     ]
    },
    {
     "name": "stdout",
     "output_type": "stream",
     "text": [
      "captcha_required\n"
     ]
    },
    {
     "name": "stderr",
     "output_type": "stream",
     "text": [
      " 93%|███████████████████████████████████████████████████████████████████████████▎     | 93/100 [00:45<00:03,  2.30it/s]"
     ]
    },
    {
     "name": "stdout",
     "output_type": "stream",
     "text": [
      "captcha_required\n"
     ]
    },
    {
     "name": "stderr",
     "output_type": "stream",
     "text": [
      "100%|████████████████████████████████████████████████████████████████████████████████| 100/100 [00:49<00:00,  2.06it/s]\n"
     ]
    },
    {
     "name": "stdout",
     "output_type": "stream",
     "text": [
      "вакансий получено - 96\n",
      "вакансий пропущено - 0\n",
      "вакансий с ошибкой - 4\n",
      "('https://api.hh.ru/vacancies?area=92&professional_role=40', 1004)\n",
      "number url - 376\n",
      "размер массива (148100, 1)\n",
      "total_pages - 20\n"
     ]
    },
    {
     "name": "stderr",
     "output_type": "stream",
     "text": [
      "0it [00:00, ?it/s]\n"
     ]
    },
    {
     "name": "stdout",
     "output_type": "stream",
     "text": [
      "вакансий получено - 0\n",
      "вакансий пропущено - 0\n",
      "вакансий с ошибкой - 0\n",
      "('https://api.hh.ru/vacancies?area=22&professional_role=70', 1015)\n",
      "number url - 377\n",
      "размер массива (148100, 1)\n",
      "total_pages - 20\n"
     ]
    },
    {
     "name": "stderr",
     "output_type": "stream",
     "text": [
      "0it [00:00, ?it/s]\n"
     ]
    },
    {
     "name": "stdout",
     "output_type": "stream",
     "text": [
      "вакансий получено - 0\n",
      "вакансий пропущено - 0\n",
      "вакансий с ошибкой - 0\n",
      "('https://api.hh.ru/vacancies?area=11&professional_role=40', 1036)\n",
      "number url - 378\n",
      "размер массива (148100, 1)\n",
      "total_pages - 20\n"
     ]
    },
    {
     "name": "stderr",
     "output_type": "stream",
     "text": [
      "100%|████████████████████████████████████████████████████████████████████████████████████| 9/9 [00:04<00:00,  2.05it/s]\n"
     ]
    },
    {
     "name": "stdout",
     "output_type": "stream",
     "text": [
      "вакансий получено - 9\n",
      "вакансий пропущено - 0\n",
      "вакансий с ошибкой - 0\n",
      "('https://api.hh.ru/vacancies?area=1641&professional_role=40', 1039)\n",
      "number url - 379\n",
      "размер массива (148109, 1)\n",
      "total_pages - 20\n"
     ]
    },
    {
     "name": "stderr",
     "output_type": "stream",
     "text": [
      "0it [00:00, ?it/s]\n"
     ]
    },
    {
     "name": "stdout",
     "output_type": "stream",
     "text": [
      "вакансий получено - 0\n",
      "вакансий пропущено - 0\n",
      "вакансий с ошибкой - 0\n",
      "('https://api.hh.ru/vacancies?area=95&professional_role=97', 1074)\n",
      "number url - 380\n",
      "размер массива (148109, 1)\n",
      "total_pages - 20\n"
     ]
    },
    {
     "name": "stderr",
     "output_type": "stream",
     "text": [
      "100%|██████████████████████████████████████████████████████████████████████████████████| 29/29 [00:13<00:00,  2.23it/s]\n"
     ]
    },
    {
     "name": "stdout",
     "output_type": "stream",
     "text": [
      "вакансий получено - 29\n",
      "вакансий пропущено - 0\n",
      "вакансий с ошибкой - 0\n",
      "('https://api.hh.ru/vacancies?area=4&professional_role=24', 1097)\n",
      "number url - 381\n",
      "размер массива (148138, 1)\n",
      "total_pages - 20\n"
     ]
    },
    {
     "name": "stderr",
     "output_type": "stream",
     "text": [
      "100%|██████████████████████████████████████████████████████████████████████████████████| 76/76 [00:34<00:00,  2.14it/s]\n"
     ]
    },
    {
     "name": "stdout",
     "output_type": "stream",
     "text": [
      "вакансий получено - 76\n",
      "вакансий пропущено - 0\n",
      "вакансий с ошибкой - 0\n",
      "('https://api.hh.ru/vacancies?area=3&professional_role=18', 1098)\n",
      "number url - 382\n",
      "размер массива (148214, 1)\n",
      "total_pages - 20\n"
     ]
    },
    {
     "name": "stderr",
     "output_type": "stream",
     "text": [
      " 29%|███████████████████████▋                                                          | 15/52 [00:07<00:16,  2.29it/s]"
     ]
    },
    {
     "name": "stdout",
     "output_type": "stream",
     "text": [
      "captcha_required\n"
     ]
    },
    {
     "name": "stderr",
     "output_type": "stream",
     "text": [
      "\r",
      " 31%|█████████████████████████▏                                                        | 16/52 [00:08<00:26,  1.38it/s]"
     ]
    },
    {
     "name": "stdout",
     "output_type": "stream",
     "text": [
      "captcha_required\n"
     ]
    },
    {
     "name": "stderr",
     "output_type": "stream",
     "text": [
      "\r",
      " 33%|██████████████████████████▊                                                       | 17/52 [00:09<00:32,  1.07it/s]"
     ]
    },
    {
     "name": "stdout",
     "output_type": "stream",
     "text": [
      "captcha_required\n"
     ]
    },
    {
     "name": "stderr",
     "output_type": "stream",
     "text": [
      " 85%|█████████████████████████████████████████████████████████████████████▍            | 44/52 [00:23<00:03,  2.09it/s]"
     ]
    },
    {
     "name": "stdout",
     "output_type": "stream",
     "text": [
      "captcha_required\n"
     ]
    },
    {
     "name": "stderr",
     "output_type": "stream",
     "text": [
      "\r",
      " 87%|██████████████████████████████████████████████████████████████████████▉           | 45/52 [00:24<00:05,  1.33it/s]"
     ]
    },
    {
     "name": "stdout",
     "output_type": "stream",
     "text": [
      "captcha_required\n"
     ]
    },
    {
     "name": "stderr",
     "output_type": "stream",
     "text": [
      "100%|██████████████████████████████████████████████████████████████████████████████████| 52/52 [00:28<00:00,  1.94it/s]\n"
     ]
    },
    {
     "name": "stdout",
     "output_type": "stream",
     "text": [
      "вакансий получено - 47\n",
      "вакансий пропущено - 0\n",
      "вакансий с ошибкой - 5\n",
      "('https://api.hh.ru/vacancies?area=1002&professional_role=97', 1099)\n",
      "number url - 383\n",
      "размер массива (148261, 1)\n",
      "total_pages - 20\n"
     ]
    },
    {
     "name": "stderr",
     "output_type": "stream",
     "text": [
      "100%|██████████████████████████████████████████████████████████████████████████████████| 61/61 [00:28<00:00,  1.70it/s]\n"
     ]
    },
    {
     "name": "stdout",
     "output_type": "stream",
     "text": [
      "вакансий получено - 61\n",
      "вакансий пропущено - 0\n",
      "вакансий с ошибкой - 0\n",
      "('https://api.hh.ru/vacancies?area=3&professional_role=94', 1106)\n",
      "number url - 384\n",
      "размер массива (148322, 1)\n",
      "total_pages - 20\n"
     ]
    },
    {
     "name": "stderr",
     "output_type": "stream",
     "text": [
      "0it [00:00, ?it/s]\n"
     ]
    },
    {
     "name": "stdout",
     "output_type": "stream",
     "text": [
      "вакансий получено - 0\n",
      "вакансий пропущено - 0\n",
      "вакансий с ошибкой - 0\n",
      "('https://api.hh.ru/vacancies?area=96&professional_role=40', 1112)\n",
      "number url - 385\n",
      "размер массива (148322, 1)\n",
      "total_pages - 20\n"
     ]
    },
    {
     "name": "stderr",
     "output_type": "stream",
     "text": [
      "100%|██████████████████████████████████████████████████████████████████████████████████| 62/62 [00:30<00:00,  2.11it/s]\n"
     ]
    },
    {
     "name": "stdout",
     "output_type": "stream",
     "text": [
      "вакансий получено - 62\n",
      "вакансий пропущено - 0\n",
      "вакансий с ошибкой - 0\n",
      "('https://api.hh.ru/vacancies?area=159&professional_role=70', 1117)\n",
      "number url - 386\n",
      "размер массива (148384, 1)\n",
      "total_pages - 20\n"
     ]
    },
    {
     "name": "stderr",
     "output_type": "stream",
     "text": [
      " 95%|█████████████████████████████████████████████████████████████████████████████▉    | 58/61 [00:28<00:01,  2.14it/s]"
     ]
    },
    {
     "name": "stdout",
     "output_type": "stream",
     "text": [
      "captcha_required\n"
     ]
    },
    {
     "name": "stderr",
     "output_type": "stream",
     "text": [
      "100%|██████████████████████████████████████████████████████████████████████████████████| 61/61 [00:30<00:00,  1.72it/s]\n"
     ]
    },
    {
     "name": "stdout",
     "output_type": "stream",
     "text": [
      "вакансий получено - 60\n",
      "вакансий пропущено - 0\n",
      "вакансий с ошибкой - 1\n",
      "('https://api.hh.ru/vacancies?area=90&professional_role=40', 1140)\n",
      "number url - 387\n",
      "размер массива (148444, 1)\n",
      "total_pages - 20\n"
     ]
    },
    {
     "name": "stderr",
     "output_type": "stream",
     "text": [
      " 60%|█████████████████████████████████████████████████▎                                | 59/98 [00:26<00:17,  2.22it/s]"
     ]
    },
    {
     "name": "stdout",
     "output_type": "stream",
     "text": [
      "captcha_required\n"
     ]
    },
    {
     "name": "stderr",
     "output_type": "stream",
     "text": [
      "\r",
      " 61%|██████████████████████████████████████████████████▏                               | 60/98 [00:28<00:27,  1.36it/s]"
     ]
    },
    {
     "name": "stdout",
     "output_type": "stream",
     "text": [
      "captcha_required\n"
     ]
    },
    {
     "name": "stderr",
     "output_type": "stream",
     "text": [
      " 71%|██████████████████████████████████████████████████████████▌                       | 70/98 [00:33<00:12,  2.25it/s]"
     ]
    },
    {
     "name": "stdout",
     "output_type": "stream",
     "text": [
      "captcha_required\n"
     ]
    },
    {
     "name": "stderr",
     "output_type": "stream",
     "text": [
      " 76%|█████████████████████████████████████████████████████████████▉                    | 74/98 [00:36<00:12,  1.85it/s]"
     ]
    },
    {
     "name": "stdout",
     "output_type": "stream",
     "text": [
      "captcha_required\n"
     ]
    },
    {
     "name": "stderr",
     "output_type": "stream",
     "text": [
      "100%|██████████████████████████████████████████████████████████████████████████████████| 98/98 [00:48<00:00,  1.75it/s]\n"
     ]
    },
    {
     "name": "stdout",
     "output_type": "stream",
     "text": [
      "вакансий получено - 94\n",
      "вакансий пропущено - 0\n",
      "вакансий с ошибкой - 4\n",
      "('https://api.hh.ru/vacancies?area=24&professional_role=40', 1170)\n",
      "number url - 388\n",
      "размер массива (148538, 1)\n",
      "total_pages - 20\n"
     ]
    },
    {
     "name": "stderr",
     "output_type": "stream",
     "text": [
      " 22%|█████████████████▊                                                               | 22/100 [00:09<00:34,  2.25it/s]"
     ]
    },
    {
     "name": "stdout",
     "output_type": "stream",
     "text": [
      "captcha_required\n"
     ]
    },
    {
     "name": "stderr",
     "output_type": "stream",
     "text": [
      " 68%|███████████████████████████████████████████████████████                          | 68/100 [00:31<00:14,  2.25it/s]"
     ]
    },
    {
     "name": "stdout",
     "output_type": "stream",
     "text": [
      "captcha_required\n"
     ]
    },
    {
     "name": "stderr",
     "output_type": "stream",
     "text": [
      " 83%|███████████████████████████████████████████████████████████████████▏             | 83/100 [00:39<00:07,  2.25it/s]"
     ]
    },
    {
     "name": "stdout",
     "output_type": "stream",
     "text": [
      "captcha_required\n"
     ]
    },
    {
     "name": "stderr",
     "output_type": "stream",
     "text": [
      "\r",
      " 84%|████████████████████████████████████████████████████████████████████             | 84/100 [00:40<00:11,  1.35it/s]"
     ]
    },
    {
     "name": "stdout",
     "output_type": "stream",
     "text": [
      "captcha_required\n"
     ]
    },
    {
     "name": "stderr",
     "output_type": "stream",
     "text": [
      " 98%|███████████████████████████████████████████████████████████████████████████████▍ | 98/100 [00:48<00:00,  2.12it/s]"
     ]
    },
    {
     "name": "stdout",
     "output_type": "stream",
     "text": [
      "captcha_required\n"
     ]
    },
    {
     "name": "stderr",
     "output_type": "stream",
     "text": [
      "100%|████████████████████████████████████████████████████████████████████████████████| 100/100 [00:50<00:00,  1.50it/s]\n"
     ]
    },
    {
     "name": "stdout",
     "output_type": "stream",
     "text": [
      "вакансий получено - 95\n",
      "вакансий пропущено - 0\n",
      "вакансий с ошибкой - 5\n",
      "('https://api.hh.ru/vacancies?area=95&professional_role=70', 1181)\n",
      "number url - 389\n",
      "размер массива (148633, 1)\n",
      "total_pages - 20\n"
     ]
    },
    {
     "name": "stderr",
     "output_type": "stream",
     "text": [
      "100%|████████████████████████████████████████████████████████████████████████████████| 100/100 [00:47<00:00,  2.14it/s]\n"
     ]
    },
    {
     "name": "stdout",
     "output_type": "stream",
     "text": [
      "вакансий получено - 100\n",
      "вакансий пропущено - 0\n",
      "вакансий с ошибкой - 0\n",
      "('https://api.hh.ru/vacancies?area=99&professional_role=97', 1182)\n",
      "number url - 390\n",
      "размер массива (148733, 1)\n",
      "total_pages - 20\n"
     ]
    },
    {
     "name": "stderr",
     "output_type": "stream",
     "text": [
      " 20%|████████████████▏                                                                | 20/100 [00:09<00:36,  2.20it/s]"
     ]
    },
    {
     "name": "stdout",
     "output_type": "stream",
     "text": [
      "captcha_required\n"
     ]
    },
    {
     "name": "stderr",
     "output_type": "stream",
     "text": [
      "\r",
      " 21%|█████████████████                                                                | 21/100 [00:11<00:58,  1.35it/s]"
     ]
    },
    {
     "name": "stdout",
     "output_type": "stream",
     "text": [
      "captcha_required\n"
     ]
    },
    {
     "name": "stderr",
     "output_type": "stream",
     "text": [
      " 42%|██████████████████████████████████                                               | 42/100 [00:21<00:25,  2.26it/s]"
     ]
    },
    {
     "name": "stdout",
     "output_type": "stream",
     "text": [
      "captcha_required\n"
     ]
    },
    {
     "name": "stderr",
     "output_type": "stream",
     "text": [
      "100%|████████████████████████████████████████████████████████████████████████████████| 100/100 [00:50<00:00,  2.05it/s]\n"
     ]
    },
    {
     "name": "stdout",
     "output_type": "stream",
     "text": [
      "вакансий получено - 97\n",
      "вакансий пропущено - 0\n",
      "вакансий с ошибкой - 3\n",
      "('https://api.hh.ru/vacancies?area=79&professional_role=40', 1197)\n",
      "number url - 391\n",
      "размер массива (148830, 1)\n",
      "total_pages - 20\n"
     ]
    },
    {
     "name": "stderr",
     "output_type": "stream",
     "text": [
      " 64%|███████████████████████████████████████████████████▊                             | 64/100 [00:31<00:15,  2.32it/s]"
     ]
    },
    {
     "name": "stdout",
     "output_type": "stream",
     "text": [
      "captcha_required\n"
     ]
    },
    {
     "name": "stderr",
     "output_type": "stream",
     "text": [
      " 91%|█████████████████████████████████████████████████████████████████████████▋       | 91/100 [00:44<00:04,  2.20it/s]"
     ]
    },
    {
     "name": "stdout",
     "output_type": "stream",
     "text": [
      "captcha_required\n"
     ]
    },
    {
     "name": "stderr",
     "output_type": "stream",
     "text": [
      "100%|████████████████████████████████████████████████████████████████████████████████| 100/100 [00:49<00:00,  2.22it/s]\n"
     ]
    },
    {
     "name": "stdout",
     "output_type": "stream",
     "text": [
      "вакансий получено - 98\n",
      "вакансий пропущено - 0\n",
      "вакансий с ошибкой - 2\n",
      "('https://api.hh.ru/vacancies?area=54&professional_role=21', 1200)\n",
      "number url - 392\n",
      "размер массива (148928, 1)\n",
      "total_pages - 20\n"
     ]
    },
    {
     "name": "stderr",
     "output_type": "stream",
     "text": [
      " 23%|██████████████████▋                                                              | 23/100 [00:10<00:34,  2.22it/s]"
     ]
    },
    {
     "name": "stdout",
     "output_type": "stream",
     "text": [
      "captcha_required\n"
     ]
    },
    {
     "name": "stderr",
     "output_type": "stream",
     "text": [
      " 26%|█████████████████████                                                            | 26/100 [00:12<00:43,  1.70it/s]"
     ]
    },
    {
     "name": "stdout",
     "output_type": "stream",
     "text": [
      "captcha_required\n"
     ]
    },
    {
     "name": "stderr",
     "output_type": "stream",
     "text": [
      " 66%|█████████████████████████████████████████████████████▍                           | 66/100 [00:31<00:15,  2.21it/s]"
     ]
    },
    {
     "name": "stdout",
     "output_type": "stream",
     "text": [
      "captcha_required\n"
     ]
    },
    {
     "name": "stderr",
     "output_type": "stream",
     "text": [
      "100%|████████████████████████████████████████████████████████████████████████████████| 100/100 [00:50<00:00,  2.28it/s]\n"
     ]
    },
    {
     "name": "stdout",
     "output_type": "stream",
     "text": [
      "вакансий получено - 97\n",
      "вакансий пропущено - 0\n",
      "вакансий с ошибкой - 3\n",
      "('https://api.hh.ru/vacancies?area=72&professional_role=97', 1206)\n",
      "number url - 393\n",
      "размер массива (149025, 1)\n",
      "total_pages - 20\n"
     ]
    },
    {
     "name": "stderr",
     "output_type": "stream",
     "text": [
      " 55%|████████████████████████████████████████████▌                                    | 55/100 [00:26<00:20,  2.24it/s]"
     ]
    },
    {
     "name": "stdout",
     "output_type": "stream",
     "text": [
      "captcha_required\n"
     ]
    },
    {
     "name": "stderr",
     "output_type": "stream",
     "text": [
      " 88%|███████████████████████████████████████████████████████████████████████▎         | 88/100 [00:42<00:05,  2.21it/s]"
     ]
    },
    {
     "name": "stdout",
     "output_type": "stream",
     "text": [
      "captcha_required\n"
     ]
    },
    {
     "name": "stderr",
     "output_type": "stream",
     "text": [
      " 92%|██████████████████████████████████████████████████████████████████████████▌      | 92/100 [00:45<00:04,  1.67it/s]"
     ]
    },
    {
     "name": "stdout",
     "output_type": "stream",
     "text": [
      "captcha_required\n"
     ]
    },
    {
     "name": "stderr",
     "output_type": "stream",
     "text": [
      "100%|████████████████████████████████████████████████████████████████████████████████| 100/100 [00:49<00:00,  2.17it/s]\n"
     ]
    },
    {
     "name": "stdout",
     "output_type": "stream",
     "text": [
      "вакансий получено - 97\n",
      "вакансий пропущено - 0\n",
      "вакансий с ошибкой - 3\n",
      "('https://api.hh.ru/vacancies?area=102&professional_role=40', 1222)\n",
      "number url - 394\n",
      "размер массива (149122, 1)\n",
      "total_pages - 20\n"
     ]
    },
    {
     "name": "stderr",
     "output_type": "stream",
     "text": [
      " 29%|███████████████████████▍                                                         | 29/100 [00:13<00:29,  2.40it/s]"
     ]
    },
    {
     "name": "stdout",
     "output_type": "stream",
     "text": [
      "captcha_required\n"
     ]
    },
    {
     "name": "stderr",
     "output_type": "stream",
     "text": [
      " 41%|█████████████████████████████████▏                                               | 41/100 [00:19<00:26,  2.25it/s]"
     ]
    },
    {
     "name": "stdout",
     "output_type": "stream",
     "text": [
      "captcha_required\n"
     ]
    },
    {
     "name": "stderr",
     "output_type": "stream",
     "text": [
      " 77%|██████████████████████████████████████████████████████████████▎                  | 77/100 [00:36<00:09,  2.34it/s]"
     ]
    },
    {
     "name": "stdout",
     "output_type": "stream",
     "text": [
      "captcha_required\n"
     ]
    },
    {
     "name": "stderr",
     "output_type": "stream",
     "text": [
      "100%|████████████████████████████████████████████████████████████████████████████████| 100/100 [00:47<00:00,  2.04it/s]\n"
     ]
    },
    {
     "name": "stdout",
     "output_type": "stream",
     "text": [
      "вакансий получено - 97\n",
      "вакансий пропущено - 0\n",
      "вакансий с ошибкой - 3\n",
      "('https://api.hh.ru/vacancies?area=78&professional_role=97', 1234)\n",
      "number url - 395\n",
      "размер массива (149219, 1)\n",
      "total_pages - 20\n"
     ]
    },
    {
     "name": "stderr",
     "output_type": "stream",
     "text": [
      " 20%|████████████████▏                                                                | 20/100 [00:09<00:36,  2.19it/s]"
     ]
    },
    {
     "name": "stdout",
     "output_type": "stream",
     "text": [
      "captcha_required\n"
     ]
    },
    {
     "name": "stderr",
     "output_type": "stream",
     "text": [
      "\r",
      " 21%|█████████████████                                                                | 21/100 [00:10<00:59,  1.32it/s]"
     ]
    },
    {
     "name": "stdout",
     "output_type": "stream",
     "text": [
      "captcha_required\n"
     ]
    },
    {
     "name": "stderr",
     "output_type": "stream",
     "text": [
      "\r",
      " 22%|█████████████████▊                                                               | 22/100 [00:12<01:14,  1.05it/s]"
     ]
    },
    {
     "name": "stdout",
     "output_type": "stream",
     "text": [
      "captcha_required\n"
     ]
    },
    {
     "name": "stderr",
     "output_type": "stream",
     "text": [
      "100%|████████████████████████████████████████████████████████████████████████████████| 100/100 [00:50<00:00,  2.13it/s]\n"
     ]
    },
    {
     "name": "stdout",
     "output_type": "stream",
     "text": [
      "вакансий получено - 97\n",
      "вакансий пропущено - 0\n",
      "вакансий с ошибкой - 3\n",
      "('https://api.hh.ru/vacancies?area=4&professional_role=21', 1237)\n",
      "number url - 396\n",
      "размер массива (149316, 1)\n",
      "total_pages - 20\n"
     ]
    },
    {
     "name": "stderr",
     "output_type": "stream",
     "text": [
      " 41%|█████████████████████████████████▏                                               | 41/100 [00:18<00:26,  2.25it/s]"
     ]
    },
    {
     "name": "stdout",
     "output_type": "stream",
     "text": [
      "captcha_required\n"
     ]
    },
    {
     "name": "stderr",
     "output_type": "stream",
     "text": [
      "\r",
      " 42%|██████████████████████████████████                                               | 42/100 [00:19<00:42,  1.36it/s]"
     ]
    },
    {
     "name": "stdout",
     "output_type": "stream",
     "text": [
      "captcha_required\n"
     ]
    },
    {
     "name": "stderr",
     "output_type": "stream",
     "text": [
      "\r",
      " 43%|██████████████████████████████████▊                                              | 43/100 [00:20<00:53,  1.06it/s]"
     ]
    },
    {
     "name": "stdout",
     "output_type": "stream",
     "text": [
      "captcha_required\n"
     ]
    },
    {
     "name": "stderr",
     "output_type": "stream",
     "text": [
      "100%|████████████████████████████████████████████████████████████████████████████████| 100/100 [00:50<00:00,  2.20it/s]\n"
     ]
    },
    {
     "name": "stdout",
     "output_type": "stream",
     "text": [
      "вакансий получено - 97\n",
      "вакансий пропущено - 0\n",
      "вакансий с ошибкой - 3\n",
      "('https://api.hh.ru/vacancies?area=26&professional_role=97', 1256)\n",
      "number url - 397\n",
      "размер массива (149413, 1)\n",
      "total_pages - 20\n"
     ]
    },
    {
     "name": "stderr",
     "output_type": "stream",
     "text": [
      " 64%|███████████████████████████████████████████████████▊                             | 64/100 [00:29<00:15,  2.29it/s]"
     ]
    },
    {
     "name": "stdout",
     "output_type": "stream",
     "text": [
      "captcha_required\n"
     ]
    },
    {
     "name": "stderr",
     "output_type": "stream",
     "text": [
      "\r",
      " 65%|████████████████████████████████████████████████████▋                            | 65/100 [00:30<00:25,  1.37it/s]"
     ]
    },
    {
     "name": "stdout",
     "output_type": "stream",
     "text": [
      "captcha_required\n"
     ]
    },
    {
     "name": "stderr",
     "output_type": "stream",
     "text": [
      " 69%|███████████████████████████████████████████████████████▉                         | 69/100 [00:33<00:19,  1.61it/s]"
     ]
    },
    {
     "name": "stdout",
     "output_type": "stream",
     "text": [
      "captcha_required\n"
     ]
    },
    {
     "name": "stderr",
     "output_type": "stream",
     "text": [
      "100%|████████████████████████████████████████████████████████████████████████████████| 100/100 [00:48<00:00,  2.15it/s]\n"
     ]
    },
    {
     "name": "stdout",
     "output_type": "stream",
     "text": [
      "вакансий получено - 97\n",
      "вакансий пропущено - 0\n",
      "вакансий с ошибкой - 3\n",
      "('https://api.hh.ru/vacancies?area=3&professional_role=48', 1264)\n",
      "number url - 398\n",
      "размер массива (149510, 1)\n",
      "total_pages - 20\n"
     ]
    },
    {
     "name": "stderr",
     "output_type": "stream",
     "text": [
      " 20%|████████████████▏                                                                | 20/100 [00:08<00:34,  2.31it/s]"
     ]
    },
    {
     "name": "stdout",
     "output_type": "stream",
     "text": [
      "captcha_required\n"
     ]
    },
    {
     "name": "stderr",
     "output_type": "stream",
     "text": [
      "\r",
      " 21%|█████████████████                                                                | 21/100 [00:10<00:57,  1.37it/s]"
     ]
    },
    {
     "name": "stdout",
     "output_type": "stream",
     "text": [
      "captcha_required\n"
     ]
    },
    {
     "name": "stderr",
     "output_type": "stream",
     "text": [
      " 86%|█████████████████████████████████████████████████████████████████████▋           | 86/100 [00:40<00:06,  2.25it/s]"
     ]
    },
    {
     "name": "stdout",
     "output_type": "stream",
     "text": [
      "captcha_required\n"
     ]
    },
    {
     "name": "stderr",
     "output_type": "stream",
     "text": [
      "\r",
      " 87%|██████████████████████████████████████████████████████████████████████▍          | 87/100 [00:41<00:09,  1.35it/s]"
     ]
    },
    {
     "name": "stdout",
     "output_type": "stream",
     "text": [
      "captcha_required\n"
     ]
    },
    {
     "name": "stderr",
     "output_type": "stream",
     "text": [
      " 91%|█████████████████████████████████████████████████████████████████████████▋       | 91/100 [00:44<00:05,  1.57it/s]"
     ]
    },
    {
     "name": "stdout",
     "output_type": "stream",
     "text": [
      "captcha_required\n"
     ]
    },
    {
     "name": "stderr",
     "output_type": "stream",
     "text": [
      "100%|████████████████████████████████████████████████████████████████████████████████| 100/100 [00:49<00:00,  2.14it/s]\n"
     ]
    },
    {
     "name": "stdout",
     "output_type": "stream",
     "text": [
      "вакансий получено - 95\n",
      "вакансий пропущено - 0\n",
      "вакансий с ошибкой - 5\n",
      "('https://api.hh.ru/vacancies?area=54&professional_role=97', 1274)\n",
      "number url - 399\n",
      "размер массива (149605, 1)\n",
      "total_pages - 20\n"
     ]
    },
    {
     "name": "stderr",
     "output_type": "stream",
     "text": [
      " 42%|██████████████████████████████████                                               | 42/100 [00:20<00:31,  1.85it/s]"
     ]
    },
    {
     "name": "stdout",
     "output_type": "stream",
     "text": [
      "captcha_required\n"
     ]
    },
    {
     "name": "stderr",
     "output_type": "stream",
     "text": [
      "100%|████████████████████████████████████████████████████████████████████████████████| 100/100 [00:48<00:00,  2.20it/s]\n"
     ]
    },
    {
     "name": "stdout",
     "output_type": "stream",
     "text": [
      "вакансий получено - 99\n",
      "вакансий пропущено - 0\n",
      "вакансий с ошибкой - 1\n",
      "('https://api.hh.ru/vacancies?area=160&professional_role=18', 1363)\n",
      "number url - 400\n",
      "размер массива (149704, 1)\n",
      "total_pages - 20\n"
     ]
    },
    {
     "name": "stderr",
     "output_type": "stream",
     "text": [
      " 19%|███████████████▍                                                                 | 19/100 [00:08<00:34,  2.35it/s]"
     ]
    },
    {
     "name": "stdout",
     "output_type": "stream",
     "text": [
      "captcha_required\n"
     ]
    },
    {
     "name": "stderr",
     "output_type": "stream",
     "text": [
      "\r",
      " 20%|████████████████▏                                                                | 20/100 [00:09<00:57,  1.39it/s]"
     ]
    },
    {
     "name": "stdout",
     "output_type": "stream",
     "text": [
      "captcha_required\n"
     ]
    },
    {
     "name": "stderr",
     "output_type": "stream",
     "text": [
      " 24%|███████████████████▍                                                             | 24/100 [00:12<00:45,  1.68it/s]"
     ]
    },
    {
     "name": "stdout",
     "output_type": "stream",
     "text": [
      "captcha_required\n"
     ]
    },
    {
     "name": "stderr",
     "output_type": "stream",
     "text": [
      " 49%|███████████████████████████████████████▋                                         | 49/100 [00:24<00:21,  2.33it/s]"
     ]
    },
    {
     "name": "stdout",
     "output_type": "stream",
     "text": [
      "captcha_required\n"
     ]
    },
    {
     "name": "stderr",
     "output_type": "stream",
     "text": [
      " 63%|███████████████████████████████████████████████████                              | 63/100 [00:30<00:15,  2.36it/s]"
     ]
    },
    {
     "name": "stdout",
     "output_type": "stream",
     "text": [
      "captcha_required\n"
     ]
    },
    {
     "name": "stderr",
     "output_type": "stream",
     "text": [
      "\r",
      " 64%|███████████████████████████████████████████████████▊                             | 64/100 [00:32<00:25,  1.39it/s]"
     ]
    },
    {
     "name": "stdout",
     "output_type": "stream",
     "text": [
      "captcha_required\n"
     ]
    },
    {
     "name": "stderr",
     "output_type": "stream",
     "text": [
      "100%|████████████████████████████████████████████████████████████████████████████████| 100/100 [00:49<00:00,  2.31it/s]\n"
     ]
    },
    {
     "name": "stdout",
     "output_type": "stream",
     "text": [
      "вакансий получено - 94\n",
      "вакансий пропущено - 0\n",
      "вакансий с ошибкой - 6\n",
      "('https://api.hh.ru/vacancies?area=72&professional_role=70', 1406)\n",
      "number url - 401\n",
      "размер массива (149798, 1)\n",
      "total_pages - 20\n"
     ]
    },
    {
     "name": "stderr",
     "output_type": "stream",
     "text": [
      " 20%|████████████████▏                                                                | 20/100 [00:08<00:34,  2.33it/s]"
     ]
    },
    {
     "name": "stdout",
     "output_type": "stream",
     "text": [
      "captcha_required\n"
     ]
    },
    {
     "name": "stderr",
     "output_type": "stream",
     "text": [
      " 41%|█████████████████████████████████▏                                               | 41/100 [00:19<00:26,  2.21it/s]"
     ]
    },
    {
     "name": "stdout",
     "output_type": "stream",
     "text": [
      "captcha_required\n"
     ]
    },
    {
     "name": "stderr",
     "output_type": "stream",
     "text": [
      " 46%|█████████████████████████████████████▎                                           | 46/100 [00:22<00:28,  1.89it/s]"
     ]
    },
    {
     "name": "stdout",
     "output_type": "stream",
     "text": [
      "captcha_required\n"
     ]
    },
    {
     "name": "stderr",
     "output_type": "stream",
     "text": [
      " 85%|████████████████████████████████████████████████████████████████████▊            | 85/100 [00:41<00:06,  2.22it/s]"
     ]
    },
    {
     "name": "stdout",
     "output_type": "stream",
     "text": [
      "captcha_required\n"
     ]
    },
    {
     "name": "stderr",
     "output_type": "stream",
     "text": [
      " 96%|█████████████████████████████████████████████████████████████████████████████▊   | 96/100 [00:47<00:01,  2.34it/s]"
     ]
    },
    {
     "name": "stdout",
     "output_type": "stream",
     "text": [
      "captcha_required\n"
     ]
    },
    {
     "name": "stderr",
     "output_type": "stream",
     "text": [
      "100%|████████████████████████████████████████████████████████████████████████████████| 100/100 [00:50<00:00,  1.83it/s]\n"
     ]
    },
    {
     "name": "stdout",
     "output_type": "stream",
     "text": [
      "вакансий получено - 95\n",
      "вакансий пропущено - 0\n",
      "вакансий с ошибкой - 5\n",
      "('https://api.hh.ru/vacancies?area=3&professional_role=21', 1425)\n",
      "number url - 402\n",
      "размер массива (149893, 1)\n",
      "total_pages - 20\n"
     ]
    },
    {
     "name": "stderr",
     "output_type": "stream",
     "text": [
      "  2%|█▋                                                                                | 2/100 [00:00<00:41,  2.35it/s]"
     ]
    }
   ],
   "source": [
    "for ind in range(100, 700):\n",
    "  url = modified_urls[ind]\n",
    "  print(url)\n",
    "  print(f'number url - {ind}')\n",
    "  fetch_vacancies(url[0])"
   ]
  },
  {
   "cell_type": "code",
   "execution_count": null,
   "id": "378cc332",
   "metadata": {
    "colab": {
     "base_uri": "https://localhost:8080/"
    },
    "id": "LOdsuoUdr6JZ",
    "outputId": "0914b01a-b5e1-4f81-e165-8e5166a23841"
   },
   "outputs": [],
   "source": [
    "from google.colab import drive\n",
    "drive.mount('/content/drive')"
   ]
  },
  {
   "cell_type": "code",
   "execution_count": null,
   "id": "6ac98127",
   "metadata": {
    "colab": {
     "base_uri": "https://localhost:8080/"
    },
    "id": "yJFuRV60GR6Q",
    "outputId": "5711fab0-bced-49b3-9e5c-3f9f75e74a63"
   },
   "outputs": [],
   "source": [
    "sqlite3_adapter.read()['id'].isin([93487881]).any()"
   ]
  },
  {
   "cell_type": "code",
   "execution_count": null,
   "id": "76654781",
   "metadata": {
    "id": "x1C2S83vGR6Q"
   },
   "outputs": [],
   "source": [
    "\n",
    "target_url = 'https://api.hh.ru/vacancies'\n",
    "json = requests.get(target_url, {'clusters': True}).json()\n",
    "\n",
    "clusters = json['clusters']\n",
    "areas = clusters[0].get('items')\n",
    "\n",
    "vacancy_urls = []\n",
    "params_path = ['area', 'metro', 'professional_role', '']\n",
    "\n",
    "# получаем выборку по всем регионам\n",
    "# убираем регион Россия\n",
    "# сортируем записи, где кол-во меньше 2000\n",
    "# по оставшимся получаем выборку по каждому региону\n",
    "# проверяем есть ли в выборке метро\n",
    "# если есть получаем выборку по каждой станции\n",
    "# если нет получаем выборку по профессион роли\n",
    "# сортируем записи метро, где кол-во меньше 2000\n",
    "# по оставшимся получаем выборку по каждой станции и по проф роли\n",
    "\n",
    "# for area in areas:\n",
    "#     if area['name'] == 'Россия':\n",
    "#         continue\n",
    "\n",
    "#     if area['count'] <= 2000:\n",
    "#         vacancy_urls.append(area['url'])\n",
    "#     else:\n",
    "#         json_area = requests.get(area['url']).json()\n",
    "\n",
    "#         for i in json_area:\n",
    "#             if i['count'] <= 2000:\n",
    "#                 vacancy_urls.append(i['url'])\n",
    "\n",
    "\n",
    "\n",
    "\n",
    "# for num in range(num_pages):\n",
    "#     page_data = requests.get(target_url, {'page': num, 'clusters': True}).json()\n",
    "#     if 'items' not in page_data:\n",
    "#         break\n",
    "\n",
    "#     ids.extend(i['id'] for i in page_data['items'])"
   ]
  },
  {
   "cell_type": "code",
   "execution_count": null,
   "id": "7c71f1ea",
   "metadata": {
    "id": "StR1GURVGR6R"
   },
   "outputs": [],
   "source": [
    "vacancy_list = []\n",
    "with ThreadPoolExecutor(max_workers=4) as executor:\n",
    "    for vacancy in tqdm(executor.map(get_vacancy, ids), ncols=100, total=len(ids)):\n",
    "        vacancy_list.append(vacancy)\n"
   ]
  },
  {
   "cell_type": "code",
   "execution_count": null,
   "id": "73a2d87e",
   "metadata": {
    "id": "PMu1QzU-GR6R"
   },
   "outputs": [],
   "source": [
    "json['items'][3]"
   ]
  }
 ],
 "metadata": {
  "colab": {
   "include_colab_link": true,
   "provenance": []
  },
  "kernelspec": {
   "display_name": "Python 3 (ipykernel)",
   "language": "python",
   "name": "python3"
  },
  "language_info": {
   "codemirror_mode": {
    "name": "ipython",
    "version": 3
   },
   "file_extension": ".py",
   "mimetype": "text/x-python",
   "name": "python",
   "nbconvert_exporter": "python",
   "pygments_lexer": "ipython3",
   "version": "3.11.5"
  }
 },
 "nbformat": 4,
 "nbformat_minor": 5
}
